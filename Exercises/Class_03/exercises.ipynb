{
 "cells": [
  {
   "cell_type": "markdown",
   "source": [
    "# Users Database"
   ],
   "metadata": {
    "collapsed": false
   },
   "id": "a1afb7b5ec3458bc"
  },
  {
   "cell_type": "markdown",
   "source": [
    "## Create a MongoDB database called usersdb and a collection called users."
   ],
   "metadata": {
    "collapsed": false
   },
   "id": "20e153ed7a6905bb"
  },
  {
   "cell_type": "code",
   "outputs": [],
   "source": [],
   "metadata": {
    "collapsed": false,
    "ExecuteTime": {
     "end_time": "2024-02-26T18:26:35.683344Z",
     "start_time": "2024-02-26T18:26:35.576439Z"
    }
   },
   "id": "32f7a60e1d22ddea",
   "execution_count": 6
  },
  {
   "cell_type": "markdown",
   "source": [
    "## Insert Documents\n",
    "Insert at least three user documents into the users collection. Each document should have fields such as name, email, and age."
   ],
   "metadata": {
    "collapsed": false
   },
   "id": "acf8bb957aac9cc7"
  },
  {
   "cell_type": "code",
   "outputs": [],
   "source": [],
   "metadata": {
    "collapsed": false,
    "ExecuteTime": {
     "end_time": "2024-02-26T18:26:35.777470Z",
     "start_time": "2024-02-26T18:26:35.686831Z"
    }
   },
   "id": "811c1fa540a0ba4f",
   "execution_count": 6
  },
  {
   "cell_type": "markdown",
   "source": [
    "## Read Documents: Retrieve all documents from the users collection."
   ],
   "metadata": {
    "collapsed": false
   },
   "id": "5006016ef43ac25a"
  },
  {
   "cell_type": "code",
   "outputs": [],
   "source": [],
   "metadata": {
    "collapsed": false,
    "ExecuteTime": {
     "end_time": "2024-02-26T18:26:35.813253Z",
     "start_time": "2024-02-26T18:26:35.746179Z"
    }
   },
   "id": "2a6eb296e354b083",
   "execution_count": 6
  },
  {
   "cell_type": "markdown",
   "source": [
    "## Read Documents: Retrieve a specific user by their email address.\n"
   ],
   "metadata": {
    "collapsed": false
   },
   "id": "148546392f21c41c"
  },
  {
   "cell_type": "code",
   "outputs": [],
   "source": [],
   "metadata": {
    "collapsed": false,
    "ExecuteTime": {
     "end_time": "2024-02-26T18:26:35.861683Z",
     "start_time": "2024-02-26T18:26:35.815566Z"
    }
   },
   "id": "a073451a42819880",
   "execution_count": 6
  },
  {
   "cell_type": "markdown",
   "source": [
    "## Update the age field of one user document."
   ],
   "metadata": {
    "collapsed": false
   },
   "id": "53df196cb16e6141"
  },
  {
   "cell_type": "code",
   "outputs": [],
   "source": [],
   "metadata": {
    "collapsed": false,
    "ExecuteTime": {
     "end_time": "2024-02-26T18:26:35.862538Z",
     "start_time": "2024-02-26T18:26:35.818469Z"
    }
   },
   "id": "ef81ad3e809dcd30",
   "execution_count": 6
  },
  {
   "cell_type": "markdown",
   "source": [
    "## Update the email field of another user document.\n"
   ],
   "metadata": {
    "collapsed": false
   },
   "id": "984a48fd8073c93b"
  },
  {
   "cell_type": "code",
   "outputs": [],
   "source": [],
   "metadata": {
    "collapsed": false,
    "ExecuteTime": {
     "end_time": "2024-02-26T18:26:35.897510Z",
     "start_time": "2024-02-26T18:26:35.863874Z"
    }
   },
   "id": "bb836a104a4cc61",
   "execution_count": 6
  },
  {
   "cell_type": "markdown",
   "source": [
    "\n",
    "## Query users who are above a certain age."
   ],
   "metadata": {
    "collapsed": false
   },
   "id": "f34d1c69f379ca03"
  },
  {
   "cell_type": "code",
   "outputs": [],
   "source": [],
   "metadata": {
    "collapsed": false,
    "ExecuteTime": {
     "end_time": "2024-02-26T18:26:35.916128Z",
     "start_time": "2024-02-26T18:26:35.898373Z"
    }
   },
   "id": "83813585e66aeb01",
   "execution_count": 6
  },
  {
   "cell_type": "markdown",
   "source": [
    "\n",
    "## Query users whose name starts with a specific letter."
   ],
   "metadata": {
    "collapsed": false
   },
   "id": "3e1e93c8eba4700f"
  },
  {
   "cell_type": "code",
   "outputs": [],
   "source": [],
   "metadata": {
    "collapsed": false,
    "ExecuteTime": {
     "end_time": "2024-02-26T18:26:35.939747Z",
     "start_time": "2024-02-26T18:26:35.917780Z"
    }
   },
   "id": "7f18b4a36b8171b8",
   "execution_count": 6
  },
  {
   "cell_type": "markdown",
   "source": [
    "\n",
    "## Query users whose email contains a specific domain.\n"
   ],
   "metadata": {
    "collapsed": false
   },
   "id": "6840691fbbd645b3"
  },
  {
   "cell_type": "code",
   "outputs": [],
   "source": [],
   "metadata": {
    "collapsed": false,
    "ExecuteTime": {
     "end_time": "2024-02-26T18:26:35.940371Z",
     "start_time": "2024-02-26T18:26:35.921316Z"
    }
   },
   "id": "f51834e3cfaba405",
   "execution_count": 6
  },
  {
   "cell_type": "markdown",
   "source": [
    "## Delete a user document based on their email address.\n"
   ],
   "metadata": {
    "collapsed": false
   },
   "id": "b948bcd3004165d1"
  },
  {
   "cell_type": "code",
   "outputs": [],
   "source": [],
   "metadata": {
    "collapsed": false,
    "ExecuteTime": {
     "end_time": "2024-02-26T18:26:35.963741Z",
     "start_time": "2024-02-26T18:26:35.942311Z"
    }
   },
   "id": "5b4f5d9187db56c7",
   "execution_count": 6
  },
  {
   "cell_type": "markdown",
   "source": [
    "## Delete all users over a certain age."
   ],
   "metadata": {
    "collapsed": false
   },
   "id": "b1a6f55e51a5a3f7"
  },
  {
   "cell_type": "markdown",
   "source": [
    "# Weather Data Exercise\n",
    "Consider the data inserted into the weatherdb database by the following code."
   ],
   "metadata": {
    "collapsed": false
   },
   "id": "a9f12af8adc389b3"
  },
  {
   "cell_type": "code",
   "outputs": [
    {
     "ename": "ModuleNotFoundError",
     "evalue": "No module named 'pymongo'",
     "output_type": "error",
     "traceback": [
      "\u001B[0;31m---------------------------------------------------------------------------\u001B[0m",
      "\u001B[0;31mModuleNotFoundError\u001B[0m                       Traceback (most recent call last)",
      "Cell \u001B[0;32mIn[7], line 1\u001B[0m\n\u001B[0;32m----> 1\u001B[0m \u001B[38;5;28;01mimport\u001B[39;00m \u001B[38;5;21;01mpymongo\u001B[39;00m\n\u001B[1;32m      3\u001B[0m \u001B[38;5;66;03m# Connect to MongoDB\u001B[39;00m\n\u001B[1;32m      4\u001B[0m client \u001B[38;5;241m=\u001B[39m pymongo\u001B[38;5;241m.\u001B[39mMongoClient(\u001B[38;5;124m\"\u001B[39m\u001B[38;5;124mmongodb://localhost:27017/\u001B[39m\u001B[38;5;124m\"\u001B[39m)\n",
      "\u001B[0;31mModuleNotFoundError\u001B[0m: No module named 'pymongo'"
     ]
    }
   ],
   "source": [
    "import pymongo\n",
    "\n",
    "# Connect to MongoDB\n",
    "client = pymongo.MongoClient(\"mongodb://localhost:27017/\")\n",
    "db = client[\"weatherdb\"]\n",
    "collection = db[\"weather\"]\n",
    "\n",
    "# Sample data - list of 10 documents with weather information\n",
    "weather_data = [\n",
    "    {\"date\": \"2024-02-26\", \"temperature\": 20, \"humidity\": 60, \"wind_speed\": 5, \"location\": \"New York\"},\n",
    "    {\"date\": \"2024-02-26\", \"temperature\": 25, \"humidity\": 55, \"wind_speed\": 7, \"location\": \"Los Angeles\"},\n",
    "    {\"date\": \"2024-02-26\", \"temperature\": 18, \"humidity\": 70, \"wind_speed\": 4, \"location\": \"Chicago\"},\n",
    "    {\"date\": \"2024-02-26\", \"temperature\": 22, \"humidity\": 50, \"wind_speed\": 6, \"location\": \"Houston\"},\n",
    "    {\"date\": \"2024-02-26\", \"temperature\": 23, \"humidity\": 45, \"wind_speed\": 8, \"location\": \"Miami\"},\n",
    "    {\"date\": \"2024-02-26\", \"temperature\": 19, \"humidity\": 65, \"wind_speed\": 3, \"location\": \"San Francisco\"},\n",
    "    {\"date\": \"2024-02-26\", \"temperature\": 21, \"humidity\": 58, \"wind_speed\": 6, \"location\": \"Seattle\"},\n",
    "    {\"date\": \"2024-02-26\", \"temperature\": 24, \"humidity\": 52, \"wind_speed\": 7, \"location\": \"Dallas\"},\n",
    "    {\"date\": \"2024-02-26\", \"temperature\": 17, \"humidity\": 68, \"wind_speed\": 4, \"location\": \"Boston\"},\n",
    "    {\"date\": \"2024-02-26\", \"temperature\": 20, \"humidity\": 62, \"wind_speed\": 5, \"location\": \"Phoenix\"}\n",
    "]\n",
    "\n",
    "# Insert the weather data into the collection\n",
    "collection.insert_many(weather_data)"
   ],
   "metadata": {
    "collapsed": false,
    "ExecuteTime": {
     "end_time": "2024-02-26T18:26:36.098835Z",
     "start_time": "2024-02-26T18:26:35.945081Z"
    }
   },
   "id": "5ea5857e18ed4672",
   "execution_count": 7
  },
  {
   "cell_type": "markdown",
   "source": [
    "## Display all documents in the collection"
   ],
   "metadata": {
    "collapsed": false
   },
   "id": "8cb91360ecc6b00e"
  },
  {
   "cell_type": "code",
   "outputs": [],
   "source": [],
   "metadata": {
    "collapsed": false,
    "ExecuteTime": {
     "end_time": "2024-02-26T18:26:36.105630Z",
     "start_time": "2024-02-26T18:26:36.099567Z"
    }
   },
   "id": "92b89691346c93b2",
   "execution_count": null
  },
  {
   "cell_type": "markdown",
   "source": [
    "\n",
    "## Query documents for a specific location (e.g., \"New York\")"
   ],
   "metadata": {
    "collapsed": false
   },
   "id": "c9f8c5e7a89db248"
  },
  {
   "cell_type": "code",
   "outputs": [],
   "source": [],
   "metadata": {
    "collapsed": false,
    "ExecuteTime": {
     "start_time": "2024-02-26T18:26:36.101361Z"
    }
   },
   "id": "b4cbac02bbdc3566",
   "execution_count": null
  },
  {
   "cell_type": "markdown",
   "source": [
    "\n",
    "## Update the  document relative to \"Phoenix\" so humidity is 65"
   ],
   "metadata": {
    "collapsed": false
   },
   "id": "2fbd82f30dc2fbbe"
  },
  {
   "cell_type": "code",
   "outputs": [],
   "source": [],
   "metadata": {
    "collapsed": false,
    "ExecuteTime": {
     "start_time": "2024-02-26T18:26:36.102900Z"
    }
   },
   "id": "f1bfd8566d8c2518",
   "execution_count": null
  },
  {
   "cell_type": "markdown",
   "source": [
    "## Find the maximum temperature"
   ],
   "metadata": {
    "collapsed": false
   },
   "id": "af28d39d8d0d5241"
  },
  {
   "cell_type": "code",
   "outputs": [],
   "source": [],
   "metadata": {
    "collapsed": false,
    "ExecuteTime": {
     "start_time": "2024-02-26T18:26:36.104469Z"
    }
   },
   "id": "7bbd3401c309d701"
  },
  {
   "cell_type": "markdown",
   "source": [
    "## Find the minimum humidity"
   ],
   "metadata": {
    "collapsed": false
   },
   "id": "1d916cdccc4a433a"
  },
  {
   "cell_type": "code",
   "outputs": [],
   "source": [],
   "metadata": {
    "collapsed": false,
    "ExecuteTime": {
     "end_time": "2024-02-26T18:26:36.106997Z",
     "start_time": "2024-02-26T18:26:36.106210Z"
    }
   },
   "id": "bf87f0cb19e95781"
  },
  {
   "cell_type": "markdown",
   "source": [
    "# find the average temperature"
   ],
   "metadata": {
    "collapsed": false
   },
   "id": "19e6b3f8ffe7ef50"
  },
  {
   "cell_type": "code",
   "outputs": [],
   "source": [],
   "metadata": {
    "collapsed": false,
    "ExecuteTime": {
     "end_time": "2024-02-26T18:26:36.126669Z",
     "start_time": "2024-02-26T18:26:36.107629Z"
    }
   },
   "id": "a92e34ada7c5b6aa"
  },
  {
   "cell_type": "markdown",
   "source": [
    "\n",
    "## Delete the document relative to \"Boston\""
   ],
   "metadata": {
    "collapsed": false
   },
   "id": "b1ab434db0fa065a"
  },
  {
   "cell_type": "code",
   "outputs": [],
   "source": [],
   "metadata": {
    "collapsed": false,
    "ExecuteTime": {
     "start_time": "2024-02-26T18:26:36.109019Z"
    }
   },
   "id": "38092c656d4199eb",
   "execution_count": null
  },
  {
   "cell_type": "markdown",
   "source": [
    "# An embeded document case\n",
    "\n",
    "Consider the following data"
   ],
   "metadata": {
    "collapsed": false
   },
   "id": "33d0d850ad076572"
  },
  {
   "cell_type": "code",
   "outputs": [],
   "source": [
    "import pymongo\n",
    "\n",
    "# Connect to MongoDB\n",
    "client = pymongo.MongoClient(\"mongodb://localhost:27017/\")\n",
    "db = client[\"weatherdb\"]\n",
    "collection = db[\"weather\"]\n",
    "\n",
    "# Sample data - list of documents with weather information for multiple dates and locations\n",
    "weather_data = [\n",
    "    {\"location\": \"New York\", \"dates\": [\n",
    "        {\"date\": \"2024-02-26\", \"temperature\": 20, \"humidity\": 60, \"wind_speed\": 5},\n",
    "        {\"date\": \"2024-02-27\", \"temperature\": 22, \"humidity\": 65, \"wind_speed\": 6},\n",
    "        {\"date\": \"2024-02-28\", \"temperature\": 18, \"humidity\": 55, \"wind_speed\": 4}\n",
    "    ]},\n",
    "    {\"location\": \"Los Angeles\", \"dates\": [\n",
    "        {\"date\": \"2024-02-26\", \"temperature\": 25, \"humidity\": 55, \"wind_speed\": 7},\n",
    "        {\"date\": \"2024-02-27\", \"temperature\": 27, \"humidity\": 50, \"wind_speed\": 6},\n",
    "        {\"date\": \"2024-02-28\", \"temperature\": 24, \"humidity\": 58, \"wind_speed\": 5}\n",
    "    ]},\n",
    "    {\"location\": \"Chicago\", \"dates\": [\n",
    "        {\"date\": \"2024-02-26\", \"temperature\": 18, \"humidity\": 70, \"wind_speed\": 4},\n",
    "        {\"date\": \"2024-02-27\", \"temperature\": 20, \"humidity\": 68, \"wind_speed\": 3},\n",
    "        {\"date\": \"2024-02-28\", \"temperature\": 16, \"humidity\": 72, \"wind_speed\": 5}\n",
    "    ]},\n",
    "    {\"location\": \"Houston\", \"dates\": [\n",
    "        {\"date\": \"2024-02-26\", \"temperature\": 22, \"humidity\": 50, \"wind_speed\": 6},\n",
    "        {\"date\": \"2024-02-27\", \"temperature\": 24, \"humidity\": 48, \"wind_speed\": 7},\n",
    "        {\"date\": \"2024-02-28\", \"temperature\": 21, \"humidity\": 52, \"wind_speed\": 5}\n",
    "    ]},\n",
    "    # Add more locations with multiple dates and weather data\n",
    "]"
   ],
   "metadata": {
    "collapsed": false,
    "ExecuteTime": {
     "start_time": "2024-02-26T18:26:36.109962Z"
    }
   },
   "id": "873d131672054177"
  },
  {
   "cell_type": "markdown",
   "source": [
    "## Find the mean humidity for each location"
   ],
   "metadata": {
    "collapsed": false
   },
   "id": "9d443eb959b51ced"
  },
  {
   "cell_type": "code",
   "outputs": [],
   "source": [],
   "metadata": {
    "collapsed": false,
    "ExecuteTime": {
     "end_time": "2024-02-26T18:27:20.994267Z",
     "start_time": "2024-02-26T18:27:20.962225Z"
    }
   },
   "id": "8b44b1b5bef99aaf",
   "execution_count": 8
  },
  {
   "cell_type": "markdown",
   "source": [
    "## Find the mean humidity for each date"
   ],
   "metadata": {
    "collapsed": false
   },
   "id": "7ba80085b452cdb"
  },
  {
   "cell_type": "code",
   "outputs": [],
   "source": [],
   "metadata": {
    "collapsed": false
   },
   "id": "3373f6d75b8b7c4e"
  },
  {
   "cell_type": "markdown",
   "source": [
    "## Find the maximum temperature for each location"
   ],
   "metadata": {
    "collapsed": false
   },
   "id": "341ab073d5d9a5b7"
  },
  {
   "cell_type": "code",
   "outputs": [],
   "source": [],
   "metadata": {
    "collapsed": false,
    "ExecuteTime": {
     "start_time": "2024-02-26T18:26:36.112967Z"
    }
   },
   "id": "b37da9e13b89c7a5"
  }
 ],
 "metadata": {
  "kernelspec": {
   "display_name": "Python 3",
   "language": "python",
   "name": "python3"
  },
  "language_info": {
   "codemirror_mode": {
    "name": "ipython",
    "version": 2
   },
   "file_extension": ".py",
   "mimetype": "text/x-python",
   "name": "python",
   "nbconvert_exporter": "python",
   "pygments_lexer": "ipython2",
   "version": "2.7.6"
  }
 },
 "nbformat": 4,
 "nbformat_minor": 5
}
