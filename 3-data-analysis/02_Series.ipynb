{
 "cells": [
  {
   "cell_type": "markdown",
   "metadata": {},
   "source": [
    "# Series\n",
    "\n",
    "Series' data can be many different things:\n",
    "\n",
    "- a Python dict\n",
    "- an `ndarray`\n",
    "- a scalar value (like 2020)\n",
    "\n",
    "A Pandas Series is like a column in a table: it is a one-dimensional array holding data of any type.\n",
    "\n",
    "So, in essence\n",
    "- **Series is a one-dimensional labeled array** capable of holding any data type (integers, strings, floating point numbers, Python objects, etc.). \n",
    "- The **axis labels** are collectively referred to as the index. \n",
    "\n",
    "\n",
    "\n",
    "![images/01_table_series.svg](images/01_table_series.svg)\n",
    "\n",
    "\n",
    "To create a series:\n",
    "\n",
    "```s = pd.Series(data, index=index)```\n",
    "\n",
    "More simply, the basic method to create a `Series` is to call:"
   ]
  },
  {
   "cell_type": "code",
   "execution_count": 1,
   "metadata": {
    "ExecuteTime": {
     "start_time": "2023-04-16T16:57:09.664957Z",
     "end_time": "2023-04-16T16:57:09.674611Z"
    }
   },
   "outputs": [],
   "source": [
    "# sets the backend of matplotlib to the 'inline' backend:\n",
    "# With this backend, the output of plotting commands is displayed inline within frontends like the Jupyter notebook, directly below the code cell  \n",
    "# that produced it. The resulting plots will then also be stored in the notebook document.\n",
    "%matplotlib inline\n",
    "\n",
    "import pandas as pd\n",
    "import numpy as np\n",
    "import matplotlib.pyplot as plt"
   ]
  },
  {
   "cell_type": "code",
   "execution_count": 2,
   "metadata": {
    "ExecuteTime": {
     "start_time": "2023-04-16T16:57:09.677160Z",
     "end_time": "2023-04-16T16:57:09.679661Z"
    }
   },
   "outputs": [
    {
     "data": {
      "text/plain": "Series([], dtype: float64)"
     },
     "execution_count": 2,
     "metadata": {},
     "output_type": "execute_result"
    }
   ],
   "source": [
    "s = pd.Series(dtype='float')\n",
    "s"
   ]
  },
  {
   "cell_type": "markdown",
   "metadata": {},
   "source": [
    "## Make a Serie\n",
    "### From ` ndarray `\n",
    "- If data is an `ndarray`, index must be the same length as data. \n",
    "- If no index is passed, one will be created having values [0, ..., len(data) - 1]."
   ]
  },
  {
   "cell_type": "code",
   "execution_count": 3,
   "metadata": {
    "ExecuteTime": {
     "start_time": "2023-04-16T16:57:09.679845Z",
     "end_time": "2023-04-16T16:57:09.683456Z"
    }
   },
   "outputs": [
    {
     "data": {
      "text/plain": "numpy.ndarray"
     },
     "execution_count": 3,
     "metadata": {},
     "output_type": "execute_result"
    }
   ],
   "source": [
    "v = np.random.normal(size=5)\n",
    "type(v)"
   ]
  },
  {
   "cell_type": "code",
   "execution_count": 4,
   "metadata": {
    "ExecuteTime": {
     "start_time": "2023-04-16T16:57:09.686426Z",
     "end_time": "2023-04-16T16:57:09.688781Z"
    }
   },
   "outputs": [
    {
     "data": {
      "text/plain": "a   -1.849663\nb   -0.269534\nc    0.303325\nd    0.322865\ne    0.297836\ndtype: float64"
     },
     "execution_count": 4,
     "metadata": {},
     "output_type": "execute_result"
    }
   ],
   "source": [
    "s = pd.Series(v, index=tuple('abcde'))\n",
    "s"
   ]
  },
  {
   "cell_type": "markdown",
   "metadata": {},
   "source": [
    "The index is given by"
   ]
  },
  {
   "cell_type": "code",
   "execution_count": 5,
   "metadata": {
    "ExecuteTime": {
     "start_time": "2023-04-16T16:57:09.690030Z",
     "end_time": "2023-04-16T16:57:09.692683Z"
    }
   },
   "outputs": [
    {
     "data": {
      "text/plain": "Index(['a', 'b', 'c', 'd', 'e'], dtype='object')"
     },
     "execution_count": 5,
     "metadata": {},
     "output_type": "execute_result"
    }
   ],
   "source": [
    "s.index"
   ]
  },
  {
   "cell_type": "markdown",
   "metadata": {},
   "source": [
    "The np.array of values is given by "
   ]
  },
  {
   "cell_type": "code",
   "execution_count": 6,
   "metadata": {
    "ExecuteTime": {
     "start_time": "2023-04-16T16:57:09.697238Z",
     "end_time": "2023-04-16T16:57:09.732531Z"
    }
   },
   "outputs": [
    {
     "data": {
      "text/plain": "array([-1.84966302, -0.26953417,  0.3033248 ,  0.32286476,  0.29783612])"
     },
     "execution_count": 6,
     "metadata": {},
     "output_type": "execute_result"
    }
   ],
   "source": [
    "s.values"
   ]
  },
  {
   "cell_type": "markdown",
   "metadata": {},
   "source": [
    "And, **values can be accessed by label index**"
   ]
  },
  {
   "cell_type": "code",
   "execution_count": 7,
   "metadata": {
    "ExecuteTime": {
     "start_time": "2023-04-16T16:57:09.700663Z",
     "end_time": "2023-04-16T16:57:09.733252Z"
    }
   },
   "outputs": [
    {
     "data": {
      "text/plain": "-1.8496630216270937"
     },
     "execution_count": 7,
     "metadata": {},
     "output_type": "execute_result"
    }
   ],
   "source": [
    "s.a"
   ]
  },
  {
   "cell_type": "code",
   "execution_count": 8,
   "metadata": {
    "ExecuteTime": {
     "start_time": "2023-04-16T16:57:09.704360Z",
     "end_time": "2023-04-16T16:57:09.733874Z"
    }
   },
   "outputs": [
    {
     "data": {
      "text/plain": "-1.8496630216270937"
     },
     "execution_count": 8,
     "metadata": {},
     "output_type": "execute_result"
    }
   ],
   "source": [
    "s['a']"
   ]
  },
  {
   "cell_type": "code",
   "execution_count": 9,
   "metadata": {
    "ExecuteTime": {
     "start_time": "2023-04-16T16:57:09.708311Z",
     "end_time": "2023-04-16T16:57:09.734022Z"
    }
   },
   "outputs": [
    {
     "data": {
      "text/plain": "-1.8496630216270937"
     },
     "execution_count": 9,
     "metadata": {},
     "output_type": "execute_result"
    }
   ],
   "source": [
    "s.loc['a']"
   ]
  },
  {
   "cell_type": "markdown",
   "metadata": {},
   "source": [
    "or 0-based index (be careful!)"
   ]
  },
  {
   "cell_type": "code",
   "execution_count": 10,
   "metadata": {
    "ExecuteTime": {
     "start_time": "2023-04-16T16:57:09.712449Z",
     "end_time": "2023-04-16T16:57:09.734076Z"
    }
   },
   "outputs": [
    {
     "data": {
      "text/plain": "-1.8496630216270937"
     },
     "execution_count": 10,
     "metadata": {},
     "output_type": "execute_result"
    }
   ],
   "source": [
    "s.iloc[0]"
   ]
  },
  {
   "cell_type": "code",
   "execution_count": 11,
   "metadata": {
    "ExecuteTime": {
     "start_time": "2023-04-16T16:57:09.715951Z",
     "end_time": "2023-04-16T16:57:09.734149Z"
    }
   },
   "outputs": [
    {
     "data": {
      "text/plain": "-1.8496630216270937"
     },
     "execution_count": 11,
     "metadata": {},
     "output_type": "execute_result"
    }
   ],
   "source": [
    "s[0]"
   ]
  },
  {
   "cell_type": "markdown",
   "metadata": {},
   "source": [
    "It is also possible to do **slicing** (We'll see more of it latter)"
   ]
  },
  {
   "cell_type": "code",
   "execution_count": 12,
   "metadata": {
    "ExecuteTime": {
     "start_time": "2023-04-16T16:57:09.721771Z",
     "end_time": "2023-04-16T16:57:09.734231Z"
    }
   },
   "outputs": [
    {
     "data": {
      "text/plain": "b   -0.269534\nc    0.303325\nd    0.322865\ndtype: float64"
     },
     "execution_count": 12,
     "metadata": {},
     "output_type": "execute_result"
    }
   ],
   "source": [
    "s['b':'d']"
   ]
  },
  {
   "cell_type": "markdown",
   "metadata": {},
   "source": [
    "### From dict\n",
    "\n",
    "Series can be instantiated from dictionaries.\n",
    "\n",
    "When the data is a dict, and an index is not passed, the Series index will be ordered by the dict’s insertion order (Python >= 3.6 and Pandas >= 0.23)."
   ]
  },
  {
   "cell_type": "code",
   "execution_count": 13,
   "metadata": {
    "ExecuteTime": {
     "start_time": "2023-04-16T16:57:09.726419Z",
     "end_time": "2023-04-16T16:57:09.734288Z"
    }
   },
   "outputs": [
    {
     "data": {
      "text/plain": "{'a': -0.6547087720918381,\n 'b': -1.6294670489136887,\n 'c': -0.605246958043454,\n 'd': -1.517368389048015,\n 'e': 1.444485675716631}"
     },
     "execution_count": 13,
     "metadata": {},
     "output_type": "execute_result"
    }
   ],
   "source": [
    "d = {k: v for k, v in zip('abcde', np.random.normal(size=5))}\n",
    "d"
   ]
  },
  {
   "cell_type": "code",
   "execution_count": 14,
   "metadata": {
    "ExecuteTime": {
     "start_time": "2023-04-16T16:57:09.731082Z",
     "end_time": "2023-04-16T16:57:09.734352Z"
    }
   },
   "outputs": [
    {
     "data": {
      "text/plain": "a   -0.654709\nb   -1.629467\nc   -0.605247\nd   -1.517368\ne    1.444486\ndtype: float64"
     },
     "execution_count": 14,
     "metadata": {},
     "output_type": "execute_result"
    }
   ],
   "source": [
    "s = pd.Series(d)\n",
    "s"
   ]
  },
  {
   "cell_type": "markdown",
   "metadata": {},
   "source": [
    "### From Scalar\n",
    "\n",
    "If data is a scalar value, an index must be provided. The value will be repeated to match the length of index."
   ]
  },
  {
   "cell_type": "code",
   "execution_count": 15,
   "metadata": {
    "ExecuteTime": {
     "start_time": "2023-04-16T16:57:09.736383Z",
     "end_time": "2023-04-16T16:57:09.739516Z"
    }
   },
   "outputs": [
    {
     "data": {
      "text/plain": "o    1.0\nl    1.0\ni    1.0\nv    1.0\ni    1.0\na    1.0\ndtype: float64"
     },
     "execution_count": 15,
     "metadata": {},
     "output_type": "execute_result"
    }
   ],
   "source": [
    "s = pd.Series(1.0, index=tuple('olivia'))\n",
    "s"
   ]
  },
  {
   "cell_type": "markdown",
   "metadata": {},
   "source": [
    "But be careful, indexes are not necessarily unique. "
   ]
  },
  {
   "cell_type": "code",
   "execution_count": 16,
   "metadata": {
    "ExecuteTime": {
     "start_time": "2023-04-16T16:57:09.739115Z",
     "end_time": "2023-04-16T16:57:09.743783Z"
    }
   },
   "outputs": [
    {
     "data": {
      "text/plain": "i    1.0\ni    1.0\ndtype: float64"
     },
     "execution_count": 16,
     "metadata": {},
     "output_type": "execute_result"
    }
   ],
   "source": [
    "s['i']"
   ]
  },
  {
   "attachments": {},
   "cell_type": "markdown",
   "metadata": {},
   "source": [
    "- when index is unique, pandas use a hashtable to map key to value: O(1)\n",
    "- when index is non-unique and sorted, pandas use binary search: O(logN)\n",
    "- when index is random ordered pandas need to check all the keys in the index: O(N)\n",
    "\n",
    "Let us then check the access time for these cases:"
   ]
  },
  {
   "cell_type": "code",
   "execution_count": 17,
   "metadata": {
    "ExecuteTime": {
     "start_time": "2023-04-16T16:57:09.758426Z",
     "end_time": "2023-04-16T16:57:33.452734Z"
    }
   },
   "outputs": [
    {
     "name": "stdout",
     "output_type": "stream",
     "text": [
      "index length 26  (unique:  26 )\n",
      "unique & unsorted\n",
      "1.46 µs ± 29.6 ns per loop (mean ± std. dev. of 7 runs, 1000000 loops each)\n",
      "unique & sorted\n",
      "1.46 µs ± 19.9 ns per loop (mean ± std. dev. of 7 runs, 1000000 loops each)\n"
     ]
    }
   ],
   "source": [
    "idx_unique = 'defghabcijkqrstuvwlmnopxyz'\n",
    "\n",
    "print('index length', len(idx_unique), ' (unique: ', len(set(idx_unique)), ')')\n",
    "\n",
    "s = pd.Series(1.0, index=tuple(idx_unique))\n",
    "\n",
    "print(\"unique & unsorted\")\n",
    "%timeit s['z']\n",
    "\n",
    "print(\"unique & sorted\")\n",
    "s.sort_index(inplace=True)\n",
    "%timeit s['z']"
   ]
  },
  {
   "cell_type": "code",
   "execution_count": 18,
   "metadata": {
    "ExecuteTime": {
     "start_time": "2023-04-16T16:57:33.770285Z",
     "end_time": "2023-04-16T16:57:49.599705Z"
    }
   },
   "outputs": [
    {
     "name": "stdout",
     "output_type": "stream",
     "text": [
      "index length 26  (unique:  5 )\n",
      "not unique & unsorted\n",
      "29.8 µs ± 1.18 µs per loop (mean ± std. dev. of 7 runs, 10000 loops each)\n",
      "not unique & sorted\n",
      "16.8 µs ± 32.6 ns per loop (mean ± std. dev. of 7 runs, 100000 loops each)\n"
     ]
    }
   ],
   "source": [
    "idx_not_unique = \"oliviaoliviaoliviaoliviaol\"\n",
    "print('index length', len(idx_not_unique), ' (unique: ', len(set(idx_not_unique)), ')')\n",
    "\n",
    "s = pd.Series(1.0, index=tuple(idx_not_unique))\n",
    "\n",
    "print(\"not unique & unsorted\")\n",
    "%timeit s['a']\n",
    "\n",
    "print(\"not unique & sorted\")\n",
    "s.sort_index(inplace=True)\n",
    "%timeit s['a']"
   ]
  },
  {
   "cell_type": "markdown",
   "metadata": {},
   "source": [
    "## NaN\n",
    "`NaN` (*not a number*) is the standard missing data marker used in pandas.\n"
   ]
  },
  {
   "cell_type": "code",
   "execution_count": 19,
   "metadata": {
    "ExecuteTime": {
     "start_time": "2023-04-16T16:57:49.602186Z",
     "end_time": "2023-04-16T16:57:49.604991Z"
    }
   },
   "outputs": [
    {
     "data": {
      "text/plain": "a    1.0\nb    2.0\nz    NaN\ndtype: float64"
     },
     "execution_count": 19,
     "metadata": {},
     "output_type": "execute_result"
    }
   ],
   "source": [
    "d = {'a' : 1, 'b' : 2, 'c': 3}\n",
    "\n",
    "pd.Series(d, index=tuple('abz'))"
   ]
  },
  {
   "cell_type": "markdown",
   "metadata": {},
   "source": [
    "## Get series values\n",
    "The type of the values can be obtained via `dtype`"
   ]
  },
  {
   "cell_type": "code",
   "execution_count": 20,
   "metadata": {
    "ExecuteTime": {
     "start_time": "2023-04-16T16:57:49.604371Z",
     "end_time": "2023-04-16T16:57:49.609702Z"
    }
   },
   "outputs": [
    {
     "data": {
      "text/plain": "a    1.0\na    1.0\na    1.0\na    1.0\ni    1.0\ni    1.0\ni    1.0\ni    1.0\ni    1.0\ni    1.0\ni    1.0\ni    1.0\nl    1.0\nl    1.0\nl    1.0\nl    1.0\nl    1.0\no    1.0\no    1.0\no    1.0\no    1.0\no    1.0\nv    1.0\nv    1.0\nv    1.0\nv    1.0\ndtype: float64"
     },
     "execution_count": 20,
     "metadata": {},
     "output_type": "execute_result"
    }
   ],
   "source": [
    "s"
   ]
  },
  {
   "cell_type": "code",
   "execution_count": 21,
   "metadata": {
    "ExecuteTime": {
     "start_time": "2023-04-16T16:57:49.611323Z",
     "end_time": "2023-04-16T16:57:49.613553Z"
    }
   },
   "outputs": [
    {
     "data": {
      "text/plain": "dtype('float64')"
     },
     "execution_count": 21,
     "metadata": {},
     "output_type": "execute_result"
    }
   ],
   "source": [
    "# as of pandas 0.24.0, the default dtype is 'float64'\n",
    "s.dtype"
   ]
  },
  {
   "cell_type": "markdown",
   "metadata": {},
   "source": [
    "And the values themselve"
   ]
  },
  {
   "cell_type": "code",
   "execution_count": 22,
   "metadata": {
    "ExecuteTime": {
     "start_time": "2023-04-16T16:57:49.613531Z",
     "end_time": "2023-04-16T16:57:49.617930Z"
    }
   },
   "outputs": [
    {
     "name": "stdout",
     "output_type": "stream",
     "text": [
      "<class 'numpy.ndarray'>\n"
     ]
    },
    {
     "data": {
      "text/plain": "array([1., 1., 1., 1., 1., 1., 1., 1., 1., 1., 1., 1., 1., 1., 1., 1., 1.,\n       1., 1., 1., 1., 1., 1., 1., 1., 1.])"
     },
     "execution_count": 22,
     "metadata": {},
     "output_type": "execute_result"
    }
   ],
   "source": [
    "# array of values as a numpy array \n",
    "print(type(s.values))\n",
    "s.values"
   ]
  },
  {
   "cell_type": "code",
   "execution_count": 23,
   "metadata": {
    "ExecuteTime": {
     "start_time": "2023-04-16T16:57:49.625423Z",
     "end_time": "2023-04-16T16:57:49.651213Z"
    }
   },
   "outputs": [
    {
     "name": "stdout",
     "output_type": "stream",
     "text": [
      "<class 'pandas.core.arrays.numpy_.PandasArray'>\n"
     ]
    },
    {
     "data": {
      "text/plain": "<PandasArray>\n[1.0, 1.0, 1.0, 1.0, 1.0, 1.0, 1.0, 1.0, 1.0, 1.0, 1.0, 1.0, 1.0, 1.0, 1.0,\n 1.0, 1.0, 1.0, 1.0, 1.0, 1.0, 1.0, 1.0, 1.0, 1.0, 1.0]\nLength: 26, dtype: float64"
     },
     "execution_count": 23,
     "metadata": {},
     "output_type": "execute_result"
    }
   ],
   "source": [
    "# as a PandasArray\n",
    "print(type(s.array))\n",
    "s.array"
   ]
  },
  {
   "cell_type": "code",
   "execution_count": 24,
   "metadata": {
    "scrolled": true,
    "ExecuteTime": {
     "start_time": "2023-04-16T16:57:49.628583Z",
     "end_time": "2023-04-16T16:57:49.651432Z"
    }
   },
   "outputs": [
    {
     "name": "stdout",
     "output_type": "stream",
     "text": [
      "<class 'pandas.core.arrays.numpy_.PandasArray'>\n"
     ]
    },
    {
     "data": {
      "text/plain": "array([1., 1., 1., 1., 1., 1., 1., 1., 1., 1., 1., 1., 1., 1., 1., 1., 1.,\n       1., 1., 1., 1., 1., 1., 1., 1., 1.])"
     },
     "execution_count": 24,
     "metadata": {},
     "output_type": "execute_result"
    }
   ],
   "source": [
    "# also as a numpy array\n",
    "print(type(s.array))\n",
    "s.to_numpy()"
   ]
  },
  {
   "attachments": {},
   "cell_type": "markdown",
   "metadata": {},
   "source": [
    "## Slicing\n",
    "Series acts very similarly to a ndarray, and is a valid argument to most NumPy functions. \n",
    "However, operations such as slicing will also slice the index."
   ]
  },
  {
   "cell_type": "code",
   "execution_count": 25,
   "metadata": {
    "ExecuteTime": {
     "start_time": "2023-04-16T16:57:49.631744Z",
     "end_time": "2023-04-16T16:57:49.651524Z"
    }
   },
   "outputs": [
    {
     "data": {
      "text/plain": "a    0.176440\nb   -1.097840\nc   -0.304180\nd   -1.023922\ne   -0.364008\ndtype: float64"
     },
     "execution_count": 25,
     "metadata": {},
     "output_type": "execute_result"
    }
   ],
   "source": [
    "s = pd.Series(np.random.normal(size=5), index=tuple('abcde'))\n",
    "s"
   ]
  },
  {
   "cell_type": "markdown",
   "metadata": {},
   "source": [
    "Get the indeces that satisfy some filter"
   ]
  },
  {
   "cell_type": "code",
   "execution_count": 26,
   "metadata": {
    "ExecuteTime": {
     "start_time": "2023-04-16T16:57:49.633856Z",
     "end_time": "2023-04-16T16:57:49.651694Z"
    }
   },
   "outputs": [
    {
     "data": {
      "text/plain": "a     True\nb    False\nc    False\nd    False\ne    False\ndtype: bool"
     },
     "execution_count": 26,
     "metadata": {},
     "output_type": "execute_result"
    }
   ],
   "source": [
    "s>0"
   ]
  },
  {
   "cell_type": "markdown",
   "metadata": {},
   "source": [
    "Given the filter, you can get the values"
   ]
  },
  {
   "cell_type": "code",
   "execution_count": 27,
   "metadata": {
    "ExecuteTime": {
     "start_time": "2023-04-16T16:57:49.638589Z",
     "end_time": "2023-04-16T16:57:49.651783Z"
    }
   },
   "outputs": [
    {
     "data": {
      "text/plain": "a    0.17644\ndtype: float64"
     },
     "execution_count": 27,
     "metadata": {},
     "output_type": "execute_result"
    }
   ],
   "source": [
    "s[s>0]"
   ]
  },
  {
   "cell_type": "markdown",
   "metadata": {},
   "source": [
    "Another example"
   ]
  },
  {
   "cell_type": "code",
   "execution_count": 28,
   "metadata": {
    "ExecuteTime": {
     "start_time": "2023-04-16T16:57:49.641856Z",
     "end_time": "2023-04-16T16:57:49.651859Z"
    }
   },
   "outputs": [
    {
     "data": {
      "text/plain": "a    0.17644\nc   -0.30418\ndtype: float64"
     },
     "execution_count": 28,
     "metadata": {},
     "output_type": "execute_result"
    }
   ],
   "source": [
    "s[s>s.median()]"
   ]
  },
  {
   "attachments": {},
   "cell_type": "markdown",
   "metadata": {},
   "source": [
    "To get values given the indeces (using the 0-based indexing, I always prefer to use `iloc` to avoid any confusion)"
   ]
  },
  {
   "cell_type": "code",
   "execution_count": 29,
   "metadata": {
    "ExecuteTime": {
     "start_time": "2023-04-16T16:57:49.648956Z",
     "end_time": "2023-04-16T16:57:49.651923Z"
    }
   },
   "outputs": [
    {
     "data": {
      "text/plain": "a    0.17644\nb   -1.09784\nc   -0.30418\ndtype: float64"
     },
     "execution_count": 29,
     "metadata": {},
     "output_type": "execute_result"
    }
   ],
   "source": [
    "s.iloc[[0, 1, 2]]"
   ]
  },
  {
   "cell_type": "code",
   "execution_count": 30,
   "metadata": {
    "ExecuteTime": {
     "start_time": "2023-04-16T16:57:49.654075Z",
     "end_time": "2023-04-16T16:57:49.658028Z"
    }
   },
   "outputs": [
    {
     "data": {
      "text/plain": "a    0.176440\nc   -0.304180\ne   -0.364008\ndtype: float64"
     },
     "execution_count": 30,
     "metadata": {},
     "output_type": "execute_result"
    }
   ],
   "source": [
    "s[['a', 'c', 'e']]"
   ]
  },
  {
   "cell_type": "markdown",
   "metadata": {},
   "source": [
    "To change the series' values you can use the same indexing access"
   ]
  },
  {
   "cell_type": "code",
   "execution_count": 31,
   "metadata": {
    "scrolled": true,
    "ExecuteTime": {
     "start_time": "2023-04-16T16:57:49.659434Z",
     "end_time": "2023-04-16T16:57:49.662756Z"
    }
   },
   "outputs": [
    {
     "data": {
      "text/plain": "a    10.000000\nb    -1.097840\nc    -0.304180\nd    -1.023922\ne    -0.364008\ndtype: float64"
     },
     "execution_count": 31,
     "metadata": {},
     "output_type": "execute_result"
    }
   ],
   "source": [
    "s[\"a\"] = 10\n",
    "s"
   ]
  },
  {
   "cell_type": "code",
   "execution_count": 32,
   "metadata": {
    "ExecuteTime": {
     "start_time": "2023-04-16T16:57:49.661530Z",
     "end_time": "2023-04-16T16:57:49.666804Z"
    }
   },
   "outputs": [
    {
     "data": {
      "text/plain": "a    10.000000\nb    20.000000\nc    -0.304180\nd    -1.023922\ne    -0.364008\ndtype: float64"
     },
     "execution_count": 32,
     "metadata": {},
     "output_type": "execute_result"
    }
   ],
   "source": [
    "s.loc[\"b\"] = 20\n",
    "s"
   ]
  },
  {
   "cell_type": "code",
   "execution_count": 33,
   "metadata": {
    "ExecuteTime": {
     "start_time": "2023-04-16T16:57:49.675063Z",
     "end_time": "2023-04-16T16:57:49.740032Z"
    }
   },
   "outputs": [
    {
     "data": {
      "text/plain": "a    10.0\nb    20.0\nc    30.0\nd    30.0\ne    30.0\ndtype: float64"
     },
     "execution_count": 33,
     "metadata": {},
     "output_type": "execute_result"
    }
   ],
   "source": [
    "s.iloc[2:] = 30\n",
    "s"
   ]
  },
  {
   "cell_type": "code",
   "execution_count": 34,
   "metadata": {
    "ExecuteTime": {
     "start_time": "2023-04-16T16:57:49.680272Z",
     "end_time": "2023-04-16T16:57:49.740676Z"
    }
   },
   "outputs": [
    {
     "data": {
      "text/plain": "a    10.0\nb    20.0\nc    30.0\nd    30.0\ne    40.0\ndtype: float64"
     },
     "execution_count": 34,
     "metadata": {},
     "output_type": "execute_result"
    }
   ],
   "source": [
    "s.iloc[-1] = 40\n",
    "s"
   ]
  },
  {
   "cell_type": "markdown",
   "metadata": {},
   "source": [
    "## Exercise\n",
    "Before running them, try to guess the output of the followiong lines "
   ]
  },
  {
   "cell_type": "code",
   "execution_count": 35,
   "metadata": {
    "ExecuteTime": {
     "start_time": "2023-04-16T16:57:49.686207Z",
     "end_time": "2023-04-16T16:57:49.740987Z"
    }
   },
   "outputs": [
    {
     "data": {
      "text/plain": "0     0.387192\n5     1.597901\n10   -2.520249\n15    0.512114\n20   -0.286094\n25   -0.135176\n30    0.770350\n35    0.388736\n40   -0.243896\n45   -0.894259\ndtype: float64"
     },
     "execution_count": 35,
     "metadata": {},
     "output_type": "execute_result"
    }
   ],
   "source": [
    "s1 = pd.Series(np.random.randn(10), index=list(range(0, 50, 5)))\n",
    "s1"
   ]
  },
  {
   "cell_type": "code",
   "execution_count": 36,
   "metadata": {
    "ExecuteTime": {
     "start_time": "2023-04-16T16:57:49.689943Z",
     "end_time": "2023-04-16T16:57:49.741304Z"
    }
   },
   "outputs": [
    {
     "data": {
      "text/plain": "1.5979010710242143"
     },
     "execution_count": 36,
     "metadata": {},
     "output_type": "execute_result"
    }
   ],
   "source": [
    "s1[5]"
   ]
  },
  {
   "cell_type": "code",
   "execution_count": 37,
   "metadata": {
    "ExecuteTime": {
     "start_time": "2023-04-16T16:57:49.694035Z",
     "end_time": "2023-04-16T16:57:49.741396Z"
    }
   },
   "outputs": [
    {
     "data": {
      "text/plain": "1.5979010710242143"
     },
     "execution_count": 37,
     "metadata": {},
     "output_type": "execute_result"
    }
   ],
   "source": [
    "s1.loc[5]"
   ]
  },
  {
   "cell_type": "code",
   "execution_count": 38,
   "metadata": {
    "ExecuteTime": {
     "start_time": "2023-04-16T16:57:49.698605Z",
     "end_time": "2023-04-16T16:57:49.741465Z"
    }
   },
   "outputs": [
    {
     "data": {
      "text/plain": "0    0.387192\n5    1.597901\ndtype: float64"
     },
     "execution_count": 38,
     "metadata": {},
     "output_type": "execute_result"
    }
   ],
   "source": [
    "s1.loc[:5]"
   ]
  },
  {
   "cell_type": "code",
   "execution_count": 39,
   "metadata": {
    "ExecuteTime": {
     "start_time": "2023-04-16T16:57:49.703533Z",
     "end_time": "2023-04-16T16:57:49.741521Z"
    }
   },
   "outputs": [
    {
     "data": {
      "text/plain": "0     0.387192\n5     1.597901\n10   -2.520249\n15    0.512114\n20   -0.286094\ndtype: float64"
     },
     "execution_count": 39,
     "metadata": {},
     "output_type": "execute_result"
    }
   ],
   "source": [
    "# !\n",
    "s1[:5]"
   ]
  },
  {
   "cell_type": "code",
   "execution_count": 40,
   "metadata": {
    "ExecuteTime": {
     "start_time": "2023-04-16T16:57:49.707723Z",
     "end_time": "2023-04-16T16:57:49.741577Z"
    }
   },
   "outputs": [
    {
     "data": {
      "text/plain": "0     0.387192\n5     1.597901\n10   -2.520249\n15    0.512114\n20   -0.286094\ndtype: float64"
     },
     "execution_count": 40,
     "metadata": {},
     "output_type": "execute_result"
    }
   ],
   "source": [
    "s1.iloc[:5]"
   ]
  },
  {
   "cell_type": "code",
   "execution_count": 41,
   "metadata": {
    "ExecuteTime": {
     "start_time": "2023-04-16T16:57:49.711993Z",
     "end_time": "2023-04-16T16:57:49.741630Z"
    }
   },
   "outputs": [
    {
     "data": {
      "text/plain": "-0.13517589082075449"
     },
     "execution_count": 41,
     "metadata": {},
     "output_type": "execute_result"
    }
   ],
   "source": [
    "s1.iloc[5]"
   ]
  },
  {
   "cell_type": "markdown",
   "metadata": {},
   "source": [
    "## Operations\n",
    "When working with raw NumPy arrays, looping through value-by-value is usually not necessary. The same is true when working with Series in pandas. Series can also be passed into most NumPy methods expecting an ndarray."
   ]
  },
  {
   "cell_type": "code",
   "execution_count": 42,
   "metadata": {
    "ExecuteTime": {
     "start_time": "2023-04-16T16:57:49.716229Z",
     "end_time": "2023-04-16T16:57:49.741662Z"
    }
   },
   "outputs": [],
   "source": [
    "r = pd.Series([1, 2, 3, 4, 5], index=tuple('abcde'))\n",
    "s = pd.Series([1, 2, 3, 4, 5], index=tuple('edcba'))"
   ]
  },
  {
   "cell_type": "code",
   "execution_count": 43,
   "metadata": {
    "ExecuteTime": {
     "start_time": "2023-04-16T16:57:49.720192Z",
     "end_time": "2023-04-16T16:57:49.741720Z"
    }
   },
   "outputs": [
    {
     "data": {
      "text/plain": "a    6\nb    6\nc    6\nd    6\ne    6\ndtype: int64"
     },
     "execution_count": 43,
     "metadata": {},
     "output_type": "execute_result"
    }
   ],
   "source": [
    "r + s"
   ]
  },
  {
   "cell_type": "code",
   "execution_count": 44,
   "metadata": {
    "ExecuteTime": {
     "start_time": "2023-04-16T16:57:49.724214Z",
     "end_time": "2023-04-16T16:57:49.741776Z"
    }
   },
   "outputs": [
    {
     "data": {
      "text/plain": "a     2\nb     4\nc     6\nd     8\ne    10\ndtype: int64"
     },
     "execution_count": 44,
     "metadata": {},
     "output_type": "execute_result"
    }
   ],
   "source": [
    "2 * r"
   ]
  },
  {
   "cell_type": "code",
   "execution_count": 45,
   "metadata": {
    "ExecuteTime": {
     "start_time": "2023-04-16T16:57:49.728359Z",
     "end_time": "2023-04-16T16:57:49.742141Z"
    }
   },
   "outputs": [
    {
     "data": {
      "text/plain": "a     1\nb     4\nc     9\nd    16\ne    25\ndtype: int64"
     },
     "execution_count": 45,
     "metadata": {},
     "output_type": "execute_result"
    }
   ],
   "source": [
    "r ** 2"
   ]
  },
  {
   "cell_type": "code",
   "execution_count": 46,
   "metadata": {
    "ExecuteTime": {
     "start_time": "2023-04-16T16:57:49.731921Z",
     "end_time": "2023-04-16T16:57:49.742213Z"
    }
   },
   "outputs": [
    {
     "data": {
      "text/plain": "a     2\nb     4\nc     8\nd    16\ne    32\ndtype: int64"
     },
     "execution_count": 46,
     "metadata": {},
     "output_type": "execute_result"
    }
   ],
   "source": [
    "2 ** r"
   ]
  },
  {
   "cell_type": "markdown",
   "metadata": {},
   "source": [
    "The result of an operation between unaligned Series will have the union of the indexes involved. If a label is not found in one Series or the other, the result will be marked as missing NaN. "
   ]
  },
  {
   "cell_type": "code",
   "execution_count": 47,
   "metadata": {
    "ExecuteTime": {
     "start_time": "2023-04-16T16:57:49.736625Z",
     "end_time": "2023-04-16T16:57:49.742274Z"
    }
   },
   "outputs": [
    {
     "data": {
      "text/plain": "a    NaN\nb    8.0\nc    6.0\nd    4.0\ne    NaN\ndtype: float64"
     },
     "execution_count": 47,
     "metadata": {},
     "output_type": "execute_result"
    }
   ],
   "source": [
    "s[1:] + s [:-1]"
   ]
  },
  {
   "cell_type": "markdown",
   "metadata": {},
   "source": [
    "similar"
   ]
  },
  {
   "cell_type": "code",
   "execution_count": 48,
   "metadata": {
    "ExecuteTime": {
     "start_time": "2023-04-16T16:57:49.741861Z",
     "end_time": "2023-04-16T16:57:49.747046Z"
    }
   },
   "outputs": [
    {
     "data": {
      "text/plain": "a    NaN\nb    8.0\nc    6.0\nd    4.0\ne    NaN\ndtype: float64"
     },
     "execution_count": 48,
     "metadata": {},
     "output_type": "execute_result"
    }
   ],
   "source": [
    "s.iloc[1:] + s.iloc[:-1]"
   ]
  },
  {
   "cell_type": "markdown",
   "metadata": {},
   "source": [
    "## Describe & Visualize data"
   ]
  },
  {
   "cell_type": "code",
   "execution_count": 49,
   "metadata": {
    "ExecuteTime": {
     "start_time": "2023-04-16T16:57:49.745400Z",
     "end_time": "2023-04-16T16:57:49.749468Z"
    }
   },
   "outputs": [
    {
     "data": {
      "text/plain": "0    2.270124\n1   -1.054917\n2    1.272262\n3    0.190576\n4   -0.775642\n5   -1.245634\n6   -1.235037\n7    0.407910\n8   -0.688606\n9   -0.456710\ndtype: float64"
     },
     "execution_count": 49,
     "metadata": {},
     "output_type": "execute_result"
    }
   ],
   "source": [
    "s = pd.Series(np.random.normal(size=10000))\n",
    "s.head(10)"
   ]
  },
  {
   "cell_type": "code",
   "execution_count": 50,
   "metadata": {
    "ExecuteTime": {
     "start_time": "2023-04-16T16:57:49.749508Z",
     "end_time": "2023-04-16T16:57:49.818976Z"
    }
   },
   "outputs": [
    {
     "name": "stdout",
     "output_type": "stream",
     "text": [
      "<class 'pandas.core.series.Series'>\n",
      "RangeIndex: 10000 entries, 0 to 9999\n",
      "Series name: None\n",
      "Non-Null Count  Dtype  \n",
      "--------------  -----  \n",
      "10000 non-null  float64\n",
      "dtypes: float64(1)\n",
      "memory usage: 78.2 KB\n"
     ]
    }
   ],
   "source": [
    "s.info()"
   ]
  },
  {
   "cell_type": "code",
   "execution_count": 51,
   "metadata": {
    "ExecuteTime": {
     "start_time": "2023-04-16T16:57:49.755759Z",
     "end_time": "2023-04-16T16:57:49.819953Z"
    }
   },
   "outputs": [
    {
     "data": {
      "text/plain": "count    10000.000000\nmean         0.004216\nstd          0.991391\nmin         -4.604798\n25%         -0.659941\n50%         -0.002411\n75%          0.676999\nmax          3.471964\ndtype: float64"
     },
     "execution_count": 51,
     "metadata": {},
     "output_type": "execute_result"
    }
   ],
   "source": [
    "s.describe()"
   ]
  },
  {
   "cell_type": "markdown",
   "metadata": {},
   "source": [
    "You can do several kinds of plot such as line, bar, box, etc. (see https://pandas.pydata.org/pandas-docs/version/0.23.4/generated/pandas.DataFrame.plot.html)"
   ]
  },
  {
   "cell_type": "code",
   "execution_count": 52,
   "metadata": {
    "ExecuteTime": {
     "start_time": "2023-04-16T16:57:49.761908Z",
     "end_time": "2023-04-16T16:57:50.358504Z"
    }
   },
   "outputs": [
    {
     "data": {
      "text/plain": "<Axes: >"
     },
     "execution_count": 52,
     "metadata": {},
     "output_type": "execute_result"
    },
    {
     "data": {
      "text/plain": "<Figure size 2500x1000 with 1 Axes>",
      "image/png": "[encoded data removed]"
     },
     "metadata": {},
     "output_type": "display_data"
    }
   ],
   "source": [
    "s.plot(figsize=(25, 10))"
   ]
  },
  {
   "cell_type": "code",
   "execution_count": 53,
   "metadata": {
    "ExecuteTime": {
     "start_time": "2023-04-16T16:57:50.368286Z",
     "end_time": "2023-04-16T16:57:50.454548Z"
    }
   },
   "outputs": [
    {
     "data": {
      "text/plain": "<Axes: >"
     },
     "execution_count": 53,
     "metadata": {},
     "output_type": "execute_result"
    },
    {
     "data": {
      "text/plain": "<Figure size 640x480 with 1 Axes>",
      "image/png": "[encoded data removed]"
     },
     "metadata": {},
     "output_type": "display_data"
    }
   ],
   "source": [
    "s.plot(kind='box')"
   ]
  },
  {
   "cell_type": "code",
   "execution_count": 54,
   "metadata": {
    "ExecuteTime": {
     "start_time": "2023-04-16T16:57:50.441286Z",
     "end_time": "2023-04-16T16:57:50.631934Z"
    }
   },
   "outputs": [
    {
     "data": {
      "text/plain": "<Axes: ylabel='Frequency'>"
     },
     "execution_count": 54,
     "metadata": {},
     "output_type": "execute_result"
    },
    {
     "data": {
      "text/plain": "<Figure size 640x480 with 1 Axes>",
      "image/png": "[encoded data removed]"
     },
     "metadata": {},
     "output_type": "display_data"
    }
   ],
   "source": [
    "s.plot(kind='hist', bins=50)"
   ]
  }
 ],
 "metadata": {
  "kernelspec": {
   "display_name": "Python 3",
   "language": "python",
   "name": "python3"
  },
  "language_info": {
   "codemirror_mode": {
    "name": "ipython",
    "version": 3
   },
   "file_extension": ".py",
   "mimetype": "text/x-python",
   "name": "python",
   "nbconvert_exporter": "python",
   "pygments_lexer": "ipython3",
   "version": "3.10.9"
  },
  "nbTranslate": {
   "displayLangs": [
    "*"
   ],
   "hotkey": "alt-t",
   "langInMainMenu": true,
   "sourceLang": "en",
   "targetLang": "fr",
   "useGoogleTranslate": true
  },
  "toc": {
   "base_numbering": 1,
   "nav_menu": {
    "height": "401px",
    "width": "554px"
   },
   "number_sections": true,
   "sideBar": true,
   "skip_h1_title": false,
   "title_cell": "Table of Contents",
   "title_sidebar": "Contents",
   "toc_cell": false,
   "toc_position": {},
   "toc_section_display": "block",
   "toc_window_display": false
  },
  "varInspector": {
   "cols": {
    "lenName": 16,
    "lenType": 16,
    "lenVar": 40
   },
   "kernels_config": {
    "python": {
     "delete_cmd_postfix": "",
     "delete_cmd_prefix": "del ",
     "library": "var_list.py",
     "varRefreshCmd": "print(var_dic_list())"
    },
    "r": {
     "delete_cmd_postfix": ") ",
     "delete_cmd_prefix": "rm(",
     "library": "var_list.r",
     "varRefreshCmd": "cat(var_dic_list()) "
    }
   },
   "types_to_exclude": [
    "module",
    "function",
    "builtin_function_or_method",
    "instance",
    "_Feature"
   ],
   "window_display": false
  }
 },
 "nbformat": 4,
 "nbformat_minor": 2
}
