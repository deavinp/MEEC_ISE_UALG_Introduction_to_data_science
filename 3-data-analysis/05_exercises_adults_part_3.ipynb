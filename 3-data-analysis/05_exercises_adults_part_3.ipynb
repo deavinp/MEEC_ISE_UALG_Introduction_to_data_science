{
 "cells": [
  {
   "cell_type": "code",
   "execution_count": null,
   "metadata": {
    "collapsed": true
   },
   "outputs": [],
   "source": []
  },
  {
   "cell_type": "markdown",
   "source": [
    "# outliers\n",
    "## 10 % of the population's age is higher than what value?"
   ],
   "metadata": {
    "collapsed": false
   }
  },
  {
   "cell_type": "code",
   "execution_count": null,
   "outputs": [],
   "source": [
    "df['age'].quantile(0.9)"
   ],
   "metadata": {
    "collapsed": false
   }
  },
  {
   "cell_type": "markdown",
   "source": [
    "## Use the interquartile range to indicate the outliers of the age of the population. What is the percentage of outliers?"
   ],
   "metadata": {
    "collapsed": false
   }
  },
  {
   "cell_type": "code",
   "execution_count": null,
   "outputs": [],
   "source": [
    "low = q1 - 1.5*iqr\n",
    "high = q3 + 1.5*iqr\n",
    "\n",
    "mask_outliers = (df['age']<low) | (df['age']>high)\n",
    "df_outliers = df[mask_outliers]\n",
    "\n",
    "print(f'the percentage of outliers is {df_outliers.shape[0]/df.shape[0]*100:.2f}%')\n",
    "df_outliers.sort_values(by='age', ascending=True).head(10)"
   ],
   "metadata": {
    "collapsed": false
   }
  },
  {
   "cell_type": "markdown",
   "source": [
    "## If you remove the outliers, what is the ages distribution of the male and female population?"
   ],
   "metadata": {
    "collapsed": false
   }
  },
  {
   "cell_type": "code",
   "execution_count": null,
   "outputs": [],
   "source": [
    "df_no_outliers_men_high_income = df.loc[~mask_outliers & mask_men & mask_high_income, ['age']]\n",
    "df_no_outliers_women_high_income = df.loc[~mask_outliers & mask_women & mask_high_income, ['age']]\n",
    "\n",
    "fig, axes = plt.subplots(1,4, figsize=(15,5), sharey=True)\n",
    "df.loc[mask_men & mask_high_income, ['age']].boxplot(ax=axes[0])\n",
    "df.loc[mask_women & mask_high_income, ['age']].boxplot(ax=axes[1])\n",
    "\n",
    "df_no_outliers_men_high_income.boxplot(ax=axes[2])\n",
    "df_no_outliers_women_high_income.boxplot(ax=axes[3])"
   ],
   "metadata": {
    "collapsed": false
   }
  }
 ],
 "metadata": {
  "kernelspec": {
   "display_name": "Python 3",
   "language": "python",
   "name": "python3"
  },
  "language_info": {
   "codemirror_mode": {
    "name": "ipython",
    "version": 2
   },
   "file_extension": ".py",
   "mimetype": "text/x-python",
   "name": "python",
   "nbconvert_exporter": "python",
   "pygments_lexer": "ipython2",
   "version": "2.7.6"
  }
 },
 "nbformat": 4,
 "nbformat_minor": 0
}
