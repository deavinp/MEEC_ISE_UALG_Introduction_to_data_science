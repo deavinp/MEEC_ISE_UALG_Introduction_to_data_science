{
 "cells": [
  {
   "cell_type": "markdown",
   "metadata": {},
   "source": [
    "# Storing and retrieving TS data"
   ]
  },
  {
   "cell_type": "markdown",
   "metadata": {},
   "source": [
    "## Time series Storage\n",
    "\n",
    "Time series data is a collection of observations made over time that are often used in many different applications such as financial analysis, environmental monitoring, and industrial control systems. The data is typically collected at regular intervals, and each observation is associated with a timestamp that indicates the time at which it was recorded. The storage and management of time series data are critical considerations for any application that relies on this data.\n",
    "\n",
    "## Storage Formats\n",
    "\n",
    "Time series data is usually stored in a tabular format, where each row corresponds to an observation, and each column represents a variable or attribute of that observation. The first column of the table is typically a timestamp column, which stores the time at which each observation was recorded.\n",
    "\n",
    "### CSV\n",
    "One common file format used to store time series data is the CSV (Comma Separated Values) file format. A CSV file is a plain text file that contains a table of data, with each row separated by a newline character, and each column separated by a comma. CSV files are simple and widely supported, but they may not be the most efficient format for storing large amounts of time series data.\n",
    "\n",
    "Data in CSV files can be stored in a variety of formats, including comma-separated values, tab-separated values, and space-separated values. The CSV file format is a plain text file format that is used to store tabular data. CSV files are simple and widely supported, but they may not be the most efficient format for storing large amounts of time series data.\n",
    "\n",
    "Example of a CSV file to store a time series\n",
    "```csv\n",
    "timestamp,value\n",
    "2020-01-01 00:00:00,0.0\n",
    "2020-01-01 00:01:00,0.1\n",
    "2020-01-01 00:02:00,0.2\n",
    "2020-01-01 00:03:00,0.3\n",
    "2020-01-01 00:04:00,0.4\n",
    "```"
   ]
  },
  {
   "cell_type": "markdown",
   "source": [
    "\n",
    "### XML\n",
    "Another file format used for storing time series data is the XML (Extensible Markup Language) file format. XML is a text-based file format that is used to store structured data, such as time series data. XML files are human-readable and widely supported, but they may not be the most efficient format for storing large amounts of time series data.\n",
    "\n",
    "Example of an XML file to store a time series\n",
    "```xml\n",
    "<?xml version=\"1.0\" encoding=\"UTF-8\"?>\n",
    "<timeseries>\n",
    "    <timestamp>2020-01-01 00:00:00</timestamp>\n",
    "    <value>0.0</value>\n",
    "</timeseries>\n",
    "<timeseries>\n",
    "    <timestamp>2020-01-01 00:01:00</timestamp>\n",
    "    <value>0.1</value>\n",
    "</timeseries>\n",
    "<timeseries>\n",
    "    <timestamp>2020-01-01 00:02:00</timestamp>\n",
    "    <value>0.2</value>\n",
    "</timeseries>\n",
    "<timeseries>\n",
    "    <timestamp>2020-01-01 00:03:00</timestamp>\n",
    "    <value>0.3</value>\n",
    "</timeseries>\n",
    "```"
   ],
   "metadata": {
    "collapsed": false
   }
  },
  {
   "cell_type": "markdown",
   "source": [
    "\n",
    "### Excel\n",
    "Another file format used for storing time series data is the Excel file format. Excel files are binary files that contain a table of data, with each row stored separately. Excel files are widely supported and can be used to store large amounts of time series data, but they are not human-readable and may not be the most efficient format for storing large amounts of time series data.\n"
   ],
   "metadata": {
    "collapsed": false
   }
  },
  {
   "cell_type": "markdown",
   "source": [
    "### JSON\n",
    "Another file format used for storing time series data is the JSON (JavaScript Object Notation) file format. JSON is a text-based file format that is used to store structured data, such as time series data. JSON files are human-readable and widely supported, but they may not be the most efficient format for storing large amounts of time series data.\n",
    "\n",
    "Example of a JSON file to store a time series\n",
    "```json\n",
    "[\n",
    "    {\n",
    "        \"timestamp\": \"2020-01-01 00:00:00\",\n",
    "        \"value\": 0.0\n",
    "    },\n",
    "    {\n",
    "        \"timestamp\": \"2020-01-01 00:01:00\",\n",
    "        \"value\": 0.1\n",
    "    },\n",
    "    {\n",
    "        \"timestamp\": \"2020-01-01 00:02:00\",\n",
    "        \"value\": 0.2\n",
    "    },\n",
    "    {\n",
    "        \"timestamp\": \"2020-01-01 00:03:00\",\n",
    "        \"value\": 0.3\n",
    "    }\n",
    "]\n",
    "```"
   ],
   "metadata": {
    "collapsed": false
   }
  },
  {
   "cell_type": "markdown",
   "source": [
    "### Parquet\n",
    "Parquet is a columnar storage format that is used to store time series data. Parquet files are binary files that contain a table of data, with each column stored separately. Parquet files are efficient for storing large amounts of time series data, but they are not human-readable and may not be widely supported. E.g., see [here](https://parquet.apache.org/)."
   ],
   "metadata": {
    "collapsed": false
   }
  },
  {
   "cell_type": "markdown",
   "source": [
    "\n",
    "### HDF5\n",
    "Another file format used for storing time series data is the HDF5 (Hierarchical Data Format version 5) file format. HDF5 is a binary file format that supports the storage of large and complex data sets, including time series data. HDF5 files can store metadata, data attributes, and data types, and are designed for efficient storage and retrieval of large datasets.\n",
    "\n",
    "The structure of an HDF5 file is hierarchical, with groups and datasets. Groups are used to organize datasets into a hierarchy, and datasets are used to store the actual data. Datasets can be multidimensional arrays, and they can be compressed to reduce the size of the file. HDF5 files are efficient for storing large amounts of time series data, but they are not human-readable and may not be widely supported. Besides, the include metadata and data attributes can be used to store additional information about the data. HDF5 files can be accessed using a variety of programming languages, including Python, R, and MATLAB.\n",
    "\n",
    "Further information about the HDF5 file format can be found [here](https://portal.hdfgroup.org/display/HDF5/HDF5)."
   ],
   "metadata": {
    "collapsed": false
   }
  },
  {
   "cell_type": "markdown",
   "source": [
    "Let us store a time series in a HDF5 file. We  will use the house consumption data set available in csv format on folder `data/house_consumption_TS/house_consumption.csv`. The data set contains measurements of electric power consumption in one household with a 15-minute sampling where the first column is the date and time, and the second column is the power consumption in kilowatts."
   ],
   "metadata": {
    "collapsed": false
   }
  },
  {
   "cell_type": "code",
   "execution_count": null,
   "outputs": [],
   "source": [
    "import pandas as pd\n",
    "import h5py\n",
    "\n",
    "# read the data from the CSV file\n",
    "df = pd.read_csv('./data/house_consumption_TS/house_consumption.csv', header=0, parse_dates=['date'], index_col=['date'])\n",
    "\n",
    "# resample the data to hourly intervals\n",
    "df = df.resample('H').mean()\n",
    "\n",
    "# convert the data to a NumPy array\n",
    "data = df.values\n",
    "\n",
    "# create a new HDF5 file\n",
    "f = h5py.File('./data/house_consumption_TS/house_consumption.hdf5', 'w')\n",
    "\n",
    "# create a dataset to store the time series data\n",
    "dset = f.create_dataset('house_consumption', data=data)\n",
    "\n",
    "# define the attributes of the dataset\n",
    "dset.attrs['CLASS'] = 'TIMESERIES'\n",
    "dset.attrs['NAME'] = 'HOUSE_CONSUMPTION'\n",
    "dset.attrs['START'] = str(df.index.min())\n",
    "dset.attrs['COUNT'] = len(data)\n",
    "dset.attrs['FREQUENCY (hours)'] = 1\n",
    "\n",
    "# close the file\n",
    "f.close()"
   ],
   "metadata": {
    "collapsed": false
   }
  },
  {
   "cell_type": "markdown",
   "source": [
    "To use the data in the HDF5 file, we can open the file and read the data from the dataset."
   ],
   "metadata": {
    "collapsed": false
   }
  },
  {
   "cell_type": "code",
   "execution_count": null,
   "outputs": [],
   "source": [
    "import h5py\n",
    "\n",
    "# open the HDF5 file\n",
    "f = h5py.File('./data/house_consumption_TS/house_consumption.hdf5', 'r')\n",
    "\n",
    "# read the dataset\n",
    "dset = f['house_consumption']\n",
    "data = dset[:]\n",
    "print(data)\n",
    "\n",
    "# close the file\n",
    "f.close()\n"
   ],
   "metadata": {
    "collapsed": false
   }
  },
  {
   "cell_type": "markdown",
   "source": [
    "And the metadata can be accessed as follows:"
   ],
   "metadata": {
    "collapsed": false
   }
  },
  {
   "cell_type": "code",
   "execution_count": null,
   "outputs": [],
   "source": [
    "import h5py\n",
    "\n",
    "# open the HDF5 file\n",
    "f = h5py.File('./data/house_consumption_TS/house_consumption.hdf5', 'r')\n",
    "\n",
    "# read the dataset\n",
    "dset = f['house_consumption']\n",
    "\n",
    "# get the attributes\n",
    "print('** attributes:', dset.attrs)\n",
    "\n",
    "# since the `Attributes of HDF5 object` behaves like a dictionary, we can access the attributes as follows\n",
    "print('** NAME attribute:', dset.attrs['NAME'])\n",
    "\n",
    "# get the list of attributes\n",
    "print('** attributes keys:', dset.attrs.keys())\n",
    "\n",
    "# get the attributes values\n",
    "print('** attributes values:', dset.attrs.values())\n",
    "\n",
    "# or use the items() method to iterate over the attributes\n",
    "print('** attributes items:')\n",
    "for key, value in dset.attrs.items():\n",
    "    print(key, \":\",  value)"
   ],
   "metadata": {
    "collapsed": false
   }
  },
  {
   "cell_type": "markdown",
   "source": [
    "## Storage and Indexing Strategies\n",
    "\n",
    "The storage and indexing of time series data are critical considerations for any application that relies on this data. The size of the dataset, the frequency of updates, and the types of queries that need to be supported can all impact the storage and indexing strategies that are used. Here are some common storage and indexing strategies for time series data:\n",
    "\n",
    "- __Columnar Storage__ - a storage format that stores data by column instead of by row. In columnar storage, each column of data is stored separately, which can improve the efficiency of certain types of queries, such as aggregation and filtering. Columnar storage is particularly well-suited for time series data because queries are often performed on a subset of the columns, rather than on the entire dataset. Columnar storage is used in several popular time series databases, such as InfluxDB and TimescaleDB.\n",
    "\n",
    "- __Compression__ - a technique used to reduce the size of data by encoding it in a more compact form. Compression can be particularly useful for time series data, which is often large and repetitive. There are several compression techniques that can be used for time series data, including delta encoding, run-length encoding, and gzip compression. Compression can reduce the amount of storage required for time series data, as well as improve the performance of queries by reducing the amount of data that needs to be read from disk.\n",
    "\n",
    "- __Partitioning__ - a technique used to split a dataset into smaller, more manageable pieces. Partitioning can be particularly useful for time series data, which is often too large to fit in memory or to be queried efficiently as a single unit. Partitioning can be done by time, where the dataset is split into chunks based on time intervals (e.g., hourly, daily, weekly), or by other criteria, such as location or sensor. Partitioning can improve query performance by allowing queries to be executed on a subset of the data, rather than the entire dataset. Partitioning is used in several popular time series databases, such as OpenTSDB and KairosDB.\n",
    "\n",
    "- __Indexing__ - a technique used to speed up queries by creating a data structure that maps query criteria to the location of the corresponding data in the dataset. Indexing is particularly useful for time series data, where queries often involve filtering on a specific time range or a subset of the data. There are several indexing techniques that can be used for time series data, including B-trees, bitmap indexes, and inverted indexes. Indexing can improve query performance by reducing the amount of data that needs to be scanned to retrieve the desired results. Indexing is used in several popular time series databases, such as OpenTSDB.\n",
    "\n",
    "## Time Series Databases\n",
    "\n",
    "Time series databases are specialized databases that are designed to store and query time series data efficiently. Time series databases use a combination of the storage and indexing strategies discussed above to provide fast and efficient storage and retrieval of time series data. Here are some popular time series databases:\n",
    "\n",
    "- __InfluxDB__ - a popular open-source time series database that is designed for high write and query performance. InfluxDB uses a columnar storage format, compression, partitioning, and indexing to provide fast and efficient storage and retrieval of time series data. InfluxDB also supports a SQL-like query language called InfluxQL, which makes it easy to query and analyze time series data.\n",
    "\n",
    "- __TimescaleDB__ - an open-source time series database that is built on top of PostgreSQL. TimescaleDB uses a columnar storage format, compression, partitioning, and indexing to provide fast and efficient storage and retrieval of time series data. TimescaleDB also supports a SQL-like query language, and provides a number of advanced features, such as automatic data retention policies and continuous aggregates.\n",
    "\n",
    "- __OpenTSDB__ - a distributed time series database that is designed to handle large amounts of time series data. OpenTSDB uses a row-based storage format, partitioning, and indexing to provide fast and efficient storage and retrieval of time series data. OpenTSDB also provides a powerful query language that allows users to perform complex queries on time series data.\n",
    "\n",
    "- __KairosDB__ - a time series database that is built on top of Apache Cassandra. KairosDB uses a columnar storage format, compression, partitioning, and indexing to provide fast and efficient storage and retrieval of time series data. KairosDB also provides a REST API that makes it easy to integrate with other applications.\n",
    "\n",
    "Of course, relational databases (e.g., MySQL) or documental databases (MongoDB) can also be used, at least as an inital solutiom\n",
    "\n",
    "## Conclusion\n",
    "\n",
    "The storage and management of time series data are critical considerations for any application that relies on this data. Time series data is typically stored in a tabular format with a timestamp column and one or more columns containing the corresponding data values. Time series data can be stored in a variety of file formats, including CSV, HDF5, and netCDF. The storage and indexing of time series data can impact query performance and storage efficiency. Columnar storage, compression, partitioning, and indexing are all techniques that can be used to optimize the storage and retrieval of time series data. Time series databases, such as InfluxDB, TimescaleDB, OpenTSDB, and KairosDB, provide specialized support for storing and querying time series data efficiently. Overall, the optimal storage and management of time series data require a combination of techniques and tools that are tailored to the specific use case and requirements of the application.\n",
    "\n",
    "In addition to the techniques and tools discussed above, there are several emerging technologies that are being used to manage and analyze time series data. For example, Apache Kafka is a distributed streaming platform that can be used to ingest, process, and store high-volume real-time data streams, including time series data. Apache Flink is a distributed stream processing framework that can be used to perform real-time analytics on data streams, including time series data. These technologies can be used in conjunction with time series databases and other tools to build end-to-end time series data pipelines that can handle large-scale data processing and analysis tasks.\n",
    "\n",
    "In conclusion, time series data is an essential component of many applications, and the efficient storage and management of this data are critical to the success of these applications. Time series data can be stored in a variety of file formats, and the choice of storage format can impact query performance and storage efficiency. Several techniques, including columnar storage, compression, partitioning, and indexing, can be used to optimize the storage and retrieval of time series data. Time series databases provide specialized support for storing and querying time series data efficiently, and emerging technologies, such as Apache Kafka and Apache Flink, can be used to build end-to-end time series data pipelines that can handle large-scale data processing and analysis tasks."
   ],
   "metadata": {
    "collapsed": false
   }
  },
  {
   "cell_type": "code",
   "execution_count": null,
   "outputs": [],
   "source": [],
   "metadata": {
    "collapsed": false
   }
  }
 ],
 "metadata": {
  "kernelspec": {
   "display_name": "Python 3 (ipykernel)",
   "language": "python",
   "name": "python3"
  },
  "language_info": {
   "codemirror_mode": {
    "name": "ipython",
    "version": 3
   },
   "file_extension": ".py",
   "mimetype": "text/x-python",
   "name": "python",
   "nbconvert_exporter": "python",
   "pygments_lexer": "ipython3",
   "version": "3.10.9"
  }
 },
 "nbformat": 4,
 "nbformat_minor": 4
}
