{
 "cells": [
  {
   "cell_type": "code",
   "execution_count": null,
   "metadata": {
    "_cell_guid": "b1076dfc-b9ad-4769-8c92-a6c4dae69d19",
    "_uuid": "8f2839f25d086af736a60e9eeb907d3b93b6e0e5"
   },
   "outputs": [],
   "source": [
    "%matplotlib inline  \n",
    "\n",
    "import numpy as np\n",
    "import pandas as pd\n",
    "import requests\n",
    "from bs4 import BeautifulSoup\n",
    "import matplotlib.animation as animation\n",
    "import matplotlib.pyplot as plt\n",
    "from IPython.display import HTML\n",
    "\n",
    "#  set the path to the ffmpeg utility\n",
    "import os\n",
    "if os.name == 'nt':\n",
    "    plt.rcParams['animation.ffmpeg_path'] = 'C:\\\\Users\\\\pjsca\\\\Documents\\\\ffmpeg-20200403-52523b6-win64-static\\\\bin\\\\ffmpeg.exe'"
   ]
  },
  {
   "cell_type": "markdown",
   "metadata": {},
   "source": [
    "# Initializations"
   ]
  },
  {
   "cell_type": "code",
   "execution_count": null,
   "metadata": {
    "run_control": {
     "marked": true
    }
   },
   "outputs": [],
   "source": [
    "# prepare styles for the plots\n",
    "colors = ['r', 'g', 'b', 'y', 'c', 'k', 'm']\n",
    "styles = ['-', '--', '-.', ':', '_-']\n",
    "\n",
    "styles_colors = [c + s for s in styles for c in colors]"
   ]
  },
  {
   "cell_type": "markdown",
   "metadata": {},
   "source": [
    "## Load Data\n",
    "\n",
    "Load data from the known repos"
   ]
  },
  {
   "cell_type": "code",
   "execution_count": null,
   "metadata": {
    "collapsed": false
   },
   "outputs": [],
   "source": [
    "# COVID confirmed cases\n",
    "url_confirmed= 'https://raw.githubusercontent.com/CSSEGISandData/COVID-19/master/csse_covid_19_data/csse_covid_19_time_series/time_series_covid19_confirmed_global.csv'\n",
    "df_confirmed = pd.read_csv(url_confirmed, header=0)\n",
    "\n",
    "df_confirmed.head()\n",
    "    "
   ]
  },
  {
   "cell_type": "code",
   "outputs": [],
   "source": [
    "# COVID associated death\n",
    "url_deaths = 'https://raw.githubusercontent.com/CSSEGISandData/COVID-19/master/csse_covid_19_data/csse_covid_19_time_series/time_series_covid19_deaths_global.csv'\n",
    "df_death = pd.read_csv(url_deaths, header=0)\n",
    "\n",
    "df_death.head()"
   ],
   "metadata": {
    "collapsed": false
   },
   "execution_count": null
  },
  {
   "cell_type": "code",
   "outputs": [],
   "source": [
    "from io import StringIO\n",
    "\n",
    "# World population\n",
    "url_world_pop = 'https://www.worldometers.info/world-population/population-by-country/'\n",
    "\n",
    "r = requests.get(url_world_pop)\n",
    "soup = BeautifulSoup(r.content)\n",
    "table = str(soup.find_all('table')[0])\n",
    "\n",
    "df_world_pop = pd.read_html(StringIO(table))[0]\n",
    "\n",
    "df_world_pop.set_index('Country (or dependency)', inplace=True)\n",
    "\n",
    "df_world_pop.head()"
   ],
   "metadata": {
    "_cell_guid": "79c7e3d0-c299-4dcb-8224-4455121ee9b0",
    "_uuid": "d629ff2d2480ee46fbb7e2d37f6b5fab8052498a"
   },
   "execution_count": null
  },
  {
   "cell_type": "markdown",
   "metadata": {},
   "source": [
    "# First look at data\n",
    "Let us have a look at data"
   ]
  },
  {
   "cell_type": "code",
   "execution_count": null,
   "metadata": {},
   "outputs": [],
   "source": [
    "df_confirmed"
   ]
  },
  {
   "cell_type": "code",
   "execution_count": null,
   "metadata": {},
   "outputs": [],
   "source": [
    "df_death"
   ]
  },
  {
   "cell_type": "code",
   "execution_count": null,
   "metadata": {},
   "outputs": [],
   "source": [
    "df_world_pop.head()"
   ]
  },
  {
   "cell_type": "markdown",
   "metadata": {},
   "source": [
    "# Rearranging data \n",
    "\n",
    "## grouping data by countries instead of provinces/states\n",
    "As we can see, some countries have their data divided by Province/states. Let us group all by country (we'll group columns with death numbers, not lat, long, ...)\n",
    "\n",
    "First, put aside, in a another dataframe, lat and long."
   ]
  },
  {
   "cell_type": "code",
   "execution_count": null,
   "metadata": {},
   "outputs": [],
   "source": [
    "df_lat_long = df_confirmed[['Country/Region', 'Lat', 'Long']]\n",
    "df_confirmed = df_confirmed.drop(labels=['Province/State', 'Lat', 'Long'], axis=1)"
   ]
  },
  {
   "cell_type": "markdown",
   "metadata": {},
   "source": [
    "set the lat and long to be the mean value between the known lat and long when grouping"
   ]
  },
  {
   "cell_type": "code",
   "execution_count": null,
   "metadata": {},
   "outputs": [],
   "source": [
    "df_lat_long = df_lat_long.groupby('Country/Region').mean().reset_index()\n",
    "df_lat_long"
   ]
  },
  {
   "cell_type": "code",
   "execution_count": null,
   "metadata": {},
   "outputs": [],
   "source": [
    "columns_date = df_confirmed.columns[4:]\n",
    "columns_date"
   ]
  },
  {
   "cell_type": "code",
   "execution_count": null,
   "metadata": {},
   "outputs": [],
   "source": [
    "df_confirmed = df_confirmed.groupby(by='Country/Region').sum().reset_index().set_index('Country/Region')\n",
    "df_confirmed"
   ]
  },
  {
   "cell_type": "code",
   "execution_count": null,
   "metadata": {
    "collapsed": false
   },
   "outputs": [],
   "source": [
    "df_death.drop(labels=['Province/State'], axis=1, inplace=True)\n",
    "df_death.head()"
   ]
  },
  {
   "cell_type": "markdown",
   "metadata": {},
   "source": [
    "do the samething to the death dataframe"
   ]
  },
  {
   "cell_type": "code",
   "execution_count": null,
   "metadata": {},
   "outputs": [],
   "source": [
    "df_death.drop(labels=['Lat', 'Long'], axis=1, inplace=True)\n",
    "df_death = df_death.groupby(by='Country/Region').sum().reset_index().set_index('Country/Region')\n",
    "df_death"
   ]
  },
  {
   "cell_type": "markdown",
   "metadata": {},
   "source": [
    "## Correct countries names"
   ]
  },
  {
   "cell_type": "code",
   "execution_count": null,
   "metadata": {},
   "outputs": [],
   "source": [
    "to_replace = {\n",
    "    'United States' : 'US',\n",
    "    'DR Congo' : 'Congo (Kinshasa)',\n",
    "    'Congo' : 'Congo (Brazzaville)',\n",
    "    'Czech Republic (Czechia)' : 'Czechia',\n",
    "    'South Korea' : 'Korea, South',\n",
    "    'Taiwan' : 'Taiwan*'\n",
    "}\n",
    "              \n",
    "world_pop_index = list(df_world_pop.index)\n",
    "\n",
    "for k, v in to_replace.items():\n",
    "    i = world_pop_index.index(k)\n",
    "    world_pop_index[i] = v\n",
    "\n",
    "df_world_pop.index = world_pop_index\n",
    "df_world_pop.head()"
   ]
  },
  {
   "cell_type": "markdown",
   "metadata": {},
   "source": [
    "## Recompute the Density (P/Km²)\n",
    "Holy See had 0 km²"
   ]
  },
  {
   "cell_type": "code",
   "execution_count": null,
   "metadata": {},
   "outputs": [],
   "source": [
    "df_world_pop.loc['Holy See', 'Land Area (Km²)'] = 0.44 # it was 0!\n",
    "\n",
    "df_world_pop['Density (P/Km²)'] = df_world_pop['Population  (2023)'] / df_world_pop['Land Area (Km²)']\n",
    "df_world_pop.sort_values(by='Density (P/Km²)', ascending=False)"
   ]
  },
  {
   "cell_type": "markdown",
   "metadata": {},
   "source": [
    "# save data into files, for offline working if necessary"
   ]
  },
  {
   "cell_type": "code",
   "execution_count": null,
   "metadata": {},
   "outputs": [],
   "source": [
    "df_confirmed.to_csv('./data/confirmed.csv')\n",
    "df_death.to_csv('./data/death.csv')\n",
    "df_world_pop.to_csv('./data/world_pop.csv')"
   ]
  },
  {
   "cell_type": "markdown",
   "metadata": {},
   "source": [
    "# get the top `number_of_countries` more affected coutries (and Portugal!)"
   ]
  },
  {
   "cell_type": "code",
   "execution_count": null,
   "metadata": {},
   "outputs": [],
   "source": [
    "number_of_countries=20\n",
    "\n",
    "list_top_affected_countries = df_confirmed.sort_values(\n",
    "                        by=df_confirmed.columns[-1], \n",
    "                        ascending=False\n",
    "                    ).head(number_of_countries).index\n",
    "\n",
    "list_top_affected_countries = list_top_affected_countries.append(pd.Index(['Portugal']))\n",
    "\n",
    "list_top_affected_countries"
   ]
  },
  {
   "cell_type": "markdown",
   "metadata": {},
   "source": [
    "# Evolution of the absolute number of confirmed cases by country (top affected countries & Portugal)"
   ]
  },
  {
   "cell_type": "code",
   "execution_count": null,
   "metadata": {
    "run_control": {
     "marked": true
    }
   },
   "outputs": [],
   "source": [
    "df_confirmed.loc[list_top_affected_countries].T.plot(\n",
    "                                    figsize=(15, 10), \n",
    "                                    style=styles_colors,\n",
    "                                    logy=True,\n",
    "                                    title='Number of confirmed cases evolution (top 20 countries & Portugal)'\n",
    "                                )"
   ]
  },
  {
   "cell_type": "markdown",
   "metadata": {},
   "source": [
    "# Evolution of the absolute number of deaths by country (top affected countries)"
   ]
  },
  {
   "cell_type": "code",
   "execution_count": null,
   "metadata": {
    "run_control": {
     "marked": true
    }
   },
   "outputs": [],
   "source": [
    "df_death.loc[list_top_affected_countries].T.plot(\n",
    "                    figsize=(15, 10), \n",
    "                    style=styles_colors,\n",
    "                    logy=True,\n",
    "                    title='Number of deaths evolution (top 20 countries & Portugal)'\n",
    "                )"
   ]
  },
  {
   "cell_type": "markdown",
   "metadata": {},
   "source": [
    "# Number of death per confirmed case (top affected countries)"
   ]
  },
  {
   "cell_type": "code",
   "execution_count": null,
   "metadata": {
    "run_control": {
     "marked": false
    }
   },
   "outputs": [],
   "source": [
    "df_death_by_confirmed = df_death.loc[list_top_affected_countries] / df_confirmed.loc[list_top_affected_countries]\n",
    "df_death_by_confirmed = df_death_by_confirmed.fillna(0)*100\n",
    "\n",
    "df_death_by_confirmed.T.plot(\n",
    "                            figsize=(15, 10), \n",
    "                            ylim=(-0.1, 18), \n",
    "                            style=styles_colors, \n",
    "                            title='Percentage of death by confirmed case'\n",
    "                        )"
   ]
  },
  {
   "cell_type": "markdown",
   "metadata": {},
   "source": [
    "# Confirmed/death data relative to the population size (top affected countries & Portugal)\n",
    "\n",
    "First data is normalized by population size"
   ]
  },
  {
   "cell_type": "code",
   "execution_count": null,
   "outputs": [],
   "source": [
    "df_confirmed.loc[list_top_affected_countries]"
   ],
   "metadata": {
    "collapsed": false
   }
  },
  {
   "cell_type": "code",
   "execution_count": null,
   "outputs": [],
   "source": [
    "df_world_pop.loc[list_top_affected_countries]['Population  (2023)']"
   ],
   "metadata": {
    "collapsed": false
   }
  },
  {
   "cell_type": "code",
   "execution_count": null,
   "metadata": {
    "run_control": {
     "marked": false
    }
   },
   "outputs": [],
   "source": [
    "df_confirmed_by_pop = df_confirmed.loc[list_top_affected_countries].div(\n",
    "                                df_world_pop.loc[list_top_affected_countries]['Population  (2023)'],\n",
    "                                axis=0\n",
    "                            )\n",
    "\n",
    "df_death_by_pop = df_death.loc[list_top_affected_countries].div(\n",
    "                                df_world_pop.loc[list_top_affected_countries]['Population  (2023)'],\n",
    "                                axis=0\n",
    "                            )"
   ]
  },
  {
   "cell_type": "code",
   "execution_count": null,
   "metadata": {},
   "outputs": [],
   "source": [
    "df_confirmed_by_pop.T.plot(\n",
    "                            figsize=(15, 10), \n",
    "                            style=styles_colors,\n",
    "                            title='confirmed case by population size ratio (top 20)',\n",
    "                            logy=True\n",
    "                        )"
   ]
  },
  {
   "cell_type": "code",
   "execution_count": null,
   "metadata": {},
   "outputs": [],
   "source": [
    "df_death_by_pop.T.plot(\n",
    "            figsize=(15, 10), \n",
    "            style=styles_colors,\n",
    "            title='deaths by population size ratio (top 20 countries)',\n",
    "            logy=True\n",
    "        )"
   ]
  },
  {
   "cell_type": "markdown",
   "metadata": {},
   "source": [
    "# Confirmed/death data relative to the country size (top affected countries)\n",
    "\n",
    "First data is normalized by coutries' area"
   ]
  },
  {
   "cell_type": "code",
   "execution_count": null,
   "metadata": {
    "run_control": {
     "marked": false
    },
    "scrolled": true
   },
   "outputs": [],
   "source": [
    "df_confirmed_by_size = df_confirmed.loc[list_top_affected_countries].div(\n",
    "                                df_world_pop.loc[list_top_affected_countries]['Land Area (Km²)'],\n",
    "                                axis=0\n",
    "                            )\n",
    "df_death_by_size = df_death.loc[list_top_affected_countries].div(\n",
    "                                df_world_pop.loc[list_top_affected_countries]['Land Area (Km²)'],\n",
    "                                axis=0\n",
    "                            )"
   ]
  },
  {
   "cell_type": "code",
   "execution_count": null,
   "metadata": {},
   "outputs": [],
   "source": [
    "df_confirmed_by_size.T.plot(\n",
    "                                figsize=(15, 10), \n",
    "                                logy=True, \n",
    "                                style=styles_colors,\n",
    "                                title=\"number of confirmed cases relative to the countries' sizes\"\n",
    "                            )"
   ]
  },
  {
   "cell_type": "code",
   "execution_count": null,
   "metadata": {},
   "outputs": [],
   "source": [
    "df_death_by_size.T.plot(\n",
    "                    figsize=(15, 10), \n",
    "                    logy=True, \n",
    "                    style=styles_colors,\n",
    "                    title=\"number of deaths relative to the countries' sizes\",\n",
    "                    grid=True\n",
    "                )"
   ]
  },
  {
   "cell_type": "markdown",
   "metadata": {},
   "source": [
    "# Growing rate over time (top affected countries)"
   ]
  },
  {
   "cell_type": "code",
   "execution_count": null,
   "metadata": {},
   "outputs": [],
   "source": [
    "df_today = df_confirmed.loc[list_top_affected_countries, df_confirmed.columns[1:]].astype(float)\n",
    "# print(df_today)\n",
    "df_previous_day = df_confirmed.loc[list_top_affected_countries, df_confirmed.columns[:-1]].astype(float)\n",
    "# print(df_previous_day)\n",
    "\n",
    "df_confirmed_growth_rate =  ((df_today - df_previous_day.values) / df_previous_day.values).replace(np.inf, np.nan) + 1\n",
    "df_confirmed_growth_rate.head()"
   ]
  },
  {
   "cell_type": "code",
   "execution_count": null,
   "metadata": {},
   "outputs": [],
   "source": [
    "df_confirmed_growth_rate.T.plot(\n",
    "                     figsize=(30, 15), \n",
    "                    style=styles_colors,\n",
    "                    title=\"growth rate of confirmed cases\",\n",
    "                    ylim=(1, 1.1),\n",
    "                    grid=True\n",
    "                    )"
   ]
  },
  {
   "cell_type": "markdown",
   "metadata": {},
   "source": [
    "# Growing rate (top affected countries)"
   ]
  },
  {
   "cell_type": "code",
   "execution_count": null,
   "metadata": {},
   "outputs": [],
   "source": [
    "# %matplotlib inline\n",
    "\n",
    "number_of_amortization_days = 10\n",
    "\n",
    "def animate(i, *args, **kargs):\n",
    "    df, df_delta, max_x, max_y, dates, x_label = args\n",
    "    i += number_of_amortization_days \n",
    "    today = dates[i]\n",
    "    delta_today = 'delta_' + today\n",
    "\n",
    "    fig.clear()\n",
    "    plt.xscale('log')\n",
    "    plt.yscale('log')\n",
    "    plt.xlim(1, max_x)\n",
    "    plt.ylim(1, max_y)\n",
    "    plt.xlabel(x_label)\n",
    "    plt.ylabel('Absolute growth')\n",
    "    plt.title(f'{today}')\n",
    "    \n",
    "    \n",
    "    for idx, country in enumerate(df.index):\n",
    "        xx = df.loc[country, dates[:i]].values\n",
    "        yy = df_delta.loc[country, dates[:i]].values\n",
    "        plt.plot(xx, yy, styles_colors[idx])\n",
    "        plt.annotate(country, (xx[-1], yy[-1]))\n",
    "    \n",
    "def prepare_data(df_in):\n",
    "    # get the dates\n",
    "    dates = df_in.columns\n",
    "    print(dates)\n",
    "\n",
    "    # copy the dataframe\n",
    "    df = df_in.loc[list_top_affected_countries].copy()\n",
    "\n",
    "    # to avoid errors, replace 0 and NaN by a very small value\n",
    "    df.fillna(1)\n",
    "    df[df == 0] = 1\n",
    "\n",
    "    # create dataframe to hold variations\n",
    "    df_delta = pd.DataFrame()\n",
    "    # add the delta (variation) columns, amortized by the computation of the mean of the last days variation\n",
    "    # it's supoposed the series of confirmed cases in crescent\n",
    "    for i_today in range(number_of_amortization_days, len(dates)):\n",
    "        df_delta[dates[i_today]] = (df[dates[i_today]] - df[dates[i_today - number_of_amortization_days]]) / number_of_amortization_days\n",
    "    df_delta.fillna(1)\n",
    "    dates = df_delta.columns\n",
    "\n",
    "    # maximum number of confirmed cases\n",
    "    max_x = df[dates].max().max()\n",
    "    # maximum variation\n",
    "    max_y = df_delta.max().max()\n",
    "\n",
    "    print(f'max delta: {max_y}  max confirmed: {max_x}')\n",
    "    \n",
    "    return df, df_delta, max_x, max_y, dates"
   ]
  },
  {
   "cell_type": "code",
   "execution_count": null,
   "metadata": {},
   "outputs": [],
   "source": [
    "%matplotlib inline\n",
    "import matplotlib\n",
    "matplotlib.rcParams['animation.embed_limit'] = 2**128\n",
    "\n",
    "df, df_delta, max_x, max_y, dates = prepare_data(df_confirmed)\n",
    "x_label = 'Number of confirmed cases'\n",
    "\n",
    "Writer = animation.writers['ffmpeg']\n",
    "writer = Writer(fps=2, metadata=dict(artist='pcardoso@ualg.pt'))\n",
    "\n",
    "plt.ioff()\n",
    "fig = plt.figure(figsize=(10, 10))\n",
    "ani = animation.FuncAnimation(fig, animate, frames=len(df_delta.columns)-10, fargs=(df, df_delta, max_x, max_y, dates, x_label), repeat=False, repeat_delay=5)\n",
    "ani.save('evolution.mp4', writer=writer)\n",
    "HTML(ani.to_jshtml())"
   ]
  },
  {
   "cell_type": "code",
   "execution_count": null,
   "metadata": {},
   "outputs": [],
   "source": [
    "# %matplotlib inline \n",
    "\n",
    "df, df_delta, max_x, max_y, dates = prepare_data(df_death)\n",
    "x_label = 'Number of death'\n",
    "\n",
    "Writer = animation.writers['ffmpeg']\n",
    "writer = Writer(fps=2, metadata=dict(artist='pcardoso@ualg.pt'))\n",
    "\n",
    "fig = plt.figure(figsize=(10, 10))\n",
    "ani = animation.FuncAnimation(fig, animate, frames=len(df_delta.columns), fargs=(df, df_delta, max_x, max_y, dates, x_label), repeat=False, repeat_delay=5)\n",
    "ani.save('evolution_death.mp4', writer=writer)\n",
    "HTML(ani.to_jshtml())"
   ]
  },
  {
   "cell_type": "code",
   "outputs": [],
   "source": [],
   "metadata": {
    "collapsed": false
   }
  }
 ],
 "metadata": {
  "kernelspec": {
   "display_name": "Python 3 (ipykernel)",
   "language": "python",
   "name": "python3"
  },
  "language_info": {
   "codemirror_mode": {
    "name": "ipython",
    "version": 3
   },
   "file_extension": ".py",
   "mimetype": "text/x-python",
   "name": "python",
   "nbconvert_exporter": "python",
   "pygments_lexer": "ipython3",
   "version": "3.10.9"
  },
  "nbTranslate": {
   "displayLangs": [
    "*"
   ],
   "hotkey": "alt-t",
   "langInMainMenu": true,
   "sourceLang": "en",
   "targetLang": "fr",
   "useGoogleTranslate": true
  },
  "toc": {
   "base_numbering": 1,
   "nav_menu": {
    "height": "303px",
    "width": "307px"
   },
   "number_sections": true,
   "sideBar": true,
   "skip_h1_title": false,
   "title_cell": "Table of Contents",
   "title_sidebar": "Contents",
   "toc_cell": false,
   "toc_position": {},
   "toc_section_display": true,
   "toc_window_display": false
  },
  "varInspector": {
   "cols": {
    "lenName": 16,
    "lenType": 16,
    "lenVar": 40
   },
   "kernels_config": {
    "python": {
     "delete_cmd_postfix": "",
     "delete_cmd_prefix": "del ",
     "library": "var_list.py",
     "varRefreshCmd": "print(var_dic_list())"
    },
    "r": {
     "delete_cmd_postfix": ") ",
     "delete_cmd_prefix": "rm(",
     "library": "var_list.r",
     "varRefreshCmd": "cat(var_dic_list()) "
    }
   },
   "types_to_exclude": [
    "module",
    "function",
    "builtin_function_or_method",
    "instance",
    "_Feature"
   ],
   "window_display": false
  }
 },
 "nbformat": 4,
 "nbformat_minor": 4
}
