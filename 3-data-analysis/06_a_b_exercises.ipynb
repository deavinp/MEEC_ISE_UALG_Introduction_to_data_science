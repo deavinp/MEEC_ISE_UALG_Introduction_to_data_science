{
 "cells": [
  {
   "cell_type": "markdown",
   "source": [
    "# Exercises"
   ],
   "metadata": {
    "collapsed": false
   }
  },
  {
   "cell_type": "markdown",
   "source": [
    "## Load the data in the folder `data/building_consumption` into a pandas dataframe.\n",
    "\n",
    "Data is separated in 4 files. Don't forget to concatenate them, converte the date column to a datetime object and set it as index, and sort the index."
   ],
   "metadata": {
    "collapsed": false
   }
  },
  {
   "cell_type": "code",
   "execution_count": null,
   "outputs": [],
   "source": [],
   "metadata": {
    "collapsed": false,
    "ExecuteTime": {
     "start_time": "2023-05-08T20:53:04.633404Z",
     "end_time": "2023-05-08T20:53:04.635661Z"
    }
   }
  },
  {
   "cell_type": "markdown",
   "source": [
    "## get the columns names for each type of reading"
   ],
   "metadata": {
    "collapsed": false
   }
  },
  {
   "cell_type": "code",
   "execution_count": null,
   "outputs": [],
   "source": [],
   "metadata": {
    "collapsed": false,
    "ExecuteTime": {
     "start_time": "2023-05-08T20:53:04.635941Z",
     "end_time": "2023-05-08T20:53:04.637604Z"
    }
   }
  },
  {
   "cell_type": "markdown",
   "source": [
    "## Chose one column of consumption (for remaining exercises). Check if there are any missing values. If there are, fill them with the previous value."
   ],
   "metadata": {
    "collapsed": false
   }
  },
  {
   "cell_type": "code",
   "execution_count": null,
   "outputs": [],
   "source": [],
   "metadata": {
    "collapsed": false,
    "ExecuteTime": {
     "start_time": "2023-05-08T20:53:04.639220Z",
     "end_time": "2023-05-08T20:53:04.641668Z"
    }
   }
  },
  {
   "cell_type": "markdown",
   "source": [
    "## Plot the data. What do you observe? Can you spot the weekends? and the holidays?"
   ],
   "metadata": {
    "collapsed": false
   }
  },
  {
   "cell_type": "code",
   "execution_count": null,
   "outputs": [],
   "source": [],
   "metadata": {
    "collapsed": false,
    "ExecuteTime": {
     "start_time": "2023-05-08T20:53:04.642445Z",
     "end_time": "2023-05-08T20:53:04.643925Z"
    }
   }
  },
  {
   "cell_type": "markdown",
   "source": [
    "## Plot the data for the first 7 days of January."
   ],
   "metadata": {
    "collapsed": false
   }
  },
  {
   "cell_type": "code",
   "execution_count": null,
   "outputs": [],
   "source": [],
   "metadata": {
    "collapsed": false,
    "ExecuteTime": {
     "start_time": "2023-05-08T20:53:04.645499Z",
     "end_time": "2023-05-08T20:53:04.647516Z"
    }
   }
  },
  {
   "cell_type": "markdown",
   "source": [
    "## Group the data by day of week and plot the mean consumption for each day.\n",
    "Can you comment on the results?"
   ],
   "metadata": {
    "collapsed": false
   }
  },
  {
   "cell_type": "code",
   "execution_count": null,
   "outputs": [],
   "source": [],
   "metadata": {
    "collapsed": false,
    "ExecuteTime": {
     "start_time": "2023-05-08T20:53:04.648009Z",
     "end_time": "2023-05-08T20:53:04.650694Z"
    }
   }
  },
  {
   "cell_type": "markdown",
   "source": [
    "## resample the data by day and plot the min, mean and maximum consumption for each day."
   ],
   "metadata": {
    "collapsed": false
   }
  },
  {
   "cell_type": "code",
   "execution_count": null,
   "outputs": [],
   "source": [],
   "metadata": {
    "collapsed": false,
    "ExecuteTime": {
     "start_time": "2023-05-08T20:53:04.651130Z",
     "end_time": "2023-05-08T20:53:04.653936Z"
    }
   }
  },
  {
   "cell_type": "markdown",
   "source": [
    "## Decompose the data into trend, seasonality and residuals."
   ],
   "metadata": {
    "collapsed": false
   }
  },
  {
   "cell_type": "code",
   "execution_count": null,
   "outputs": [],
   "source": [],
   "metadata": {
    "collapsed": false,
    "ExecuteTime": {
     "start_time": "2023-05-08T20:53:04.654400Z",
     "end_time": "2023-05-08T20:53:04.675167Z"
    }
   }
  },
  {
   "cell_type": "markdown",
   "source": [
    "## Resample the data for hourly values. Plot the data for the months of February, March and April 2023.\n",
    "\n",
    "Can you spot the weekends? and the Carnaval holidays?"
   ],
   "metadata": {
    "collapsed": false
   }
  },
  {
   "cell_type": "code",
   "execution_count": null,
   "outputs": [],
   "source": [],
   "metadata": {
    "collapsed": false,
    "ExecuteTime": {
     "start_time": "2023-05-08T20:53:04.657622Z",
     "end_time": "2023-05-08T20:53:04.675715Z"
    }
   }
  },
  {
   "cell_type": "markdown",
   "source": [
    "## Do the decomposition for the months of of February, March and April 2023."
   ],
   "metadata": {
    "collapsed": false
   }
  },
  {
   "cell_type": "code",
   "execution_count": null,
   "outputs": [],
   "source": [],
   "metadata": {
    "collapsed": false,
    "ExecuteTime": {
     "start_time": "2023-05-08T20:53:04.662061Z",
     "end_time": "2023-05-08T20:53:04.675935Z"
    }
   }
  },
  {
   "cell_type": "markdown",
   "source": [
    "## Resample your data for weekly values and plot it\n",
    "\n",
    "CAn you associate the consumptions with the Covid-19 lock-down"
   ],
   "metadata": {
    "collapsed": false
   }
  },
  {
   "cell_type": "code",
   "execution_count": null,
   "outputs": [],
   "source": [],
   "metadata": {
    "collapsed": false,
    "ExecuteTime": {
     "start_time": "2023-05-08T20:53:04.666020Z",
     "end_time": "2023-05-08T20:53:04.676005Z"
    }
   }
  },
  {
   "cell_type": "code",
   "execution_count": null,
   "outputs": [],
   "source": [],
   "metadata": {
    "collapsed": false,
    "ExecuteTime": {
     "start_time": "2023-05-08T20:53:04.669116Z",
     "end_time": "2023-05-08T20:53:04.676058Z"
    }
   }
  }
 ],
 "metadata": {
  "kernelspec": {
   "display_name": "Python 3",
   "language": "python",
   "name": "python3"
  },
  "language_info": {
   "codemirror_mode": {
    "name": "ipython",
    "version": 2
   },
   "file_extension": ".py",
   "mimetype": "text/x-python",
   "name": "python",
   "nbconvert_exporter": "python",
   "pygments_lexer": "ipython2",
   "version": "2.7.6"
  }
 },
 "nbformat": 4,
 "nbformat_minor": 0
}
