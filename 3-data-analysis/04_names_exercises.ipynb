{
 "cells": [
  {
   "cell_type": "markdown",
   "source": [
    "# Exercise\n",
    "\n",
    "The folder '3-data-analysis/data/names' contains files with the names registered in the US from  1880 to 2021. Use Pandas to:"
   ],
   "metadata": {
    "collapsed": false
   }
  },
  {
   "cell_type": "markdown",
   "source": [
    "Join the data in the files in a single dataframe (e.g., a name by row)"
   ],
   "metadata": {
    "collapsed": false
   }
  },
  {
   "cell_type": "code",
   "execution_count": null,
   "outputs": [],
   "source": [
    "import pandas as pd\n",
    "\n",
    "df_names = pd.DataFrame(columns=['name', 'gender']).set_index(['name', 'gender'])\n",
    "\n",
    "for year in range(1880, 2022):\n",
    "    df_temp = pd.read_csv(f'./data/names/yob{year}.txt', header=None, names=['name', 'gender', year]).set_index(['name', 'gender'])\n",
    "    df_names = pd.merge(df_names, df_temp, left_index=True, right_index=True, how='outer')\n",
    "\n",
    "df_names.fillna(0, inplace=True)\n",
    "df_names"
   ],
   "metadata": {
    "collapsed": false
   }
  },
  {
   "cell_type": "markdown",
   "source": [
    "Find the name most registered since 1880"
   ],
   "metadata": {
    "collapsed": false
   }
  },
  {
   "cell_type": "code",
   "execution_count": null,
   "outputs": [],
   "source": [
    "name = df_names.sum(axis=1).idxmax()\n",
    "number_of_registrations = df_names.sum(axis=1).max()\n",
    "\n",
    "print(f'The name {name} was registered {number_of_registrations} times since 1880')"
   ],
   "metadata": {
    "collapsed": false
   }
  },
  {
   "cell_type": "markdown",
   "source": [
    "The name less registered since 1880"
   ],
   "metadata": {
    "collapsed": false
   }
  },
  {
   "cell_type": "code",
   "execution_count": null,
   "outputs": [],
   "source": [
    "name = df_names.sum(axis=1).idxmin()\n",
    "number_of_registrations = df_names.sum(axis=1).min()\n",
    "\n",
    "print(f'The name {name} was registered {number_of_registrations} times since 1880')"
   ],
   "metadata": {
    "collapsed": false
   }
  },
  {
   "cell_type": "markdown",
   "source": [
    "Find the name most registered by year"
   ],
   "metadata": {
    "collapsed": false
   }
  },
  {
   "cell_type": "code",
   "execution_count": null,
   "outputs": [],
   "source": [
    "df_names.idxmax(axis=0)"
   ],
   "metadata": {
    "collapsed": false
   }
  },
  {
   "cell_type": "markdown",
   "source": [
    "Find the name most registered in the year 2000"
   ],
   "metadata": {
    "collapsed": false
   }
  },
  {
   "cell_type": "code",
   "execution_count": null,
   "outputs": [],
   "source": [
    "name_most_registerd = df_names[2000].idxmax(axis=0)\n",
    "number_of_registrations = df_names.loc[name_most_registerd, 2000]\n",
    "\n",
    "print(f'The name {name_most_registerd} was registered {number_of_registrations} times in the year 2000')"
   ],
   "metadata": {
    "collapsed": false
   }
  },
  {
   "cell_type": "markdown",
   "source": [
    "Find the name less registered in the year 2000"
   ],
   "metadata": {
    "collapsed": false
   }
  },
  {
   "cell_type": "code",
   "execution_count": null,
   "outputs": [],
   "source": [
    "# idxmin Return index of first occurrence of minimum over requested axis.\n",
    "df_names.idxmin(axis=0)[2000]"
   ],
   "metadata": {
    "collapsed": false
   }
  },
  {
   "cell_type": "markdown",
   "source": [
    "Find the name most registered since 1880 by gender"
   ],
   "metadata": {
    "collapsed": false
   }
  },
  {
   "cell_type": "code",
   "execution_count": null,
   "outputs": [],
   "source": [
    "df_names.sum(axis=1).groupby('gender').idxmax()"
   ],
   "metadata": {
    "collapsed": false
   }
  },
  {
   "cell_type": "markdown",
   "source": [
    "Plot the evolution of the registration of the name `Mary'"
   ],
   "metadata": {
    "collapsed": false
   }
  },
  {
   "cell_type": "code",
   "execution_count": null,
   "outputs": [],
   "source": [
    "df_names.loc[('Mary', 'F')].plot()"
   ],
   "metadata": {
    "collapsed": false
   }
  },
  {
   "cell_type": "markdown",
   "source": [
    "Plot the evolution of the registration of the 10 most registered names"
   ],
   "metadata": {
    "collapsed": false
   }
  },
  {
   "cell_type": "code",
   "execution_count": null,
   "outputs": [],
   "source": [
    "idx_top_10 = df_names.sum(axis=1).sort_values(ascending=False).head(10).index\n",
    "\n",
    "df_names.loc[idx_top_10].T.plot(figsize=(15, 5))"
   ],
   "metadata": {
    "collapsed": false
   }
  },
  {
   "cell_type": "code",
   "execution_count": null,
   "outputs": [],
   "source": [
    "#if you want to plot the cumulative sum of the top 10 names\n",
    "df_names.loc[idx_top_10].cumsum(axis=1).T.plot(figsize=(15, 5))"
   ],
   "metadata": {
    "collapsed": false
   }
  },
  {
   "cell_type": "markdown",
   "source": [
    "# Exercise\n",
    "\n",
    "The folder '4-data-analysis/data/namesbystate' contains files with \"State-specific data on the relative frequency of given names in the population of U.S. births where the individual has a Social Security Number\""
   ],
   "metadata": {
    "collapsed": false
   }
  },
  {
   "cell_type": "markdown",
   "source": [
    "Load the data into a single dataframe: what is the best structure?"
   ],
   "metadata": {
    "collapsed": false
   }
  },
  {
   "cell_type": "code",
   "execution_count": null,
   "outputs": [],
   "source": [
    "import glob\n",
    "\n",
    "def process_state_file(filename):\n",
    "    df_temp = pd.read_csv(filename, header=None, names=['state', 'gender', 'year', 'name', 'count']) \\\n",
    "        .set_index(['state', 'name', 'gender'])\n",
    "\n",
    "    df_state = pd.DataFrame(columns=['state', 'name','gender'])\\\n",
    "        .set_index(['state', 'name','gender'])\n",
    "\n",
    "    for year in df_temp.year.unique():\n",
    "        mask = df_temp.year == year\n",
    "        df_state = pd.merge(\n",
    "            df_state,\n",
    "            df_temp.loc[mask, 'count'].rename(year),\n",
    "            left_index=True, right_index=True,\n",
    "            how='outer')\n",
    "    return df_state\n",
    "\n",
    "\n",
    "df_names = pd.DataFrame(columns=['name', 'gender', 'state']).set_index(['state', 'name', 'gender'])\n",
    "\n",
    "for file in glob.glob('./data/namesbystate/*.TXT'):\n",
    "    print(file)\n",
    "    df_state = process_state_file(file)\n",
    "    df_names = pd.concat([df_names, df_state])\n",
    "\n",
    "df_names.fillna(0, inplace=True)\n",
    "df_names"
   ],
   "metadata": {
    "collapsed": false
   }
  },
  {
   "cell_type": "markdown",
   "source": [
    "Get the registration of females for NY"
   ],
   "metadata": {
    "collapsed": false
   }
  },
  {
   "cell_type": "code",
   "execution_count": null,
   "outputs": [],
   "source": [
    "df_names.reset_index(inplace=True)"
   ],
   "metadata": {
    "collapsed": false
   }
  },
  {
   "cell_type": "code",
   "execution_count": null,
   "outputs": [],
   "source": [
    "mask = (df_names.state == 'NY') & (df_names.gender == 'F')\n",
    "df_names[mask]"
   ],
   "metadata": {
    "collapsed": false
   }
  },
  {
   "cell_type": "markdown",
   "source": [
    "    How many females where registered in NY since the begining of the records?"
   ],
   "metadata": {
    "collapsed": false
   }
  },
  {
   "cell_type": "code",
   "execution_count": null,
   "outputs": [],
   "source": [
    "df_names[mask].select_dtypes('number').sum(axis=1).sum()"
   ],
   "metadata": {
    "collapsed": false
   }
  },
  {
   "cell_type": "markdown",
   "source": [
    "Get the registration of females named Olivia for NY"
   ],
   "metadata": {
    "collapsed": false
   }
  },
  {
   "cell_type": "code",
   "execution_count": null,
   "outputs": [],
   "source": [
    "mask = (df_names.state == 'NY') & (df_names.gender == 'F') & (df_names.name == 'Olivia')\n",
    "df_names[mask]"
   ],
   "metadata": {
    "collapsed": false
   }
  },
  {
   "cell_type": "markdown",
   "source": [
    "What was the minimum, maximum, average and 10th percentile of registrations of the name Olivia in NY?"
   ],
   "metadata": {
    "collapsed": false
   }
  },
  {
   "cell_type": "code",
   "execution_count": null,
   "outputs": [],
   "source": [
    "df_olivia = df_names[mask]\n",
    "min_registration = df_olivia.select_dtypes('number').min(axis=1).values[0]\n",
    "max_registration = df_olivia.select_dtypes('number').max(axis=1).values[0]\n",
    "avg_registration = df_olivia.select_dtypes('number').mean(axis=1).values[0]\n",
    "p10_registration = df_olivia.select_dtypes('number').quantile(0.1, axis=1).values[0]\n",
    "\n",
    "print(f'Min: {min_registration}, Max: {max_registration}, Avg: {avg_registration}, P10: {p10_registration}')"
   ],
   "metadata": {
    "collapsed": false
   }
  },
  {
   "cell_type": "markdown",
   "source": [
    "Find how many times \"Olivia\" was registered in NY in 2000"
   ],
   "metadata": {
    "collapsed": false
   }
  },
  {
   "cell_type": "code",
   "execution_count": null,
   "outputs": [],
   "source": [
    "mask = (df_names.state == 'NY') & (df_names.gender == 'F') & (df_names.name == 'Olivia')\n",
    "df_names[mask][2000]"
   ],
   "metadata": {
    "collapsed": false
   }
  },
  {
   "cell_type": "markdown",
   "source": [
    "Find the year and state where Olivia was most times registered in a single year."
   ],
   "metadata": {
    "collapsed": false
   }
  },
  {
   "cell_type": "code",
   "execution_count": null,
   "outputs": [],
   "source": [
    "mask = (df_names.gender == 'F') & (df_names.name == 'Olivia')\n",
    "df_olivia = df_names[mask].set_index(['state', 'name', 'gender'])\n",
    "df_olivia"
   ],
   "metadata": {
    "collapsed": false
   }
  },
  {
   "cell_type": "code",
   "execution_count": null,
   "outputs": [],
   "source": [
    "max_registration = df_olivia.max().max()\n",
    "max_registration"
   ],
   "metadata": {
    "collapsed": false
   }
  },
  {
   "cell_type": "code",
   "execution_count": null,
   "outputs": [],
   "source": [
    "df_olivia[df_olivia == max_registration].stack()"
   ],
   "metadata": {
    "collapsed": false
   }
  },
  {
   "cell_type": "markdown",
   "source": [
    "Find the year where Olivia was most times registred (all states)"
   ],
   "metadata": {
    "collapsed": false
   }
  },
  {
   "cell_type": "code",
   "execution_count": null,
   "outputs": [],
   "source": [],
   "metadata": {
    "collapsed": false
   }
  },
  {
   "cell_type": "markdown",
   "source": [
    "Find the states where the name Mary and John were most times registered"
   ],
   "metadata": {
    "collapsed": false
   }
  },
  {
   "cell_type": "code",
   "execution_count": null,
   "outputs": [],
   "source": [
    "mask = df_names.name.isin(['Mary', 'John'])\n",
    "df_john_mary = df_names[mask].copy()\n",
    "df_john_mary"
   ],
   "metadata": {
    "collapsed": false
   }
  },
  {
   "cell_type": "code",
   "execution_count": null,
   "outputs": [],
   "source": [
    "df_john_mary['total'] = df_john_mary.select_dtypes('number').sum(axis=1)"
   ],
   "metadata": {
    "collapsed": false
   }
  },
  {
   "cell_type": "code",
   "execution_count": null,
   "outputs": [],
   "source": [
    "df_john_mary[['state', 'name', 'gender', 'total']].groupby(['name', 'gender']).max()"
   ],
   "metadata": {
    "collapsed": false
   }
  },
  {
   "cell_type": "markdown",
   "source": [
    "Plot the evolution of the names Mary and John through the years"
   ],
   "metadata": {
    "collapsed": false
   }
  },
  {
   "cell_type": "code",
   "execution_count": null,
   "outputs": [],
   "source": [
    "df_john_mary.drop('total', inplace=True, axis=1)"
   ],
   "metadata": {
    "collapsed": false
   }
  },
  {
   "cell_type": "code",
   "execution_count": null,
   "outputs": [],
   "source": [
    "df_john_mary.groupby(['name', 'gender']).sum().T.plot(figsize=(15, 5))"
   ],
   "metadata": {
    "collapsed": false
   }
  },
  {
   "cell_type": "markdown",
   "source": [
    "Find the name most registered in a state for a single year"
   ],
   "metadata": {
    "collapsed": false
   }
  },
  {
   "cell_type": "code",
   "execution_count": null,
   "outputs": [],
   "source": [
    "max_registration = df_names.select_dtypes('number').max().max()\n",
    "max_registration"
   ],
   "metadata": {
    "collapsed": false
   }
  },
  {
   "cell_type": "code",
   "execution_count": null,
   "outputs": [],
   "source": [
    "res = df_names[df_names == max_registration].stack().reset_index().values\n",
    "res"
   ],
   "metadata": {
    "collapsed": false
   }
  },
  {
   "cell_type": "code",
   "execution_count": null,
   "outputs": [],
   "source": [
    "idx, year, value = res[0]"
   ],
   "metadata": {
    "collapsed": false
   }
  },
  {
   "cell_type": "code",
   "execution_count": null,
   "outputs": [],
   "source": [
    "df_names.loc[idx, ['state', 'name', year]]"
   ],
   "metadata": {
    "collapsed": false
   }
  },
  {
   "cell_type": "markdown",
   "source": [
    "Plot the evolution of the top 5 (comulattive, i.e., all times) female names"
   ],
   "metadata": {
    "collapsed": false
   }
  },
  {
   "cell_type": "code",
   "execution_count": null,
   "outputs": [],
   "source": [
    "mask = df_names.gender == 'F'\n",
    "top5_names = df_names[mask].groupby('name').sum().sum(axis=1).sort_values(ascending=False).head(5)\n",
    "top5_names"
   ],
   "metadata": {
    "collapsed": false
   }
  },
  {
   "cell_type": "code",
   "execution_count": null,
   "outputs": [],
   "source": [
    "female_mask = (df_names.name.isin(top5_names.index)) & (df_names.gender == 'F')\n",
    "df_names[female_mask].groupby('name').sum().cumsum(axis=1).T.plot(figsize=(15, 5))"
   ],
   "metadata": {
    "collapsed": false
   }
  }
 ],
 "metadata": {
  "kernelspec": {
   "display_name": "Python 3",
   "language": "python",
   "name": "python3"
  },
  "language_info": {
   "codemirror_mode": {
    "name": "ipython",
    "version": 2
   },
   "file_extension": ".py",
   "mimetype": "text/x-python",
   "name": "python",
   "nbconvert_exporter": "python",
   "pygments_lexer": "ipython2",
   "version": "2.7.6"
  }
 },
 "nbformat": 4,
 "nbformat_minor": 0
}
