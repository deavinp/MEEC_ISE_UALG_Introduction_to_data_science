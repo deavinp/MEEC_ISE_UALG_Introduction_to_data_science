{
 "cells": [
  {
   "cell_type": "markdown",
   "metadata": {},
   "source": [
    "# Exploratory Data Analysis with Pandas (part 1)\n",
    "Now that we have the fundamental knowledge about Python and in particular Pandas we can start to do some exploratory data analysis (EDA). EDA is the first step in the data science process and it is very important to understand the data that we are working with. EDA is used by data scientists to understand the data, to identify patterns, to spot anomalies, to test hypothesis and to check assumptions with the help of summary statistics and graphical representations.\n",
    "\n",
    "\n",
    "In this notebook, we will see how to load data, and do an initial exploration of the data over the titanic dataset.  In 1912, during its maiden voyage, the widely considered \"unsinkable\" RMS Titanic sank after colliding with an iceberg. Unfortunately, there weren’t enough lifeboats for everyone onboard, resulting in the death of 1502 out of 2224 passengers and crew.\n",
    "With this analysis, we will be able to answer some questions like:\n",
    "- What is the distribution of the passengers by age?\n",
    "- Who were the passengers in the Titanic?\n",
    "- What deck were the passengers on and how does that relate to their class?\n",
    "- Where did the passengers come from?\n",
    "- Who was alone and who was with family?\n",
    "- What factors helped someone survive the sinking?\n",
    "- Did the deck have an effect on the passengers survival rate?\n",
    "- Did having a family member increase the odds of surviving the crash?\n",
    "- etc. "
   ]
  },
  {
   "cell_type": "markdown",
   "metadata": {},
   "source": [
    "## Load the data \n",
    "Let's start with the Titanic data set. This is a very famous data set that is used to demonstrate data analysis and machine learning. It is a very small data set, but it is a good place to start. The data set is available, e.g., on Kaggle (https://www.kaggle.com/datasets/vinicius150987/titanic3)"
   ]
  },
  {
   "cell_type": "code",
   "execution_count": 1,
   "metadata": {
    "ExecuteTime": {
     "end_time": "2023-05-13T10:25:24.397690Z",
     "start_time": "2023-05-13T10:25:22.274322Z"
    }
   },
   "outputs": [
    {
     "data": {
      "text/html": [
       "<div class=\"bk-root\">\n",
       "        <a href=\"https://bokeh.org\" target=\"_blank\" class=\"bk-logo bk-logo-small bk-logo-notebook\"></a>\n",
       "        <span id=\"1002\">Loading BokehJS ...</span>\n",
       "    </div>\n"
      ]
     },
     "metadata": {},
     "output_type": "display_data"
    },
    {
     "data": {
      "application/javascript": [
       "(function(root) {\n",
       "  function now() {\n",
       "    return new Date();\n",
       "  }\n",
       "\n",
       "  const force = true;\n",
       "\n",
       "  if (typeof root._bokeh_onload_callbacks === \"undefined\" || force === true) {\n",
       "    root._bokeh_onload_callbacks = [];\n",
       "    root._bokeh_is_loading = undefined;\n",
       "  }\n",
       "\n",
       "const JS_MIME_TYPE = 'application/javascript';\n",
       "  const HTML_MIME_TYPE = 'text/html';\n",
       "  const EXEC_MIME_TYPE = 'application/vnd.bokehjs_exec.v0+json';\n",
       "  const CLASS_NAME = 'output_bokeh rendered_html';\n",
       "\n",
       "  /**\n",
       "   * Render data to the DOM node\n",
       "   */\n",
       "  function render(props, node) {\n",
       "    const script = document.createElement(\"script\");\n",
       "    node.appendChild(script);\n",
       "  }\n",
       "\n",
       "  /**\n",
       "   * Handle when an output is cleared or removed\n",
       "   */\n",
       "  function handleClearOutput(event, handle) {\n",
       "    const cell = handle.cell;\n",
       "\n",
       "    const id = cell.output_area._bokeh_element_id;\n",
       "    const server_id = cell.output_area._bokeh_server_id;\n",
       "    // Clean up Bokeh references\n",
       "    if (id != null && id in Bokeh.index) {\n",
       "      Bokeh.index[id].model.document.clear();\n",
       "      delete Bokeh.index[id];\n",
       "    }\n",
       "\n",
       "    if (server_id !== undefined) {\n",
       "      // Clean up Bokeh references\n",
       "      const cmd_clean = \"from bokeh.io.state import curstate; print(curstate().uuid_to_server['\" + server_id + \"'].get_sessions()[0].document.roots[0]._id)\";\n",
       "      cell.notebook.kernel.execute(cmd_clean, {\n",
       "        iopub: {\n",
       "          output: function(msg) {\n",
       "            const id = msg.content.text.trim();\n",
       "            if (id in Bokeh.index) {\n",
       "              Bokeh.index[id].model.document.clear();\n",
       "              delete Bokeh.index[id];\n",
       "            }\n",
       "          }\n",
       "        }\n",
       "      });\n",
       "      // Destroy server and session\n",
       "      const cmd_destroy = \"import bokeh.io.notebook as ion; ion.destroy_server('\" + server_id + \"')\";\n",
       "      cell.notebook.kernel.execute(cmd_destroy);\n",
       "    }\n",
       "  }\n",
       "\n",
       "  /**\n",
       "   * Handle when a new output is added\n",
       "   */\n",
       "  function handleAddOutput(event, handle) {\n",
       "    const output_area = handle.output_area;\n",
       "    const output = handle.output;\n",
       "\n",
       "    // limit handleAddOutput to display_data with EXEC_MIME_TYPE content only\n",
       "    if ((output.output_type != \"display_data\") || (!Object.prototype.hasOwnProperty.call(output.data, EXEC_MIME_TYPE))) {\n",
       "      return\n",
       "    }\n",
       "\n",
       "    const toinsert = output_area.element.find(\".\" + CLASS_NAME.split(' ')[0]);\n",
       "\n",
       "    if (output.metadata[EXEC_MIME_TYPE][\"id\"] !== undefined) {\n",
       "      toinsert[toinsert.length - 1].firstChild.textContent = output.data[JS_MIME_TYPE];\n",
       "      // store reference to embed id on output_area\n",
       "      output_area._bokeh_element_id = output.metadata[EXEC_MIME_TYPE][\"id\"];\n",
       "    }\n",
       "    if (output.metadata[EXEC_MIME_TYPE][\"server_id\"] !== undefined) {\n",
       "      const bk_div = document.createElement(\"div\");\n",
       "      bk_div.innerHTML = output.data[HTML_MIME_TYPE];\n",
       "      const script_attrs = bk_div.children[0].attributes;\n",
       "      for (let i = 0; i < script_attrs.length; i++) {\n",
       "        toinsert[toinsert.length - 1].firstChild.setAttribute(script_attrs[i].name, script_attrs[i].value);\n",
       "        toinsert[toinsert.length - 1].firstChild.textContent = bk_div.children[0].textContent\n",
       "      }\n",
       "      // store reference to server id on output_area\n",
       "      output_area._bokeh_server_id = output.metadata[EXEC_MIME_TYPE][\"server_id\"];\n",
       "    }\n",
       "  }\n",
       "\n",
       "  function register_renderer(events, OutputArea) {\n",
       "\n",
       "    function append_mime(data, metadata, element) {\n",
       "      // create a DOM node to render to\n",
       "      const toinsert = this.create_output_subarea(\n",
       "        metadata,\n",
       "        CLASS_NAME,\n",
       "        EXEC_MIME_TYPE\n",
       "      );\n",
       "      this.keyboard_manager.register_events(toinsert);\n",
       "      // Render to node\n",
       "      const props = {data: data, metadata: metadata[EXEC_MIME_TYPE]};\n",
       "      render(props, toinsert[toinsert.length - 1]);\n",
       "      element.append(toinsert);\n",
       "      return toinsert\n",
       "    }\n",
       "\n",
       "    /* Handle when an output is cleared or removed */\n",
       "    events.on('clear_output.CodeCell', handleClearOutput);\n",
       "    events.on('delete.Cell', handleClearOutput);\n",
       "\n",
       "    /* Handle when a new output is added */\n",
       "    events.on('output_added.OutputArea', handleAddOutput);\n",
       "\n",
       "    /**\n",
       "     * Register the mime type and append_mime function with output_area\n",
       "     */\n",
       "    OutputArea.prototype.register_mime_type(EXEC_MIME_TYPE, append_mime, {\n",
       "      /* Is output safe? */\n",
       "      safe: true,\n",
       "      /* Index of renderer in `output_area.display_order` */\n",
       "      index: 0\n",
       "    });\n",
       "  }\n",
       "\n",
       "  // register the mime type if in Jupyter Notebook environment and previously unregistered\n",
       "  if (root.Jupyter !== undefined) {\n",
       "    const events = require('base/js/events');\n",
       "    const OutputArea = require('notebook/js/outputarea').OutputArea;\n",
       "\n",
       "    if (OutputArea.prototype.mime_types().indexOf(EXEC_MIME_TYPE) == -1) {\n",
       "      register_renderer(events, OutputArea);\n",
       "    }\n",
       "  }\n",
       "  if (typeof (root._bokeh_timeout) === \"undefined\" || force === true) {\n",
       "    root._bokeh_timeout = Date.now() + 5000;\n",
       "    root._bokeh_failed_load = false;\n",
       "  }\n",
       "\n",
       "  const NB_LOAD_WARNING = {'data': {'text/html':\n",
       "     \"<div style='background-color: #fdd'>\\n\"+\n",
       "     \"<p>\\n\"+\n",
       "     \"BokehJS does not appear to have successfully loaded. If loading BokehJS from CDN, this \\n\"+\n",
       "     \"may be due to a slow or bad network connection. Possible fixes:\\n\"+\n",
       "     \"</p>\\n\"+\n",
       "     \"<ul>\\n\"+\n",
       "     \"<li>re-rerun `output_notebook()` to attempt to load from CDN again, or</li>\\n\"+\n",
       "     \"<li>use INLINE resources instead, as so:</li>\\n\"+\n",
       "     \"</ul>\\n\"+\n",
       "     \"<code>\\n\"+\n",
       "     \"from bokeh.resources import INLINE\\n\"+\n",
       "     \"output_notebook(resources=INLINE)\\n\"+\n",
       "     \"</code>\\n\"+\n",
       "     \"</div>\"}};\n",
       "\n",
       "  function display_loaded() {\n",
       "    const el = document.getElementById(\"1002\");\n",
       "    if (el != null) {\n",
       "      el.textContent = \"BokehJS is loading...\";\n",
       "    }\n",
       "    if (root.Bokeh !== undefined) {\n",
       "      if (el != null) {\n",
       "        el.textContent = \"BokehJS \" + root.Bokeh.version + \" successfully loaded.\";\n",
       "      }\n",
       "    } else if (Date.now() < root._bokeh_timeout) {\n",
       "      setTimeout(display_loaded, 100)\n",
       "    }\n",
       "  }\n",
       "\n",
       "  function run_callbacks() {\n",
       "    try {\n",
       "      root._bokeh_onload_callbacks.forEach(function(callback) {\n",
       "        if (callback != null)\n",
       "          callback();\n",
       "      });\n",
       "    } finally {\n",
       "      delete root._bokeh_onload_callbacks\n",
       "    }\n",
       "    console.debug(\"Bokeh: all callbacks have finished\");\n",
       "  }\n",
       "\n",
       "  function load_libs(css_urls, js_urls, callback) {\n",
       "    if (css_urls == null) css_urls = [];\n",
       "    if (js_urls == null) js_urls = [];\n",
       "\n",
       "    root._bokeh_onload_callbacks.push(callback);\n",
       "    if (root._bokeh_is_loading > 0) {\n",
       "      console.debug(\"Bokeh: BokehJS is being loaded, scheduling callback at\", now());\n",
       "      return null;\n",
       "    }\n",
       "    if (js_urls == null || js_urls.length === 0) {\n",
       "      run_callbacks();\n",
       "      return null;\n",
       "    }\n",
       "    console.debug(\"Bokeh: BokehJS not loaded, scheduling load and callback at\", now());\n",
       "    root._bokeh_is_loading = css_urls.length + js_urls.length;\n",
       "\n",
       "    function on_load() {\n",
       "      root._bokeh_is_loading--;\n",
       "      if (root._bokeh_is_loading === 0) {\n",
       "        console.debug(\"Bokeh: all BokehJS libraries/stylesheets loaded\");\n",
       "        run_callbacks()\n",
       "      }\n",
       "    }\n",
       "\n",
       "    function on_error(url) {\n",
       "      console.error(\"failed to load \" + url);\n",
       "    }\n",
       "\n",
       "    for (let i = 0; i < css_urls.length; i++) {\n",
       "      const url = css_urls[i];\n",
       "      const element = document.createElement(\"link\");\n",
       "      element.onload = on_load;\n",
       "      element.onerror = on_error.bind(null, url);\n",
       "      element.rel = \"stylesheet\";\n",
       "      element.type = \"text/css\";\n",
       "      element.href = url;\n",
       "      console.debug(\"Bokeh: injecting link tag for BokehJS stylesheet: \", url);\n",
       "      document.body.appendChild(element);\n",
       "    }\n",
       "\n",
       "    for (let i = 0; i < js_urls.length; i++) {\n",
       "      const url = js_urls[i];\n",
       "      const element = document.createElement('script');\n",
       "      element.onload = on_load;\n",
       "      element.onerror = on_error.bind(null, url);\n",
       "      element.async = false;\n",
       "      element.src = url;\n",
       "      console.debug(\"Bokeh: injecting script tag for BokehJS library: \", url);\n",
       "      document.head.appendChild(element);\n",
       "    }\n",
       "  };\n",
       "\n",
       "  function inject_raw_css(css) {\n",
       "    const element = document.createElement(\"style\");\n",
       "    element.appendChild(document.createTextNode(css));\n",
       "    document.body.appendChild(element);\n",
       "  }\n",
       "\n",
       "  const js_urls = [\"https://cdn.bokeh.org/bokeh/release/bokeh-2.4.3.min.js\", \"https://cdn.bokeh.org/bokeh/release/bokeh-gl-2.4.3.min.js\", \"https://cdn.bokeh.org/bokeh/release/bokeh-widgets-2.4.3.min.js\", \"https://cdn.bokeh.org/bokeh/release/bokeh-tables-2.4.3.min.js\", \"https://cdn.bokeh.org/bokeh/release/bokeh-mathjax-2.4.3.min.js\"];\n",
       "  const css_urls = [];\n",
       "\n",
       "  const inline_js = [    function(Bokeh) {\n",
       "      Bokeh.set_log_level(\"info\");\n",
       "    },\n",
       "function(Bokeh) {\n",
       "    }\n",
       "  ];\n",
       "\n",
       "  function run_inline_js() {\n",
       "    if (root.Bokeh !== undefined || force === true) {\n",
       "          for (let i = 0; i < inline_js.length; i++) {\n",
       "      inline_js[i].call(root, root.Bokeh);\n",
       "    }\n",
       "if (force === true) {\n",
       "        display_loaded();\n",
       "      }} else if (Date.now() < root._bokeh_timeout) {\n",
       "      setTimeout(run_inline_js, 100);\n",
       "    } else if (!root._bokeh_failed_load) {\n",
       "      console.log(\"Bokeh: BokehJS failed to load within specified timeout.\");\n",
       "      root._bokeh_failed_load = true;\n",
       "    } else if (force !== true) {\n",
       "      const cell = $(document.getElementById(\"1002\")).parents('.cell').data().cell;\n",
       "      cell.output_area.append_execute_result(NB_LOAD_WARNING)\n",
       "    }\n",
       "  }\n",
       "\n",
       "  if (root._bokeh_is_loading === 0) {\n",
       "    console.debug(\"Bokeh: BokehJS loaded, going straight to plotting\");\n",
       "    run_inline_js();\n",
       "  } else {\n",
       "    load_libs(css_urls, js_urls, function() {\n",
       "      console.debug(\"Bokeh: BokehJS plotting callback run at\", now());\n",
       "      run_inline_js();\n",
       "    });\n",
       "  }\n",
       "}(window));"
      ],
      "application/vnd.bokehjs_load.v0+json": "(function(root) {\n  function now() {\n    return new Date();\n  }\n\n  const force = true;\n\n  if (typeof root._bokeh_onload_callbacks === \"undefined\" || force === true) {\n    root._bokeh_onload_callbacks = [];\n    root._bokeh_is_loading = undefined;\n  }\n\n\n  if (typeof (root._bokeh_timeout) === \"undefined\" || force === true) {\n    root._bokeh_timeout = Date.now() + 5000;\n    root._bokeh_failed_load = false;\n  }\n\n  const NB_LOAD_WARNING = {'data': {'text/html':\n     \"<div style='background-color: #fdd'>\\n\"+\n     \"<p>\\n\"+\n     \"BokehJS does not appear to have successfully loaded. If loading BokehJS from CDN, this \\n\"+\n     \"may be due to a slow or bad network connection. Possible fixes:\\n\"+\n     \"</p>\\n\"+\n     \"<ul>\\n\"+\n     \"<li>re-rerun `output_notebook()` to attempt to load from CDN again, or</li>\\n\"+\n     \"<li>use INLINE resources instead, as so:</li>\\n\"+\n     \"</ul>\\n\"+\n     \"<code>\\n\"+\n     \"from bokeh.resources import INLINE\\n\"+\n     \"output_notebook(resources=INLINE)\\n\"+\n     \"</code>\\n\"+\n     \"</div>\"}};\n\n  function display_loaded() {\n    const el = document.getElementById(\"1002\");\n    if (el != null) {\n      el.textContent = \"BokehJS is loading...\";\n    }\n    if (root.Bokeh !== undefined) {\n      if (el != null) {\n        el.textContent = \"BokehJS \" + root.Bokeh.version + \" successfully loaded.\";\n      }\n    } else if (Date.now() < root._bokeh_timeout) {\n      setTimeout(display_loaded, 100)\n    }\n  }\n\n  function run_callbacks() {\n    try {\n      root._bokeh_onload_callbacks.forEach(function(callback) {\n        if (callback != null)\n          callback();\n      });\n    } finally {\n      delete root._bokeh_onload_callbacks\n    }\n    console.debug(\"Bokeh: all callbacks have finished\");\n  }\n\n  function load_libs(css_urls, js_urls, callback) {\n    if (css_urls == null) css_urls = [];\n    if (js_urls == null) js_urls = [];\n\n    root._bokeh_onload_callbacks.push(callback);\n    if (root._bokeh_is_loading > 0) {\n      console.debug(\"Bokeh: BokehJS is being loaded, scheduling callback at\", now());\n      return null;\n    }\n    if (js_urls == null || js_urls.length === 0) {\n      run_callbacks();\n      return null;\n    }\n    console.debug(\"Bokeh: BokehJS not loaded, scheduling load and callback at\", now());\n    root._bokeh_is_loading = css_urls.length + js_urls.length;\n\n    function on_load() {\n      root._bokeh_is_loading--;\n      if (root._bokeh_is_loading === 0) {\n        console.debug(\"Bokeh: all BokehJS libraries/stylesheets loaded\");\n        run_callbacks()\n      }\n    }\n\n    function on_error(url) {\n      console.error(\"failed to load \" + url);\n    }\n\n    for (let i = 0; i < css_urls.length; i++) {\n      const url = css_urls[i];\n      const element = document.createElement(\"link\");\n      element.onload = on_load;\n      element.onerror = on_error.bind(null, url);\n      element.rel = \"stylesheet\";\n      element.type = \"text/css\";\n      element.href = url;\n      console.debug(\"Bokeh: injecting link tag for BokehJS stylesheet: \", url);\n      document.body.appendChild(element);\n    }\n\n    for (let i = 0; i < js_urls.length; i++) {\n      const url = js_urls[i];\n      const element = document.createElement('script');\n      element.onload = on_load;\n      element.onerror = on_error.bind(null, url);\n      element.async = false;\n      element.src = url;\n      console.debug(\"Bokeh: injecting script tag for BokehJS library: \", url);\n      document.head.appendChild(element);\n    }\n  };\n\n  function inject_raw_css(css) {\n    const element = document.createElement(\"style\");\n    element.appendChild(document.createTextNode(css));\n    document.body.appendChild(element);\n  }\n\n  const js_urls = [\"https://cdn.bokeh.org/bokeh/release/bokeh-2.4.3.min.js\", \"https://cdn.bokeh.org/bokeh/release/bokeh-gl-2.4.3.min.js\", \"https://cdn.bokeh.org/bokeh/release/bokeh-widgets-2.4.3.min.js\", \"https://cdn.bokeh.org/bokeh/release/bokeh-tables-2.4.3.min.js\", \"https://cdn.bokeh.org/bokeh/release/bokeh-mathjax-2.4.3.min.js\"];\n  const css_urls = [];\n\n  const inline_js = [    function(Bokeh) {\n      Bokeh.set_log_level(\"info\");\n    },\nfunction(Bokeh) {\n    }\n  ];\n\n  function run_inline_js() {\n    if (root.Bokeh !== undefined || force === true) {\n          for (let i = 0; i < inline_js.length; i++) {\n      inline_js[i].call(root, root.Bokeh);\n    }\nif (force === true) {\n        display_loaded();\n      }} else if (Date.now() < root._bokeh_timeout) {\n      setTimeout(run_inline_js, 100);\n    } else if (!root._bokeh_failed_load) {\n      console.log(\"Bokeh: BokehJS failed to load within specified timeout.\");\n      root._bokeh_failed_load = true;\n    } else if (force !== true) {\n      const cell = $(document.getElementById(\"1002\")).parents('.cell').data().cell;\n      cell.output_area.append_execute_result(NB_LOAD_WARNING)\n    }\n  }\n\n  if (root._bokeh_is_loading === 0) {\n    console.debug(\"Bokeh: BokehJS loaded, going straight to plotting\");\n    run_inline_js();\n  } else {\n    load_libs(css_urls, js_urls, function() {\n      console.debug(\"Bokeh: BokehJS plotting callback run at\", now());\n      run_inline_js();\n    });\n  }\n}(window));"
     },
     "metadata": {},
     "output_type": "display_data"
    }
   ],
   "source": [
    "# if necessary upgrade your versiosn of pandas and jinja2\n",
    "#!pip install --upgrade pandas\n",
    "#!pip install --upgrade jinja2\n",
    "\n",
    "# load necessary libraries\n",
    "import pandas as pd\n",
    "import numpy as np\n",
    "import matplotlib.pyplot as plt\n",
    "import seaborn as sns\n",
    "\n",
    "import pandas_bokeh\n",
    "pandas_bokeh.output_notebook()"
   ]
  },
  {
   "cell_type": "code",
   "execution_count": 2,
   "metadata": {
    "ExecuteTime": {
     "end_time": "2023-05-13T10:25:24.477199Z",
     "start_time": "2023-05-13T10:25:24.398704Z"
    }
   },
   "outputs": [
    {
     "data": {
      "text/html": [
       "<div>\n",
       "<style scoped>\n",
       "    .dataframe tbody tr th:only-of-type {\n",
       "        vertical-align: middle;\n",
       "    }\n",
       "\n",
       "    .dataframe tbody tr th {\n",
       "        vertical-align: top;\n",
       "    }\n",
       "\n",
       "    .dataframe thead th {\n",
       "        text-align: right;\n",
       "    }\n",
       "</style>\n",
       "<table border=\"1\" class=\"dataframe\">\n",
       "  <thead>\n",
       "    <tr style=\"text-align: right;\">\n",
       "      <th></th>\n",
       "      <th>pclass</th>\n",
       "      <th>survived</th>\n",
       "      <th>name</th>\n",
       "      <th>sex</th>\n",
       "      <th>age</th>\n",
       "      <th>sibsp</th>\n",
       "      <th>parch</th>\n",
       "      <th>ticket</th>\n",
       "      <th>fare</th>\n",
       "      <th>cabin</th>\n",
       "      <th>embarked</th>\n",
       "      <th>boat</th>\n",
       "      <th>body</th>\n",
       "      <th>home.dest</th>\n",
       "    </tr>\n",
       "  </thead>\n",
       "  <tbody>\n",
       "    <tr>\n",
       "      <th>0</th>\n",
       "      <td>1</td>\n",
       "      <td>1</td>\n",
       "      <td>Allen, Miss. Elisabeth Walton</td>\n",
       "      <td>female</td>\n",
       "      <td>29.0</td>\n",
       "      <td>0</td>\n",
       "      <td>0</td>\n",
       "      <td>24160</td>\n",
       "      <td>211.3375</td>\n",
       "      <td>B5</td>\n",
       "      <td>S</td>\n",
       "      <td>2</td>\n",
       "      <td>NaN</td>\n",
       "      <td>St Louis, MO</td>\n",
       "    </tr>\n",
       "    <tr>\n",
       "      <th>1</th>\n",
       "      <td>1</td>\n",
       "      <td>1</td>\n",
       "      <td>Duff Gordon, Lady. (Lucille Christiana Sutherl...</td>\n",
       "      <td>female</td>\n",
       "      <td>48.0</td>\n",
       "      <td>1</td>\n",
       "      <td>0</td>\n",
       "      <td>11755</td>\n",
       "      <td>39.6000</td>\n",
       "      <td>A16</td>\n",
       "      <td>C</td>\n",
       "      <td>1</td>\n",
       "      <td>NaN</td>\n",
       "      <td>London / Paris</td>\n",
       "    </tr>\n",
       "    <tr>\n",
       "      <th>2</th>\n",
       "      <td>1</td>\n",
       "      <td>1</td>\n",
       "      <td>Duff Gordon, Sir. Cosmo Edmund (\"Mr Morgan\")</td>\n",
       "      <td>male</td>\n",
       "      <td>49.0</td>\n",
       "      <td>1</td>\n",
       "      <td>0</td>\n",
       "      <td>PC 17485</td>\n",
       "      <td>56.9292</td>\n",
       "      <td>A20</td>\n",
       "      <td>C</td>\n",
       "      <td>1</td>\n",
       "      <td>NaN</td>\n",
       "      <td>London / Paris</td>\n",
       "    </tr>\n",
       "    <tr>\n",
       "      <th>3</th>\n",
       "      <td>1</td>\n",
       "      <td>1</td>\n",
       "      <td>Francatelli, Miss. Laura Mabel</td>\n",
       "      <td>female</td>\n",
       "      <td>30.0</td>\n",
       "      <td>0</td>\n",
       "      <td>0</td>\n",
       "      <td>PC 17485</td>\n",
       "      <td>56.9292</td>\n",
       "      <td>E36</td>\n",
       "      <td>C</td>\n",
       "      <td>1</td>\n",
       "      <td>NaN</td>\n",
       "      <td>NaN</td>\n",
       "    </tr>\n",
       "    <tr>\n",
       "      <th>4</th>\n",
       "      <td>1</td>\n",
       "      <td>1</td>\n",
       "      <td>Salomon, Mr. Abraham L</td>\n",
       "      <td>male</td>\n",
       "      <td>NaN</td>\n",
       "      <td>0</td>\n",
       "      <td>0</td>\n",
       "      <td>111163</td>\n",
       "      <td>26.0000</td>\n",
       "      <td>NaN</td>\n",
       "      <td>S</td>\n",
       "      <td>1</td>\n",
       "      <td>NaN</td>\n",
       "      <td>New York, NY</td>\n",
       "    </tr>\n",
       "    <tr>\n",
       "      <th>5</th>\n",
       "      <td>1</td>\n",
       "      <td>1</td>\n",
       "      <td>Stengel, Mr. Charles Emil Henry</td>\n",
       "      <td>male</td>\n",
       "      <td>54.0</td>\n",
       "      <td>1</td>\n",
       "      <td>0</td>\n",
       "      <td>11778</td>\n",
       "      <td>55.4417</td>\n",
       "      <td>C116</td>\n",
       "      <td>C</td>\n",
       "      <td>1</td>\n",
       "      <td>NaN</td>\n",
       "      <td>Newark, NJ</td>\n",
       "    </tr>\n",
       "    <tr>\n",
       "      <th>6</th>\n",
       "      <td>1</td>\n",
       "      <td>1</td>\n",
       "      <td>Andrews, Miss. Kornelia Theodosia</td>\n",
       "      <td>female</td>\n",
       "      <td>63.0</td>\n",
       "      <td>1</td>\n",
       "      <td>0</td>\n",
       "      <td>13502</td>\n",
       "      <td>77.9583</td>\n",
       "      <td>D7</td>\n",
       "      <td>S</td>\n",
       "      <td>10</td>\n",
       "      <td>NaN</td>\n",
       "      <td>Hudson, NY</td>\n",
       "    </tr>\n",
       "    <tr>\n",
       "      <th>7</th>\n",
       "      <td>1</td>\n",
       "      <td>1</td>\n",
       "      <td>Fortune, Miss. Alice Elizabeth</td>\n",
       "      <td>female</td>\n",
       "      <td>24.0</td>\n",
       "      <td>3</td>\n",
       "      <td>2</td>\n",
       "      <td>19950</td>\n",
       "      <td>263.0000</td>\n",
       "      <td>C23 C25 C27</td>\n",
       "      <td>S</td>\n",
       "      <td>10</td>\n",
       "      <td>NaN</td>\n",
       "      <td>Winnipeg, MB</td>\n",
       "    </tr>\n",
       "    <tr>\n",
       "      <th>8</th>\n",
       "      <td>1</td>\n",
       "      <td>1</td>\n",
       "      <td>Fortune, Miss. Ethel Flora</td>\n",
       "      <td>female</td>\n",
       "      <td>28.0</td>\n",
       "      <td>3</td>\n",
       "      <td>2</td>\n",
       "      <td>19950</td>\n",
       "      <td>263.0000</td>\n",
       "      <td>C23 C25 C27</td>\n",
       "      <td>S</td>\n",
       "      <td>10</td>\n",
       "      <td>NaN</td>\n",
       "      <td>Winnipeg, MB</td>\n",
       "    </tr>\n",
       "    <tr>\n",
       "      <th>9</th>\n",
       "      <td>1</td>\n",
       "      <td>1</td>\n",
       "      <td>Fortune, Miss. Mabel Helen</td>\n",
       "      <td>female</td>\n",
       "      <td>23.0</td>\n",
       "      <td>3</td>\n",
       "      <td>2</td>\n",
       "      <td>19950</td>\n",
       "      <td>263.0000</td>\n",
       "      <td>C23 C25 C27</td>\n",
       "      <td>S</td>\n",
       "      <td>10</td>\n",
       "      <td>NaN</td>\n",
       "      <td>Winnipeg, MB</td>\n",
       "    </tr>\n",
       "  </tbody>\n",
       "</table>\n",
       "</div>"
      ],
      "text/plain": [
       "   pclass  survived                                               name   \n",
       "0       1         1                      Allen, Miss. Elisabeth Walton  \\\n",
       "1       1         1  Duff Gordon, Lady. (Lucille Christiana Sutherl...   \n",
       "2       1         1       Duff Gordon, Sir. Cosmo Edmund (\"Mr Morgan\")   \n",
       "3       1         1                     Francatelli, Miss. Laura Mabel   \n",
       "4       1         1                             Salomon, Mr. Abraham L   \n",
       "5       1         1                    Stengel, Mr. Charles Emil Henry   \n",
       "6       1         1                  Andrews, Miss. Kornelia Theodosia   \n",
       "7       1         1                     Fortune, Miss. Alice Elizabeth   \n",
       "8       1         1                         Fortune, Miss. Ethel Flora   \n",
       "9       1         1                         Fortune, Miss. Mabel Helen   \n",
       "\n",
       "      sex   age  sibsp  parch    ticket      fare        cabin embarked boat   \n",
       "0  female  29.0      0      0     24160  211.3375           B5        S    2  \\\n",
       "1  female  48.0      1      0     11755   39.6000          A16        C    1   \n",
       "2    male  49.0      1      0  PC 17485   56.9292          A20        C    1   \n",
       "3  female  30.0      0      0  PC 17485   56.9292          E36        C    1   \n",
       "4    male   NaN      0      0    111163   26.0000          NaN        S    1   \n",
       "5    male  54.0      1      0     11778   55.4417         C116        C    1   \n",
       "6  female  63.0      1      0     13502   77.9583           D7        S   10   \n",
       "7  female  24.0      3      2     19950  263.0000  C23 C25 C27        S   10   \n",
       "8  female  28.0      3      2     19950  263.0000  C23 C25 C27        S   10   \n",
       "9  female  23.0      3      2     19950  263.0000  C23 C25 C27        S   10   \n",
       "\n",
       "   body       home.dest  \n",
       "0   NaN    St Louis, MO  \n",
       "1   NaN  London / Paris  \n",
       "2   NaN  London / Paris  \n",
       "3   NaN             NaN  \n",
       "4   NaN    New York, NY  \n",
       "5   NaN      Newark, NJ  \n",
       "6   NaN      Hudson, NY  \n",
       "7   NaN    Winnipeg, MB  \n",
       "8   NaN    Winnipeg, MB  \n",
       "9   NaN    Winnipeg, MB  "
      ]
     },
     "execution_count": 2,
     "metadata": {},
     "output_type": "execute_result"
    }
   ],
   "source": [
    "df = pd.read_excel('./data/titanic/Titanic.xls')\n",
    "df.head(10)"
   ]
  },
  {
   "cell_type": "markdown",
   "metadata": {},
   "source": [
    "Our data set has 1309 rows and 14 columns. Let's see what the columns and their data types are."
   ]
  },
  {
   "cell_type": "code",
   "execution_count": 3,
   "metadata": {
    "ExecuteTime": {
     "end_time": "2023-05-13T10:25:24.490126Z",
     "start_time": "2023-05-13T10:25:24.481642Z"
    }
   },
   "outputs": [
    {
     "name": "stdout",
     "output_type": "stream",
     "text": [
      "<class 'pandas.core.frame.DataFrame'>\n",
      "RangeIndex: 1309 entries, 0 to 1308\n",
      "Data columns (total 14 columns):\n",
      " #   Column     Non-Null Count  Dtype  \n",
      "---  ------     --------------  -----  \n",
      " 0   pclass     1309 non-null   int64  \n",
      " 1   survived   1309 non-null   int64  \n",
      " 2   name       1309 non-null   object \n",
      " 3   sex        1309 non-null   object \n",
      " 4   age        1046 non-null   float64\n",
      " 5   sibsp      1309 non-null   int64  \n",
      " 6   parch      1309 non-null   int64  \n",
      " 7   ticket     1309 non-null   object \n",
      " 8   fare       1308 non-null   float64\n",
      " 9   cabin      295 non-null    object \n",
      " 10  embarked   1307 non-null   object \n",
      " 11  boat       486 non-null    object \n",
      " 12  body       121 non-null    float64\n",
      " 13  home.dest  745 non-null    object \n",
      "dtypes: float64(3), int64(4), object(7)\n",
      "memory usage: 143.3+ KB\n"
     ]
    }
   ],
   "source": [
    "df.info()"
   ]
  },
  {
   "cell_type": "markdown",
   "metadata": {},
   "source": [
    "The columns are:\n",
    "- pclass: Passenger class (1 = 1st; 2 = 2nd; 3 = 3rd)\n",
    "- survived: Survival (0 = No; 1 = Yes)\n",
    "- name: Name\n",
    "- sex: Sex  (male = Male; female = Female)\n",
    "- age: Age  (in years)\n",
    "- sibsp: Number of siblings/spouses aboard. The dataset defines family relations in this way:\n",
    "    - Sibling = brother, sister, stepbrother, stepsister\n",
    "    - Spouse = husband, wife (mistresses and fiancés were ignored)\n",
    "- parch: Number of Parents/Children Aboard. The dataset defines family relations in this way:\n",
    "    - Parent = mother, father\n",
    "    - Child = daughter, son, stepdaughter, stepson\n",
    "    Some children travelled only with a nanny, therefore parch=0 for them.\n",
    "- ticket: Ticket Number\n",
    "- fare: Passenger Fare\n",
    "- cabin: Cabin Number\n",
    "- embarked: Port of Embarkation (C = Cherbourg; Q = Queenstown; S = Southampton)\n",
    "- boat: Lifeboat Number\n",
    "- body: Body Number (if did not survive and body was recovered)\n",
    "- home.dest: Home/Destination"
   ]
  },
  {
   "cell_type": "markdown",
   "metadata": {},
   "source": [
    "We can see that there are missing values in the age and body columns. This is also visible running the describe method. The include='all' argument allows to see the summary of the non-numerical columns (to include top - most frequent value; freq - frequency of the most frequent value; unique - number of unique values; and the other seams to be self-explanatory."
   ]
  },
  {
   "cell_type": "code",
   "execution_count": 4,
   "metadata": {
    "ExecuteTime": {
     "end_time": "2023-05-13T10:25:27.573776Z",
     "start_time": "2023-05-13T10:25:27.542943Z"
    },
    "scrolled": false
   },
   "outputs": [
    {
     "data": {
      "text/html": [
       "<div>\n",
       "<style scoped>\n",
       "    .dataframe tbody tr th:only-of-type {\n",
       "        vertical-align: middle;\n",
       "    }\n",
       "\n",
       "    .dataframe tbody tr th {\n",
       "        vertical-align: top;\n",
       "    }\n",
       "\n",
       "    .dataframe thead th {\n",
       "        text-align: right;\n",
       "    }\n",
       "</style>\n",
       "<table border=\"1\" class=\"dataframe\">\n",
       "  <thead>\n",
       "    <tr style=\"text-align: right;\">\n",
       "      <th></th>\n",
       "      <th>pclass</th>\n",
       "      <th>survived</th>\n",
       "      <th>name</th>\n",
       "      <th>sex</th>\n",
       "      <th>age</th>\n",
       "      <th>sibsp</th>\n",
       "      <th>parch</th>\n",
       "      <th>ticket</th>\n",
       "      <th>fare</th>\n",
       "      <th>cabin</th>\n",
       "      <th>embarked</th>\n",
       "      <th>boat</th>\n",
       "      <th>body</th>\n",
       "      <th>home.dest</th>\n",
       "    </tr>\n",
       "  </thead>\n",
       "  <tbody>\n",
       "    <tr>\n",
       "      <th>count</th>\n",
       "      <td>1309.000000</td>\n",
       "      <td>1309.000000</td>\n",
       "      <td>1309</td>\n",
       "      <td>1309</td>\n",
       "      <td>1046.000000</td>\n",
       "      <td>1309.000000</td>\n",
       "      <td>1309.000000</td>\n",
       "      <td>1309</td>\n",
       "      <td>1308.000000</td>\n",
       "      <td>295</td>\n",
       "      <td>1307</td>\n",
       "      <td>486</td>\n",
       "      <td>121.000000</td>\n",
       "      <td>745</td>\n",
       "    </tr>\n",
       "    <tr>\n",
       "      <th>unique</th>\n",
       "      <td>NaN</td>\n",
       "      <td>NaN</td>\n",
       "      <td>1307</td>\n",
       "      <td>2</td>\n",
       "      <td>NaN</td>\n",
       "      <td>NaN</td>\n",
       "      <td>NaN</td>\n",
       "      <td>939</td>\n",
       "      <td>NaN</td>\n",
       "      <td>186</td>\n",
       "      <td>3</td>\n",
       "      <td>28</td>\n",
       "      <td>NaN</td>\n",
       "      <td>369</td>\n",
       "    </tr>\n",
       "    <tr>\n",
       "      <th>top</th>\n",
       "      <td>NaN</td>\n",
       "      <td>NaN</td>\n",
       "      <td>Connolly, Miss. Kate</td>\n",
       "      <td>male</td>\n",
       "      <td>NaN</td>\n",
       "      <td>NaN</td>\n",
       "      <td>NaN</td>\n",
       "      <td>CA. 2343</td>\n",
       "      <td>NaN</td>\n",
       "      <td>C23 C25 C27</td>\n",
       "      <td>S</td>\n",
       "      <td>13</td>\n",
       "      <td>NaN</td>\n",
       "      <td>New York, NY</td>\n",
       "    </tr>\n",
       "    <tr>\n",
       "      <th>freq</th>\n",
       "      <td>NaN</td>\n",
       "      <td>NaN</td>\n",
       "      <td>2</td>\n",
       "      <td>843</td>\n",
       "      <td>NaN</td>\n",
       "      <td>NaN</td>\n",
       "      <td>NaN</td>\n",
       "      <td>11</td>\n",
       "      <td>NaN</td>\n",
       "      <td>6</td>\n",
       "      <td>914</td>\n",
       "      <td>39</td>\n",
       "      <td>NaN</td>\n",
       "      <td>64</td>\n",
       "    </tr>\n",
       "    <tr>\n",
       "      <th>mean</th>\n",
       "      <td>2.294882</td>\n",
       "      <td>0.381971</td>\n",
       "      <td>NaN</td>\n",
       "      <td>NaN</td>\n",
       "      <td>29.881135</td>\n",
       "      <td>0.498854</td>\n",
       "      <td>0.385027</td>\n",
       "      <td>NaN</td>\n",
       "      <td>33.295479</td>\n",
       "      <td>NaN</td>\n",
       "      <td>NaN</td>\n",
       "      <td>NaN</td>\n",
       "      <td>160.809917</td>\n",
       "      <td>NaN</td>\n",
       "    </tr>\n",
       "    <tr>\n",
       "      <th>std</th>\n",
       "      <td>0.837836</td>\n",
       "      <td>0.486055</td>\n",
       "      <td>NaN</td>\n",
       "      <td>NaN</td>\n",
       "      <td>14.413500</td>\n",
       "      <td>1.041658</td>\n",
       "      <td>0.865560</td>\n",
       "      <td>NaN</td>\n",
       "      <td>51.758668</td>\n",
       "      <td>NaN</td>\n",
       "      <td>NaN</td>\n",
       "      <td>NaN</td>\n",
       "      <td>97.696922</td>\n",
       "      <td>NaN</td>\n",
       "    </tr>\n",
       "    <tr>\n",
       "      <th>min</th>\n",
       "      <td>1.000000</td>\n",
       "      <td>0.000000</td>\n",
       "      <td>NaN</td>\n",
       "      <td>NaN</td>\n",
       "      <td>0.166700</td>\n",
       "      <td>0.000000</td>\n",
       "      <td>0.000000</td>\n",
       "      <td>NaN</td>\n",
       "      <td>0.000000</td>\n",
       "      <td>NaN</td>\n",
       "      <td>NaN</td>\n",
       "      <td>NaN</td>\n",
       "      <td>1.000000</td>\n",
       "      <td>NaN</td>\n",
       "    </tr>\n",
       "    <tr>\n",
       "      <th>25%</th>\n",
       "      <td>2.000000</td>\n",
       "      <td>0.000000</td>\n",
       "      <td>NaN</td>\n",
       "      <td>NaN</td>\n",
       "      <td>21.000000</td>\n",
       "      <td>0.000000</td>\n",
       "      <td>0.000000</td>\n",
       "      <td>NaN</td>\n",
       "      <td>7.895800</td>\n",
       "      <td>NaN</td>\n",
       "      <td>NaN</td>\n",
       "      <td>NaN</td>\n",
       "      <td>72.000000</td>\n",
       "      <td>NaN</td>\n",
       "    </tr>\n",
       "    <tr>\n",
       "      <th>50%</th>\n",
       "      <td>3.000000</td>\n",
       "      <td>0.000000</td>\n",
       "      <td>NaN</td>\n",
       "      <td>NaN</td>\n",
       "      <td>28.000000</td>\n",
       "      <td>0.000000</td>\n",
       "      <td>0.000000</td>\n",
       "      <td>NaN</td>\n",
       "      <td>14.454200</td>\n",
       "      <td>NaN</td>\n",
       "      <td>NaN</td>\n",
       "      <td>NaN</td>\n",
       "      <td>155.000000</td>\n",
       "      <td>NaN</td>\n",
       "    </tr>\n",
       "    <tr>\n",
       "      <th>75%</th>\n",
       "      <td>3.000000</td>\n",
       "      <td>1.000000</td>\n",
       "      <td>NaN</td>\n",
       "      <td>NaN</td>\n",
       "      <td>39.000000</td>\n",
       "      <td>1.000000</td>\n",
       "      <td>0.000000</td>\n",
       "      <td>NaN</td>\n",
       "      <td>31.275000</td>\n",
       "      <td>NaN</td>\n",
       "      <td>NaN</td>\n",
       "      <td>NaN</td>\n",
       "      <td>256.000000</td>\n",
       "      <td>NaN</td>\n",
       "    </tr>\n",
       "    <tr>\n",
       "      <th>max</th>\n",
       "      <td>3.000000</td>\n",
       "      <td>1.000000</td>\n",
       "      <td>NaN</td>\n",
       "      <td>NaN</td>\n",
       "      <td>80.000000</td>\n",
       "      <td>8.000000</td>\n",
       "      <td>9.000000</td>\n",
       "      <td>NaN</td>\n",
       "      <td>512.329200</td>\n",
       "      <td>NaN</td>\n",
       "      <td>NaN</td>\n",
       "      <td>NaN</td>\n",
       "      <td>328.000000</td>\n",
       "      <td>NaN</td>\n",
       "    </tr>\n",
       "  </tbody>\n",
       "</table>\n",
       "</div>"
      ],
      "text/plain": [
       "             pclass     survived                  name   sex          age   \n",
       "count   1309.000000  1309.000000                  1309  1309  1046.000000  \\\n",
       "unique          NaN          NaN                  1307     2          NaN   \n",
       "top             NaN          NaN  Connolly, Miss. Kate  male          NaN   \n",
       "freq            NaN          NaN                     2   843          NaN   \n",
       "mean       2.294882     0.381971                   NaN   NaN    29.881135   \n",
       "std        0.837836     0.486055                   NaN   NaN    14.413500   \n",
       "min        1.000000     0.000000                   NaN   NaN     0.166700   \n",
       "25%        2.000000     0.000000                   NaN   NaN    21.000000   \n",
       "50%        3.000000     0.000000                   NaN   NaN    28.000000   \n",
       "75%        3.000000     1.000000                   NaN   NaN    39.000000   \n",
       "max        3.000000     1.000000                   NaN   NaN    80.000000   \n",
       "\n",
       "              sibsp        parch    ticket         fare        cabin embarked   \n",
       "count   1309.000000  1309.000000      1309  1308.000000          295     1307  \\\n",
       "unique          NaN          NaN       939          NaN          186        3   \n",
       "top             NaN          NaN  CA. 2343          NaN  C23 C25 C27        S   \n",
       "freq            NaN          NaN        11          NaN            6      914   \n",
       "mean       0.498854     0.385027       NaN    33.295479          NaN      NaN   \n",
       "std        1.041658     0.865560       NaN    51.758668          NaN      NaN   \n",
       "min        0.000000     0.000000       NaN     0.000000          NaN      NaN   \n",
       "25%        0.000000     0.000000       NaN     7.895800          NaN      NaN   \n",
       "50%        0.000000     0.000000       NaN    14.454200          NaN      NaN   \n",
       "75%        1.000000     0.000000       NaN    31.275000          NaN      NaN   \n",
       "max        8.000000     9.000000       NaN   512.329200          NaN      NaN   \n",
       "\n",
       "       boat        body     home.dest  \n",
       "count   486  121.000000           745  \n",
       "unique   28         NaN           369  \n",
       "top      13         NaN  New York, NY  \n",
       "freq     39         NaN            64  \n",
       "mean    NaN  160.809917           NaN  \n",
       "std     NaN   97.696922           NaN  \n",
       "min     NaN    1.000000           NaN  \n",
       "25%     NaN   72.000000           NaN  \n",
       "50%     NaN  155.000000           NaN  \n",
       "75%     NaN  256.000000           NaN  \n",
       "max     NaN  328.000000           NaN  "
      ]
     },
     "execution_count": 4,
     "metadata": {},
     "output_type": "execute_result"
    }
   ],
   "source": [
    "df.describe(include='all')"
   ]
  },
  {
   "cell_type": "markdown",
   "metadata": {},
   "source": [
    "Let us add a new column to the data frame with the family size. This is the sum of the number of siblings/spouses and the number of parents/children, plus 1 for the passenger itself."
   ]
  },
  {
   "cell_type": "code",
   "execution_count": 5,
   "metadata": {
    "ExecuteTime": {
     "end_time": "2023-05-13T10:25:27.881235Z",
     "start_time": "2023-05-13T10:25:27.876677Z"
    }
   },
   "outputs": [
    {
     "data": {
      "text/html": [
       "<div>\n",
       "<style scoped>\n",
       "    .dataframe tbody tr th:only-of-type {\n",
       "        vertical-align: middle;\n",
       "    }\n",
       "\n",
       "    .dataframe tbody tr th {\n",
       "        vertical-align: top;\n",
       "    }\n",
       "\n",
       "    .dataframe thead th {\n",
       "        text-align: right;\n",
       "    }\n",
       "</style>\n",
       "<table border=\"1\" class=\"dataframe\">\n",
       "  <thead>\n",
       "    <tr style=\"text-align: right;\">\n",
       "      <th></th>\n",
       "      <th>pclass</th>\n",
       "      <th>survived</th>\n",
       "      <th>name</th>\n",
       "      <th>sex</th>\n",
       "      <th>age</th>\n",
       "      <th>sibsp</th>\n",
       "      <th>parch</th>\n",
       "      <th>ticket</th>\n",
       "      <th>fare</th>\n",
       "      <th>cabin</th>\n",
       "      <th>embarked</th>\n",
       "      <th>boat</th>\n",
       "      <th>body</th>\n",
       "      <th>home.dest</th>\n",
       "      <th>family_size</th>\n",
       "    </tr>\n",
       "  </thead>\n",
       "  <tbody>\n",
       "    <tr>\n",
       "      <th>0</th>\n",
       "      <td>1</td>\n",
       "      <td>1</td>\n",
       "      <td>Allen, Miss. Elisabeth Walton</td>\n",
       "      <td>female</td>\n",
       "      <td>29.0</td>\n",
       "      <td>0</td>\n",
       "      <td>0</td>\n",
       "      <td>24160</td>\n",
       "      <td>211.3375</td>\n",
       "      <td>B5</td>\n",
       "      <td>S</td>\n",
       "      <td>2</td>\n",
       "      <td>NaN</td>\n",
       "      <td>St Louis, MO</td>\n",
       "      <td>1</td>\n",
       "    </tr>\n",
       "    <tr>\n",
       "      <th>1</th>\n",
       "      <td>1</td>\n",
       "      <td>1</td>\n",
       "      <td>Duff Gordon, Lady. (Lucille Christiana Sutherl...</td>\n",
       "      <td>female</td>\n",
       "      <td>48.0</td>\n",
       "      <td>1</td>\n",
       "      <td>0</td>\n",
       "      <td>11755</td>\n",
       "      <td>39.6000</td>\n",
       "      <td>A16</td>\n",
       "      <td>C</td>\n",
       "      <td>1</td>\n",
       "      <td>NaN</td>\n",
       "      <td>London / Paris</td>\n",
       "      <td>2</td>\n",
       "    </tr>\n",
       "    <tr>\n",
       "      <th>2</th>\n",
       "      <td>1</td>\n",
       "      <td>1</td>\n",
       "      <td>Duff Gordon, Sir. Cosmo Edmund (\"Mr Morgan\")</td>\n",
       "      <td>male</td>\n",
       "      <td>49.0</td>\n",
       "      <td>1</td>\n",
       "      <td>0</td>\n",
       "      <td>PC 17485</td>\n",
       "      <td>56.9292</td>\n",
       "      <td>A20</td>\n",
       "      <td>C</td>\n",
       "      <td>1</td>\n",
       "      <td>NaN</td>\n",
       "      <td>London / Paris</td>\n",
       "      <td>2</td>\n",
       "    </tr>\n",
       "    <tr>\n",
       "      <th>3</th>\n",
       "      <td>1</td>\n",
       "      <td>1</td>\n",
       "      <td>Francatelli, Miss. Laura Mabel</td>\n",
       "      <td>female</td>\n",
       "      <td>30.0</td>\n",
       "      <td>0</td>\n",
       "      <td>0</td>\n",
       "      <td>PC 17485</td>\n",
       "      <td>56.9292</td>\n",
       "      <td>E36</td>\n",
       "      <td>C</td>\n",
       "      <td>1</td>\n",
       "      <td>NaN</td>\n",
       "      <td>NaN</td>\n",
       "      <td>1</td>\n",
       "    </tr>\n",
       "    <tr>\n",
       "      <th>4</th>\n",
       "      <td>1</td>\n",
       "      <td>1</td>\n",
       "      <td>Salomon, Mr. Abraham L</td>\n",
       "      <td>male</td>\n",
       "      <td>NaN</td>\n",
       "      <td>0</td>\n",
       "      <td>0</td>\n",
       "      <td>111163</td>\n",
       "      <td>26.0000</td>\n",
       "      <td>NaN</td>\n",
       "      <td>S</td>\n",
       "      <td>1</td>\n",
       "      <td>NaN</td>\n",
       "      <td>New York, NY</td>\n",
       "      <td>1</td>\n",
       "    </tr>\n",
       "    <tr>\n",
       "      <th>...</th>\n",
       "      <td>...</td>\n",
       "      <td>...</td>\n",
       "      <td>...</td>\n",
       "      <td>...</td>\n",
       "      <td>...</td>\n",
       "      <td>...</td>\n",
       "      <td>...</td>\n",
       "      <td>...</td>\n",
       "      <td>...</td>\n",
       "      <td>...</td>\n",
       "      <td>...</td>\n",
       "      <td>...</td>\n",
       "      <td>...</td>\n",
       "      <td>...</td>\n",
       "      <td>...</td>\n",
       "    </tr>\n",
       "    <tr>\n",
       "      <th>1304</th>\n",
       "      <td>3</td>\n",
       "      <td>0</td>\n",
       "      <td>Zabour, Miss. Hileni</td>\n",
       "      <td>female</td>\n",
       "      <td>14.5</td>\n",
       "      <td>1</td>\n",
       "      <td>0</td>\n",
       "      <td>2665</td>\n",
       "      <td>14.4542</td>\n",
       "      <td>NaN</td>\n",
       "      <td>C</td>\n",
       "      <td>NaN</td>\n",
       "      <td>328.0</td>\n",
       "      <td>NaN</td>\n",
       "      <td>2</td>\n",
       "    </tr>\n",
       "    <tr>\n",
       "      <th>1305</th>\n",
       "      <td>3</td>\n",
       "      <td>0</td>\n",
       "      <td>Zabour, Miss. Thamine</td>\n",
       "      <td>female</td>\n",
       "      <td>NaN</td>\n",
       "      <td>1</td>\n",
       "      <td>0</td>\n",
       "      <td>2665</td>\n",
       "      <td>14.4542</td>\n",
       "      <td>NaN</td>\n",
       "      <td>C</td>\n",
       "      <td>NaN</td>\n",
       "      <td>NaN</td>\n",
       "      <td>NaN</td>\n",
       "      <td>2</td>\n",
       "    </tr>\n",
       "    <tr>\n",
       "      <th>1306</th>\n",
       "      <td>3</td>\n",
       "      <td>0</td>\n",
       "      <td>Zakarian, Mr. Mapriededer</td>\n",
       "      <td>male</td>\n",
       "      <td>26.5</td>\n",
       "      <td>0</td>\n",
       "      <td>0</td>\n",
       "      <td>2656</td>\n",
       "      <td>7.2250</td>\n",
       "      <td>NaN</td>\n",
       "      <td>C</td>\n",
       "      <td>NaN</td>\n",
       "      <td>304.0</td>\n",
       "      <td>NaN</td>\n",
       "      <td>1</td>\n",
       "    </tr>\n",
       "    <tr>\n",
       "      <th>1307</th>\n",
       "      <td>3</td>\n",
       "      <td>0</td>\n",
       "      <td>Zakarian, Mr. Ortin</td>\n",
       "      <td>male</td>\n",
       "      <td>27.0</td>\n",
       "      <td>0</td>\n",
       "      <td>0</td>\n",
       "      <td>2670</td>\n",
       "      <td>7.2250</td>\n",
       "      <td>NaN</td>\n",
       "      <td>C</td>\n",
       "      <td>NaN</td>\n",
       "      <td>NaN</td>\n",
       "      <td>NaN</td>\n",
       "      <td>1</td>\n",
       "    </tr>\n",
       "    <tr>\n",
       "      <th>1308</th>\n",
       "      <td>3</td>\n",
       "      <td>0</td>\n",
       "      <td>Zimmerman, Mr. Leo</td>\n",
       "      <td>male</td>\n",
       "      <td>29.0</td>\n",
       "      <td>0</td>\n",
       "      <td>0</td>\n",
       "      <td>315082</td>\n",
       "      <td>7.8750</td>\n",
       "      <td>NaN</td>\n",
       "      <td>S</td>\n",
       "      <td>NaN</td>\n",
       "      <td>NaN</td>\n",
       "      <td>NaN</td>\n",
       "      <td>1</td>\n",
       "    </tr>\n",
       "  </tbody>\n",
       "</table>\n",
       "<p>1309 rows × 15 columns</p>\n",
       "</div>"
      ],
      "text/plain": [
       "      pclass  survived                                               name   \n",
       "0          1         1                      Allen, Miss. Elisabeth Walton  \\\n",
       "1          1         1  Duff Gordon, Lady. (Lucille Christiana Sutherl...   \n",
       "2          1         1       Duff Gordon, Sir. Cosmo Edmund (\"Mr Morgan\")   \n",
       "3          1         1                     Francatelli, Miss. Laura Mabel   \n",
       "4          1         1                             Salomon, Mr. Abraham L   \n",
       "...      ...       ...                                                ...   \n",
       "1304       3         0                               Zabour, Miss. Hileni   \n",
       "1305       3         0                              Zabour, Miss. Thamine   \n",
       "1306       3         0                          Zakarian, Mr. Mapriededer   \n",
       "1307       3         0                                Zakarian, Mr. Ortin   \n",
       "1308       3         0                                 Zimmerman, Mr. Leo   \n",
       "\n",
       "         sex   age  sibsp  parch    ticket      fare cabin embarked boat   \n",
       "0     female  29.0      0      0     24160  211.3375    B5        S    2  \\\n",
       "1     female  48.0      1      0     11755   39.6000   A16        C    1   \n",
       "2       male  49.0      1      0  PC 17485   56.9292   A20        C    1   \n",
       "3     female  30.0      0      0  PC 17485   56.9292   E36        C    1   \n",
       "4       male   NaN      0      0    111163   26.0000   NaN        S    1   \n",
       "...      ...   ...    ...    ...       ...       ...   ...      ...  ...   \n",
       "1304  female  14.5      1      0      2665   14.4542   NaN        C  NaN   \n",
       "1305  female   NaN      1      0      2665   14.4542   NaN        C  NaN   \n",
       "1306    male  26.5      0      0      2656    7.2250   NaN        C  NaN   \n",
       "1307    male  27.0      0      0      2670    7.2250   NaN        C  NaN   \n",
       "1308    male  29.0      0      0    315082    7.8750   NaN        S  NaN   \n",
       "\n",
       "       body       home.dest  family_size  \n",
       "0       NaN    St Louis, MO            1  \n",
       "1       NaN  London / Paris            2  \n",
       "2       NaN  London / Paris            2  \n",
       "3       NaN             NaN            1  \n",
       "4       NaN    New York, NY            1  \n",
       "...     ...             ...          ...  \n",
       "1304  328.0             NaN            2  \n",
       "1305    NaN             NaN            2  \n",
       "1306  304.0             NaN            1  \n",
       "1307    NaN             NaN            1  \n",
       "1308    NaN             NaN            1  \n",
       "\n",
       "[1309 rows x 15 columns]"
      ]
     },
     "execution_count": 5,
     "metadata": {},
     "output_type": "execute_result"
    }
   ],
   "source": [
    "df['family_size'] = df['sibsp'] + df['parch'] + 1\n",
    "df"
   ]
  },
  {
   "cell_type": "markdown",
   "metadata": {},
   "source": [
    "## Plotting the data (a first look)\n",
    "We can plot the **histogram** of the numerical columns to see how the data is distributed. (https://pandas.pydata.org/docs/reference/api/pandas.DataFrame.hist.html)"
   ]
  },
  {
   "cell_type": "code",
   "execution_count": 6,
   "metadata": {
    "ExecuteTime": {
     "end_time": "2023-05-13T10:25:29.336810Z",
     "start_time": "2023-05-13T10:25:28.171789Z"
    }
   },
   "outputs": [
    {
     "data": {
      "image/png": "[encoded data removed]",
      "text/plain": [
       "<Figure size 1500x1000 with 9 Axes>"
      ]
     },
     "metadata": {},
     "output_type": "display_data"
    }
   ],
   "source": [
    "# plot histograms of the numerical columns\n",
    "_ = df.hist(figsize=(15, 10), bins=15)"
   ]
  },
  {
   "cell_type": "markdown",
   "metadata": {},
   "source": [
    "<span style=\"color:red\"> - what conclusion can you draw from the histogram of the age column? </span>\n",
    "\n",
    "<span style=\"color:red\"> - what conclusion can you draw from the histogram of the fare column? </span>."
   ]
  },
  {
   "cell_type": "markdown",
   "metadata": {},
   "source": [
    "It is also useful to plot the bar charts of the categorical columns. We can do this using the value_counts() method from Pandas to get the count of unique values in each column and then plot the bar charts. (https://pandas.pydata.org/docs/reference/api/pandas.DataFrame.plot.bar.html)"
   ]
  },
  {
   "cell_type": "code",
   "execution_count": 7,
   "metadata": {
    "ExecuteTime": {
     "end_time": "2023-04-16T18:01:09.446605Z",
     "start_time": "2023-04-16T18:01:08.964636Z"
    }
   },
   "outputs": [
    {
     "data": {
      "image/png": "[encoded data removed]",
      "text/plain": [
       "<Figure size 2000x500 with 1 Axes>"
      ]
     },
     "metadata": {},
     "output_type": "display_data"
    },
    {
     "data": {
      "image/png": "[encoded data removed]",
      "text/plain": [
       "<Figure size 2000x500 with 1 Axes>"
      ]
     },
     "metadata": {},
     "output_type": "display_data"
    },
    {
     "data": {
      "image/png": "[encoded data removed]",
      "text/plain": [
       "<Figure size 2000x500 with 1 Axes>"
      ]
     },
     "metadata": {},
     "output_type": "display_data"
    }
   ],
   "source": [
    "# get the categorical columns\n",
    "cat_cols = df.select_dtypes(include=['object']).columns\n",
    "\n",
    "# plot the bar charts of the categorical columns\n",
    "for col in cat_cols:\n",
    "    df_temp = df[col].value_counts()\n",
    "    # plot only the dataframes with less than 30 unique values - this will remove, e.g., the name, ticket and cabin column\n",
    "    if df_temp.size < 30:\n",
    "        df_temp.plot(kind='bar', title=col, figsize=(20, 5))\n",
    "        plt.show()"
   ]
  },
  {
   "cell_type": "markdown",
   "metadata": {},
   "source": [
    "<span style=\"color:red\"> - what conclusion can you draw from the bar charts? </span>"
   ]
  },
  {
   "cell_type": "markdown",
   "metadata": {},
   "source": [
    "## Pivot tables and group by methods\n",
    "\n",
    "Pivot tables and group by methods are a very useful tool to summarize data.\n",
    "### Pivot table\n",
    "The pivot table method allows to summarize data by grouping the data by one or more columns and applying an aggregation function to the other columns. The pivot_table method is very similar to the groupby method. Its arguments include:\n",
    "- index: column(s) to group by on the rows\n",
    "- columns: column(s) to group by on the columns\n",
    "- values: column(s) to apply the aggregation function on\n",
    "- aggfunc: aggregation function to apply. Default is mean if values is a numerical column and count if values is a categorical column. Other possible values are sum, min, max, std, var, median, first, last, nunique, and size.\n",
    "- fill_value: value to replace missing values, default is 0. If you want to keep the missing values, you can use np.nan.\n",
    "- margins: add row/column subtotals and grand total (default is False)\n",
    "- margins_name: name of the row/column subtotals and grand total (default is 'All')\n",
    "- dropna: do not include columns whose entries are all NaN (default is True)"
   ]
  },
  {
   "cell_type": "markdown",
   "metadata": {},
   "source": [
    "For example, if you want to summarize the number of survived passengers into a pivot table with sex and pclass as the index and columns, respectvely, you can do the call below. In this case, the aggfunc is sum as we want to count the number of survived passengers and survived is a boolean column, where 1 survived and 0 did not survive."
   ]
  },
  {
   "cell_type": "code",
   "execution_count": 8,
   "metadata": {
    "ExecuteTime": {
     "end_time": "2023-04-16T18:01:09.467044Z",
     "start_time": "2023-04-16T18:01:09.450575Z"
    }
   },
   "outputs": [
    {
     "data": {
      "text/html": [
       "<div>\n",
       "<style scoped>\n",
       "    .dataframe tbody tr th:only-of-type {\n",
       "        vertical-align: middle;\n",
       "    }\n",
       "\n",
       "    .dataframe tbody tr th {\n",
       "        vertical-align: top;\n",
       "    }\n",
       "\n",
       "    .dataframe thead th {\n",
       "        text-align: right;\n",
       "    }\n",
       "</style>\n",
       "<table border=\"1\" class=\"dataframe\">\n",
       "  <thead>\n",
       "    <tr style=\"text-align: right;\">\n",
       "      <th>pclass</th>\n",
       "      <th>1</th>\n",
       "      <th>2</th>\n",
       "      <th>3</th>\n",
       "      <th>Total</th>\n",
       "    </tr>\n",
       "    <tr>\n",
       "      <th>sex</th>\n",
       "      <th></th>\n",
       "      <th></th>\n",
       "      <th></th>\n",
       "      <th></th>\n",
       "    </tr>\n",
       "  </thead>\n",
       "  <tbody>\n",
       "    <tr>\n",
       "      <th>female</th>\n",
       "      <td>139</td>\n",
       "      <td>94</td>\n",
       "      <td>106</td>\n",
       "      <td>339</td>\n",
       "    </tr>\n",
       "    <tr>\n",
       "      <th>male</th>\n",
       "      <td>61</td>\n",
       "      <td>25</td>\n",
       "      <td>75</td>\n",
       "      <td>161</td>\n",
       "    </tr>\n",
       "    <tr>\n",
       "      <th>Total</th>\n",
       "      <td>200</td>\n",
       "      <td>119</td>\n",
       "      <td>181</td>\n",
       "      <td>500</td>\n",
       "    </tr>\n",
       "  </tbody>\n",
       "</table>\n",
       "</div>"
      ],
      "text/plain": [
       "pclass    1    2    3  Total\n",
       "sex                         \n",
       "female  139   94  106    339\n",
       "male     61   25   75    161\n",
       "Total   200  119  181    500"
      ]
     },
     "execution_count": 8,
     "metadata": {},
     "output_type": "execute_result"
    }
   ],
   "source": [
    "pt = df.pivot_table(index='sex', \n",
    "                    values='survived', \n",
    "                    columns='pclass', \n",
    "                    aggfunc='sum', \n",
    "                    margins=True, \n",
    "                    margins_name='Total')\n",
    "pt"
   ]
  },
  {
   "cell_type": "markdown",
   "metadata": {},
   "source": [
    "<span style=\"color:red\"> What was the total number of passengers that survived? </span>\n",
    "\n",
    "<span style=\"color:red\"> How many passerenger from class 1 survived? </span>\n",
    "\n",
    "<span style=\"color:red\"> How many female passengers survived? </span>\n",
    "\n",
    "<span style=\"color:red\"> Who did survive more: females or males? </span>"
   ]
  },
  {
   "cell_type": "markdown",
   "metadata": {},
   "source": [
    "To present the pivot table with percentages we can divide it by the total number of passengers that survived."
   ]
  },
  {
   "cell_type": "code",
   "execution_count": 9,
   "metadata": {
    "ExecuteTime": {
     "end_time": "2023-04-16T18:01:09.492033Z",
     "start_time": "2023-04-16T18:01:09.470560Z"
    }
   },
   "outputs": [
    {
     "data": {
      "text/html": [
       "<div>\n",
       "<style scoped>\n",
       "    .dataframe tbody tr th:only-of-type {\n",
       "        vertical-align: middle;\n",
       "    }\n",
       "\n",
       "    .dataframe tbody tr th {\n",
       "        vertical-align: top;\n",
       "    }\n",
       "\n",
       "    .dataframe thead th {\n",
       "        text-align: right;\n",
       "    }\n",
       "</style>\n",
       "<table border=\"1\" class=\"dataframe\">\n",
       "  <thead>\n",
       "    <tr style=\"text-align: right;\">\n",
       "      <th>pclass</th>\n",
       "      <th>1</th>\n",
       "      <th>2</th>\n",
       "      <th>3</th>\n",
       "      <th>Total</th>\n",
       "    </tr>\n",
       "    <tr>\n",
       "      <th>sex</th>\n",
       "      <th></th>\n",
       "      <th></th>\n",
       "      <th></th>\n",
       "      <th></th>\n",
       "    </tr>\n",
       "  </thead>\n",
       "  <tbody>\n",
       "    <tr>\n",
       "      <th>female</th>\n",
       "      <td>27.8</td>\n",
       "      <td>18.8</td>\n",
       "      <td>21.2</td>\n",
       "      <td>67.8</td>\n",
       "    </tr>\n",
       "    <tr>\n",
       "      <th>male</th>\n",
       "      <td>12.2</td>\n",
       "      <td>5.0</td>\n",
       "      <td>15.0</td>\n",
       "      <td>32.2</td>\n",
       "    </tr>\n",
       "    <tr>\n",
       "      <th>Total</th>\n",
       "      <td>40.0</td>\n",
       "      <td>23.8</td>\n",
       "      <td>36.2</td>\n",
       "      <td>100.0</td>\n",
       "    </tr>\n",
       "  </tbody>\n",
       "</table>\n",
       "</div>"
      ],
      "text/plain": [
       "pclass     1     2     3  Total\n",
       "sex                            \n",
       "female  27.8  18.8  21.2   67.8\n",
       "male    12.2   5.0  15.0   32.2\n",
       "Total   40.0  23.8  36.2  100.0"
      ]
     },
     "execution_count": 9,
     "metadata": {},
     "output_type": "execute_result"
    }
   ],
   "source": [
    "number_of_survived = sum(df['survived'])\n",
    "pt / number_of_survived * 100"
   ]
  },
  {
   "cell_type": "markdown",
   "metadata": {},
   "source": [
    "<span style=\"color:red\"> In a similar manner, how can you summarize the passengers that did not survive? </span>"
   ]
  },
  {
   "cell_type": "code",
   "execution_count": 10,
   "metadata": {
    "ExecuteTime": {
     "end_time": "2023-04-16T18:01:09.522602Z",
     "start_time": "2023-04-16T18:01:09.476507Z"
    }
   },
   "outputs": [
    {
     "data": {
      "text/html": [
       "<div>\n",
       "<style scoped>\n",
       "    .dataframe tbody tr th:only-of-type {\n",
       "        vertical-align: middle;\n",
       "    }\n",
       "\n",
       "    .dataframe tbody tr th {\n",
       "        vertical-align: top;\n",
       "    }\n",
       "\n",
       "    .dataframe thead th {\n",
       "        text-align: right;\n",
       "    }\n",
       "</style>\n",
       "<table border=\"1\" class=\"dataframe\">\n",
       "  <thead>\n",
       "    <tr style=\"text-align: right;\">\n",
       "      <th>pclass</th>\n",
       "      <th>1</th>\n",
       "      <th>2</th>\n",
       "      <th>3</th>\n",
       "      <th>Total</th>\n",
       "    </tr>\n",
       "    <tr>\n",
       "      <th>sex</th>\n",
       "      <th></th>\n",
       "      <th></th>\n",
       "      <th></th>\n",
       "      <th></th>\n",
       "    </tr>\n",
       "  </thead>\n",
       "  <tbody>\n",
       "    <tr>\n",
       "      <th>female</th>\n",
       "      <td>144</td>\n",
       "      <td>106</td>\n",
       "      <td>216</td>\n",
       "      <td>466</td>\n",
       "    </tr>\n",
       "    <tr>\n",
       "      <th>male</th>\n",
       "      <td>179</td>\n",
       "      <td>171</td>\n",
       "      <td>493</td>\n",
       "      <td>843</td>\n",
       "    </tr>\n",
       "    <tr>\n",
       "      <th>Total</th>\n",
       "      <td>323</td>\n",
       "      <td>277</td>\n",
       "      <td>709</td>\n",
       "      <td>1309</td>\n",
       "    </tr>\n",
       "  </tbody>\n",
       "</table>\n",
       "</div>"
      ],
      "text/plain": [
       "pclass    1    2    3  Total\n",
       "sex                         \n",
       "female  144  106  216    466\n",
       "male    179  171  493    843\n",
       "Total   323  277  709   1309"
      ]
     },
     "execution_count": 10,
     "metadata": {},
     "output_type": "execute_result"
    }
   ],
   "source": [
    "pt_all = df.pivot_table(index='sex', \n",
    "                        columns='pclass', \n",
    "                        values='survived', \n",
    "                        aggfunc='count', \n",
    "                        margins=True,  \n",
    "                        margins_name='Total'\n",
    "                       )\n",
    "pt_all"
   ]
  },
  {
   "cell_type": "code",
   "execution_count": 11,
   "metadata": {
    "ExecuteTime": {
     "end_time": "2023-04-16T18:01:09.541283Z",
     "start_time": "2023-04-16T18:01:09.496825Z"
    }
   },
   "outputs": [
    {
     "data": {
      "text/html": [
       "<div>\n",
       "<style scoped>\n",
       "    .dataframe tbody tr th:only-of-type {\n",
       "        vertical-align: middle;\n",
       "    }\n",
       "\n",
       "    .dataframe tbody tr th {\n",
       "        vertical-align: top;\n",
       "    }\n",
       "\n",
       "    .dataframe thead th {\n",
       "        text-align: right;\n",
       "    }\n",
       "</style>\n",
       "<table border=\"1\" class=\"dataframe\">\n",
       "  <thead>\n",
       "    <tr style=\"text-align: right;\">\n",
       "      <th>pclass</th>\n",
       "      <th>1</th>\n",
       "      <th>2</th>\n",
       "      <th>3</th>\n",
       "      <th>Total</th>\n",
       "    </tr>\n",
       "    <tr>\n",
       "      <th>sex</th>\n",
       "      <th></th>\n",
       "      <th></th>\n",
       "      <th></th>\n",
       "      <th></th>\n",
       "    </tr>\n",
       "  </thead>\n",
       "  <tbody>\n",
       "    <tr>\n",
       "      <th>female</th>\n",
       "      <td>5</td>\n",
       "      <td>12</td>\n",
       "      <td>110</td>\n",
       "      <td>127</td>\n",
       "    </tr>\n",
       "    <tr>\n",
       "      <th>male</th>\n",
       "      <td>118</td>\n",
       "      <td>146</td>\n",
       "      <td>418</td>\n",
       "      <td>682</td>\n",
       "    </tr>\n",
       "    <tr>\n",
       "      <th>Total</th>\n",
       "      <td>123</td>\n",
       "      <td>158</td>\n",
       "      <td>528</td>\n",
       "      <td>809</td>\n",
       "    </tr>\n",
       "  </tbody>\n",
       "</table>\n",
       "</div>"
      ],
      "text/plain": [
       "pclass    1    2    3  Total\n",
       "sex                         \n",
       "female    5   12  110    127\n",
       "male    118  146  418    682\n",
       "Total   123  158  528    809"
      ]
     },
     "execution_count": 11,
     "metadata": {},
     "output_type": "execute_result"
    }
   ],
   "source": [
    "pt_all - pt"
   ]
  },
  {
   "cell_type": "code",
   "execution_count": 12,
   "metadata": {
    "ExecuteTime": {
     "end_time": "2023-04-16T18:01:09.541376Z",
     "start_time": "2023-04-16T18:01:09.501382Z"
    }
   },
   "outputs": [],
   "source": [
    "# df['dead'] = 1-df['survived']"
   ]
  },
  {
   "cell_type": "markdown",
   "metadata": {},
   "source": [
    "The pivot table can be plotted using a bar plot showing the number of survived passerger by gender a passenger class. The drop method is used to drop the Total row and column from the pivot table.\n",
    "\n",
    "Besides, we are also using __pandas Bokeh__ to plot the pivot table. This is a wrapper around the bokeh library that allows to plot pandas dataframes and series. The plot method has approximatly the same arguments as the pivot_table method. The plot method returns a bokeh figure object that can be used to customize the plot. For example, we can change the title of the plot and the labels of the axes."
   ]
  },
  {
   "cell_type": "code",
   "execution_count": 13,
   "metadata": {
    "ExecuteTime": {
     "end_time": "2023-04-16T18:01:09.609344Z",
     "start_time": "2023-04-16T18:01:09.535375Z"
    }
   },
   "outputs": [
    {
     "data": {
      "text/html": [
       "\n",
       "  <div class=\"bk-root\" id=\"b3a7009b-0057-4e64-b69a-bd7dde02c87e\" data-root-id=\"1039\"></div>\n"
      ]
     },
     "metadata": {},
     "output_type": "display_data"
    },
    {
     "data": {
      "application/javascript": [
       "(function(root) {\n",
       "  function embed_document(root) {\n",
       "  const docs_json = {\"0e18d08c-7265-43d5-a9c4-cb35cc56df05\":{\"defs\":[],\"roots\":{\"references\":[{\"attributes\":{\"below\":[{\"id\":\"1050\"}],\"center\":[{\"id\":\"1053\"},{\"id\":\"1057\"},{\"id\":\"1090\"}],\"height\":400,\"left\":[{\"id\":\"1054\"}],\"output_backend\":\"webgl\",\"renderers\":[{\"id\":\"1079\"},{\"id\":\"1099\"},{\"id\":\"1118\"}],\"sizing_mode\":\"fixed\",\"title\":{\"id\":\"1040\"},\"toolbar\":{\"id\":\"1065\"},\"x_range\":{\"id\":\"1042\"},\"x_scale\":{\"id\":\"1046\"},\"y_range\":{\"id\":\"1044\"},\"y_scale\":{\"id\":\"1048\"}},\"id\":\"1039\",\"subtype\":\"Figure\",\"type\":\"Plot\"},{\"attributes\":{},\"id\":\"1083\",\"type\":\"BasicTickFormatter\"},{\"attributes\":{\"fill_color\":{\"value\":\"#1f77b4\"},\"hatch_color\":{\"value\":\"#1f77b4\"},\"line_color\":{\"value\":\"#1f77b4\"},\"line_width\":{\"value\":2},\"top\":{\"field\":\"1\"},\"width\":{\"value\":0.2},\"x\":{\"field\":\"__x__values\",\"transform\":{\"id\":\"1074\"}}},\"id\":\"1076\",\"type\":\"VBar\"},{\"attributes\":{\"overlay\":{\"id\":\"1064\"}},\"id\":\"1060\",\"type\":\"BoxZoomTool\"},{\"attributes\":{},\"id\":\"1042\",\"type\":\"DataRange1d\"},{\"attributes\":{\"data\":{\"1\":[139,61],\"2\":[94,25],\"3\":[106,75],\"__x__values\":[0,1],\"__x__values_original\":[\"female\",\"male\"]},\"selected\":{\"id\":\"1088\"},\"selection_policy\":{\"id\":\"1087\"}},\"id\":\"1038\",\"type\":\"ColumnDataSource\"},{\"attributes\":{},\"id\":\"1087\",\"type\":\"UnionRenderers\"},{\"attributes\":{\"fill_alpha\":{\"value\":0.2},\"fill_color\":{\"value\":\"#1f77b4\"},\"hatch_alpha\":{\"value\":0.2},\"hatch_color\":{\"value\":\"#1f77b4\"},\"line_alpha\":{\"value\":0.2},\"line_color\":{\"value\":\"#1f77b4\"},\"line_width\":{\"value\":2},\"top\":{\"field\":\"1\"},\"width\":{\"value\":0.2},\"x\":{\"field\":\"__x__values\",\"transform\":{\"id\":\"1074\"}}},\"id\":\"1078\",\"type\":\"VBar\"},{\"attributes\":{\"fill_color\":{\"value\":\"#ff7f0e\"},\"hatch_color\":{\"value\":\"#ff7f0e\"},\"line_color\":{\"value\":\"#ff7f0e\"},\"line_width\":{\"value\":2},\"top\":{\"field\":\"2\"},\"width\":{\"value\":0.2},\"x\":{\"field\":\"__x__values\",\"transform\":{\"id\":\"1094\"}}},\"id\":\"1096\",\"type\":\"VBar\"},{\"attributes\":{\"coordinates\":null,\"group\":null,\"text\":\"Survived passengers per gender and class\"},\"id\":\"1040\",\"type\":\"Title\"},{\"attributes\":{\"source\":{\"id\":\"1038\"}},\"id\":\"1080\",\"type\":\"CDSView\"},{\"attributes\":{\"axis\":{\"id\":\"1054\"},\"coordinates\":null,\"dimension\":1,\"group\":null,\"ticker\":null},\"id\":\"1057\",\"type\":\"Grid\"},{\"attributes\":{},\"id\":\"1062\",\"type\":\"ResetTool\"},{\"attributes\":{\"axis\":{\"id\":\"1050\"},\"coordinates\":null,\"group\":null,\"ticker\":null},\"id\":\"1053\",\"type\":\"Grid\"},{\"attributes\":{\"callback\":null,\"mode\":\"vline\",\"renderers\":[{\"id\":\"1079\"}],\"tooltips\":[[\"sex\",\"@__x__values_original\"],[\"1\",\"@{1}\"]]},\"id\":\"1092\",\"type\":\"HoverTool\"},{\"attributes\":{\"coordinates\":null,\"formatter\":{\"id\":\"1083\"},\"group\":null,\"major_label_policy\":{\"id\":\"1084\"},\"ticker\":{\"id\":\"1055\"}},\"id\":\"1054\",\"type\":\"LinearAxis\"},{\"attributes\":{},\"id\":\"1088\",\"type\":\"Selection\"},{\"attributes\":{\"active_scroll\":{\"id\":\"1059\"},\"tools\":[{\"id\":\"1058\"},{\"id\":\"1059\"},{\"id\":\"1060\"},{\"id\":\"1061\"},{\"id\":\"1062\"},{\"id\":\"1063\"},{\"id\":\"1092\"},{\"id\":\"1111\"},{\"id\":\"1130\"}]},\"id\":\"1065\",\"type\":\"Toolbar\"},{\"attributes\":{\"click_policy\":\"hide\",\"coordinates\":null,\"group\":null,\"items\":[{\"id\":\"1091\"},{\"id\":\"1110\"},{\"id\":\"1129\"}]},\"id\":\"1090\",\"type\":\"Legend\"},{\"attributes\":{},\"id\":\"1061\",\"type\":\"SaveTool\"},{\"attributes\":{\"range\":{\"id\":\"1042\"}},\"id\":\"1094\",\"type\":\"Dodge\"},{\"attributes\":{\"label\":{\"value\":\" 1\"},\"renderers\":[{\"id\":\"1079\"}]},\"id\":\"1091\",\"type\":\"LegendItem\"},{\"attributes\":{\"range\":{\"id\":\"1042\"},\"value\":0.25},\"id\":\"1113\",\"type\":\"Dodge\"},{\"attributes\":{\"fill_alpha\":{\"value\":0.1},\"fill_color\":{\"value\":\"#ff7f0e\"},\"hatch_alpha\":{\"value\":0.1},\"hatch_color\":{\"value\":\"#ff7f0e\"},\"line_alpha\":{\"value\":0.1},\"line_color\":{\"value\":\"#ff7f0e\"},\"line_width\":{\"value\":2},\"top\":{\"field\":\"2\"},\"width\":{\"value\":0.2},\"x\":{\"field\":\"__x__values\",\"transform\":{\"id\":\"1094\"}}},\"id\":\"1097\",\"type\":\"VBar\"},{\"attributes\":{\"callback\":null,\"mode\":\"vline\",\"renderers\":[{\"id\":\"1118\"}],\"tooltips\":[[\"sex\",\"@__x__values_original\"],[\"3\",\"@{3}\"]]},\"id\":\"1130\",\"type\":\"HoverTool\"},{\"attributes\":{\"label\":{\"value\":\" 2\"},\"renderers\":[{\"id\":\"1099\"}]},\"id\":\"1110\",\"type\":\"LegendItem\"},{\"attributes\":{},\"id\":\"1046\",\"type\":\"LinearScale\"},{\"attributes\":{\"coordinates\":null,\"data_source\":{\"id\":\"1038\"},\"glyph\":{\"id\":\"1096\"},\"group\":null,\"hover_glyph\":null,\"muted_glyph\":{\"id\":\"1098\"},\"nonselection_glyph\":{\"id\":\"1097\"},\"view\":{\"id\":\"1100\"}},\"id\":\"1099\",\"type\":\"GlyphRenderer\"},{\"attributes\":{\"fill_alpha\":{\"value\":0.1},\"fill_color\":{\"value\":\"#2ca02c\"},\"hatch_alpha\":{\"value\":0.1},\"hatch_color\":{\"value\":\"#2ca02c\"},\"line_alpha\":{\"value\":0.1},\"line_color\":{\"value\":\"#2ca02c\"},\"line_width\":{\"value\":2},\"top\":{\"field\":\"3\"},\"width\":{\"value\":0.2},\"x\":{\"field\":\"__x__values\",\"transform\":{\"id\":\"1113\"}}},\"id\":\"1116\",\"type\":\"VBar\"},{\"attributes\":{\"fill_color\":{\"value\":\"#2ca02c\"},\"hatch_color\":{\"value\":\"#2ca02c\"},\"line_color\":{\"value\":\"#2ca02c\"},\"line_width\":{\"value\":2},\"top\":{\"field\":\"3\"},\"width\":{\"value\":0.2},\"x\":{\"field\":\"__x__values\",\"transform\":{\"id\":\"1113\"}}},\"id\":\"1115\",\"type\":\"VBar\"},{\"attributes\":{\"fill_alpha\":{\"value\":0.2},\"fill_color\":{\"value\":\"#ff7f0e\"},\"hatch_alpha\":{\"value\":0.2},\"hatch_color\":{\"value\":\"#ff7f0e\"},\"line_alpha\":{\"value\":0.2},\"line_color\":{\"value\":\"#ff7f0e\"},\"line_width\":{\"value\":2},\"top\":{\"field\":\"2\"},\"width\":{\"value\":0.2},\"x\":{\"field\":\"__x__values\",\"transform\":{\"id\":\"1094\"}}},\"id\":\"1098\",\"type\":\"VBar\"},{\"attributes\":{\"label\":{\"value\":\" 3\"},\"renderers\":[{\"id\":\"1118\"}]},\"id\":\"1129\",\"type\":\"LegendItem\"},{\"attributes\":{},\"id\":\"1048\",\"type\":\"LinearScale\"},{\"attributes\":{\"coordinates\":null,\"data_source\":{\"id\":\"1038\"},\"glyph\":{\"id\":\"1115\"},\"group\":null,\"hover_glyph\":null,\"muted_glyph\":{\"id\":\"1117\"},\"nonselection_glyph\":{\"id\":\"1116\"},\"view\":{\"id\":\"1119\"}},\"id\":\"1118\",\"type\":\"GlyphRenderer\"},{\"attributes\":{\"source\":{\"id\":\"1038\"}},\"id\":\"1100\",\"type\":\"CDSView\"},{\"attributes\":{\"fill_alpha\":{\"value\":0.2},\"fill_color\":{\"value\":\"#2ca02c\"},\"hatch_alpha\":{\"value\":0.2},\"hatch_color\":{\"value\":\"#2ca02c\"},\"line_alpha\":{\"value\":0.2},\"line_color\":{\"value\":\"#2ca02c\"},\"line_width\":{\"value\":2},\"top\":{\"field\":\"3\"},\"width\":{\"value\":0.2},\"x\":{\"field\":\"__x__values\",\"transform\":{\"id\":\"1113\"}}},\"id\":\"1117\",\"type\":\"VBar\"},{\"attributes\":{\"axis_label\":\"sex\",\"coordinates\":null,\"formatter\":{\"id\":\"1072\"},\"group\":null,\"major_label_policy\":{\"id\":\"1086\"},\"ticker\":{\"id\":\"1132\"}},\"id\":\"1050\",\"type\":\"LinearAxis\"},{\"attributes\":{\"callback\":null,\"mode\":\"vline\",\"renderers\":[{\"id\":\"1099\"}],\"tooltips\":[[\"sex\",\"@__x__values_original\"],[\"2\",\"@{2}\"]]},\"id\":\"1111\",\"type\":\"HoverTool\"},{\"attributes\":{},\"id\":\"1055\",\"type\":\"BasicTicker\"},{\"attributes\":{\"source\":{\"id\":\"1038\"}},\"id\":\"1119\",\"type\":\"CDSView\"},{\"attributes\":{\"code\":\"\\n                                    var labels = {0: 'female', 1: 'male'};\\n                                    return labels[tick];\\n                                    \"},\"id\":\"1072\",\"type\":\"FuncTickFormatter\"},{\"attributes\":{},\"id\":\"1063\",\"type\":\"HelpTool\"},{\"attributes\":{\"range\":{\"id\":\"1042\"},\"value\":-0.25},\"id\":\"1074\",\"type\":\"Dodge\"},{\"attributes\":{\"bottom_units\":\"screen\",\"coordinates\":null,\"fill_alpha\":0.5,\"fill_color\":\"lightgrey\",\"group\":null,\"left_units\":\"screen\",\"level\":\"overlay\",\"line_alpha\":1.0,\"line_color\":\"black\",\"line_dash\":[4,4],\"line_width\":2,\"right_units\":\"screen\",\"syncable\":false,\"top_units\":\"screen\"},\"id\":\"1064\",\"type\":\"BoxAnnotation\"},{\"attributes\":{},\"id\":\"1086\",\"type\":\"AllLabels\"},{\"attributes\":{},\"id\":\"1084\",\"type\":\"AllLabels\"},{\"attributes\":{\"fill_alpha\":{\"value\":0.1},\"fill_color\":{\"value\":\"#1f77b4\"},\"hatch_alpha\":{\"value\":0.1},\"hatch_color\":{\"value\":\"#1f77b4\"},\"line_alpha\":{\"value\":0.1},\"line_color\":{\"value\":\"#1f77b4\"},\"line_width\":{\"value\":2},\"top\":{\"field\":\"1\"},\"width\":{\"value\":0.2},\"x\":{\"field\":\"__x__values\",\"transform\":{\"id\":\"1074\"}}},\"id\":\"1077\",\"type\":\"VBar\"},{\"attributes\":{},\"id\":\"1058\",\"type\":\"PanTool\"},{\"attributes\":{\"ticks\":[0,1]},\"id\":\"1132\",\"type\":\"FixedTicker\"},{\"attributes\":{},\"id\":\"1059\",\"type\":\"WheelZoomTool\"},{\"attributes\":{\"coordinates\":null,\"data_source\":{\"id\":\"1038\"},\"glyph\":{\"id\":\"1076\"},\"group\":null,\"hover_glyph\":null,\"muted_glyph\":{\"id\":\"1078\"},\"nonselection_glyph\":{\"id\":\"1077\"},\"view\":{\"id\":\"1080\"}},\"id\":\"1079\",\"type\":\"GlyphRenderer\"},{\"attributes\":{},\"id\":\"1044\",\"type\":\"DataRange1d\"}],\"root_ids\":[\"1039\"]},\"title\":\"Bokeh Application\",\"version\":\"2.4.3\"}};\n",
       "  const render_items = [{\"docid\":\"0e18d08c-7265-43d5-a9c4-cb35cc56df05\",\"root_ids\":[\"1039\"],\"roots\":{\"1039\":\"b3a7009b-0057-4e64-b69a-bd7dde02c87e\"}}];\n",
       "  root.Bokeh.embed.embed_items_notebook(docs_json, render_items);\n",
       "  }\n",
       "  if (root.Bokeh !== undefined) {\n",
       "    embed_document(root);\n",
       "  } else {\n",
       "    let attempts = 0;\n",
       "    const timer = setInterval(function(root) {\n",
       "      if (root.Bokeh !== undefined) {\n",
       "        clearInterval(timer);\n",
       "        embed_document(root);\n",
       "      } else {\n",
       "        attempts++;\n",
       "        if (attempts > 100) {\n",
       "          clearInterval(timer);\n",
       "          console.log(\"Bokeh: ERROR: Unable to run BokehJS code because BokehJS library is missing\");\n",
       "        }\n",
       "      }\n",
       "    }, 10, root)\n",
       "  }\n",
       "})(window);"
      ],
      "application/vnd.bokehjs_exec.v0+json": ""
     },
     "metadata": {
      "application/vnd.bokehjs_exec.v0+json": {
       "id": "1039"
      }
     },
     "output_type": "display_data"
    }
   ],
   "source": [
    "_ = pt.drop('Total', axis=1).drop('Total', axis=0).plot_bokeh(kind='bar', title='Survived passengers per gender and class')"
   ]
  },
  {
   "cell_type": "markdown",
   "metadata": {},
   "source": [
    "The stacked bar plot is useful to more easily see the proportion of survived passengers within each gender and passenger class."
   ]
  },
  {
   "cell_type": "code",
   "execution_count": 14,
   "metadata": {
    "ExecuteTime": {
     "end_time": "2023-04-16T18:01:09.678708Z",
     "start_time": "2023-04-16T18:01:09.618685Z"
    }
   },
   "outputs": [
    {
     "data": {
      "text/html": [
       "\n",
       "  <div class=\"bk-root\" id=\"bf79f576-e51f-4a94-baa5-e335bf15d194\" data-root-id=\"1218\"></div>\n"
      ]
     },
     "metadata": {},
     "output_type": "display_data"
    },
    {
     "data": {
      "application/javascript": [
       "(function(root) {\n",
       "  function embed_document(root) {\n",
       "  const docs_json = {\"5153ddf1-c270-47b6-98a2-7fa35d43c95f\":{\"defs\":[],\"roots\":{\"references\":[{\"attributes\":{\"below\":[{\"id\":\"1229\"}],\"center\":[{\"id\":\"1232\"},{\"id\":\"1236\"},{\"id\":\"1274\"}],\"height\":400,\"left\":[{\"id\":\"1233\"}],\"output_backend\":\"webgl\",\"renderers\":[{\"id\":\"1263\"},{\"id\":\"1280\"},{\"id\":\"1296\"}],\"sizing_mode\":\"fixed\",\"title\":{\"id\":\"1219\"},\"toolbar\":{\"id\":\"1244\"},\"x_range\":{\"id\":\"1221\"},\"x_scale\":{\"id\":\"1225\"},\"y_range\":{\"id\":\"1223\"},\"y_scale\":{\"id\":\"1227\"}},\"id\":\"1218\",\"subtype\":\"Figure\",\"type\":\"Plot\"},{\"attributes\":{},\"id\":\"1242\",\"type\":\"HelpTool\"},{\"attributes\":{\"fields\":[\"1\",\"2\",\"3\"]},\"id\":\"1258\",\"type\":\"Stack\"},{\"attributes\":{\"coordinates\":null,\"formatter\":{\"id\":\"1267\"},\"group\":null,\"major_label_policy\":{\"id\":\"1268\"},\"ticker\":{\"id\":\"1234\"}},\"id\":\"1233\",\"type\":\"LinearAxis\"},{\"attributes\":{},\"id\":\"1270\",\"type\":\"AllLabels\"},{\"attributes\":{\"axis\":{\"id\":\"1233\"},\"coordinates\":null,\"dimension\":1,\"group\":null,\"ticker\":null},\"id\":\"1236\",\"type\":\"Grid\"},{\"attributes\":{\"bottom\":{\"expr\":{\"id\":\"1255\"}},\"fill_color\":{\"value\":\"#ff7f0e\"},\"hatch_color\":{\"value\":\"#ff7f0e\"},\"line_color\":{\"value\":\"#ff7f0e\"},\"line_width\":{\"value\":2},\"top\":{\"expr\":{\"id\":\"1256\"}},\"width\":{\"value\":0.8},\"x\":{\"field\":\"__x__values\"}},\"id\":\"1277\",\"type\":\"VBar\"},{\"attributes\":{},\"id\":\"1234\",\"type\":\"BasicTicker\"},{\"attributes\":{\"bottom\":{\"expr\":{\"id\":\"1257\"}},\"fill_color\":{\"value\":\"#2ca02c\"},\"hatch_color\":{\"value\":\"#2ca02c\"},\"line_color\":{\"value\":\"#2ca02c\"},\"line_width\":{\"value\":2},\"top\":{\"expr\":{\"id\":\"1258\"}},\"width\":{\"value\":0.8},\"x\":{\"field\":\"__x__values\"}},\"id\":\"1293\",\"type\":\"VBar\"},{\"attributes\":{\"coordinates\":null,\"group\":null,\"items\":[{\"id\":\"1275\"},{\"id\":\"1291\"},{\"id\":\"1307\"}]},\"id\":\"1274\",\"type\":\"Legend\"},{\"attributes\":{\"code\":\"\\n                                    var labels = {0: 'female', 1: 'male'};\\n                                    return labels[tick];\\n                                    \"},\"id\":\"1251\",\"type\":\"FuncTickFormatter\"},{\"attributes\":{\"bottom\":{\"expr\":{\"id\":\"1255\"}},\"fill_alpha\":{\"value\":0.1},\"fill_color\":{\"value\":\"#ff7f0e\"},\"hatch_alpha\":{\"value\":0.1},\"hatch_color\":{\"value\":\"#ff7f0e\"},\"line_alpha\":{\"value\":0.1},\"line_color\":{\"value\":\"#ff7f0e\"},\"line_width\":{\"value\":2},\"top\":{\"expr\":{\"id\":\"1256\"}},\"width\":{\"value\":0.8},\"x\":{\"field\":\"__x__values\"}},\"id\":\"1278\",\"type\":\"VBar\"},{\"attributes\":{},\"id\":\"1238\",\"type\":\"WheelZoomTool\"},{\"attributes\":{\"callback\":null,\"mode\":\"vline\",\"renderers\":[{\"id\":\"1296\"}],\"tooltips\":[[\"sex\",\"@__x__values_original\"],[\"1\",\"@{1}\"],[\"2\",\"@{2}\"],[\"3\",\"@{3}\"]]},\"id\":\"1308\",\"type\":\"HoverTool\"},{\"attributes\":{\"data\":{\"1\":[139,61],\"2\":[94,25],\"3\":[106,75],\"__x__values\":[0,1],\"__x__values_original\":[\"female\",\"male\"]},\"selected\":{\"id\":\"1272\"},\"selection_policy\":{\"id\":\"1271\"}},\"id\":\"1217\",\"type\":\"ColumnDataSource\"},{\"attributes\":{\"bottom\":{\"expr\":{\"id\":\"1253\"}},\"fill_alpha\":{\"value\":0.2},\"fill_color\":{\"value\":\"#1f77b4\"},\"hatch_alpha\":{\"value\":0.2},\"hatch_color\":{\"value\":\"#1f77b4\"},\"line_alpha\":{\"value\":0.2},\"line_color\":{\"value\":\"#1f77b4\"},\"line_width\":{\"value\":2},\"top\":{\"expr\":{\"id\":\"1254\"}},\"width\":{\"value\":0.8},\"x\":{\"field\":\"__x__values\"}},\"id\":\"1262\",\"type\":\"VBar\"},{\"attributes\":{\"bottom\":{\"expr\":{\"id\":\"1257\"}},\"fill_alpha\":{\"value\":0.1},\"fill_color\":{\"value\":\"#2ca02c\"},\"hatch_alpha\":{\"value\":0.1},\"hatch_color\":{\"value\":\"#2ca02c\"},\"line_alpha\":{\"value\":0.1},\"line_color\":{\"value\":\"#2ca02c\"},\"line_width\":{\"value\":2},\"top\":{\"expr\":{\"id\":\"1258\"}},\"width\":{\"value\":0.8},\"x\":{\"field\":\"__x__values\"}},\"id\":\"1294\",\"type\":\"VBar\"},{\"attributes\":{},\"id\":\"1237\",\"type\":\"PanTool\"},{\"attributes\":{\"overlay\":{\"id\":\"1243\"}},\"id\":\"1239\",\"type\":\"BoxZoomTool\"},{\"attributes\":{\"bottom\":{\"expr\":{\"id\":\"1255\"}},\"fill_alpha\":{\"value\":0.2},\"fill_color\":{\"value\":\"#ff7f0e\"},\"hatch_alpha\":{\"value\":0.2},\"hatch_color\":{\"value\":\"#ff7f0e\"},\"line_alpha\":{\"value\":0.2},\"line_color\":{\"value\":\"#ff7f0e\"},\"line_width\":{\"value\":2},\"top\":{\"expr\":{\"id\":\"1256\"}},\"width\":{\"value\":0.8},\"x\":{\"field\":\"__x__values\"}},\"id\":\"1279\",\"type\":\"VBar\"},{\"attributes\":{},\"id\":\"1240\",\"type\":\"SaveTool\"},{\"attributes\":{\"ticks\":[0,1]},\"id\":\"1310\",\"type\":\"FixedTicker\"},{\"attributes\":{\"source\":{\"id\":\"1217\"}},\"id\":\"1281\",\"type\":\"CDSView\"},{\"attributes\":{\"bottom\":{\"expr\":{\"id\":\"1257\"}},\"fill_alpha\":{\"value\":0.2},\"fill_color\":{\"value\":\"#2ca02c\"},\"hatch_alpha\":{\"value\":0.2},\"hatch_color\":{\"value\":\"#2ca02c\"},\"line_alpha\":{\"value\":0.2},\"line_color\":{\"value\":\"#2ca02c\"},\"line_width\":{\"value\":2},\"top\":{\"expr\":{\"id\":\"1258\"}},\"width\":{\"value\":0.8},\"x\":{\"field\":\"__x__values\"}},\"id\":\"1295\",\"type\":\"VBar\"},{\"attributes\":{},\"id\":\"1241\",\"type\":\"ResetTool\"},{\"attributes\":{\"label\":{\"value\":\"1\"},\"renderers\":[{\"id\":\"1263\"}]},\"id\":\"1275\",\"type\":\"LegendItem\"},{\"attributes\":{\"coordinates\":null,\"data_source\":{\"id\":\"1217\"},\"glyph\":{\"id\":\"1293\"},\"group\":null,\"hover_glyph\":null,\"muted_glyph\":{\"id\":\"1295\"},\"name\":\"3\",\"nonselection_glyph\":{\"id\":\"1294\"},\"view\":{\"id\":\"1297\"}},\"id\":\"1296\",\"type\":\"GlyphRenderer\"},{\"attributes\":{\"label\":{\"value\":\"2\"},\"renderers\":[{\"id\":\"1280\"}]},\"id\":\"1291\",\"type\":\"LegendItem\"},{\"attributes\":{},\"id\":\"1267\",\"type\":\"BasicTickFormatter\"},{\"attributes\":{\"bottom_units\":\"screen\",\"coordinates\":null,\"fill_alpha\":0.5,\"fill_color\":\"lightgrey\",\"group\":null,\"left_units\":\"screen\",\"level\":\"overlay\",\"line_alpha\":1.0,\"line_color\":\"black\",\"line_dash\":[4,4],\"line_width\":2,\"right_units\":\"screen\",\"syncable\":false,\"top_units\":\"screen\"},\"id\":\"1243\",\"type\":\"BoxAnnotation\"},{\"attributes\":{},\"id\":\"1225\",\"type\":\"LinearScale\"},{\"attributes\":{\"source\":{\"id\":\"1217\"}},\"id\":\"1297\",\"type\":\"CDSView\"},{\"attributes\":{\"fields\":[\"1\"]},\"id\":\"1254\",\"type\":\"Stack\"},{\"attributes\":{\"bottom\":{\"expr\":{\"id\":\"1253\"}},\"fill_color\":{\"value\":\"#1f77b4\"},\"hatch_color\":{\"value\":\"#1f77b4\"},\"line_color\":{\"value\":\"#1f77b4\"},\"line_width\":{\"value\":2},\"top\":{\"expr\":{\"id\":\"1254\"}},\"width\":{\"value\":0.8},\"x\":{\"field\":\"__x__values\"}},\"id\":\"1260\",\"type\":\"VBar\"},{\"attributes\":{\"coordinates\":null,\"data_source\":{\"id\":\"1217\"},\"glyph\":{\"id\":\"1277\"},\"group\":null,\"hover_glyph\":null,\"muted_glyph\":{\"id\":\"1279\"},\"name\":\"2\",\"nonselection_glyph\":{\"id\":\"1278\"},\"view\":{\"id\":\"1281\"}},\"id\":\"1280\",\"type\":\"GlyphRenderer\"},{\"attributes\":{},\"id\":\"1268\",\"type\":\"AllLabels\"},{\"attributes\":{\"label\":{\"value\":\"3\"},\"renderers\":[{\"id\":\"1296\"}]},\"id\":\"1307\",\"type\":\"LegendItem\"},{\"attributes\":{\"bottom\":{\"expr\":{\"id\":\"1253\"}},\"fill_alpha\":{\"value\":0.1},\"fill_color\":{\"value\":\"#1f77b4\"},\"hatch_alpha\":{\"value\":0.1},\"hatch_color\":{\"value\":\"#1f77b4\"},\"line_alpha\":{\"value\":0.1},\"line_color\":{\"value\":\"#1f77b4\"},\"line_width\":{\"value\":2},\"top\":{\"expr\":{\"id\":\"1254\"}},\"width\":{\"value\":0.8},\"x\":{\"field\":\"__x__values\"}},\"id\":\"1261\",\"type\":\"VBar\"},{\"attributes\":{\"fields\":[]},\"id\":\"1253\",\"type\":\"Stack\"},{\"attributes\":{},\"id\":\"1223\",\"type\":\"DataRange1d\"},{\"attributes\":{\"fields\":[\"1\",\"2\"]},\"id\":\"1256\",\"type\":\"Stack\"},{\"attributes\":{\"source\":{\"id\":\"1217\"}},\"id\":\"1264\",\"type\":\"CDSView\"},{\"attributes\":{\"active_scroll\":{\"id\":\"1238\"},\"tools\":[{\"id\":\"1237\"},{\"id\":\"1238\"},{\"id\":\"1239\"},{\"id\":\"1240\"},{\"id\":\"1241\"},{\"id\":\"1242\"},{\"id\":\"1308\"}]},\"id\":\"1244\",\"type\":\"Toolbar\"},{\"attributes\":{},\"id\":\"1272\",\"type\":\"Selection\"},{\"attributes\":{\"fields\":[\"1\"]},\"id\":\"1255\",\"type\":\"Stack\"},{\"attributes\":{},\"id\":\"1221\",\"type\":\"DataRange1d\"},{\"attributes\":{},\"id\":\"1271\",\"type\":\"UnionRenderers\"},{\"attributes\":{\"coordinates\":null,\"data_source\":{\"id\":\"1217\"},\"glyph\":{\"id\":\"1260\"},\"group\":null,\"hover_glyph\":null,\"muted_glyph\":{\"id\":\"1262\"},\"name\":\"1\",\"nonselection_glyph\":{\"id\":\"1261\"},\"view\":{\"id\":\"1264\"}},\"id\":\"1263\",\"type\":\"GlyphRenderer\"},{\"attributes\":{\"axis_label\":\"sex\",\"coordinates\":null,\"formatter\":{\"id\":\"1251\"},\"group\":null,\"major_label_policy\":{\"id\":\"1270\"},\"ticker\":{\"id\":\"1310\"}},\"id\":\"1229\",\"type\":\"LinearAxis\"},{\"attributes\":{\"fields\":[\"1\",\"2\"]},\"id\":\"1257\",\"type\":\"Stack\"},{\"attributes\":{},\"id\":\"1227\",\"type\":\"LinearScale\"},{\"attributes\":{\"axis\":{\"id\":\"1229\"},\"coordinates\":null,\"group\":null,\"ticker\":null},\"id\":\"1232\",\"type\":\"Grid\"},{\"attributes\":{\"coordinates\":null,\"group\":null,\"text\":\"Survived passengers per gender and class\"},\"id\":\"1219\",\"type\":\"Title\"}],\"root_ids\":[\"1218\"]},\"title\":\"Bokeh Application\",\"version\":\"2.4.3\"}};\n",
       "  const render_items = [{\"docid\":\"5153ddf1-c270-47b6-98a2-7fa35d43c95f\",\"root_ids\":[\"1218\"],\"roots\":{\"1218\":\"bf79f576-e51f-4a94-baa5-e335bf15d194\"}}];\n",
       "  root.Bokeh.embed.embed_items_notebook(docs_json, render_items);\n",
       "  }\n",
       "  if (root.Bokeh !== undefined) {\n",
       "    embed_document(root);\n",
       "  } else {\n",
       "    let attempts = 0;\n",
       "    const timer = setInterval(function(root) {\n",
       "      if (root.Bokeh !== undefined) {\n",
       "        clearInterval(timer);\n",
       "        embed_document(root);\n",
       "      } else {\n",
       "        attempts++;\n",
       "        if (attempts > 100) {\n",
       "          clearInterval(timer);\n",
       "          console.log(\"Bokeh: ERROR: Unable to run BokehJS code because BokehJS library is missing\");\n",
       "        }\n",
       "      }\n",
       "    }, 10, root)\n",
       "  }\n",
       "})(window);"
      ],
      "application/vnd.bokehjs_exec.v0+json": ""
     },
     "metadata": {
      "application/vnd.bokehjs_exec.v0+json": {
       "id": "1218"
      }
     },
     "output_type": "display_data"
    }
   ],
   "source": [
    "# pt.drop('Total', axis=1).drop('Total', axis=0).plot(kind='bar', stacked=True)\n",
    "_ = pt.drop('Total', axis=1).drop('Total', axis=0).plot_bokeh(kind='bar', stacked=True, title='Survived passengers per gender and class')\n"
   ]
  },
  {
   "cell_type": "markdown",
   "metadata": {},
   "source": [
    "The transpose of the pivot table allows for a different visualization (note the \".T\"). Now, each bar is associated to the class."
   ]
  },
  {
   "cell_type": "code",
   "execution_count": 15,
   "metadata": {
    "ExecuteTime": {
     "end_time": "2023-04-16T18:01:09.678827Z",
     "start_time": "2023-04-16T18:01:09.629524Z"
    }
   },
   "outputs": [
    {
     "data": {
      "text/html": [
       "<div>\n",
       "<style scoped>\n",
       "    .dataframe tbody tr th:only-of-type {\n",
       "        vertical-align: middle;\n",
       "    }\n",
       "\n",
       "    .dataframe tbody tr th {\n",
       "        vertical-align: top;\n",
       "    }\n",
       "\n",
       "    .dataframe thead th {\n",
       "        text-align: right;\n",
       "    }\n",
       "</style>\n",
       "<table border=\"1\" class=\"dataframe\">\n",
       "  <thead>\n",
       "    <tr style=\"text-align: right;\">\n",
       "      <th>sex</th>\n",
       "      <th>female</th>\n",
       "      <th>male</th>\n",
       "      <th>Total</th>\n",
       "    </tr>\n",
       "    <tr>\n",
       "      <th>pclass</th>\n",
       "      <th></th>\n",
       "      <th></th>\n",
       "      <th></th>\n",
       "    </tr>\n",
       "  </thead>\n",
       "  <tbody>\n",
       "    <tr>\n",
       "      <th>1</th>\n",
       "      <td>139</td>\n",
       "      <td>61</td>\n",
       "      <td>200</td>\n",
       "    </tr>\n",
       "    <tr>\n",
       "      <th>2</th>\n",
       "      <td>94</td>\n",
       "      <td>25</td>\n",
       "      <td>119</td>\n",
       "    </tr>\n",
       "    <tr>\n",
       "      <th>3</th>\n",
       "      <td>106</td>\n",
       "      <td>75</td>\n",
       "      <td>181</td>\n",
       "    </tr>\n",
       "    <tr>\n",
       "      <th>Total</th>\n",
       "      <td>339</td>\n",
       "      <td>161</td>\n",
       "      <td>500</td>\n",
       "    </tr>\n",
       "  </tbody>\n",
       "</table>\n",
       "</div>"
      ],
      "text/plain": [
       "sex     female  male  Total\n",
       "pclass                     \n",
       "1          139    61    200\n",
       "2           94    25    119\n",
       "3          106    75    181\n",
       "Total      339   161    500"
      ]
     },
     "execution_count": 15,
     "metadata": {},
     "output_type": "execute_result"
    }
   ],
   "source": [
    "pt.T"
   ]
  },
  {
   "cell_type": "markdown",
   "metadata": {},
   "source": [
    "And the corresponding bar plot is:"
   ]
  },
  {
   "cell_type": "code",
   "execution_count": 16,
   "metadata": {
    "ExecuteTime": {
     "end_time": "2023-04-16T18:01:09.716110Z",
     "start_time": "2023-04-16T18:01:09.653876Z"
    }
   },
   "outputs": [
    {
     "data": {
      "text/html": [
       "\n",
       "  <div class=\"bk-root\" id=\"43e3cbea-726f-488b-9a59-8514e3366dfe\" data-root-id=\"1404\"></div>\n"
      ]
     },
     "metadata": {},
     "output_type": "display_data"
    },
    {
     "data": {
      "application/javascript": [
       "(function(root) {\n",
       "  function embed_document(root) {\n",
       "  const docs_json = {\"c8f15dbf-34e8-4ea9-a9a7-c48e579f9f0a\":{\"defs\":[],\"roots\":{\"references\":[{\"attributes\":{\"below\":[{\"id\":\"1415\"}],\"center\":[{\"id\":\"1418\"},{\"id\":\"1422\"},{\"id\":\"1458\"}],\"height\":400,\"left\":[{\"id\":\"1419\"}],\"output_backend\":\"webgl\",\"renderers\":[{\"id\":\"1447\"},{\"id\":\"1464\"}],\"sizing_mode\":\"fixed\",\"title\":{\"id\":\"1405\"},\"toolbar\":{\"id\":\"1430\"},\"x_range\":{\"id\":\"1407\"},\"x_scale\":{\"id\":\"1411\"},\"y_range\":{\"id\":\"1409\"},\"y_scale\":{\"id\":\"1413\"}},\"id\":\"1404\",\"subtype\":\"Figure\",\"type\":\"Plot\"},{\"attributes\":{},\"id\":\"1427\",\"type\":\"ResetTool\"},{\"attributes\":{},\"id\":\"1452\",\"type\":\"AllLabels\"},{\"attributes\":{},\"id\":\"1426\",\"type\":\"SaveTool\"},{\"attributes\":{\"coordinates\":null,\"group\":null,\"items\":[{\"id\":\"1459\"},{\"id\":\"1475\"}]},\"id\":\"1458\",\"type\":\"Legend\"},{\"attributes\":{\"overlay\":{\"id\":\"1429\"}},\"id\":\"1425\",\"type\":\"BoxZoomTool\"},{\"attributes\":{},\"id\":\"1423\",\"type\":\"PanTool\"},{\"attributes\":{},\"id\":\"1454\",\"type\":\"AllLabels\"},{\"attributes\":{\"coordinates\":null,\"data_source\":{\"id\":\"1403\"},\"glyph\":{\"id\":\"1444\"},\"group\":null,\"hover_glyph\":null,\"muted_glyph\":{\"id\":\"1446\"},\"name\":\"female\",\"nonselection_glyph\":{\"id\":\"1445\"},\"view\":{\"id\":\"1448\"}},\"id\":\"1447\",\"type\":\"GlyphRenderer\"},{\"attributes\":{\"source\":{\"id\":\"1403\"}},\"id\":\"1448\",\"type\":\"CDSView\"},{\"attributes\":{},\"id\":\"1424\",\"type\":\"WheelZoomTool\"},{\"attributes\":{},\"id\":\"1428\",\"type\":\"HelpTool\"},{\"attributes\":{},\"id\":\"1420\",\"type\":\"BasicTicker\"},{\"attributes\":{\"axis\":{\"id\":\"1419\"},\"coordinates\":null,\"dimension\":1,\"group\":null,\"ticker\":null},\"id\":\"1422\",\"type\":\"Grid\"},{\"attributes\":{\"coordinates\":null,\"data_source\":{\"id\":\"1403\"},\"glyph\":{\"id\":\"1461\"},\"group\":null,\"hover_glyph\":null,\"muted_glyph\":{\"id\":\"1463\"},\"name\":\"male\",\"nonselection_glyph\":{\"id\":\"1462\"},\"view\":{\"id\":\"1465\"}},\"id\":\"1464\",\"type\":\"GlyphRenderer\"},{\"attributes\":{\"coordinates\":null,\"formatter\":{\"id\":\"1451\"},\"group\":null,\"major_label_policy\":{\"id\":\"1452\"},\"ticker\":{\"id\":\"1420\"}},\"id\":\"1419\",\"type\":\"LinearAxis\"},{\"attributes\":{\"label\":{\"value\":\"female\"},\"renderers\":[{\"id\":\"1447\"}]},\"id\":\"1459\",\"type\":\"LegendItem\"},{\"attributes\":{\"axis\":{\"id\":\"1415\"},\"coordinates\":null,\"group\":null,\"ticker\":null},\"id\":\"1418\",\"type\":\"Grid\"},{\"attributes\":{\"code\":\"\\n                                    var labels = {0: '1', 1: '2', 2: '3'};\\n                                    return labels[tick];\\n                                    \"},\"id\":\"1437\",\"type\":\"FuncTickFormatter\"},{\"attributes\":{},\"id\":\"1455\",\"type\":\"UnionRenderers\"},{\"attributes\":{\"fields\":[]},\"id\":\"1439\",\"type\":\"Stack\"},{\"attributes\":{},\"id\":\"1411\",\"type\":\"LinearScale\"},{\"attributes\":{\"bottom\":{\"expr\":{\"id\":\"1439\"}},\"fill_color\":{\"value\":\"#1f77b4\"},\"hatch_color\":{\"value\":\"#1f77b4\"},\"line_color\":{\"value\":\"#1f77b4\"},\"line_width\":{\"value\":2},\"top\":{\"expr\":{\"id\":\"1440\"}},\"width\":{\"value\":0.8},\"x\":{\"field\":\"__x__values\"}},\"id\":\"1444\",\"type\":\"VBar\"},{\"attributes\":{},\"id\":\"1456\",\"type\":\"Selection\"},{\"attributes\":{\"bottom\":{\"expr\":{\"id\":\"1439\"}},\"fill_alpha\":{\"value\":0.1},\"fill_color\":{\"value\":\"#1f77b4\"},\"hatch_alpha\":{\"value\":0.1},\"hatch_color\":{\"value\":\"#1f77b4\"},\"line_alpha\":{\"value\":0.1},\"line_color\":{\"value\":\"#1f77b4\"},\"line_width\":{\"value\":2},\"top\":{\"expr\":{\"id\":\"1440\"}},\"width\":{\"value\":0.8},\"x\":{\"field\":\"__x__values\"}},\"id\":\"1445\",\"type\":\"VBar\"},{\"attributes\":{\"axis_label\":\"pclass\",\"coordinates\":null,\"formatter\":{\"id\":\"1437\"},\"group\":null,\"major_label_policy\":{\"id\":\"1454\"},\"ticker\":{\"id\":\"1478\"}},\"id\":\"1415\",\"type\":\"LinearAxis\"},{\"attributes\":{},\"id\":\"1413\",\"type\":\"LinearScale\"},{\"attributes\":{\"bottom\":{\"expr\":{\"id\":\"1441\"}},\"fill_color\":{\"value\":\"#ff7f0e\"},\"hatch_color\":{\"value\":\"#ff7f0e\"},\"line_color\":{\"value\":\"#ff7f0e\"},\"line_width\":{\"value\":2},\"top\":{\"expr\":{\"id\":\"1442\"}},\"width\":{\"value\":0.8},\"x\":{\"field\":\"__x__values\"}},\"id\":\"1461\",\"type\":\"VBar\"},{\"attributes\":{\"bottom\":{\"expr\":{\"id\":\"1439\"}},\"fill_alpha\":{\"value\":0.2},\"fill_color\":{\"value\":\"#1f77b4\"},\"hatch_alpha\":{\"value\":0.2},\"hatch_color\":{\"value\":\"#1f77b4\"},\"line_alpha\":{\"value\":0.2},\"line_color\":{\"value\":\"#1f77b4\"},\"line_width\":{\"value\":2},\"top\":{\"expr\":{\"id\":\"1440\"}},\"width\":{\"value\":0.8},\"x\":{\"field\":\"__x__values\"}},\"id\":\"1446\",\"type\":\"VBar\"},{\"attributes\":{\"fields\":[\"female\",\"male\"]},\"id\":\"1442\",\"type\":\"Stack\"},{\"attributes\":{\"coordinates\":null,\"group\":null},\"id\":\"1405\",\"type\":\"Title\"},{\"attributes\":{\"data\":{\"__x__values\":[0,1,2],\"__x__values_original\":[1,2,3],\"female\":[139,94,106],\"male\":[61,25,75]},\"selected\":{\"id\":\"1456\"},\"selection_policy\":{\"id\":\"1455\"}},\"id\":\"1403\",\"type\":\"ColumnDataSource\"},{\"attributes\":{\"label\":{\"value\":\"male\"},\"renderers\":[{\"id\":\"1464\"}]},\"id\":\"1475\",\"type\":\"LegendItem\"},{\"attributes\":{},\"id\":\"1407\",\"type\":\"DataRange1d\"},{\"attributes\":{\"fields\":[\"female\"]},\"id\":\"1440\",\"type\":\"Stack\"},{\"attributes\":{\"ticks\":[0,1,2]},\"id\":\"1478\",\"type\":\"FixedTicker\"},{\"attributes\":{\"source\":{\"id\":\"1403\"}},\"id\":\"1465\",\"type\":\"CDSView\"},{\"attributes\":{},\"id\":\"1409\",\"type\":\"DataRange1d\"},{\"attributes\":{\"active_scroll\":{\"id\":\"1424\"},\"tools\":[{\"id\":\"1423\"},{\"id\":\"1424\"},{\"id\":\"1425\"},{\"id\":\"1426\"},{\"id\":\"1427\"},{\"id\":\"1428\"},{\"id\":\"1476\"}]},\"id\":\"1430\",\"type\":\"Toolbar\"},{\"attributes\":{\"callback\":null,\"mode\":\"vline\",\"renderers\":[{\"id\":\"1464\"}],\"tooltips\":[[\"pclass\",\"@__x__values_original\"],[\"female\",\"@{female}\"],[\"male\",\"@{male}\"]]},\"id\":\"1476\",\"type\":\"HoverTool\"},{\"attributes\":{\"fields\":[\"female\"]},\"id\":\"1441\",\"type\":\"Stack\"},{\"attributes\":{\"bottom\":{\"expr\":{\"id\":\"1441\"}},\"fill_alpha\":{\"value\":0.1},\"fill_color\":{\"value\":\"#ff7f0e\"},\"hatch_alpha\":{\"value\":0.1},\"hatch_color\":{\"value\":\"#ff7f0e\"},\"line_alpha\":{\"value\":0.1},\"line_color\":{\"value\":\"#ff7f0e\"},\"line_width\":{\"value\":2},\"top\":{\"expr\":{\"id\":\"1442\"}},\"width\":{\"value\":0.8},\"x\":{\"field\":\"__x__values\"}},\"id\":\"1462\",\"type\":\"VBar\"},{\"attributes\":{\"bottom_units\":\"screen\",\"coordinates\":null,\"fill_alpha\":0.5,\"fill_color\":\"lightgrey\",\"group\":null,\"left_units\":\"screen\",\"level\":\"overlay\",\"line_alpha\":1.0,\"line_color\":\"black\",\"line_dash\":[4,4],\"line_width\":2,\"right_units\":\"screen\",\"syncable\":false,\"top_units\":\"screen\"},\"id\":\"1429\",\"type\":\"BoxAnnotation\"},{\"attributes\":{},\"id\":\"1451\",\"type\":\"BasicTickFormatter\"},{\"attributes\":{\"bottom\":{\"expr\":{\"id\":\"1441\"}},\"fill_alpha\":{\"value\":0.2},\"fill_color\":{\"value\":\"#ff7f0e\"},\"hatch_alpha\":{\"value\":0.2},\"hatch_color\":{\"value\":\"#ff7f0e\"},\"line_alpha\":{\"value\":0.2},\"line_color\":{\"value\":\"#ff7f0e\"},\"line_width\":{\"value\":2},\"top\":{\"expr\":{\"id\":\"1442\"}},\"width\":{\"value\":0.8},\"x\":{\"field\":\"__x__values\"}},\"id\":\"1463\",\"type\":\"VBar\"}],\"root_ids\":[\"1404\"]},\"title\":\"Bokeh Application\",\"version\":\"2.4.3\"}};\n",
       "  const render_items = [{\"docid\":\"c8f15dbf-34e8-4ea9-a9a7-c48e579f9f0a\",\"root_ids\":[\"1404\"],\"roots\":{\"1404\":\"43e3cbea-726f-488b-9a59-8514e3366dfe\"}}];\n",
       "  root.Bokeh.embed.embed_items_notebook(docs_json, render_items);\n",
       "  }\n",
       "  if (root.Bokeh !== undefined) {\n",
       "    embed_document(root);\n",
       "  } else {\n",
       "    let attempts = 0;\n",
       "    const timer = setInterval(function(root) {\n",
       "      if (root.Bokeh !== undefined) {\n",
       "        clearInterval(timer);\n",
       "        embed_document(root);\n",
       "      } else {\n",
       "        attempts++;\n",
       "        if (attempts > 100) {\n",
       "          clearInterval(timer);\n",
       "          console.log(\"Bokeh: ERROR: Unable to run BokehJS code because BokehJS library is missing\");\n",
       "        }\n",
       "      }\n",
       "    }, 10, root)\n",
       "  }\n",
       "})(window);"
      ],
      "application/vnd.bokehjs_exec.v0+json": ""
     },
     "metadata": {
      "application/vnd.bokehjs_exec.v0+json": {
       "id": "1404"
      }
     },
     "output_type": "display_data"
    }
   ],
   "source": [
    "# pt.drop('Total', axis=1).drop('Total', axis=0).T.plot(kind='bar', stacked=True)\n",
    "_ = pt.drop('Total', axis=1).drop('Total', axis=0).T.plot_bokeh(kind='bar', stacked=True)"
   ]
  },
  {
   "cell_type": "markdown",
   "metadata": {},
   "source": [
    "Another interesting graph are pie plots."
   ]
  },
  {
   "cell_type": "code",
   "execution_count": 17,
   "metadata": {
    "ExecuteTime": {
     "end_time": "2023-04-16T18:01:09.807110Z",
     "start_time": "2023-04-16T18:01:09.706224Z"
    }
   },
   "outputs": [
    {
     "name": "stdout",
     "output_type": "stream",
     "text": [
      "__x__values_original\n"
     ]
    },
    {
     "data": {
      "text/html": [
       "\n",
       "  <div class=\"bk-root\" id=\"0751d249-014d-4323-9be9-69b3684029d6\" data-root-id=\"1579\"></div>\n"
      ]
     },
     "metadata": {},
     "output_type": "display_data"
    },
    {
     "data": {
      "application/javascript": [
       "(function(root) {\n",
       "  function embed_document(root) {\n",
       "  const docs_json = {\"920abdd2-6489-4595-9c74-52a9282dc85a\":{\"defs\":[],\"roots\":{\"references\":[{\"attributes\":{\"below\":[{\"id\":\"1590\"}],\"center\":[{\"id\":\"1593\"},{\"id\":\"1597\"},{\"id\":\"1691\"}],\"height\":400,\"left\":[{\"id\":\"1594\"}],\"renderers\":[{\"id\":\"1619\"},{\"id\":\"1626\"},{\"id\":\"1632\"},{\"id\":\"1643\"},{\"id\":\"1650\"},{\"id\":\"1656\"},{\"id\":\"1667\"},{\"id\":\"1698\"},{\"id\":\"1704\"}],\"title\":{\"id\":\"1580\"},\"toolbar\":{\"id\":\"1605\"},\"toolbar_location\":null,\"x_range\":{\"id\":\"1582\"},\"x_scale\":{\"id\":\"1586\"},\"y_range\":{\"id\":\"1584\"},\"y_scale\":{\"id\":\"1588\"}},\"id\":\"1579\",\"subtype\":\"Figure\",\"type\":\"Plot\"},{\"attributes\":{\"line_alpha\":0.2,\"x\":{\"field\":\"x\"},\"y\":{\"field\":\"y\"}},\"id\":\"1631\",\"type\":\"Line\"},{\"attributes\":{\"source\":{\"id\":\"1628\"}},\"id\":\"1633\",\"type\":\"CDSView\"},{\"attributes\":{\"field\":\"2_angle\",\"include_zero\":true},\"id\":\"1636\",\"type\":\"CumSum\"},{\"attributes\":{},\"id\":\"1671\",\"type\":\"BasicTickFormatter\"},{\"attributes\":{\"data\":{\"1\":[139,61],\"1_angle\":{\"__ndarray__\":\"dSSlCJ53EUCJInwudan+Pw==\",\"dtype\":\"float64\",\"order\":\"little\",\"shape\":[2]},\"2\":[94,25],\"2_angle\":{\"__ndarray__\":\"odzuDk7aE0DcQVUVtR71Pw==\",\"dtype\":\"float64\",\"order\":\"little\",\"shape\":[2]},\"3\":[106,75],\"3_angle\":{\"__ndarray__\":\"4HXaNu9vDUBP5K1xB9QEQA==\",\"dtype\":\"float64\",\"order\":\"little\",\"shape\":[2]},\"__x__values\":[\"female\",\"male\"],\"__x__values_original\":[\"female\",\"male\"],\"color\":[\"#1f77b4\",\"#ff7f0e\"],\"inner_radius\":[0.3333333333333333,0.3333333333333333],\"outer_radius\":[0.6333333333333333,0.6333333333333333]},\"selected\":{\"id\":\"1683\"},\"selection_policy\":{\"id\":\"1682\"}},\"id\":\"1638\",\"type\":\"ColumnDataSource\"},{\"attributes\":{\"field\":\"2_angle\"},\"id\":\"1637\",\"type\":\"CumSum\"},{\"attributes\":{},\"id\":\"1672\",\"type\":\"AllLabels\"},{\"attributes\":{\"end_angle\":{\"expr\":{\"id\":\"1637\"}},\"fill_color\":{\"field\":\"color\"},\"inner_radius\":{\"field\":\"inner_radius\"},\"line_color\":{\"value\":\"white\"},\"line_width\":{\"value\":2},\"outer_radius\":{\"field\":\"outer_radius\"},\"start_angle\":{\"expr\":{\"id\":\"1636\"}},\"x\":{\"value\":0},\"y\":{\"value\":0}},\"id\":\"1640\",\"type\":\"AnnularWedge\"},{\"attributes\":{\"data\":{\"__x__values\":[-1.35],\"text\":[\"2\"],\"y\":[0.2]},\"selected\":{\"id\":\"1685\"},\"selection_policy\":{\"id\":\"1684\"}},\"id\":\"1645\",\"type\":\"ColumnDataSource\"},{\"attributes\":{\"end_angle\":{\"expr\":{\"id\":\"1637\"}},\"fill_alpha\":{\"value\":0.2},\"fill_color\":{\"field\":\"color\"},\"hatch_alpha\":{\"value\":0.2},\"inner_radius\":{\"field\":\"inner_radius\"},\"line_alpha\":{\"value\":0.2},\"line_color\":{\"value\":\"white\"},\"line_width\":{\"value\":2},\"outer_radius\":{\"field\":\"outer_radius\"},\"start_angle\":{\"expr\":{\"id\":\"1636\"}},\"x\":{\"value\":0},\"y\":{\"value\":0}},\"id\":\"1642\",\"type\":\"AnnularWedge\"},{\"attributes\":{},\"id\":\"1674\",\"type\":\"BasicTickFormatter\"},{\"attributes\":{\"end_angle\":{\"expr\":{\"id\":\"1637\"}},\"fill_alpha\":{\"value\":0.1},\"fill_color\":{\"field\":\"color\"},\"hatch_alpha\":{\"value\":0.1},\"inner_radius\":{\"field\":\"inner_radius\"},\"line_alpha\":{\"value\":0.1},\"line_color\":{\"value\":\"white\"},\"line_width\":{\"value\":2},\"outer_radius\":{\"field\":\"outer_radius\"},\"start_angle\":{\"expr\":{\"id\":\"1636\"}},\"x\":{\"value\":0},\"y\":{\"value\":0}},\"id\":\"1641\",\"type\":\"AnnularWedge\"},{\"attributes\":{\"coordinates\":null,\"data_source\":{\"id\":\"1638\"},\"glyph\":{\"id\":\"1640\"},\"group\":null,\"hover_glyph\":null,\"muted_glyph\":{\"id\":\"1642\"},\"nonselection_glyph\":{\"id\":\"1641\"},\"view\":{\"id\":\"1644\"}},\"id\":\"1643\",\"type\":\"GlyphRenderer\"},{\"attributes\":{},\"id\":\"1675\",\"type\":\"AllLabels\"},{\"attributes\":{\"source\":{\"id\":\"1638\"}},\"id\":\"1644\",\"type\":\"CDSView\"},{\"attributes\":{\"data\":{\"x\":[-1.3,0],\"y\":[0.2,-0.4833333333333333]},\"selected\":{\"id\":\"1687\"},\"selection_policy\":{\"id\":\"1686\"}},\"id\":\"1652\",\"type\":\"ColumnDataSource\"},{\"attributes\":{\"coordinates\":null,\"data_source\":{\"id\":\"1693\"},\"glyph\":{\"id\":\"1695\"},\"group\":null,\"hover_glyph\":null,\"muted_glyph\":{\"id\":\"1697\"},\"nonselection_glyph\":{\"id\":\"1696\"},\"view\":{\"id\":\"1699\"}},\"id\":\"1698\",\"type\":\"GlyphRenderer\"},{\"attributes\":{\"text_alpha\":{\"value\":0.1},\"text_color\":{\"value\":\"black\"},\"text_font_style\":{\"value\":\"bold\"},\"x\":{\"field\":\"__x__values\"},\"y\":{\"field\":\"y\"}},\"id\":\"1648\",\"type\":\"Text\"},{\"attributes\":{\"coordinates\":null,\"data_source\":{\"id\":\"1645\"},\"glyph\":{\"id\":\"1647\"},\"group\":null,\"hover_glyph\":null,\"muted_glyph\":{\"id\":\"1649\"},\"nonselection_glyph\":{\"id\":\"1648\"},\"view\":{\"id\":\"1651\"}},\"id\":\"1650\",\"type\":\"GlyphRenderer\"},{\"attributes\":{\"coordinates\":null,\"data_source\":{\"id\":\"1652\"},\"glyph\":{\"id\":\"1653\"},\"group\":null,\"hover_glyph\":null,\"muted_glyph\":{\"id\":\"1655\"},\"nonselection_glyph\":{\"id\":\"1654\"},\"view\":{\"id\":\"1657\"}},\"id\":\"1656\",\"type\":\"GlyphRenderer\"},{\"attributes\":{\"line_alpha\":0.2,\"x\":{\"field\":\"x\"},\"y\":{\"field\":\"y\"}},\"id\":\"1655\",\"type\":\"Line\"},{\"attributes\":{\"source\":{\"id\":\"1693\"}},\"id\":\"1699\",\"type\":\"CDSView\"},{\"attributes\":{},\"id\":\"1676\",\"type\":\"UnionRenderers\"},{\"attributes\":{\"text_alpha\":{\"value\":0.2},\"text_color\":{\"value\":\"black\"},\"text_font_style\":{\"value\":\"bold\"},\"x\":{\"field\":\"__x__values\"},\"y\":{\"field\":\"y\"}},\"id\":\"1649\",\"type\":\"Text\"},{\"attributes\":{\"source\":{\"id\":\"1645\"}},\"id\":\"1651\",\"type\":\"CDSView\"},{\"attributes\":{\"callback\":null,\"renderers\":[{\"id\":\"1643\"}],\"tooltips\":[[\"sex\",\"@__x__values_original\"],[\"2\",\"@{2}\"]]},\"id\":\"1658\",\"type\":\"HoverTool\"},{\"attributes\":{},\"id\":\"1677\",\"type\":\"Selection\"},{\"attributes\":{},\"id\":\"1687\",\"type\":\"Selection\"},{\"attributes\":{\"source\":{\"id\":\"1652\"}},\"id\":\"1657\",\"type\":\"CDSView\"},{\"attributes\":{\"line_alpha\":0.1,\"x\":{\"field\":\"x\"},\"y\":{\"field\":\"y\"}},\"id\":\"1702\",\"type\":\"Line\"},{\"attributes\":{},\"id\":\"1686\",\"type\":\"UnionRenderers\"},{\"attributes\":{\"field\":\"1_angle\"},\"id\":\"1661\",\"type\":\"CumSum\"},{\"attributes\":{\"label\":{\"field\":\"__x__values_original\"},\"renderers\":[{\"id\":\"1667\"}]},\"id\":\"1692\",\"type\":\"LegendItem\"},{\"attributes\":{\"line_alpha\":0.1,\"x\":{\"field\":\"x\"},\"y\":{\"field\":\"y\"}},\"id\":\"1654\",\"type\":\"Line\"},{\"attributes\":{\"x\":{\"field\":\"x\"},\"y\":{\"field\":\"y\"}},\"id\":\"1653\",\"type\":\"Line\"},{\"attributes\":{\"x\":{\"field\":\"x\"},\"y\":{\"field\":\"y\"}},\"id\":\"1701\",\"type\":\"Line\"},{\"attributes\":{},\"id\":\"1757\",\"type\":\"Selection\"},{\"attributes\":{\"ticks\":[0,1]},\"id\":\"1708\",\"type\":\"FixedTicker\"},{\"attributes\":{\"field\":\"1_angle\",\"include_zero\":true},\"id\":\"1660\",\"type\":\"CumSum\"},{\"attributes\":{\"text_color\":{\"value\":\"black\"},\"text_font_style\":{\"value\":\"bold\"},\"x\":{\"field\":\"__x__values\"},\"y\":{\"field\":\"y\"}},\"id\":\"1647\",\"type\":\"Text\"},{\"attributes\":{\"data\":{\"1\":[139,61],\"1_angle\":{\"__ndarray__\":\"dSSlCJ53EUCJInwudan+Pw==\",\"dtype\":\"float64\",\"order\":\"little\",\"shape\":[2]},\"2\":[94,25],\"2_angle\":{\"__ndarray__\":\"odzuDk7aE0DcQVUVtR71Pw==\",\"dtype\":\"float64\",\"order\":\"little\",\"shape\":[2]},\"3\":[106,75],\"3_angle\":{\"__ndarray__\":\"4HXaNu9vDUBP5K1xB9QEQA==\",\"dtype\":\"float64\",\"order\":\"little\",\"shape\":[2]},\"__x__values\":[\"female\",\"male\"],\"__x__values_original\":[\"female\",\"male\"],\"color\":[\"#1f77b4\",\"#ff7f0e\"],\"inner_radius\":[0.0,0.0],\"outer_radius\":[0.3,0.3]},\"selected\":{\"id\":\"1689\"},\"selection_policy\":{\"id\":\"1688\"}},\"id\":\"1662\",\"type\":\"ColumnDataSource\"},{\"attributes\":{\"coordinates\":null,\"group\":null,\"items\":[{\"id\":\"1692\"}]},\"id\":\"1691\",\"type\":\"Legend\"},{\"attributes\":{},\"id\":\"1678\",\"type\":\"UnionRenderers\"},{\"attributes\":{},\"id\":\"1679\",\"type\":\"Selection\"},{\"attributes\":{\"line_alpha\":0.2,\"x\":{\"field\":\"x\"},\"y\":{\"field\":\"y\"}},\"id\":\"1703\",\"type\":\"Line\"},{\"attributes\":{\"data\":{\"x\":[-1.3,0],\"y\":[0.5,-0.15]},\"selected\":{\"id\":\"1757\"},\"selection_policy\":{\"id\":\"1756\"}},\"id\":\"1700\",\"type\":\"ColumnDataSource\"},{\"attributes\":{\"coordinates\":null,\"data_source\":{\"id\":\"1700\"},\"glyph\":{\"id\":\"1701\"},\"group\":null,\"hover_glyph\":null,\"muted_glyph\":{\"id\":\"1703\"},\"nonselection_glyph\":{\"id\":\"1702\"},\"view\":{\"id\":\"1705\"}},\"id\":\"1704\",\"type\":\"GlyphRenderer\"},{\"attributes\":{},\"id\":\"1681\",\"type\":\"Selection\"},{\"attributes\":{},\"id\":\"1756\",\"type\":\"UnionRenderers\"},{\"attributes\":{},\"id\":\"1680\",\"type\":\"UnionRenderers\"},{\"attributes\":{},\"id\":\"1755\",\"type\":\"Selection\"},{\"attributes\":{},\"id\":\"1754\",\"type\":\"UnionRenderers\"},{\"attributes\":{\"callback\":null,\"renderers\":[{\"id\":\"1667\"}],\"tooltips\":[[\"sex\",\"@__x__values_original\"],[\"1\",\"@{1}\"]]},\"id\":\"1706\",\"type\":\"HoverTool\"},{\"attributes\":{\"source\":{\"id\":\"1700\"}},\"id\":\"1705\",\"type\":\"CDSView\"},{\"attributes\":{\"data\":{\"__x__values\":[-1.35],\"text\":[\"1\"],\"y\":[0.5]},\"selected\":{\"id\":\"1755\"},\"selection_policy\":{\"id\":\"1754\"}},\"id\":\"1693\",\"type\":\"ColumnDataSource\"},{\"attributes\":{\"text_alpha\":{\"value\":0.1},\"text_color\":{\"value\":\"black\"},\"text_font_style\":{\"value\":\"bold\"},\"x\":{\"field\":\"__x__values\"},\"y\":{\"field\":\"y\"}},\"id\":\"1696\",\"type\":\"Text\"},{\"attributes\":{\"text_alpha\":{\"value\":0.2},\"text_color\":{\"value\":\"black\"},\"text_font_style\":{\"value\":\"bold\"},\"x\":{\"field\":\"__x__values\"},\"y\":{\"field\":\"y\"}},\"id\":\"1697\",\"type\":\"Text\"},{\"attributes\":{\"text_color\":{\"value\":\"black\"},\"text_font_style\":{\"value\":\"bold\"},\"x\":{\"field\":\"__x__values\"},\"y\":{\"field\":\"y\"}},\"id\":\"1695\",\"type\":\"Text\"},{\"attributes\":{},\"id\":\"1601\",\"type\":\"SaveTool\"},{\"attributes\":{},\"id\":\"1588\",\"type\":\"LinearScale\"},{\"attributes\":{\"axis\":{\"id\":\"1590\"},\"coordinates\":null,\"grid_line_color\":null,\"group\":null,\"ticker\":null},\"id\":\"1593\",\"type\":\"Grid\"},{\"attributes\":{\"coordinates\":null,\"formatter\":{\"id\":\"1671\"},\"group\":null,\"major_label_policy\":{\"id\":\"1672\"},\"ticker\":{\"id\":\"1595\"},\"visible\":false},\"id\":\"1594\",\"type\":\"LinearAxis\"},{\"attributes\":{\"coordinates\":null,\"formatter\":{\"id\":\"1674\"},\"group\":null,\"major_label_policy\":{\"id\":\"1675\"},\"ticker\":{\"id\":\"1708\"},\"visible\":false},\"id\":\"1590\",\"type\":\"LinearAxis\"},{\"attributes\":{\"coordinates\":null,\"group\":null},\"id\":\"1580\",\"type\":\"Title\"},{\"attributes\":{},\"id\":\"1603\",\"type\":\"HelpTool\"},{\"attributes\":{},\"id\":\"1595\",\"type\":\"BasicTicker\"},{\"attributes\":{},\"id\":\"1602\",\"type\":\"ResetTool\"},{\"attributes\":{\"bottom_units\":\"screen\",\"coordinates\":null,\"fill_alpha\":0.5,\"fill_color\":\"lightgrey\",\"group\":null,\"left_units\":\"screen\",\"level\":\"overlay\",\"line_alpha\":1.0,\"line_color\":\"black\",\"line_dash\":[4,4],\"line_width\":2,\"right_units\":\"screen\",\"syncable\":false,\"top_units\":\"screen\"},\"id\":\"1604\",\"type\":\"BoxAnnotation\"},{\"attributes\":{},\"id\":\"1684\",\"type\":\"UnionRenderers\"},{\"attributes\":{\"field\":\"3_angle\"},\"id\":\"1613\",\"type\":\"CumSum\"},{\"attributes\":{\"line_alpha\":0.1,\"x\":{\"field\":\"x\"},\"y\":{\"field\":\"y\"}},\"id\":\"1630\",\"type\":\"Line\"},{\"attributes\":{},\"id\":\"1685\",\"type\":\"Selection\"},{\"attributes\":{\"data\":{\"1\":[139,61],\"1_angle\":{\"__ndarray__\":\"dSSlCJ53EUCJInwudan+Pw==\",\"dtype\":\"float64\",\"order\":\"little\",\"shape\":[2]},\"2\":[94,25],\"2_angle\":{\"__ndarray__\":\"odzuDk7aE0DcQVUVtR71Pw==\",\"dtype\":\"float64\",\"order\":\"little\",\"shape\":[2]},\"3\":[106,75],\"3_angle\":{\"__ndarray__\":\"4HXaNu9vDUBP5K1xB9QEQA==\",\"dtype\":\"float64\",\"order\":\"little\",\"shape\":[2]},\"__x__values\":[\"female\",\"male\"],\"__x__values_original\":[\"female\",\"male\"],\"color\":[\"#1f77b4\",\"#ff7f0e\"],\"inner_radius\":[0.6666666666666666,0.6666666666666666],\"outer_radius\":[0.9666666666666667,0.9666666666666667]},\"selected\":{\"id\":\"1677\"},\"selection_policy\":{\"id\":\"1676\"}},\"id\":\"1614\",\"type\":\"ColumnDataSource\"},{\"attributes\":{},\"id\":\"1683\",\"type\":\"Selection\"},{\"attributes\":{},\"id\":\"1688\",\"type\":\"UnionRenderers\"},{\"attributes\":{\"text_color\":{\"value\":\"black\"},\"text_font_style\":{\"value\":\"bold\"},\"x\":{\"field\":\"__x__values\"},\"y\":{\"field\":\"y\"}},\"id\":\"1623\",\"type\":\"Text\"},{\"attributes\":{\"coordinates\":null,\"data_source\":{\"id\":\"1621\"},\"glyph\":{\"id\":\"1623\"},\"group\":null,\"hover_glyph\":null,\"muted_glyph\":{\"id\":\"1625\"},\"nonselection_glyph\":{\"id\":\"1624\"},\"view\":{\"id\":\"1627\"}},\"id\":\"1626\",\"type\":\"GlyphRenderer\"},{\"attributes\":{\"tools\":[{\"id\":\"1598\"},{\"id\":\"1599\"},{\"id\":\"1600\"},{\"id\":\"1601\"},{\"id\":\"1602\"},{\"id\":\"1603\"},{\"id\":\"1634\"},{\"id\":\"1658\"},{\"id\":\"1706\"}]},\"id\":\"1605\",\"type\":\"Toolbar\"},{\"attributes\":{},\"id\":\"1586\",\"type\":\"LinearScale\"},{\"attributes\":{\"callback\":null,\"renderers\":[{\"id\":\"1619\"}],\"tooltips\":[[\"sex\",\"@__x__values_original\"],[\"3\",\"@{3}\"]]},\"id\":\"1634\",\"type\":\"HoverTool\"},{\"attributes\":{\"text_alpha\":{\"value\":0.1},\"text_color\":{\"value\":\"black\"},\"text_font_style\":{\"value\":\"bold\"},\"x\":{\"field\":\"__x__values\"},\"y\":{\"field\":\"y\"}},\"id\":\"1624\",\"type\":\"Text\"},{\"attributes\":{\"axis\":{\"id\":\"1594\"},\"coordinates\":null,\"dimension\":1,\"grid_line_color\":null,\"group\":null,\"ticker\":null},\"id\":\"1597\",\"type\":\"Grid\"},{\"attributes\":{\"text_alpha\":{\"value\":0.2},\"text_color\":{\"value\":\"black\"},\"text_font_style\":{\"value\":\"bold\"},\"x\":{\"field\":\"__x__values\"},\"y\":{\"field\":\"y\"}},\"id\":\"1625\",\"type\":\"Text\"},{\"attributes\":{\"coordinates\":null,\"data_source\":{\"id\":\"1628\"},\"glyph\":{\"id\":\"1629\"},\"group\":null,\"hover_glyph\":null,\"muted_glyph\":{\"id\":\"1631\"},\"nonselection_glyph\":{\"id\":\"1630\"},\"view\":{\"id\":\"1633\"}},\"id\":\"1632\",\"type\":\"GlyphRenderer\"},{\"attributes\":{\"data\":{\"x\":[-1.3,0],\"y\":[-0.09999999999999998,-0.8166666666666667]},\"selected\":{\"id\":\"1681\"},\"selection_policy\":{\"id\":\"1680\"}},\"id\":\"1628\",\"type\":\"ColumnDataSource\"},{\"attributes\":{\"x\":{\"field\":\"x\"},\"y\":{\"field\":\"y\"}},\"id\":\"1629\",\"type\":\"Line\"},{\"attributes\":{},\"id\":\"1598\",\"type\":\"PanTool\"},{\"attributes\":{\"source\":{\"id\":\"1662\"}},\"id\":\"1668\",\"type\":\"CDSView\"},{\"attributes\":{\"overlay\":{\"id\":\"1604\"}},\"id\":\"1600\",\"type\":\"BoxZoomTool\"},{\"attributes\":{\"coordinates\":null,\"data_source\":{\"id\":\"1662\"},\"glyph\":{\"id\":\"1664\"},\"group\":null,\"hover_glyph\":null,\"muted_glyph\":{\"id\":\"1666\"},\"nonselection_glyph\":{\"id\":\"1665\"},\"view\":{\"id\":\"1668\"}},\"id\":\"1667\",\"type\":\"GlyphRenderer\"},{\"attributes\":{\"end\":1.2,\"start\":-1.2},\"id\":\"1584\",\"type\":\"Range1d\"},{\"attributes\":{\"end_angle\":{\"expr\":{\"id\":\"1661\"}},\"fill_alpha\":{\"value\":0.1},\"fill_color\":{\"field\":\"color\"},\"hatch_alpha\":{\"value\":0.1},\"inner_radius\":{\"field\":\"inner_radius\"},\"line_alpha\":{\"value\":0.1},\"line_color\":{\"value\":\"white\"},\"line_width\":{\"value\":2},\"outer_radius\":{\"field\":\"outer_radius\"},\"start_angle\":{\"expr\":{\"id\":\"1660\"}},\"x\":{\"value\":0},\"y\":{\"value\":0}},\"id\":\"1665\",\"type\":\"AnnularWedge\"},{\"attributes\":{\"field\":\"3_angle\",\"include_zero\":true},\"id\":\"1612\",\"type\":\"CumSum\"},{\"attributes\":{\"end_angle\":{\"expr\":{\"id\":\"1613\"}},\"fill_color\":{\"field\":\"color\"},\"inner_radius\":{\"field\":\"inner_radius\"},\"line_color\":{\"value\":\"white\"},\"line_width\":{\"value\":2},\"outer_radius\":{\"field\":\"outer_radius\"},\"start_angle\":{\"expr\":{\"id\":\"1612\"}},\"x\":{\"value\":0},\"y\":{\"value\":0}},\"id\":\"1616\",\"type\":\"AnnularWedge\"},{\"attributes\":{\"end_angle\":{\"expr\":{\"id\":\"1661\"}},\"fill_alpha\":{\"value\":0.2},\"fill_color\":{\"field\":\"color\"},\"hatch_alpha\":{\"value\":0.2},\"inner_radius\":{\"field\":\"inner_radius\"},\"line_alpha\":{\"value\":0.2},\"line_color\":{\"value\":\"white\"},\"line_width\":{\"value\":2},\"outer_radius\":{\"field\":\"outer_radius\"},\"start_angle\":{\"expr\":{\"id\":\"1660\"}},\"x\":{\"value\":0},\"y\":{\"value\":0}},\"id\":\"1666\",\"type\":\"AnnularWedge\"},{\"attributes\":{},\"id\":\"1682\",\"type\":\"UnionRenderers\"},{\"attributes\":{\"end\":2,\"start\":-1.45},\"id\":\"1582\",\"type\":\"Range1d\"},{\"attributes\":{\"data\":{\"__x__values\":[-1.35],\"text\":[\"3\"],\"y\":[-0.09999999999999998]},\"selected\":{\"id\":\"1679\"},\"selection_policy\":{\"id\":\"1678\"}},\"id\":\"1621\",\"type\":\"ColumnDataSource\"},{\"attributes\":{},\"id\":\"1599\",\"type\":\"WheelZoomTool\"},{\"attributes\":{},\"id\":\"1689\",\"type\":\"Selection\"},{\"attributes\":{\"source\":{\"id\":\"1614\"}},\"id\":\"1620\",\"type\":\"CDSView\"},{\"attributes\":{\"source\":{\"id\":\"1621\"}},\"id\":\"1627\",\"type\":\"CDSView\"},{\"attributes\":{\"coordinates\":null,\"data_source\":{\"id\":\"1614\"},\"glyph\":{\"id\":\"1616\"},\"group\":null,\"hover_glyph\":null,\"muted_glyph\":{\"id\":\"1618\"},\"nonselection_glyph\":{\"id\":\"1617\"},\"view\":{\"id\":\"1620\"}},\"id\":\"1619\",\"type\":\"GlyphRenderer\"},{\"attributes\":{\"end_angle\":{\"expr\":{\"id\":\"1661\"}},\"fill_color\":{\"field\":\"color\"},\"inner_radius\":{\"field\":\"inner_radius\"},\"line_color\":{\"value\":\"white\"},\"line_width\":{\"value\":2},\"outer_radius\":{\"field\":\"outer_radius\"},\"start_angle\":{\"expr\":{\"id\":\"1660\"}},\"x\":{\"value\":0},\"y\":{\"value\":0}},\"id\":\"1664\",\"type\":\"AnnularWedge\"},{\"attributes\":{\"end_angle\":{\"expr\":{\"id\":\"1613\"}},\"fill_alpha\":{\"value\":0.1},\"fill_color\":{\"field\":\"color\"},\"hatch_alpha\":{\"value\":0.1},\"inner_radius\":{\"field\":\"inner_radius\"},\"line_alpha\":{\"value\":0.1},\"line_color\":{\"value\":\"white\"},\"line_width\":{\"value\":2},\"outer_radius\":{\"field\":\"outer_radius\"},\"start_angle\":{\"expr\":{\"id\":\"1612\"}},\"x\":{\"value\":0},\"y\":{\"value\":0}},\"id\":\"1617\",\"type\":\"AnnularWedge\"},{\"attributes\":{\"end_angle\":{\"expr\":{\"id\":\"1613\"}},\"fill_alpha\":{\"value\":0.2},\"fill_color\":{\"field\":\"color\"},\"hatch_alpha\":{\"value\":0.2},\"inner_radius\":{\"field\":\"inner_radius\"},\"line_alpha\":{\"value\":0.2},\"line_color\":{\"value\":\"white\"},\"line_width\":{\"value\":2},\"outer_radius\":{\"field\":\"outer_radius\"},\"start_angle\":{\"expr\":{\"id\":\"1612\"}},\"x\":{\"value\":0},\"y\":{\"value\":0}},\"id\":\"1618\",\"type\":\"AnnularWedge\"}],\"root_ids\":[\"1579\"]},\"title\":\"Bokeh Application\",\"version\":\"2.4.3\"}};\n",
       "  const render_items = [{\"docid\":\"920abdd2-6489-4595-9c74-52a9282dc85a\",\"root_ids\":[\"1579\"],\"roots\":{\"1579\":\"0751d249-014d-4323-9be9-69b3684029d6\"}}];\n",
       "  root.Bokeh.embed.embed_items_notebook(docs_json, render_items);\n",
       "  }\n",
       "  if (root.Bokeh !== undefined) {\n",
       "    embed_document(root);\n",
       "  } else {\n",
       "    let attempts = 0;\n",
       "    const timer = setInterval(function(root) {\n",
       "      if (root.Bokeh !== undefined) {\n",
       "        clearInterval(timer);\n",
       "        embed_document(root);\n",
       "      } else {\n",
       "        attempts++;\n",
       "        if (attempts > 100) {\n",
       "          clearInterval(timer);\n",
       "          console.log(\"Bokeh: ERROR: Unable to run BokehJS code because BokehJS library is missing\");\n",
       "        }\n",
       "      }\n",
       "    }, 10, root)\n",
       "  }\n",
       "})(window);"
      ],
      "application/vnd.bokehjs_exec.v0+json": ""
     },
     "metadata": {
      "application/vnd.bokehjs_exec.v0+json": {
       "id": "1579"
      }
     },
     "output_type": "display_data"
    }
   ],
   "source": [
    "#pt.drop('Total', axis=1).drop('Total', axis=0).plot(kind='pie', subplots=True, figsize=(15, 10), autopct='%1.1f%%')\n",
    "_ = pt.drop('Total', axis=1).drop('Total', axis=0).plot_bokeh(kind='pie')"
   ]
  },
  {
   "cell_type": "code",
   "execution_count": 18,
   "metadata": {
    "ExecuteTime": {
     "end_time": "2023-04-16T18:01:09.893111Z",
     "start_time": "2023-04-16T18:01:09.810199Z"
    }
   },
   "outputs": [
    {
     "name": "stdout",
     "output_type": "stream",
     "text": [
      "__x__values_original\n"
     ]
    },
    {
     "data": {
      "text/html": [
       "\n",
       "  <div class=\"bk-root\" id=\"65985d95-2fb6-4ba2-a659-1c81ef5c9a17\" data-root-id=\"1919\"></div>\n"
      ]
     },
     "metadata": {},
     "output_type": "display_data"
    },
    {
     "data": {
      "application/javascript": [
       "(function(root) {\n",
       "  function embed_document(root) {\n",
       "  const docs_json = {\"48402151-fcfc-4347-999e-2b43d46bc2b6\":{\"defs\":[],\"roots\":{\"references\":[{\"attributes\":{\"below\":[{\"id\":\"1930\"}],\"center\":[{\"id\":\"1933\"},{\"id\":\"1937\"},{\"id\":\"2001\"}],\"height\":400,\"left\":[{\"id\":\"1934\"}],\"renderers\":[{\"id\":\"1959\"},{\"id\":\"1966\"},{\"id\":\"1972\"},{\"id\":\"1983\"},{\"id\":\"2008\"},{\"id\":\"2014\"}],\"title\":{\"id\":\"1920\"},\"toolbar\":{\"id\":\"1945\"},\"toolbar_location\":null,\"x_range\":{\"id\":\"1922\"},\"x_scale\":{\"id\":\"1926\"},\"y_range\":{\"id\":\"1924\"},\"y_scale\":{\"id\":\"1928\"}},\"id\":\"1919\",\"subtype\":\"Figure\",\"type\":\"Plot\"},{\"attributes\":{\"end_angle\":{\"expr\":{\"id\":\"1953\"}},\"fill_alpha\":{\"value\":0.1},\"fill_color\":{\"field\":\"color\"},\"hatch_alpha\":{\"value\":0.1},\"inner_radius\":{\"field\":\"inner_radius\"},\"line_alpha\":{\"value\":0.1},\"line_color\":{\"value\":\"white\"},\"line_width\":{\"value\":2},\"outer_radius\":{\"field\":\"outer_radius\"},\"start_angle\":{\"expr\":{\"id\":\"1952\"}},\"x\":{\"value\":0},\"y\":{\"value\":0}},\"id\":\"1957\",\"type\":\"AnnularWedge\"},{\"attributes\":{\"end_angle\":{\"expr\":{\"id\":\"1953\"}},\"fill_alpha\":{\"value\":0.2},\"fill_color\":{\"field\":\"color\"},\"hatch_alpha\":{\"value\":0.2},\"inner_radius\":{\"field\":\"inner_radius\"},\"line_alpha\":{\"value\":0.2},\"line_color\":{\"value\":\"white\"},\"line_width\":{\"value\":2},\"outer_radius\":{\"field\":\"outer_radius\"},\"start_angle\":{\"expr\":{\"id\":\"1952\"}},\"x\":{\"value\":0},\"y\":{\"value\":0}},\"id\":\"1958\",\"type\":\"AnnularWedge\"},{\"attributes\":{\"text_color\":{\"value\":\"black\"},\"text_font_style\":{\"value\":\"bold\"},\"x\":{\"field\":\"__x__values\"},\"y\":{\"field\":\"y\"}},\"id\":\"1963\",\"type\":\"Text\"},{\"attributes\":{\"data\":{\"x\":[-1.3800000000000001,0],\"y\":[0.2,-0.725]},\"selected\":{\"id\":\"1997\"},\"selection_policy\":{\"id\":\"1996\"}},\"id\":\"1968\",\"type\":\"ColumnDataSource\"},{\"attributes\":{\"text_alpha\":{\"value\":0.1},\"text_color\":{\"value\":\"black\"},\"text_font_style\":{\"value\":\"bold\"},\"x\":{\"field\":\"__x__values\"},\"y\":{\"field\":\"y\"}},\"id\":\"1964\",\"type\":\"Text\"},{\"attributes\":{},\"id\":\"1987\",\"type\":\"BasicTickFormatter\"},{\"attributes\":{\"coordinates\":null,\"data_source\":{\"id\":\"1961\"},\"glyph\":{\"id\":\"1963\"},\"group\":null,\"hover_glyph\":null,\"muted_glyph\":{\"id\":\"1965\"},\"nonselection_glyph\":{\"id\":\"1964\"},\"view\":{\"id\":\"1967\"}},\"id\":\"1966\",\"type\":\"GlyphRenderer\"},{\"attributes\":{\"line_alpha\":0.2,\"x\":{\"field\":\"x\"},\"y\":{\"field\":\"y\"}},\"id\":\"1971\",\"type\":\"Line\"},{\"attributes\":{\"text_alpha\":{\"value\":0.2},\"text_color\":{\"value\":\"black\"},\"text_font_style\":{\"value\":\"bold\"},\"x\":{\"field\":\"__x__values\"},\"y\":{\"field\":\"y\"}},\"id\":\"1965\",\"type\":\"Text\"},{\"attributes\":{},\"id\":\"1988\",\"type\":\"AllLabels\"},{\"attributes\":{\"source\":{\"id\":\"1961\"}},\"id\":\"1967\",\"type\":\"CDSView\"},{\"attributes\":{\"callback\":null,\"renderers\":[{\"id\":\"1959\"}],\"tooltips\":[[\"pclass\",\"@__x__values_original\"],[\"male\",\"@{male}\"]]},\"id\":\"1974\",\"type\":\"HoverTool\"},{\"attributes\":{},\"id\":\"1990\",\"type\":\"BasicTickFormatter\"},{\"attributes\":{\"source\":{\"id\":\"1968\"}},\"id\":\"1973\",\"type\":\"CDSView\"},{\"attributes\":{},\"id\":\"1991\",\"type\":\"AllLabels\"},{\"attributes\":{\"line_alpha\":0.1,\"x\":{\"field\":\"x\"},\"y\":{\"field\":\"y\"}},\"id\":\"1970\",\"type\":\"Line\"},{\"attributes\":{\"data\":{\"__x__values\":[1,2,3],\"__x__values_original\":[1,2,3],\"color\":[\"#1f77b4\",\"#ff7f0e\",\"#2ca02c\"],\"female\":[139,94,106],\"female_angle\":{\"__ndarray__\":\"jQq5nz6cBEBDMXs7N+D7PwVuI9Y4b/8/\",\"dtype\":\"float64\",\"order\":\"little\",\"shape\":[3]},\"inner_radius\":[0.5,0.5,0.5],\"male\":[61,25,75],\"male_angle\":{\"__ndarray__\":\"ezD/iHALA0C0KYkfhjjvP0jfppdkagdA\",\"dtype\":\"float64\",\"order\":\"little\",\"shape\":[3]},\"outer_radius\":[0.95,0.95,0.95]},\"selected\":{\"id\":\"1993\"},\"selection_policy\":{\"id\":\"1992\"}},\"id\":\"1954\",\"type\":\"ColumnDataSource\"},{\"attributes\":{},\"id\":\"1995\",\"type\":\"Selection\"},{\"attributes\":{\"source\":{\"id\":\"1978\"}},\"id\":\"1984\",\"type\":\"CDSView\"},{\"attributes\":{\"x\":{\"field\":\"x\"},\"y\":{\"field\":\"y\"}},\"id\":\"1969\",\"type\":\"Line\"},{\"attributes\":{},\"id\":\"1992\",\"type\":\"UnionRenderers\"},{\"attributes\":{\"data\":{\"__x__values\":[1,2,3],\"__x__values_original\":[1,2,3],\"color\":[\"#1f77b4\",\"#ff7f0e\",\"#2ca02c\"],\"female\":[139,94,106],\"female_angle\":{\"__ndarray__\":\"jQq5nz6cBEBDMXs7N+D7PwVuI9Y4b/8/\",\"dtype\":\"float64\",\"order\":\"little\",\"shape\":[3]},\"inner_radius\":[0.0,0.0,0.0],\"male\":[61,25,75],\"male_angle\":{\"__ndarray__\":\"ezD/iHALA0C0KYkfhjjvP0jfppdkagdA\",\"dtype\":\"float64\",\"order\":\"little\",\"shape\":[3]},\"outer_radius\":[0.45,0.45,0.45]},\"selected\":{\"id\":\"1999\"},\"selection_policy\":{\"id\":\"1998\"}},\"id\":\"1978\",\"type\":\"ColumnDataSource\"},{\"attributes\":{\"end_angle\":{\"expr\":{\"id\":\"1977\"}},\"fill_color\":{\"field\":\"color\"},\"inner_radius\":{\"field\":\"inner_radius\"},\"line_color\":{\"value\":\"white\"},\"line_width\":{\"value\":2},\"outer_radius\":{\"field\":\"outer_radius\"},\"start_angle\":{\"expr\":{\"id\":\"1976\"}},\"x\":{\"value\":0},\"y\":{\"value\":0}},\"id\":\"1980\",\"type\":\"AnnularWedge\"},{\"attributes\":{},\"id\":\"1993\",\"type\":\"Selection\"},{\"attributes\":{\"end_angle\":{\"expr\":{\"id\":\"1977\"}},\"fill_alpha\":{\"value\":0.2},\"fill_color\":{\"field\":\"color\"},\"hatch_alpha\":{\"value\":0.2},\"inner_radius\":{\"field\":\"inner_radius\"},\"line_alpha\":{\"value\":0.2},\"line_color\":{\"value\":\"white\"},\"line_width\":{\"value\":2},\"outer_radius\":{\"field\":\"outer_radius\"},\"start_angle\":{\"expr\":{\"id\":\"1976\"}},\"x\":{\"value\":0},\"y\":{\"value\":0}},\"id\":\"1982\",\"type\":\"AnnularWedge\"},{\"attributes\":{\"end_angle\":{\"expr\":{\"id\":\"1977\"}},\"fill_alpha\":{\"value\":0.1},\"fill_color\":{\"field\":\"color\"},\"hatch_alpha\":{\"value\":0.1},\"inner_radius\":{\"field\":\"inner_radius\"},\"line_alpha\":{\"value\":0.1},\"line_color\":{\"value\":\"white\"},\"line_width\":{\"value\":2},\"outer_radius\":{\"field\":\"outer_radius\"},\"start_angle\":{\"expr\":{\"id\":\"1976\"}},\"x\":{\"value\":0},\"y\":{\"value\":0}},\"id\":\"1981\",\"type\":\"AnnularWedge\"},{\"attributes\":{},\"id\":\"1994\",\"type\":\"UnionRenderers\"},{\"attributes\":{\"coordinates\":null,\"data_source\":{\"id\":\"1978\"},\"glyph\":{\"id\":\"1980\"},\"group\":null,\"hover_glyph\":null,\"muted_glyph\":{\"id\":\"1982\"},\"nonselection_glyph\":{\"id\":\"1981\"},\"view\":{\"id\":\"1984\"}},\"id\":\"1983\",\"type\":\"GlyphRenderer\"},{\"attributes\":{\"end_angle\":{\"expr\":{\"id\":\"1953\"}},\"fill_color\":{\"field\":\"color\"},\"inner_radius\":{\"field\":\"inner_radius\"},\"line_color\":{\"value\":\"white\"},\"line_width\":{\"value\":2},\"outer_radius\":{\"field\":\"outer_radius\"},\"start_angle\":{\"expr\":{\"id\":\"1952\"}},\"x\":{\"value\":0},\"y\":{\"value\":0}},\"id\":\"1956\",\"type\":\"AnnularWedge\"},{\"attributes\":{\"field\":\"female_angle\"},\"id\":\"1977\",\"type\":\"CumSum\"},{\"attributes\":{\"coordinates\":null,\"group\":null,\"items\":[{\"id\":\"2002\"}]},\"id\":\"2001\",\"type\":\"Legend\"},{\"attributes\":{},\"id\":\"1997\",\"type\":\"Selection\"},{\"attributes\":{},\"id\":\"1996\",\"type\":\"UnionRenderers\"},{\"attributes\":{\"label\":{\"field\":\"__x__values_original\"},\"renderers\":[{\"id\":\"1983\"}]},\"id\":\"2002\",\"type\":\"LegendItem\"},{\"attributes\":{\"coordinates\":null,\"data_source\":{\"id\":\"1954\"},\"glyph\":{\"id\":\"1956\"},\"group\":null,\"hover_glyph\":null,\"muted_glyph\":{\"id\":\"1958\"},\"nonselection_glyph\":{\"id\":\"1957\"},\"view\":{\"id\":\"1960\"}},\"id\":\"1959\",\"type\":\"GlyphRenderer\"},{\"attributes\":{\"source\":{\"id\":\"1954\"}},\"id\":\"1960\",\"type\":\"CDSView\"},{\"attributes\":{\"data\":{\"__x__values\":[-1.6],\"text\":[\"male\"],\"y\":[0.2]},\"selected\":{\"id\":\"1995\"},\"selection_policy\":{\"id\":\"1994\"}},\"id\":\"1961\",\"type\":\"ColumnDataSource\"},{\"attributes\":{\"coordinates\":null,\"data_source\":{\"id\":\"1968\"},\"glyph\":{\"id\":\"1969\"},\"group\":null,\"hover_glyph\":null,\"muted_glyph\":{\"id\":\"1971\"},\"nonselection_glyph\":{\"id\":\"1970\"},\"view\":{\"id\":\"1973\"}},\"id\":\"1972\",\"type\":\"GlyphRenderer\"},{\"attributes\":{},\"id\":\"1998\",\"type\":\"UnionRenderers\"},{\"attributes\":{\"coordinates\":null,\"data_source\":{\"id\":\"2010\"},\"glyph\":{\"id\":\"2011\"},\"group\":null,\"hover_glyph\":null,\"muted_glyph\":{\"id\":\"2013\"},\"nonselection_glyph\":{\"id\":\"2012\"},\"view\":{\"id\":\"2015\"}},\"id\":\"2014\",\"type\":\"GlyphRenderer\"},{\"attributes\":{},\"id\":\"1999\",\"type\":\"Selection\"},{\"attributes\":{\"data\":{\"x\":[-1.3,0],\"y\":[0.5,-0.225]},\"selected\":{\"id\":\"2086\"},\"selection_policy\":{\"id\":\"2085\"}},\"id\":\"2010\",\"type\":\"ColumnDataSource\"},{\"attributes\":{\"data\":{\"__x__values\":[-1.6],\"text\":[\"female\"],\"y\":[0.5]},\"selected\":{\"id\":\"2084\"},\"selection_policy\":{\"id\":\"2083\"}},\"id\":\"2003\",\"type\":\"ColumnDataSource\"},{\"attributes\":{\"text_color\":{\"value\":\"black\"},\"text_font_style\":{\"value\":\"bold\"},\"x\":{\"field\":\"__x__values\"},\"y\":{\"field\":\"y\"}},\"id\":\"2005\",\"type\":\"Text\"},{\"attributes\":{\"text_alpha\":{\"value\":0.1},\"text_color\":{\"value\":\"black\"},\"text_font_style\":{\"value\":\"bold\"},\"x\":{\"field\":\"__x__values\"},\"y\":{\"field\":\"y\"}},\"id\":\"2006\",\"type\":\"Text\"},{\"attributes\":{\"coordinates\":null,\"data_source\":{\"id\":\"2003\"},\"glyph\":{\"id\":\"2005\"},\"group\":null,\"hover_glyph\":null,\"muted_glyph\":{\"id\":\"2007\"},\"nonselection_glyph\":{\"id\":\"2006\"},\"view\":{\"id\":\"2009\"}},\"id\":\"2008\",\"type\":\"GlyphRenderer\"},{\"attributes\":{\"line_alpha\":0.2,\"x\":{\"field\":\"x\"},\"y\":{\"field\":\"y\"}},\"id\":\"2013\",\"type\":\"Line\"},{\"attributes\":{\"text_alpha\":{\"value\":0.2},\"text_color\":{\"value\":\"black\"},\"text_font_style\":{\"value\":\"bold\"},\"x\":{\"field\":\"__x__values\"},\"y\":{\"field\":\"y\"}},\"id\":\"2007\",\"type\":\"Text\"},{\"attributes\":{\"source\":{\"id\":\"2003\"}},\"id\":\"2009\",\"type\":\"CDSView\"},{\"attributes\":{\"callback\":null,\"renderers\":[{\"id\":\"1983\"}],\"tooltips\":[[\"pclass\",\"@__x__values_original\"],[\"female\",\"@{female}\"]]},\"id\":\"2016\",\"type\":\"HoverTool\"},{\"attributes\":{\"source\":{\"id\":\"2010\"}},\"id\":\"2015\",\"type\":\"CDSView\"},{\"attributes\":{\"line_alpha\":0.1,\"x\":{\"field\":\"x\"},\"y\":{\"field\":\"y\"}},\"id\":\"2012\",\"type\":\"Line\"},{\"attributes\":{\"x\":{\"field\":\"x\"},\"y\":{\"field\":\"y\"}},\"id\":\"2011\",\"type\":\"Line\"},{\"attributes\":{\"ticks\":[0,1,2]},\"id\":\"2018\",\"type\":\"FixedTicker\"},{\"attributes\":{\"end\":2,\"start\":-1.7},\"id\":\"1922\",\"type\":\"Range1d\"},{\"attributes\":{\"end\":1.2,\"start\":-1.2},\"id\":\"1924\",\"type\":\"Range1d\"},{\"attributes\":{\"coordinates\":null,\"formatter\":{\"id\":\"1987\"},\"group\":null,\"major_label_policy\":{\"id\":\"1988\"},\"ticker\":{\"id\":\"1935\"},\"visible\":false},\"id\":\"1934\",\"type\":\"LinearAxis\"},{\"attributes\":{\"coordinates\":null,\"formatter\":{\"id\":\"1990\"},\"group\":null,\"major_label_policy\":{\"id\":\"1991\"},\"ticker\":{\"id\":\"2018\"},\"visible\":false},\"id\":\"1930\",\"type\":\"LinearAxis\"},{\"attributes\":{},\"id\":\"1943\",\"type\":\"HelpTool\"},{\"attributes\":{},\"id\":\"2083\",\"type\":\"UnionRenderers\"},{\"attributes\":{\"axis\":{\"id\":\"1930\"},\"coordinates\":null,\"grid_line_color\":null,\"group\":null,\"ticker\":null},\"id\":\"1933\",\"type\":\"Grid\"},{\"attributes\":{},\"id\":\"1928\",\"type\":\"LinearScale\"},{\"attributes\":{},\"id\":\"2084\",\"type\":\"Selection\"},{\"attributes\":{},\"id\":\"1926\",\"type\":\"LinearScale\"},{\"attributes\":{\"coordinates\":null,\"group\":null},\"id\":\"1920\",\"type\":\"Title\"},{\"attributes\":{\"axis\":{\"id\":\"1934\"},\"coordinates\":null,\"dimension\":1,\"grid_line_color\":null,\"group\":null,\"ticker\":null},\"id\":\"1937\",\"type\":\"Grid\"},{\"attributes\":{},\"id\":\"2086\",\"type\":\"Selection\"},{\"attributes\":{},\"id\":\"2085\",\"type\":\"UnionRenderers\"},{\"attributes\":{\"field\":\"female_angle\",\"include_zero\":true},\"id\":\"1976\",\"type\":\"CumSum\"},{\"attributes\":{\"field\":\"male_angle\",\"include_zero\":true},\"id\":\"1952\",\"type\":\"CumSum\"},{\"attributes\":{\"tools\":[{\"id\":\"1938\"},{\"id\":\"1939\"},{\"id\":\"1940\"},{\"id\":\"1941\"},{\"id\":\"1942\"},{\"id\":\"1943\"},{\"id\":\"1974\"},{\"id\":\"2016\"}]},\"id\":\"1945\",\"type\":\"Toolbar\"},{\"attributes\":{\"field\":\"male_angle\"},\"id\":\"1953\",\"type\":\"CumSum\"},{\"attributes\":{\"bottom_units\":\"screen\",\"coordinates\":null,\"fill_alpha\":0.5,\"fill_color\":\"lightgrey\",\"group\":null,\"left_units\":\"screen\",\"level\":\"overlay\",\"line_alpha\":1.0,\"line_color\":\"black\",\"line_dash\":[4,4],\"line_width\":2,\"right_units\":\"screen\",\"syncable\":false,\"top_units\":\"screen\"},\"id\":\"1944\",\"type\":\"BoxAnnotation\"},{\"attributes\":{},\"id\":\"1942\",\"type\":\"ResetTool\"},{\"attributes\":{},\"id\":\"1941\",\"type\":\"SaveTool\"},{\"attributes\":{\"overlay\":{\"id\":\"1944\"}},\"id\":\"1940\",\"type\":\"BoxZoomTool\"},{\"attributes\":{},\"id\":\"1938\",\"type\":\"PanTool\"},{\"attributes\":{},\"id\":\"1939\",\"type\":\"WheelZoomTool\"},{\"attributes\":{},\"id\":\"1935\",\"type\":\"BasicTicker\"}],\"root_ids\":[\"1919\"]},\"title\":\"Bokeh Application\",\"version\":\"2.4.3\"}};\n",
       "  const render_items = [{\"docid\":\"48402151-fcfc-4347-999e-2b43d46bc2b6\",\"root_ids\":[\"1919\"],\"roots\":{\"1919\":\"65985d95-2fb6-4ba2-a659-1c81ef5c9a17\"}}];\n",
       "  root.Bokeh.embed.embed_items_notebook(docs_json, render_items);\n",
       "  }\n",
       "  if (root.Bokeh !== undefined) {\n",
       "    embed_document(root);\n",
       "  } else {\n",
       "    let attempts = 0;\n",
       "    const timer = setInterval(function(root) {\n",
       "      if (root.Bokeh !== undefined) {\n",
       "        clearInterval(timer);\n",
       "        embed_document(root);\n",
       "      } else {\n",
       "        attempts++;\n",
       "        if (attempts > 100) {\n",
       "          clearInterval(timer);\n",
       "          console.log(\"Bokeh: ERROR: Unable to run BokehJS code because BokehJS library is missing\");\n",
       "        }\n",
       "      }\n",
       "    }, 10, root)\n",
       "  }\n",
       "})(window);"
      ],
      "application/vnd.bokehjs_exec.v0+json": ""
     },
     "metadata": {
      "application/vnd.bokehjs_exec.v0+json": {
       "id": "1919"
      }
     },
     "output_type": "display_data"
    }
   ],
   "source": [
    "_ = pt.T.drop('Total', axis=1).drop('Total', axis=0).plot_bokeh(kind='pie')"
   ]
  },
  {
   "cell_type": "markdown",
   "metadata": {},
   "source": [
    "<span style=\"color:red\"> In which class did a greater proportion of males survive compared to females? </span>"
   ]
  },
  {
   "cell_type": "markdown",
   "metadata": {},
   "source": [
    "We can make a pivot table with multiple values. For example, we can make a pivot table indexing the values of survived and sex, and columns by pclass and values by ticket (we will be just couting the ticket and, remember, the tickets' column has no missing values)."
   ]
  },
  {
   "cell_type": "code",
   "execution_count": 19,
   "metadata": {
    "ExecuteTime": {
     "end_time": "2023-04-16T18:01:09.913076Z",
     "start_time": "2023-04-16T18:01:09.895520Z"
    }
   },
   "outputs": [
    {
     "data": {
      "text/html": [
       "<div>\n",
       "<style scoped>\n",
       "    .dataframe tbody tr th:only-of-type {\n",
       "        vertical-align: middle;\n",
       "    }\n",
       "\n",
       "    .dataframe tbody tr th {\n",
       "        vertical-align: top;\n",
       "    }\n",
       "\n",
       "    .dataframe thead th {\n",
       "        text-align: right;\n",
       "    }\n",
       "</style>\n",
       "<table border=\"1\" class=\"dataframe\">\n",
       "  <thead>\n",
       "    <tr style=\"text-align: right;\">\n",
       "      <th></th>\n",
       "      <th>pclass</th>\n",
       "      <th>1</th>\n",
       "      <th>2</th>\n",
       "      <th>3</th>\n",
       "      <th>Total</th>\n",
       "    </tr>\n",
       "    <tr>\n",
       "      <th>survived</th>\n",
       "      <th>sex</th>\n",
       "      <th></th>\n",
       "      <th></th>\n",
       "      <th></th>\n",
       "      <th></th>\n",
       "    </tr>\n",
       "  </thead>\n",
       "  <tbody>\n",
       "    <tr>\n",
       "      <th rowspan=\"2\" valign=\"top\">0</th>\n",
       "      <th>female</th>\n",
       "      <td>5</td>\n",
       "      <td>12</td>\n",
       "      <td>110</td>\n",
       "      <td>127</td>\n",
       "    </tr>\n",
       "    <tr>\n",
       "      <th>male</th>\n",
       "      <td>118</td>\n",
       "      <td>146</td>\n",
       "      <td>418</td>\n",
       "      <td>682</td>\n",
       "    </tr>\n",
       "    <tr>\n",
       "      <th rowspan=\"2\" valign=\"top\">1</th>\n",
       "      <th>female</th>\n",
       "      <td>139</td>\n",
       "      <td>94</td>\n",
       "      <td>106</td>\n",
       "      <td>339</td>\n",
       "    </tr>\n",
       "    <tr>\n",
       "      <th>male</th>\n",
       "      <td>61</td>\n",
       "      <td>25</td>\n",
       "      <td>75</td>\n",
       "      <td>161</td>\n",
       "    </tr>\n",
       "    <tr>\n",
       "      <th>Total</th>\n",
       "      <th></th>\n",
       "      <td>323</td>\n",
       "      <td>277</td>\n",
       "      <td>709</td>\n",
       "      <td>1309</td>\n",
       "    </tr>\n",
       "  </tbody>\n",
       "</table>\n",
       "</div>"
      ],
      "text/plain": [
       "pclass             1    2    3  Total\n",
       "survived sex                         \n",
       "0        female    5   12  110    127\n",
       "         male    118  146  418    682\n",
       "1        female  139   94  106    339\n",
       "         male     61   25   75    161\n",
       "Total            323  277  709   1309"
      ]
     },
     "execution_count": 19,
     "metadata": {},
     "output_type": "execute_result"
    }
   ],
   "source": [
    "pt_multi = df.pivot_table(index=['survived','sex'], \n",
    "                          values='ticket', \n",
    "                          columns='pclass', \n",
    "                          aggfunc='count', \n",
    "                          margins=True, margins_name='Total')\n",
    "pt_multi"
   ]
  },
  {
   "cell_type": "markdown",
   "metadata": {},
   "source": [
    "<span style=\"color:red\"> how many passenger were in class 1?</span>\n",
    "<span style=\"color:red\"> how many females passengers did not survive? And how many males?</span>\n",
    "<span style=\"color:red\"> how many females passengers from class 1 did not survive? And how many males?</span>"
   ]
  },
  {
   "cell_type": "markdown",
   "metadata": {},
   "source": [
    "And the pie plot is given by"
   ]
  },
  {
   "cell_type": "code",
   "execution_count": 20,
   "metadata": {
    "ExecuteTime": {
     "end_time": "2023-04-16T18:01:10.033904Z",
     "start_time": "2023-04-16T18:01:09.994687Z"
    }
   },
   "outputs": [
    {
     "name": "stdout",
     "output_type": "stream",
     "text": [
      "__x__values_original\n"
     ]
    },
    {
     "data": {
      "text/html": [
       "\n",
       "  <div class=\"bk-root\" id=\"11fe9802-2788-48d6-b74a-7abf26cc9c61\" data-root-id=\"2218\"></div>\n"
      ]
     },
     "metadata": {},
     "output_type": "display_data"
    },
    {
     "data": {
      "application/javascript": [
       "(function(root) {\n",
       "  function embed_document(root) {\n",
       "  const docs_json = {\"5efce748-8189-4134-ab09-dc19b1cee8aa\":{\"defs\":[],\"roots\":{\"references\":[{\"attributes\":{\"below\":[{\"id\":\"2229\"}],\"center\":[{\"id\":\"2232\"},{\"id\":\"2236\"},{\"id\":\"2330\"}],\"height\":400,\"left\":[{\"id\":\"2233\"}],\"renderers\":[{\"id\":\"2258\"},{\"id\":\"2265\"},{\"id\":\"2271\"},{\"id\":\"2282\"},{\"id\":\"2289\"},{\"id\":\"2295\"},{\"id\":\"2306\"},{\"id\":\"2337\"},{\"id\":\"2343\"}],\"title\":{\"id\":\"2219\"},\"toolbar\":{\"id\":\"2244\"},\"toolbar_location\":null,\"x_range\":{\"id\":\"2221\"},\"x_scale\":{\"id\":\"2225\"},\"y_range\":{\"id\":\"2223\"},\"y_scale\":{\"id\":\"2227\"}},\"id\":\"2218\",\"subtype\":\"Figure\",\"type\":\"Plot\"},{\"attributes\":{},\"id\":\"2317\",\"type\":\"UnionRenderers\"},{\"attributes\":{\"source\":{\"id\":\"2301\"}},\"id\":\"2307\",\"type\":\"CDSView\"},{\"attributes\":{},\"id\":\"2318\",\"type\":\"Selection\"},{\"attributes\":{\"label\":{\"field\":\"__x__values_original\"},\"renderers\":[{\"id\":\"2306\"}]},\"id\":\"2331\",\"type\":\"LegendItem\"},{\"attributes\":{\"end_angle\":{\"expr\":{\"id\":\"2300\"}},\"fill_alpha\":{\"value\":0.2},\"fill_color\":{\"field\":\"color\"},\"hatch_alpha\":{\"value\":0.2},\"inner_radius\":{\"field\":\"inner_radius\"},\"line_alpha\":{\"value\":0.2},\"line_color\":{\"value\":\"white\"},\"line_width\":{\"value\":2},\"outer_radius\":{\"field\":\"outer_radius\"},\"start_angle\":{\"expr\":{\"id\":\"2299\"}},\"x\":{\"value\":0},\"y\":{\"value\":0}},\"id\":\"2305\",\"type\":\"AnnularWedge\"},{\"attributes\":{\"coordinates\":null,\"group\":null,\"items\":[{\"id\":\"2331\"}]},\"id\":\"2330\",\"type\":\"Legend\"},{\"attributes\":{},\"id\":\"2440\",\"type\":\"Selection\"},{\"attributes\":{},\"id\":\"2439\",\"type\":\"UnionRenderers\"},{\"attributes\":{},\"id\":\"2320\",\"type\":\"Selection\"},{\"attributes\":{},\"id\":\"2319\",\"type\":\"UnionRenderers\"},{\"attributes\":{\"field\":\"1_angle\",\"include_zero\":true},\"id\":\"2299\",\"type\":\"CumSum\"},{\"attributes\":{\"source\":{\"id\":\"2284\"}},\"id\":\"2290\",\"type\":\"CDSView\"},{\"attributes\":{},\"id\":\"2321\",\"type\":\"UnionRenderers\"},{\"attributes\":{},\"id\":\"2322\",\"type\":\"Selection\"},{\"attributes\":{},\"id\":\"2310\",\"type\":\"BasicTickFormatter\"},{\"attributes\":{\"coordinates\":null,\"data_source\":{\"id\":\"2284\"},\"glyph\":{\"id\":\"2286\"},\"group\":null,\"hover_glyph\":null,\"muted_glyph\":{\"id\":\"2288\"},\"nonselection_glyph\":{\"id\":\"2287\"},\"view\":{\"id\":\"2290\"}},\"id\":\"2289\",\"type\":\"GlyphRenderer\"},{\"attributes\":{},\"id\":\"2311\",\"type\":\"AllLabels\"},{\"attributes\":{},\"id\":\"2313\",\"type\":\"BasicTickFormatter\"},{\"attributes\":{},\"id\":\"2314\",\"type\":\"AllLabels\"},{\"attributes\":{},\"id\":\"2323\",\"type\":\"UnionRenderers\"},{\"attributes\":{},\"id\":\"2324\",\"type\":\"Selection\"},{\"attributes\":{},\"id\":\"2315\",\"type\":\"UnionRenderers\"},{\"attributes\":{},\"id\":\"2316\",\"type\":\"Selection\"},{\"attributes\":{\"text_alpha\":{\"value\":0.2},\"text_color\":{\"value\":\"black\"},\"text_font_style\":{\"value\":\"bold\"},\"x\":{\"field\":\"__x__values\"},\"y\":{\"field\":\"y\"}},\"id\":\"2288\",\"type\":\"Text\"},{\"attributes\":{},\"id\":\"2326\",\"type\":\"Selection\"},{\"attributes\":{},\"id\":\"2325\",\"type\":\"UnionRenderers\"},{\"attributes\":{\"end\":1.2,\"start\":-1.2},\"id\":\"2223\",\"type\":\"Range1d\"},{\"attributes\":{\"axis\":{\"id\":\"2233\"},\"coordinates\":null,\"dimension\":1,\"grid_line_color\":null,\"group\":null,\"ticker\":null},\"id\":\"2236\",\"type\":\"Grid\"},{\"attributes\":{},\"id\":\"2225\",\"type\":\"LinearScale\"},{\"attributes\":{\"data\":{\"1\":[5,118,139,61],\"1_angle\":{\"__ndarray__\":\"ZTVnMTnmuD/HHTxh/VwCQJWpUUmboQVAULLeaFj88j8=\",\"dtype\":\"float64\",\"order\":\"little\",\"shape\":[4]},\"2\":[12,146,94,25],\"2_angle\":{\"__ndarray__\":\"Ewm4vKdr0T/OjQJvZH4KQOOIyei+DgFAdQmVZHkl4j8=\",\"dtype\":\"float64\",\"order\":\"little\",\"shape\":[4]},\"3\":[110,418,106,75],\"3_angle\":{\"__ndarray__\":\"nET5mMIx7z8tASDeeKINQHm2LG5eD+4/9mh7ItZE5T8=\",\"dtype\":\"float64\",\"order\":\"little\",\"shape\":[4]},\"__x__values\":[[0,\"female\"],[0,\"male\"],[1,\"female\"],[1,\"male\"]],\"__x__values_original\":[[0,\"female\"],[0,\"male\"],[1,\"female\"],[1,\"male\"]],\"color\":[\"#1f77b4\",\"#ff7f0e\",\"#2ca02c\",\"#d62728\"],\"inner_radius\":[0.6666666666666666,0.6666666666666666,0.6666666666666666,0.6666666666666666],\"outer_radius\":[0.9666666666666667,0.9666666666666667,0.9666666666666667,0.9666666666666667]},\"selected\":{\"id\":\"2316\"},\"selection_policy\":{\"id\":\"2315\"}},\"id\":\"2253\",\"type\":\"ColumnDataSource\"},{\"attributes\":{},\"id\":\"2327\",\"type\":\"UnionRenderers\"},{\"attributes\":{\"field\":\"3_angle\"},\"id\":\"2252\",\"type\":\"CumSum\"},{\"attributes\":{},\"id\":\"2237\",\"type\":\"PanTool\"},{\"attributes\":{\"callback\":null,\"renderers\":[{\"id\":\"2282\"}],\"tooltips\":[[\"x\",\"@__x__values_original\"],[\"2\",\"@{2}\"]]},\"id\":\"2297\",\"type\":\"HoverTool\"},{\"attributes\":{},\"id\":\"2328\",\"type\":\"Selection\"},{\"attributes\":{\"field\":\"3_angle\",\"include_zero\":true},\"id\":\"2251\",\"type\":\"CumSum\"},{\"attributes\":{\"end_angle\":{\"expr\":{\"id\":\"2252\"}},\"fill_color\":{\"field\":\"color\"},\"inner_radius\":{\"field\":\"inner_radius\"},\"line_color\":{\"value\":\"white\"},\"line_width\":{\"value\":2},\"outer_radius\":{\"field\":\"outer_radius\"},\"start_angle\":{\"expr\":{\"id\":\"2251\"}},\"x\":{\"value\":0},\"y\":{\"value\":0}},\"id\":\"2255\",\"type\":\"AnnularWedge\"},{\"attributes\":{\"end_angle\":{\"expr\":{\"id\":\"2252\"}},\"fill_alpha\":{\"value\":0.2},\"fill_color\":{\"field\":\"color\"},\"hatch_alpha\":{\"value\":0.2},\"inner_radius\":{\"field\":\"inner_radius\"},\"line_alpha\":{\"value\":0.2},\"line_color\":{\"value\":\"white\"},\"line_width\":{\"value\":2},\"outer_radius\":{\"field\":\"outer_radius\"},\"start_angle\":{\"expr\":{\"id\":\"2251\"}},\"x\":{\"value\":0},\"y\":{\"value\":0}},\"id\":\"2257\",\"type\":\"AnnularWedge\"},{\"attributes\":{\"tools\":[{\"id\":\"2237\"},{\"id\":\"2238\"},{\"id\":\"2239\"},{\"id\":\"2240\"},{\"id\":\"2241\"},{\"id\":\"2242\"},{\"id\":\"2273\"},{\"id\":\"2297\"},{\"id\":\"2345\"}]},\"id\":\"2244\",\"type\":\"Toolbar\"},{\"attributes\":{\"end_angle\":{\"expr\":{\"id\":\"2252\"}},\"fill_alpha\":{\"value\":0.1},\"fill_color\":{\"field\":\"color\"},\"hatch_alpha\":{\"value\":0.1},\"inner_radius\":{\"field\":\"inner_radius\"},\"line_alpha\":{\"value\":0.1},\"line_color\":{\"value\":\"white\"},\"line_width\":{\"value\":2},\"outer_radius\":{\"field\":\"outer_radius\"},\"start_angle\":{\"expr\":{\"id\":\"2251\"}},\"x\":{\"value\":0},\"y\":{\"value\":0}},\"id\":\"2256\",\"type\":\"AnnularWedge\"},{\"attributes\":{\"coordinates\":null,\"data_source\":{\"id\":\"2253\"},\"glyph\":{\"id\":\"2255\"},\"group\":null,\"hover_glyph\":null,\"muted_glyph\":{\"id\":\"2257\"},\"nonselection_glyph\":{\"id\":\"2256\"},\"view\":{\"id\":\"2259\"}},\"id\":\"2258\",\"type\":\"GlyphRenderer\"},{\"attributes\":{},\"id\":\"2227\",\"type\":\"LinearScale\"},{\"attributes\":{\"source\":{\"id\":\"2253\"}},\"id\":\"2259\",\"type\":\"CDSView\"},{\"attributes\":{\"data\":{\"__x__values\":[-1.35],\"text\":[\"3\"],\"y\":[-0.09999999999999998]},\"selected\":{\"id\":\"2318\"},\"selection_policy\":{\"id\":\"2317\"}},\"id\":\"2260\",\"type\":\"ColumnDataSource\"},{\"attributes\":{\"coordinates\":null,\"data_source\":{\"id\":\"2267\"},\"glyph\":{\"id\":\"2268\"},\"group\":null,\"hover_glyph\":null,\"muted_glyph\":{\"id\":\"2270\"},\"nonselection_glyph\":{\"id\":\"2269\"},\"view\":{\"id\":\"2272\"}},\"id\":\"2271\",\"type\":\"GlyphRenderer\"},{\"attributes\":{\"coordinates\":null,\"formatter\":{\"id\":\"2313\"},\"group\":null,\"major_label_policy\":{\"id\":\"2314\"},\"ticker\":{\"id\":\"2347\"},\"visible\":false},\"id\":\"2229\",\"type\":\"LinearAxis\"},{\"attributes\":{\"data\":{\"x\":[-1.3,0],\"y\":[0.2,-0.4833333333333333]},\"selected\":{\"id\":\"2326\"},\"selection_policy\":{\"id\":\"2325\"}},\"id\":\"2291\",\"type\":\"ColumnDataSource\"},{\"attributes\":{\"coordinates\":null,\"formatter\":{\"id\":\"2310\"},\"group\":null,\"major_label_policy\":{\"id\":\"2311\"},\"ticker\":{\"id\":\"2234\"},\"visible\":false},\"id\":\"2233\",\"type\":\"LinearAxis\"},{\"attributes\":{\"text_color\":{\"value\":\"black\"},\"text_font_style\":{\"value\":\"bold\"},\"x\":{\"field\":\"__x__values\"},\"y\":{\"field\":\"y\"}},\"id\":\"2262\",\"type\":\"Text\"},{\"attributes\":{\"data\":{\"x\":[-1.3,0],\"y\":[-0.09999999999999998,-0.8166666666666667]},\"selected\":{\"id\":\"2320\"},\"selection_policy\":{\"id\":\"2319\"}},\"id\":\"2267\",\"type\":\"ColumnDataSource\"},{\"attributes\":{\"bottom_units\":\"screen\",\"coordinates\":null,\"fill_alpha\":0.5,\"fill_color\":\"lightgrey\",\"group\":null,\"left_units\":\"screen\",\"level\":\"overlay\",\"line_alpha\":1.0,\"line_color\":\"black\",\"line_dash\":[4,4],\"line_width\":2,\"right_units\":\"screen\",\"syncable\":false,\"top_units\":\"screen\"},\"id\":\"2243\",\"type\":\"BoxAnnotation\"},{\"attributes\":{\"text_alpha\":{\"value\":0.1},\"text_color\":{\"value\":\"black\"},\"text_font_style\":{\"value\":\"bold\"},\"x\":{\"field\":\"__x__values\"},\"y\":{\"field\":\"y\"}},\"id\":\"2263\",\"type\":\"Text\"},{\"attributes\":{\"coordinates\":null,\"data_source\":{\"id\":\"2260\"},\"glyph\":{\"id\":\"2262\"},\"group\":null,\"hover_glyph\":null,\"muted_glyph\":{\"id\":\"2264\"},\"nonselection_glyph\":{\"id\":\"2263\"},\"view\":{\"id\":\"2266\"}},\"id\":\"2265\",\"type\":\"GlyphRenderer\"},{\"attributes\":{\"line_alpha\":0.2,\"x\":{\"field\":\"x\"},\"y\":{\"field\":\"y\"}},\"id\":\"2270\",\"type\":\"Line\"},{\"attributes\":{\"text_alpha\":{\"value\":0.2},\"text_color\":{\"value\":\"black\"},\"text_font_style\":{\"value\":\"bold\"},\"x\":{\"field\":\"__x__values\"},\"y\":{\"field\":\"y\"}},\"id\":\"2264\",\"type\":\"Text\"},{\"attributes\":{\"source\":{\"id\":\"2260\"}},\"id\":\"2266\",\"type\":\"CDSView\"},{\"attributes\":{\"callback\":null,\"renderers\":[{\"id\":\"2258\"}],\"tooltips\":[[\"x\",\"@__x__values_original\"],[\"3\",\"@{3}\"]]},\"id\":\"2273\",\"type\":\"HoverTool\"},{\"attributes\":{\"coordinates\":null,\"data_source\":{\"id\":\"2339\"},\"glyph\":{\"id\":\"2340\"},\"group\":null,\"hover_glyph\":null,\"muted_glyph\":{\"id\":\"2342\"},\"nonselection_glyph\":{\"id\":\"2341\"},\"view\":{\"id\":\"2344\"}},\"id\":\"2343\",\"type\":\"GlyphRenderer\"},{\"attributes\":{\"source\":{\"id\":\"2267\"}},\"id\":\"2272\",\"type\":\"CDSView\"},{\"attributes\":{\"data\":{\"x\":[-1.3,0],\"y\":[0.5,-0.15]},\"selected\":{\"id\":\"2440\"},\"selection_policy\":{\"id\":\"2439\"}},\"id\":\"2339\",\"type\":\"ColumnDataSource\"},{\"attributes\":{},\"id\":\"2242\",\"type\":\"HelpTool\"},{\"attributes\":{\"data\":{\"__x__values\":[-1.35],\"text\":[\"1\"],\"y\":[0.5]},\"selected\":{\"id\":\"2438\"},\"selection_policy\":{\"id\":\"2437\"}},\"id\":\"2332\",\"type\":\"ColumnDataSource\"},{\"attributes\":{\"coordinates\":null,\"data_source\":{\"id\":\"2291\"},\"glyph\":{\"id\":\"2292\"},\"group\":null,\"hover_glyph\":null,\"muted_glyph\":{\"id\":\"2294\"},\"nonselection_glyph\":{\"id\":\"2293\"},\"view\":{\"id\":\"2296\"}},\"id\":\"2295\",\"type\":\"GlyphRenderer\"},{\"attributes\":{\"field\":\"2_angle\",\"include_zero\":true},\"id\":\"2275\",\"type\":\"CumSum\"},{\"attributes\":{\"line_alpha\":0.1,\"x\":{\"field\":\"x\"},\"y\":{\"field\":\"y\"}},\"id\":\"2269\",\"type\":\"Line\"},{\"attributes\":{\"x\":{\"field\":\"x\"},\"y\":{\"field\":\"y\"}},\"id\":\"2268\",\"type\":\"Line\"},{\"attributes\":{\"text_color\":{\"value\":\"black\"},\"text_font_style\":{\"value\":\"bold\"},\"x\":{\"field\":\"__x__values\"},\"y\":{\"field\":\"y\"}},\"id\":\"2334\",\"type\":\"Text\"},{\"attributes\":{\"data\":{\"1\":[5,118,139,61],\"1_angle\":{\"__ndarray__\":\"ZTVnMTnmuD/HHTxh/VwCQJWpUUmboQVAULLeaFj88j8=\",\"dtype\":\"float64\",\"order\":\"little\",\"shape\":[4]},\"2\":[12,146,94,25],\"2_angle\":{\"__ndarray__\":\"Ewm4vKdr0T/OjQJvZH4KQOOIyei+DgFAdQmVZHkl4j8=\",\"dtype\":\"float64\",\"order\":\"little\",\"shape\":[4]},\"3\":[110,418,106,75],\"3_angle\":{\"__ndarray__\":\"nET5mMIx7z8tASDeeKINQHm2LG5eD+4/9mh7ItZE5T8=\",\"dtype\":\"float64\",\"order\":\"little\",\"shape\":[4]},\"__x__values\":[[0,\"female\"],[0,\"male\"],[1,\"female\"],[1,\"male\"]],\"__x__values_original\":[[0,\"female\"],[0,\"male\"],[1,\"female\"],[1,\"male\"]],\"color\":[\"#1f77b4\",\"#ff7f0e\",\"#2ca02c\",\"#d62728\"],\"inner_radius\":[0.3333333333333333,0.3333333333333333,0.3333333333333333,0.3333333333333333],\"outer_radius\":[0.6333333333333333,0.6333333333333333,0.6333333333333333,0.6333333333333333]},\"selected\":{\"id\":\"2322\"},\"selection_policy\":{\"id\":\"2321\"}},\"id\":\"2277\",\"type\":\"ColumnDataSource\"},{\"attributes\":{\"text_alpha\":{\"value\":0.1},\"text_color\":{\"value\":\"black\"},\"text_font_style\":{\"value\":\"bold\"},\"x\":{\"field\":\"__x__values\"},\"y\":{\"field\":\"y\"}},\"id\":\"2335\",\"type\":\"Text\"},{\"attributes\":{\"coordinates\":null,\"data_source\":{\"id\":\"2332\"},\"glyph\":{\"id\":\"2334\"},\"group\":null,\"hover_glyph\":null,\"muted_glyph\":{\"id\":\"2336\"},\"nonselection_glyph\":{\"id\":\"2335\"},\"view\":{\"id\":\"2338\"}},\"id\":\"2337\",\"type\":\"GlyphRenderer\"},{\"attributes\":{\"field\":\"2_angle\"},\"id\":\"2276\",\"type\":\"CumSum\"},{\"attributes\":{\"line_alpha\":0.2,\"x\":{\"field\":\"x\"},\"y\":{\"field\":\"y\"}},\"id\":\"2342\",\"type\":\"Line\"},{\"attributes\":{\"end_angle\":{\"expr\":{\"id\":\"2276\"}},\"fill_color\":{\"field\":\"color\"},\"inner_radius\":{\"field\":\"inner_radius\"},\"line_color\":{\"value\":\"white\"},\"line_width\":{\"value\":2},\"outer_radius\":{\"field\":\"outer_radius\"},\"start_angle\":{\"expr\":{\"id\":\"2275\"}},\"x\":{\"value\":0},\"y\":{\"value\":0}},\"id\":\"2279\",\"type\":\"AnnularWedge\"},{\"attributes\":{\"text_alpha\":{\"value\":0.2},\"text_color\":{\"value\":\"black\"},\"text_font_style\":{\"value\":\"bold\"},\"x\":{\"field\":\"__x__values\"},\"y\":{\"field\":\"y\"}},\"id\":\"2336\",\"type\":\"Text\"},{\"attributes\":{\"source\":{\"id\":\"2332\"}},\"id\":\"2338\",\"type\":\"CDSView\"},{\"attributes\":{},\"id\":\"2234\",\"type\":\"BasicTicker\"},{\"attributes\":{\"axis\":{\"id\":\"2229\"},\"coordinates\":null,\"grid_line_color\":null,\"group\":null,\"ticker\":null},\"id\":\"2232\",\"type\":\"Grid\"},{\"attributes\":{\"end_angle\":{\"expr\":{\"id\":\"2276\"}},\"fill_alpha\":{\"value\":0.2},\"fill_color\":{\"field\":\"color\"},\"hatch_alpha\":{\"value\":0.2},\"inner_radius\":{\"field\":\"inner_radius\"},\"line_alpha\":{\"value\":0.2},\"line_color\":{\"value\":\"white\"},\"line_width\":{\"value\":2},\"outer_radius\":{\"field\":\"outer_radius\"},\"start_angle\":{\"expr\":{\"id\":\"2275\"}},\"x\":{\"value\":0},\"y\":{\"value\":0}},\"id\":\"2281\",\"type\":\"AnnularWedge\"},{\"attributes\":{\"callback\":null,\"renderers\":[{\"id\":\"2306\"}],\"tooltips\":[[\"x\",\"@__x__values_original\"],[\"1\",\"@{1}\"]]},\"id\":\"2345\",\"type\":\"HoverTool\"},{\"attributes\":{\"end_angle\":{\"expr\":{\"id\":\"2276\"}},\"fill_alpha\":{\"value\":0.1},\"fill_color\":{\"field\":\"color\"},\"hatch_alpha\":{\"value\":0.1},\"inner_radius\":{\"field\":\"inner_radius\"},\"line_alpha\":{\"value\":0.1},\"line_color\":{\"value\":\"white\"},\"line_width\":{\"value\":2},\"outer_radius\":{\"field\":\"outer_radius\"},\"start_angle\":{\"expr\":{\"id\":\"2275\"}},\"x\":{\"value\":0},\"y\":{\"value\":0}},\"id\":\"2280\",\"type\":\"AnnularWedge\"},{\"attributes\":{\"source\":{\"id\":\"2339\"}},\"id\":\"2344\",\"type\":\"CDSView\"},{\"attributes\":{\"coordinates\":null,\"data_source\":{\"id\":\"2277\"},\"glyph\":{\"id\":\"2279\"},\"group\":null,\"hover_glyph\":null,\"muted_glyph\":{\"id\":\"2281\"},\"nonselection_glyph\":{\"id\":\"2280\"},\"view\":{\"id\":\"2283\"}},\"id\":\"2282\",\"type\":\"GlyphRenderer\"},{\"attributes\":{\"source\":{\"id\":\"2277\"}},\"id\":\"2283\",\"type\":\"CDSView\"},{\"attributes\":{\"line_alpha\":0.1,\"x\":{\"field\":\"x\"},\"y\":{\"field\":\"y\"}},\"id\":\"2341\",\"type\":\"Line\"},{\"attributes\":{\"data\":{\"__x__values\":[-1.35],\"text\":[\"2\"],\"y\":[0.2]},\"selected\":{\"id\":\"2324\"},\"selection_policy\":{\"id\":\"2323\"}},\"id\":\"2284\",\"type\":\"ColumnDataSource\"},{\"attributes\":{\"x\":{\"field\":\"x\"},\"y\":{\"field\":\"y\"}},\"id\":\"2340\",\"type\":\"Line\"},{\"attributes\":{\"ticks\":[0,1,2,3]},\"id\":\"2347\",\"type\":\"FixedTicker\"},{\"attributes\":{\"coordinates\":null,\"group\":null},\"id\":\"2219\",\"type\":\"Title\"},{\"attributes\":{\"text_color\":{\"value\":\"black\"},\"text_font_style\":{\"value\":\"bold\"},\"x\":{\"field\":\"__x__values\"},\"y\":{\"field\":\"y\"}},\"id\":\"2286\",\"type\":\"Text\"},{\"attributes\":{\"line_alpha\":0.1,\"x\":{\"field\":\"x\"},\"y\":{\"field\":\"y\"}},\"id\":\"2293\",\"type\":\"Line\"},{\"attributes\":{\"end\":2,\"start\":-1.45},\"id\":\"2221\",\"type\":\"Range1d\"},{\"attributes\":{\"coordinates\":null,\"data_source\":{\"id\":\"2301\"},\"glyph\":{\"id\":\"2303\"},\"group\":null,\"hover_glyph\":null,\"muted_glyph\":{\"id\":\"2305\"},\"nonselection_glyph\":{\"id\":\"2304\"},\"view\":{\"id\":\"2307\"}},\"id\":\"2306\",\"type\":\"GlyphRenderer\"},{\"attributes\":{\"source\":{\"id\":\"2291\"}},\"id\":\"2296\",\"type\":\"CDSView\"},{\"attributes\":{\"line_alpha\":0.2,\"x\":{\"field\":\"x\"},\"y\":{\"field\":\"y\"}},\"id\":\"2294\",\"type\":\"Line\"},{\"attributes\":{\"data\":{\"1\":[5,118,139,61],\"1_angle\":{\"__ndarray__\":\"ZTVnMTnmuD/HHTxh/VwCQJWpUUmboQVAULLeaFj88j8=\",\"dtype\":\"float64\",\"order\":\"little\",\"shape\":[4]},\"2\":[12,146,94,25],\"2_angle\":{\"__ndarray__\":\"Ewm4vKdr0T/OjQJvZH4KQOOIyei+DgFAdQmVZHkl4j8=\",\"dtype\":\"float64\",\"order\":\"little\",\"shape\":[4]},\"3\":[110,418,106,75],\"3_angle\":{\"__ndarray__\":\"nET5mMIx7z8tASDeeKINQHm2LG5eD+4/9mh7ItZE5T8=\",\"dtype\":\"float64\",\"order\":\"little\",\"shape\":[4]},\"__x__values\":[[0,\"female\"],[0,\"male\"],[1,\"female\"],[1,\"male\"]],\"__x__values_original\":[[0,\"female\"],[0,\"male\"],[1,\"female\"],[1,\"male\"]],\"color\":[\"#1f77b4\",\"#ff7f0e\",\"#2ca02c\",\"#d62728\"],\"inner_radius\":[0.0,0.0,0.0,0.0],\"outer_radius\":[0.3,0.3,0.3,0.3]},\"selected\":{\"id\":\"2328\"},\"selection_policy\":{\"id\":\"2327\"}},\"id\":\"2301\",\"type\":\"ColumnDataSource\"},{\"attributes\":{\"text_alpha\":{\"value\":0.1},\"text_color\":{\"value\":\"black\"},\"text_font_style\":{\"value\":\"bold\"},\"x\":{\"field\":\"__x__values\"},\"y\":{\"field\":\"y\"}},\"id\":\"2287\",\"type\":\"Text\"},{\"attributes\":{\"end_angle\":{\"expr\":{\"id\":\"2300\"}},\"fill_color\":{\"field\":\"color\"},\"inner_radius\":{\"field\":\"inner_radius\"},\"line_color\":{\"value\":\"white\"},\"line_width\":{\"value\":2},\"outer_radius\":{\"field\":\"outer_radius\"},\"start_angle\":{\"expr\":{\"id\":\"2299\"}},\"x\":{\"value\":0},\"y\":{\"value\":0}},\"id\":\"2303\",\"type\":\"AnnularWedge\"},{\"attributes\":{\"x\":{\"field\":\"x\"},\"y\":{\"field\":\"y\"}},\"id\":\"2292\",\"type\":\"Line\"},{\"attributes\":{\"overlay\":{\"id\":\"2243\"}},\"id\":\"2239\",\"type\":\"BoxZoomTool\"},{\"attributes\":{\"field\":\"1_angle\"},\"id\":\"2300\",\"type\":\"CumSum\"},{\"attributes\":{},\"id\":\"2438\",\"type\":\"Selection\"},{\"attributes\":{\"end_angle\":{\"expr\":{\"id\":\"2300\"}},\"fill_alpha\":{\"value\":0.1},\"fill_color\":{\"field\":\"color\"},\"hatch_alpha\":{\"value\":0.1},\"inner_radius\":{\"field\":\"inner_radius\"},\"line_alpha\":{\"value\":0.1},\"line_color\":{\"value\":\"white\"},\"line_width\":{\"value\":2},\"outer_radius\":{\"field\":\"outer_radius\"},\"start_angle\":{\"expr\":{\"id\":\"2299\"}},\"x\":{\"value\":0},\"y\":{\"value\":0}},\"id\":\"2304\",\"type\":\"AnnularWedge\"},{\"attributes\":{},\"id\":\"2238\",\"type\":\"WheelZoomTool\"},{\"attributes\":{},\"id\":\"2437\",\"type\":\"UnionRenderers\"},{\"attributes\":{},\"id\":\"2240\",\"type\":\"SaveTool\"},{\"attributes\":{},\"id\":\"2241\",\"type\":\"ResetTool\"}],\"root_ids\":[\"2218\"]},\"title\":\"Bokeh Application\",\"version\":\"2.4.3\"}};\n",
       "  const render_items = [{\"docid\":\"5efce748-8189-4134-ab09-dc19b1cee8aa\",\"root_ids\":[\"2218\"],\"roots\":{\"2218\":\"11fe9802-2788-48d6-b74a-7abf26cc9c61\"}}];\n",
       "  root.Bokeh.embed.embed_items_notebook(docs_json, render_items);\n",
       "  }\n",
       "  if (root.Bokeh !== undefined) {\n",
       "    embed_document(root);\n",
       "  } else {\n",
       "    let attempts = 0;\n",
       "    const timer = setInterval(function(root) {\n",
       "      if (root.Bokeh !== undefined) {\n",
       "        clearInterval(timer);\n",
       "        embed_document(root);\n",
       "      } else {\n",
       "        attempts++;\n",
       "        if (attempts > 100) {\n",
       "          clearInterval(timer);\n",
       "          console.log(\"Bokeh: ERROR: Unable to run BokehJS code because BokehJS library is missing\");\n",
       "        }\n",
       "      }\n",
       "    }, 10, root)\n",
       "  }\n",
       "})(window);"
      ],
      "application/vnd.bokehjs_exec.v0+json": ""
     },
     "metadata": {
      "application/vnd.bokehjs_exec.v0+json": {
       "id": "2218"
      }
     },
     "output_type": "display_data"
    }
   ],
   "source": [
    "_ = pt_multi.drop('Total', axis=1).drop('Total', axis=0).plot_bokeh(kind='pie', stacked=True)"
   ]
  },
  {
   "cell_type": "markdown",
   "metadata": {},
   "source": [
    "<span style=\"color:red\"> What is represented by the largest orange \"arch\"?</span>"
   ]
  },
  {
   "cell_type": "markdown",
   "metadata": {},
   "source": [
    "### Group by method\n",
    "\n",
    "The group by method is another way to summarize data. It is more flexible than the pivot table method, but it is more difficult to use. The groupby method is used to split the data into groups based on one or more columns and then apply an aggregation function to each group. The groupby method returns a SeriesGroupBy object. This object can be used to apply an aggregation function to each group. The aggregation function can be applied to all the columns or to a specific column. Some arguments arguments are:\n",
    "- by: column(s) to group by\n",
    "- axis: axis to group by (default is 0)\n",
    "- as_index: group by as index (default is True)\n",
    "- sort: sort group keys (default is True)\n",
    "- observed: only show observed values for categorical groupers (default is False)\n",
    "\n",
    "For example, grouping by passengers class and gender and summing the survived column gives a similar result as the pivot table above."
   ]
  },
  {
   "cell_type": "code",
   "execution_count": 21,
   "metadata": {
    "ExecuteTime": {
     "end_time": "2023-04-16T18:01:10.040643Z",
     "start_time": "2023-04-16T18:01:10.036215Z"
    }
   },
   "outputs": [
    {
     "data": {
      "text/plain": [
       "sex     pclass\n",
       "female  1         139\n",
       "        2          94\n",
       "        3         106\n",
       "male    1          61\n",
       "        2          25\n",
       "        3          75\n",
       "Name: survived, dtype: int64"
      ]
     },
     "execution_count": 21,
     "metadata": {},
     "output_type": "execute_result"
    }
   ],
   "source": [
    "grp = df.groupby(['sex', 'pclass'])['survived'].sum()\n",
    "grp"
   ]
  },
  {
   "cell_type": "markdown",
   "metadata": {},
   "source": [
    "To get the same result as the pivot table, we can unstack the SeriesGroupBy object."
   ]
  },
  {
   "cell_type": "code",
   "execution_count": 22,
   "metadata": {
    "ExecuteTime": {
     "end_time": "2023-04-16T18:01:10.046568Z",
     "start_time": "2023-04-16T18:01:10.041788Z"
    }
   },
   "outputs": [
    {
     "data": {
      "text/html": [
       "<div>\n",
       "<style scoped>\n",
       "    .dataframe tbody tr th:only-of-type {\n",
       "        vertical-align: middle;\n",
       "    }\n",
       "\n",
       "    .dataframe tbody tr th {\n",
       "        vertical-align: top;\n",
       "    }\n",
       "\n",
       "    .dataframe thead th {\n",
       "        text-align: right;\n",
       "    }\n",
       "</style>\n",
       "<table border=\"1\" class=\"dataframe\">\n",
       "  <thead>\n",
       "    <tr style=\"text-align: right;\">\n",
       "      <th>pclass</th>\n",
       "      <th>1</th>\n",
       "      <th>2</th>\n",
       "      <th>3</th>\n",
       "    </tr>\n",
       "    <tr>\n",
       "      <th>sex</th>\n",
       "      <th></th>\n",
       "      <th></th>\n",
       "      <th></th>\n",
       "    </tr>\n",
       "  </thead>\n",
       "  <tbody>\n",
       "    <tr>\n",
       "      <th>female</th>\n",
       "      <td>139</td>\n",
       "      <td>94</td>\n",
       "      <td>106</td>\n",
       "    </tr>\n",
       "    <tr>\n",
       "      <th>male</th>\n",
       "      <td>61</td>\n",
       "      <td>25</td>\n",
       "      <td>75</td>\n",
       "    </tr>\n",
       "  </tbody>\n",
       "</table>\n",
       "</div>"
      ],
      "text/plain": [
       "pclass    1   2    3\n",
       "sex                 \n",
       "female  139  94  106\n",
       "male     61  25   75"
      ]
     },
     "execution_count": 22,
     "metadata": {},
     "output_type": "execute_result"
    }
   ],
   "source": [
    "grp = grp.unstack()\n",
    "grp"
   ]
  },
  {
   "cell_type": "markdown",
   "metadata": {},
   "source": [
    "The second example shown above can also be done using groupby and unstack."
   ]
  },
  {
   "cell_type": "code",
   "execution_count": 23,
   "metadata": {
    "ExecuteTime": {
     "end_time": "2023-04-16T18:01:10.093120Z",
     "start_time": "2023-04-16T18:01:10.047763Z"
    }
   },
   "outputs": [
    {
     "data": {
      "text/html": [
       "<div>\n",
       "<style scoped>\n",
       "    .dataframe tbody tr th:only-of-type {\n",
       "        vertical-align: middle;\n",
       "    }\n",
       "\n",
       "    .dataframe tbody tr th {\n",
       "        vertical-align: top;\n",
       "    }\n",
       "\n",
       "    .dataframe thead th {\n",
       "        text-align: right;\n",
       "    }\n",
       "</style>\n",
       "<table border=\"1\" class=\"dataframe\">\n",
       "  <thead>\n",
       "    <tr style=\"text-align: right;\">\n",
       "      <th></th>\n",
       "      <th>pclass</th>\n",
       "      <th>1</th>\n",
       "      <th>2</th>\n",
       "      <th>3</th>\n",
       "    </tr>\n",
       "    <tr>\n",
       "      <th>survived</th>\n",
       "      <th>sex</th>\n",
       "      <th></th>\n",
       "      <th></th>\n",
       "      <th></th>\n",
       "    </tr>\n",
       "  </thead>\n",
       "  <tbody>\n",
       "    <tr>\n",
       "      <th rowspan=\"2\" valign=\"top\">0</th>\n",
       "      <th>female</th>\n",
       "      <td>5</td>\n",
       "      <td>12</td>\n",
       "      <td>110</td>\n",
       "    </tr>\n",
       "    <tr>\n",
       "      <th>male</th>\n",
       "      <td>118</td>\n",
       "      <td>146</td>\n",
       "      <td>418</td>\n",
       "    </tr>\n",
       "    <tr>\n",
       "      <th rowspan=\"2\" valign=\"top\">1</th>\n",
       "      <th>female</th>\n",
       "      <td>139</td>\n",
       "      <td>94</td>\n",
       "      <td>106</td>\n",
       "    </tr>\n",
       "    <tr>\n",
       "      <th>male</th>\n",
       "      <td>61</td>\n",
       "      <td>25</td>\n",
       "      <td>75</td>\n",
       "    </tr>\n",
       "  </tbody>\n",
       "</table>\n",
       "</div>"
      ],
      "text/plain": [
       "pclass             1    2    3\n",
       "survived sex                  \n",
       "0        female    5   12  110\n",
       "         male    118  146  418\n",
       "1        female  139   94  106\n",
       "         male     61   25   75"
      ]
     },
     "execution_count": 23,
     "metadata": {},
     "output_type": "execute_result"
    }
   ],
   "source": [
    "df.groupby(['survived', 'sex', 'pclass'])['ticket'].count().unstack()"
   ]
  },
  {
   "cell_type": "markdown",
   "metadata": {},
   "source": [
    "### Exercises\n",
    "<span style=\"color:red\"> Find the minimum/maximum fare paid by each passenger class and gender.</span>"
   ]
  },
  {
   "cell_type": "code",
   "execution_count": 24,
   "metadata": {
    "ExecuteTime": {
     "end_time": "2023-04-16T18:01:10.094232Z",
     "start_time": "2023-04-16T18:01:10.056332Z"
    }
   },
   "outputs": [
    {
     "data": {
      "text/html": [
       "<div>\n",
       "<style scoped>\n",
       "    .dataframe tbody tr th:only-of-type {\n",
       "        vertical-align: middle;\n",
       "    }\n",
       "\n",
       "    .dataframe tbody tr th {\n",
       "        vertical-align: top;\n",
       "    }\n",
       "\n",
       "    .dataframe thead tr th {\n",
       "        text-align: left;\n",
       "    }\n",
       "\n",
       "    .dataframe thead tr:last-of-type th {\n",
       "        text-align: right;\n",
       "    }\n",
       "</style>\n",
       "<table border=\"1\" class=\"dataframe\">\n",
       "  <thead>\n",
       "    <tr>\n",
       "      <th></th>\n",
       "      <th></th>\n",
       "      <th>min</th>\n",
       "      <th>max</th>\n",
       "    </tr>\n",
       "    <tr>\n",
       "      <th></th>\n",
       "      <th></th>\n",
       "      <th>fare</th>\n",
       "      <th>fare</th>\n",
       "    </tr>\n",
       "    <tr>\n",
       "      <th>pclass</th>\n",
       "      <th>sex</th>\n",
       "      <th></th>\n",
       "      <th></th>\n",
       "    </tr>\n",
       "  </thead>\n",
       "  <tbody>\n",
       "    <tr>\n",
       "      <th rowspan=\"2\" valign=\"top\">1</th>\n",
       "      <th>female</th>\n",
       "      <td>25.70</td>\n",
       "      <td>512.3292</td>\n",
       "    </tr>\n",
       "    <tr>\n",
       "      <th>male</th>\n",
       "      <td>0.00</td>\n",
       "      <td>512.3292</td>\n",
       "    </tr>\n",
       "    <tr>\n",
       "      <th rowspan=\"2\" valign=\"top\">2</th>\n",
       "      <th>female</th>\n",
       "      <td>10.50</td>\n",
       "      <td>65.0000</td>\n",
       "    </tr>\n",
       "    <tr>\n",
       "      <th>male</th>\n",
       "      <td>0.00</td>\n",
       "      <td>73.5000</td>\n",
       "    </tr>\n",
       "    <tr>\n",
       "      <th rowspan=\"2\" valign=\"top\">3</th>\n",
       "      <th>female</th>\n",
       "      <td>6.75</td>\n",
       "      <td>69.5500</td>\n",
       "    </tr>\n",
       "    <tr>\n",
       "      <th>male</th>\n",
       "      <td>0.00</td>\n",
       "      <td>69.5500</td>\n",
       "    </tr>\n",
       "  </tbody>\n",
       "</table>\n",
       "</div>"
      ],
      "text/plain": [
       "                 min       max\n",
       "                fare      fare\n",
       "pclass sex                    \n",
       "1      female  25.70  512.3292\n",
       "       male     0.00  512.3292\n",
       "2      female  10.50   65.0000\n",
       "       male     0.00   73.5000\n",
       "3      female   6.75   69.5500\n",
       "       male     0.00   69.5500"
      ]
     },
     "execution_count": 24,
     "metadata": {},
     "output_type": "execute_result"
    }
   ],
   "source": [
    "df.pivot_table(index=['pclass', 'sex'], values='fare', aggfunc=['min', 'max'])"
   ]
  },
  {
   "cell_type": "markdown",
   "metadata": {},
   "source": [
    "<span style=\"color:red\"> Find the minimum/maximum fare paid by each adult (age>18) passenger by class and gender.</span>"
   ]
  },
  {
   "cell_type": "markdown",
   "metadata": {},
   "source": [
    "<span style=\"color:red\"> Add a row to the index of the previous pivot table dividing the results in adult and juvenile.</span>"
   ]
  },
  {
   "cell_type": "code",
   "execution_count": 25,
   "metadata": {
    "ExecuteTime": {
     "end_time": "2023-04-16T18:01:10.108018Z",
     "start_time": "2023-04-16T18:01:10.070262Z"
    }
   },
   "outputs": [
    {
     "data": {
      "text/html": [
       "<div>\n",
       "<style scoped>\n",
       "    .dataframe tbody tr th:only-of-type {\n",
       "        vertical-align: middle;\n",
       "    }\n",
       "\n",
       "    .dataframe tbody tr th {\n",
       "        vertical-align: top;\n",
       "    }\n",
       "\n",
       "    .dataframe thead tr th {\n",
       "        text-align: left;\n",
       "    }\n",
       "\n",
       "    .dataframe thead tr:last-of-type th {\n",
       "        text-align: right;\n",
       "    }\n",
       "</style>\n",
       "<table border=\"1\" class=\"dataframe\">\n",
       "  <thead>\n",
       "    <tr>\n",
       "      <th></th>\n",
       "      <th></th>\n",
       "      <th>min</th>\n",
       "      <th>max</th>\n",
       "    </tr>\n",
       "    <tr>\n",
       "      <th></th>\n",
       "      <th></th>\n",
       "      <th>fare</th>\n",
       "      <th>fare</th>\n",
       "    </tr>\n",
       "    <tr>\n",
       "      <th>pclass</th>\n",
       "      <th>sex</th>\n",
       "      <th></th>\n",
       "      <th></th>\n",
       "    </tr>\n",
       "  </thead>\n",
       "  <tbody>\n",
       "    <tr>\n",
       "      <th rowspan=\"2\" valign=\"top\">1</th>\n",
       "      <th>female</th>\n",
       "      <td>25.70</td>\n",
       "      <td>512.3292</td>\n",
       "    </tr>\n",
       "    <tr>\n",
       "      <th>male</th>\n",
       "      <td>0.00</td>\n",
       "      <td>512.3292</td>\n",
       "    </tr>\n",
       "    <tr>\n",
       "      <th rowspan=\"2\" valign=\"top\">2</th>\n",
       "      <th>female</th>\n",
       "      <td>10.50</td>\n",
       "      <td>65.0000</td>\n",
       "    </tr>\n",
       "    <tr>\n",
       "      <th>male</th>\n",
       "      <td>0.00</td>\n",
       "      <td>73.5000</td>\n",
       "    </tr>\n",
       "    <tr>\n",
       "      <th rowspan=\"2\" valign=\"top\">3</th>\n",
       "      <th>female</th>\n",
       "      <td>6.75</td>\n",
       "      <td>69.5500</td>\n",
       "    </tr>\n",
       "    <tr>\n",
       "      <th>male</th>\n",
       "      <td>0.00</td>\n",
       "      <td>69.5500</td>\n",
       "    </tr>\n",
       "  </tbody>\n",
       "</table>\n",
       "</div>"
      ],
      "text/plain": [
       "                 min       max\n",
       "                fare      fare\n",
       "pclass sex                    \n",
       "1      female  25.70  512.3292\n",
       "       male     0.00  512.3292\n",
       "2      female  10.50   65.0000\n",
       "       male     0.00   73.5000\n",
       "3      female   6.75   69.5500\n",
       "       male     0.00   69.5500"
      ]
     },
     "execution_count": 25,
     "metadata": {},
     "output_type": "execute_result"
    }
   ],
   "source": [
    "df.pivot_table(index=['pclass', 'sex'], values='fare', aggfunc=['min', 'max'])"
   ]
  },
  {
   "cell_type": "code",
   "execution_count": 26,
   "metadata": {
    "ExecuteTime": {
     "end_time": "2023-04-16T18:01:10.183519Z",
     "start_time": "2023-04-16T18:01:10.107691Z"
    }
   },
   "outputs": [
    {
     "data": {
      "text/html": [
       "<div>\n",
       "<style scoped>\n",
       "    .dataframe tbody tr th:only-of-type {\n",
       "        vertical-align: middle;\n",
       "    }\n",
       "\n",
       "    .dataframe tbody tr th {\n",
       "        vertical-align: top;\n",
       "    }\n",
       "\n",
       "    .dataframe thead tr th {\n",
       "        text-align: left;\n",
       "    }\n",
       "\n",
       "    .dataframe thead tr:last-of-type th {\n",
       "        text-align: right;\n",
       "    }\n",
       "</style>\n",
       "<table border=\"1\" class=\"dataframe\">\n",
       "  <thead>\n",
       "    <tr>\n",
       "      <th></th>\n",
       "      <th></th>\n",
       "      <th>min</th>\n",
       "      <th>max</th>\n",
       "    </tr>\n",
       "    <tr>\n",
       "      <th></th>\n",
       "      <th></th>\n",
       "      <th>fare</th>\n",
       "      <th>fare</th>\n",
       "    </tr>\n",
       "    <tr>\n",
       "      <th>pclass</th>\n",
       "      <th>sex</th>\n",
       "      <th></th>\n",
       "      <th></th>\n",
       "    </tr>\n",
       "  </thead>\n",
       "  <tbody>\n",
       "    <tr>\n",
       "      <th rowspan=\"2\" valign=\"top\">1</th>\n",
       "      <th>female</th>\n",
       "      <td>25.7000</td>\n",
       "      <td>512.3292</td>\n",
       "    </tr>\n",
       "    <tr>\n",
       "      <th>male</th>\n",
       "      <td>0.0000</td>\n",
       "      <td>512.3292</td>\n",
       "    </tr>\n",
       "    <tr>\n",
       "      <th rowspan=\"2\" valign=\"top\">2</th>\n",
       "      <th>female</th>\n",
       "      <td>10.5000</td>\n",
       "      <td>65.0000</td>\n",
       "    </tr>\n",
       "    <tr>\n",
       "      <th>male</th>\n",
       "      <td>9.6875</td>\n",
       "      <td>73.5000</td>\n",
       "    </tr>\n",
       "    <tr>\n",
       "      <th rowspan=\"2\" valign=\"top\">3</th>\n",
       "      <th>female</th>\n",
       "      <td>6.7500</td>\n",
       "      <td>46.9000</td>\n",
       "    </tr>\n",
       "    <tr>\n",
       "      <th>male</th>\n",
       "      <td>0.0000</td>\n",
       "      <td>56.4958</td>\n",
       "    </tr>\n",
       "  </tbody>\n",
       "</table>\n",
       "</div>"
      ],
      "text/plain": [
       "                   min       max\n",
       "                  fare      fare\n",
       "pclass sex                      \n",
       "1      female  25.7000  512.3292\n",
       "       male     0.0000  512.3292\n",
       "2      female  10.5000   65.0000\n",
       "       male     9.6875   73.5000\n",
       "3      female   6.7500   46.9000\n",
       "       male     0.0000   56.4958"
      ]
     },
     "execution_count": 26,
     "metadata": {},
     "output_type": "execute_result"
    }
   ],
   "source": [
    "df[df['age'] >= 18].pivot_table(index=['pclass', 'sex'], values='fare', aggfunc=['min', 'max'])"
   ]
  },
  {
   "cell_type": "code",
   "execution_count": 27,
   "metadata": {
    "ExecuteTime": {
     "end_time": "2023-04-16T18:01:10.183690Z",
     "start_time": "2023-04-16T18:01:10.111692Z"
    }
   },
   "outputs": [
    {
     "data": {
      "text/html": [
       "<div>\n",
       "<style scoped>\n",
       "    .dataframe tbody tr th:only-of-type {\n",
       "        vertical-align: middle;\n",
       "    }\n",
       "\n",
       "    .dataframe tbody tr th {\n",
       "        vertical-align: top;\n",
       "    }\n",
       "\n",
       "    .dataframe thead tr th {\n",
       "        text-align: left;\n",
       "    }\n",
       "\n",
       "    .dataframe thead tr:last-of-type th {\n",
       "        text-align: right;\n",
       "    }\n",
       "</style>\n",
       "<table border=\"1\" class=\"dataframe\">\n",
       "  <thead>\n",
       "    <tr>\n",
       "      <th></th>\n",
       "      <th></th>\n",
       "      <th></th>\n",
       "      <th>min</th>\n",
       "      <th>max</th>\n",
       "    </tr>\n",
       "    <tr>\n",
       "      <th></th>\n",
       "      <th></th>\n",
       "      <th></th>\n",
       "      <th>fare</th>\n",
       "      <th>fare</th>\n",
       "    </tr>\n",
       "    <tr>\n",
       "      <th>age_group</th>\n",
       "      <th>pclass</th>\n",
       "      <th>sex</th>\n",
       "      <th></th>\n",
       "      <th></th>\n",
       "    </tr>\n",
       "  </thead>\n",
       "  <tbody>\n",
       "    <tr>\n",
       "      <th rowspan=\"6\" valign=\"top\">adult</th>\n",
       "      <th rowspan=\"2\" valign=\"top\">1</th>\n",
       "      <th>female</th>\n",
       "      <td>25.7000</td>\n",
       "      <td>512.3292</td>\n",
       "    </tr>\n",
       "    <tr>\n",
       "      <th>male</th>\n",
       "      <td>0.0000</td>\n",
       "      <td>512.3292</td>\n",
       "    </tr>\n",
       "    <tr>\n",
       "      <th rowspan=\"2\" valign=\"top\">2</th>\n",
       "      <th>female</th>\n",
       "      <td>10.5000</td>\n",
       "      <td>65.0000</td>\n",
       "    </tr>\n",
       "    <tr>\n",
       "      <th>male</th>\n",
       "      <td>9.6875</td>\n",
       "      <td>73.5000</td>\n",
       "    </tr>\n",
       "    <tr>\n",
       "      <th rowspan=\"2\" valign=\"top\">3</th>\n",
       "      <th>female</th>\n",
       "      <td>6.7500</td>\n",
       "      <td>46.9000</td>\n",
       "    </tr>\n",
       "    <tr>\n",
       "      <th>male</th>\n",
       "      <td>0.0000</td>\n",
       "      <td>56.4958</td>\n",
       "    </tr>\n",
       "    <tr>\n",
       "      <th rowspan=\"6\" valign=\"top\">juvenile</th>\n",
       "      <th rowspan=\"2\" valign=\"top\">1</th>\n",
       "      <th>female</th>\n",
       "      <td>27.7208</td>\n",
       "      <td>211.3375</td>\n",
       "    </tr>\n",
       "    <tr>\n",
       "      <th>male</th>\n",
       "      <td>0.0000</td>\n",
       "      <td>262.3750</td>\n",
       "    </tr>\n",
       "    <tr>\n",
       "      <th rowspan=\"2\" valign=\"top\">2</th>\n",
       "      <th>female</th>\n",
       "      <td>10.5000</td>\n",
       "      <td>41.5792</td>\n",
       "    </tr>\n",
       "    <tr>\n",
       "      <th>male</th>\n",
       "      <td>0.0000</td>\n",
       "      <td>73.5000</td>\n",
       "    </tr>\n",
       "    <tr>\n",
       "      <th rowspan=\"2\" valign=\"top\">3</th>\n",
       "      <th>female</th>\n",
       "      <td>7.2250</td>\n",
       "      <td>69.5500</td>\n",
       "    </tr>\n",
       "    <tr>\n",
       "      <th>male</th>\n",
       "      <td>3.1708</td>\n",
       "      <td>69.5500</td>\n",
       "    </tr>\n",
       "  </tbody>\n",
       "</table>\n",
       "</div>"
      ],
      "text/plain": [
       "                             min       max\n",
       "                            fare      fare\n",
       "age_group pclass sex                      \n",
       "adult     1      female  25.7000  512.3292\n",
       "                 male     0.0000  512.3292\n",
       "          2      female  10.5000   65.0000\n",
       "                 male     9.6875   73.5000\n",
       "          3      female   6.7500   46.9000\n",
       "                 male     0.0000   56.4958\n",
       "juvenile  1      female  27.7208  211.3375\n",
       "                 male     0.0000  262.3750\n",
       "          2      female  10.5000   41.5792\n",
       "                 male     0.0000   73.5000\n",
       "          3      female   7.2250   69.5500\n",
       "                 male     3.1708   69.5500"
      ]
     },
     "execution_count": 27,
     "metadata": {},
     "output_type": "execute_result"
    }
   ],
   "source": [
    "df_with_age_group = df.copy()\n",
    "df_with_age_group['age_group'] = df['age'].apply(lambda x: 'adult' if x >= 18 else 'juvenile')\n",
    "#df_with_age_group\n",
    "df_with_age_group.pivot_table(index=['age_group','pclass', 'sex'], values='fare', aggfunc=['min', 'max'])"
   ]
  },
  {
   "cell_type": "markdown",
   "metadata": {},
   "source": [
    "## Statistical analysis\n",
    "\n",
    "Exploratory data analysis (EDA) is not only about visualizing the data, but also about understanding the data. This is done by performing statistical analysis on it.\n",
    "\n",
    "### Types of variables\n",
    "\n",
    "Data types are fundamental concepts in statistical  analysis, being divided into the following main categories:\n",
    "- **Nominal attributes** refer to variables that are categorized by names or labels. These variables have categorical, qualitative, and unordered values, such as brand names, product names, zip codes, gender, or marital status. The value of a nominal attribute can be represented by the symbol or name of an item. It is not meaningful to calculate the mean or median values for nominal attributes, but data analysts can calculate the mode, which is the value that appears most frequently.\n",
    "\n",
    "- **Ordinal attributes** are variables that have names or labels with a meaningful order or ranking, but their exact magnitude is unknown. These attributes measure subjective qualities, which make them ideal for surveys that collect information on customer satisfaction, product ratings, and movie reviews. For example, customer satisfaction ratings may range from very dissatisfied to very satisfied, or the size of a drink may be classified as small, medium, or large. The median and mode are the only measures of central tendency that should  be used for ordinal attributes, as the mean cannot be calculated due to their qualitative nature.\n",
    "\n",
    "- **Numeric attributes** are variables that are quantitatively represented as either integer or real values. For example, the number of children in a family is a numeric attribute. The mean, median, and mode are all appropriate measures of central tendency for numeric attributes.\n",
    "\n",
    "#### Discrete and continuous variables\n",
    "\n",
    "Variables can be divided into two main categories:\n",
    "- **discrete variables** are variables that can take on only a finite number of values. For example, the number of children in a family is a discrete variable, as it can only take on the values 0, 1, 2, 3, etc.\n",
    "- **continuous variables** are variables that can take on an infinite number of values. For example, the height of a person is a continuous variable, as it can take on any value between 0 and ? meters.\n"
   ]
  },
  {
   "cell_type": "markdown",
   "metadata": {},
   "source": [
    "### Measures of central tendency\n",
    "#### Mean\n",
    "The mean is the most common measure of central tendency. It is the sum of all values divided by the number of values. The mean is a good measure of central tendency for continuous variables. However, it is not a good measure of central tendency for discrete variables, as it is sensitive to outliers. The mean is calculated using the following formula:\n",
    "$$\\bar{x} = \\frac{1}{n}\\sum_{i=1}^{n}x_i$$\n",
    "where $x_i$ is the $i$-th value of the variable and $n$ is the number of values.\n",
    "\n",
    "For examples the mean of the age of the passengers is given by"
   ]
  },
  {
   "cell_type": "code",
   "execution_count": 28,
   "metadata": {
    "ExecuteTime": {
     "end_time": "2023-04-16T18:01:10.183757Z",
     "start_time": "2023-04-16T18:01:10.127137Z"
    }
   },
   "outputs": [
    {
     "data": {
      "text/plain": [
       "29.8811345124283"
      ]
     },
     "execution_count": 28,
     "metadata": {},
     "output_type": "execute_result"
    }
   ],
   "source": [
    "df['age'].mean()"
   ]
  },
  {
   "cell_type": "markdown",
   "metadata": {},
   "source": [
    "\n",
    "#### Median\n",
    "The median is the middle value of a sorted list of values. If the number of values is even, the median is the average of the two middle values. The median is a good measure of central tendency for both discrete and continuous variables. The median is calculated using the following formula:\n",
    "$$\\text{median} = \\begin{cases} \\frac{x_{\\frac{n}{2}} + x_{\\frac{n+1}{2}}}{2} & \\text{if } n \\text{ is even} \\\\ x_{\\frac{n+1}{2}} & \\text{if } n \\text{ is odd} \\end{cases}$$\n",
    "where $x_i$ is the $i$-th value of the variable and $n$ is the number of values.\n",
    "\n",
    "For example, the median of the age of the passengers is given by"
   ]
  },
  {
   "cell_type": "code",
   "execution_count": 29,
   "metadata": {
    "ExecuteTime": {
     "end_time": "2023-04-16T18:01:10.184229Z",
     "start_time": "2023-04-16T18:01:10.131577Z"
    }
   },
   "outputs": [
    {
     "data": {
      "text/plain": [
       "28.0"
      ]
     },
     "execution_count": 29,
     "metadata": {},
     "output_type": "execute_result"
    }
   ],
   "source": [
    "df['age'].median()"
   ]
  },
  {
   "cell_type": "markdown",
   "metadata": {},
   "source": [
    "Along with the median it is usual to define the percentile of a variable. The $p$-th percentile of a variable is the value $x_p$ such that $p$% of the values are less than or equal to $x_p$. For example, the 25th percentile of the age of the passengers is given by the value such that 25% of the values are less than or equal to it.\n",
    "\n",
    "To get the 25th percentile of the age of the passengers we can use `quantile` method with the parameter q=0.25."
   ]
  },
  {
   "cell_type": "code",
   "execution_count": 30,
   "metadata": {
    "ExecuteTime": {
     "end_time": "2023-04-16T18:01:10.185357Z",
     "start_time": "2023-04-16T18:01:10.136462Z"
    }
   },
   "outputs": [
    {
     "name": "stdout",
     "output_type": "stream",
     "text": [
      "25% of the passengers are younger than 21.0 years old.\n"
     ]
    }
   ],
   "source": [
    "print(\"25% of the passengers are younger than\", df['age'].quantile(q=0.25), \"years old.\")"
   ]
  },
  {
   "cell_type": "markdown",
   "metadata": {},
   "source": [
    "#### Mode\n",
    "The mode is the value that appears most frequently in a list of values. The mode is a good measure of central tendency for nominal variables.\n",
    "\n",
    "For example, the mode of the embarked column is given by"
   ]
  },
  {
   "cell_type": "code",
   "execution_count": 31,
   "metadata": {
    "ExecuteTime": {
     "end_time": "2023-04-16T18:01:10.185458Z",
     "start_time": "2023-04-16T18:01:10.143706Z"
    }
   },
   "outputs": [
    {
     "data": {
      "text/plain": [
       "0    S\n",
       "Name: embarked, dtype: object"
      ]
     },
     "execution_count": 31,
     "metadata": {},
     "output_type": "execute_result"
    }
   ],
   "source": [
    "df['embarked'].mode()"
   ]
  },
  {
   "cell_type": "markdown",
   "metadata": {},
   "source": [
    "The `value_counts` method can be used to count the number of times each value appears in a column and check if the mode is correct."
   ]
  },
  {
   "cell_type": "code",
   "execution_count": 32,
   "metadata": {
    "ExecuteTime": {
     "end_time": "2023-04-16T18:01:10.186748Z",
     "start_time": "2023-04-16T18:01:10.148205Z"
    }
   },
   "outputs": [
    {
     "data": {
      "text/plain": [
       "embarked\n",
       "S    914\n",
       "C    270\n",
       "Q    123\n",
       "Name: count, dtype: int64"
      ]
     },
     "execution_count": 32,
     "metadata": {},
     "output_type": "execute_result"
    }
   ],
   "source": [
    "df['embarked'].value_counts()"
   ]
  },
  {
   "cell_type": "markdown",
   "metadata": {},
   "source": [
    "### Measures of dispersion\n",
    "\n",
    "#### Range\n",
    "The range is the difference between the maximum and minimum values of a variable. The range is a good measure of dispersion for discrete variables. However, it is not a good measure of dispersion for continuous variables, as it is sensitive to outliers. The range is calculated using the following formula:\n",
    "$$\\text{range}(x) = x_{\\text{max}} - x_{\\text{min}}$$\n",
    "where $x_{\\text{max}}$ is the maximum value of the variable and $x_{\\text{min}}$ is the minimum value of the variable.\n",
    "\n",
    "For example, the range of the age of the passengers is given by"
   ]
  },
  {
   "cell_type": "code",
   "execution_count": 33,
   "metadata": {
    "ExecuteTime": {
     "end_time": "2023-04-16T18:01:10.187279Z",
     "start_time": "2023-04-16T18:01:10.157071Z"
    }
   },
   "outputs": [
    {
     "data": {
      "text/plain": [
       "79.8333"
      ]
     },
     "execution_count": 33,
     "metadata": {},
     "output_type": "execute_result"
    }
   ],
   "source": [
    "df['age'].max() - df['age'].min()"
   ]
  },
  {
   "cell_type": "markdown",
   "metadata": {},
   "source": [
    "#### Variance and standard deviation\n",
    "The variance is the average of the squared differences from the mean. The variance is a good measure of dispersion for continuous variables. The variance is calculated using the following formula:\n",
    "$$\\text{var}(x) = \\frac{1}{n}\\sum_{i=1}^{n}(x_i - \\bar{x})^2$$\n",
    "where $x_i$ is the $i$-th value of the variable, $\\bar{x}$ is the mean of the variable, and $n$ is the number of values.\n",
    "\n",
    "For example, the variance of the age of the passengers is given by"
   ]
  },
  {
   "cell_type": "code",
   "execution_count": 34,
   "metadata": {
    "ExecuteTime": {
     "end_time": "2023-04-16T18:01:10.225676Z",
     "start_time": "2023-04-16T18:01:10.162115Z"
    }
   },
   "outputs": [
    {
     "data": {
      "text/plain": [
       "207.74897359969785"
      ]
     },
     "execution_count": 34,
     "metadata": {},
     "output_type": "execute_result"
    }
   ],
   "source": [
    "df['age'].var()"
   ]
  },
  {
   "cell_type": "markdown",
   "metadata": {},
   "source": [
    "On the other hand, the standard deviation is the square root of the variance. The standard deviation is also a good measure of dispersion for continuous variables. The standard deviation is calculated using the following formula:\n",
    "$$\\text{std}(x) = \\sqrt{\\text{var}(x)}.$$\n",
    "\n",
    "The standard deviation is on the most common measure of dispersion being measured in the same units as the variable.\n",
    "\n",
    "For example, the standard deviation of the age of the passengers is given by"
   ]
  },
  {
   "cell_type": "code",
   "execution_count": 35,
   "metadata": {
    "ExecuteTime": {
     "end_time": "2023-04-16T18:01:10.263896Z",
     "start_time": "2023-04-16T18:01:10.165569Z"
    }
   },
   "outputs": [
    {
     "data": {
      "text/plain": [
       "14.413499699923605"
      ]
     },
     "execution_count": 35,
     "metadata": {},
     "output_type": "execute_result"
    }
   ],
   "source": [
    "df['age'].std()"
   ]
  },
  {
   "cell_type": "markdown",
   "metadata": {},
   "source": [
    "#### Interquartile range (IQR)\n",
    "The interquartile range is the difference between the 75th and 25th percentiles of a variable. The interquartile range is a good measure of dispersion for continuous variables. The interquartile range is calculated using the following formula:\n",
    "$$\\text{IQR}(x) = x_{75} - x_{25}$$\n",
    "where $x_{75}$ is the 75th percentile of the variable and $x_{25}$ is the 25th percentile of the variable.\n",
    "\n",
    "For example, the interquartile range of the age of the passengers is given by"
   ]
  },
  {
   "cell_type": "code",
   "execution_count": 36,
   "metadata": {
    "ExecuteTime": {
     "end_time": "2023-04-16T18:01:10.280669Z",
     "start_time": "2023-04-16T18:01:10.169643Z"
    }
   },
   "outputs": [
    {
     "data": {
      "text/plain": [
       "18.0"
      ]
     },
     "execution_count": 36,
     "metadata": {},
     "output_type": "execute_result"
    }
   ],
   "source": [
    "df['age'].quantile(0.75) - df['age'].quantile(0.25)"
   ]
  },
  {
   "cell_type": "code",
   "execution_count": 37,
   "metadata": {
    "ExecuteTime": {
     "end_time": "2023-04-16T18:01:10.283184Z",
     "start_time": "2023-04-16T18:01:10.174577Z"
    }
   },
   "outputs": [
    {
     "data": {
      "text/plain": [
       "21.0"
      ]
     },
     "execution_count": 37,
     "metadata": {},
     "output_type": "execute_result"
    }
   ],
   "source": [
    "df['age'].quantile(0.25)"
   ]
  },
  {
   "cell_type": "code",
   "execution_count": 38,
   "metadata": {
    "ExecuteTime": {
     "end_time": "2023-04-16T18:01:10.283263Z",
     "start_time": "2023-04-16T18:01:10.178677Z"
    }
   },
   "outputs": [
    {
     "data": {
      "text/plain": [
       "39.0"
      ]
     },
     "execution_count": 38,
     "metadata": {},
     "output_type": "execute_result"
    }
   ],
   "source": [
    "df['age'].quantile(0.75)"
   ]
  },
  {
   "cell_type": "code",
   "execution_count": 39,
   "metadata": {
    "ExecuteTime": {
     "end_time": "2023-04-16T18:01:10.284443Z",
     "start_time": "2023-04-16T18:01:10.184585Z"
    }
   },
   "outputs": [
    {
     "data": {
      "text/plain": [
       "28.0"
      ]
     },
     "execution_count": 39,
     "metadata": {},
     "output_type": "execute_result"
    }
   ],
   "source": [
    "df['age'].quantile(0.5)"
   ]
  },
  {
   "cell_type": "markdown",
   "metadata": {},
   "source": [
    "### Measures of skewness and kurtosis\n",
    "\n",
    "#### Skewness\n",
    "\n",
    "Skewness measures the symmetry of a distribution. A distribution is symmetric if it looks the same to the left and right of the center point. A distribution is skewed if it is longer in one tail than the other. The skewness of a distribution is:\n",
    "  - **positive if the tail on the right side of the distribution is longer** (that is, outliers are skewed to the right and data stacked up on the left) and\n",
    "  - **negative if the tail on the left side of the distribution is longer**.\n",
    "  - The skewness of a distribution is **zero** if the tails on both sides of the distribution are the same length.\n",
    "\n",
    "Further positive skewness occurs when the mean is greater than the median and the mode. Negative skewness occurs when the mean is less than the median and mode.\n",
    "\n",
    "Let us calculate the skewness of the numeric attributes of the titanic dataset."
   ]
  },
  {
   "cell_type": "code",
   "execution_count": 40,
   "metadata": {
    "ExecuteTime": {
     "end_time": "2023-04-16T18:01:10.312901Z",
     "start_time": "2023-04-16T18:01:10.189082Z"
    }
   },
   "outputs": [
    {
     "data": {
      "text/plain": [
       "pclass        -0.598647\n",
       "survived       0.486404\n",
       "age            0.407672\n",
       "sibsp          3.844220\n",
       "parch          3.669078\n",
       "fare           4.367709\n",
       "body           0.091739\n",
       "family_size    2.853078\n",
       "dtype: float64"
      ]
     },
     "execution_count": 40,
     "metadata": {},
     "output_type": "execute_result"
    }
   ],
   "source": [
    "numeric_attributes = df.select_dtypes(include=['int64', 'float64'])\n",
    "\n",
    "df[numeric_attributes.columns].skew()"
   ]
  },
  {
   "cell_type": "markdown",
   "metadata": {},
   "source": [
    "Without looking at the histogram plot:\n",
    "<span style=\"color:red\"> what conclusions can you take about the distibution of the pclass?</span>\n",
    "<span style=\"color:red\"> what conclusions can you take about the distibution of the fare?</span>\n",
    "<span style=\"color:red\"> what conclusions can you take about the distibution of the age?</span>\n",
    "\n",
    "<span  style=\"color:red\"> Replot the histogram of the pclass, fare and age attributes and comment on the skewness of the distributions.</span>"
   ]
  },
  {
   "cell_type": "code",
   "execution_count": 41,
   "metadata": {
    "ExecuteTime": {
     "end_time": "2023-04-16T18:01:10.321419Z",
     "start_time": "2023-04-16T18:01:10.195394Z"
    }
   },
   "outputs": [],
   "source": [
    "# TODO\n"
   ]
  },
  {
   "cell_type": "markdown",
   "metadata": {},
   "source": [
    "#### Kurtosis\n",
    "kurtoisis measures the tail heaviness of a distribution, i.e., whether the tails are heavy or light relative to a normal distribution. The kurtosis of a distribution is positive if the tails are heavier than a normal distribution and negative if the tails are lighter than a normal distribution.\n",
    "\n",
    "Let us calculate the kurtosis of the numeric attributes of the titanic dataset.\n"
   ]
  },
  {
   "cell_type": "code",
   "execution_count": 42,
   "metadata": {
    "ExecuteTime": {
     "end_time": "2023-04-16T18:01:10.321659Z",
     "start_time": "2023-04-16T18:01:10.197207Z"
    }
   },
   "outputs": [
    {
     "data": {
      "text/plain": [
       "pclass         -1.315079\n",
       "survived       -1.766112\n",
       "age             0.146950\n",
       "sibsp          20.043251\n",
       "parch          21.541079\n",
       "fare           27.027986\n",
       "body           -1.254052\n",
       "family_size    10.299209\n",
       "dtype: float64"
      ]
     },
     "execution_count": 42,
     "metadata": {},
     "output_type": "execute_result"
    }
   ],
   "source": [
    "df[numeric_attributes.columns].kurt()"
   ]
  },
  {
   "cell_type": "code",
   "execution_count": 43,
   "metadata": {
    "ExecuteTime": {
     "end_time": "2023-04-16T18:01:10.463073Z",
     "start_time": "2023-04-16T18:01:10.205670Z"
    }
   },
   "outputs": [],
   "source": [
    "def plot_histogram_and_normal_dist(df, column, bins=10):\n",
    "\n",
    "    mean_age = df[column].mean()\n",
    "    std_age = df[column].std()\n",
    "\n",
    "    normal_dist = np.random.normal(mean_age, std_age, 10000)\n",
    "\n",
    "    df[column].plot(kind='hist', figsize=(15,5), bins=bins, density=True, alpha=0.5, color='red', title=f'Histogram of a normal distribution and \"{column}\" which has has a swewness of {df[column].skew():.2f} and a kurtosis of {df[column].kurt():.2f}')\n",
    "    plt.hist(normal_dist, bins=2*bins, density=True, alpha=0.5, color='blue')"
   ]
  },
  {
   "cell_type": "code",
   "execution_count": 44,
   "metadata": {
    "ExecuteTime": {
     "end_time": "2023-04-16T18:01:10.571198Z",
     "start_time": "2023-04-16T18:01:10.208364Z"
    }
   },
   "outputs": [
    {
     "data": {
      "image/png": "[encoded data removed]",
      "text/plain": [
       "<Figure size 1500x500 with 1 Axes>"
      ]
     },
     "metadata": {},
     "output_type": "display_data"
    }
   ],
   "source": [
    "plot_histogram_and_normal_dist(df, 'age', bins=20)"
   ]
  },
  {
   "cell_type": "code",
   "execution_count": 45,
   "metadata": {
    "ExecuteTime": {
     "end_time": "2023-04-16T18:01:10.753069Z",
     "start_time": "2023-04-16T18:01:10.454660Z"
    }
   },
   "outputs": [
    {
     "data": {
      "image/png": "[encoded data removed]",
      "text/plain": [
       "<Figure size 1500x500 with 1 Axes>"
      ]
     },
     "metadata": {},
     "output_type": "display_data"
    }
   ],
   "source": [
    "plot_histogram_and_normal_dist(df, 'fare', bins=20)"
   ]
  },
  {
   "cell_type": "markdown",
   "metadata": {},
   "source": [
    "### Unsderstanding relationships between variables\n",
    "Measuting the relationship between two variables is important in order to understand the data. There are several ways to measure the relationship between two variables. The covariance and the correlation coefficient are two of the most common.\n",
    "\n",
    "#### Covariance\n",
    "\n",
    "The covariance is a measure of the joint variability of two random variables. It shows the degree to which two variables change together. i.e., if the two variables tend to increase together or decrease together and by how much.\n",
    "\n",
    "The covariance is calculated using the following formula:\n",
    "$$\\text{cov}(x,y) = \\frac{1}{n}\\sum_{i=1}^{n}(x_i - \\bar{x})(y_i - \\bar{y})$$\n",
    "where $x_i$ is the $i$-th value of the variable $x$, $\\bar{x}$ is the mean of the variable $x$, $y_i$ is the $i$-th value of the variable $y$, $\\bar{y}$ is the mean of the variable $y$, and $n$ is the number of values.\n",
    "\n",
    "The covariance varies between -$\\infty$ and $\\infty$. The covariance is positive if the two variables tend to increase together, and negative if one variable tends to increase as the other decreases. The covariance is zero if the two variables are independent.\n",
    "\n",
    "The problem with the covariance is that it is difficult to interpret and it is not normalized. The covariance of two variables is not comparable to the covariance of two other variables. For example, the covariance of the fare and the age of the passengers is 143.3, while the covariance of the fare and the sibps of the passengers is 8.64. The covariance of the age and the fare of the passengers is much higher than the covariance of the fare and the sibps of the passengers. However, the age and the fare of the passengers are not more related than the age and the pclass of the passengers as we can see next from the correlation matrix.\n"
   ]
  },
  {
   "cell_type": "code",
   "execution_count": 46,
   "metadata": {
    "ExecuteTime": {
     "end_time": "2023-04-16T18:01:10.763077Z",
     "start_time": "2023-04-16T18:01:10.753401Z"
    }
   },
   "outputs": [
    {
     "data": {
      "text/html": [
       "<div>\n",
       "<style scoped>\n",
       "    .dataframe tbody tr th:only-of-type {\n",
       "        vertical-align: middle;\n",
       "    }\n",
       "\n",
       "    .dataframe tbody tr th {\n",
       "        vertical-align: top;\n",
       "    }\n",
       "\n",
       "    .dataframe thead th {\n",
       "        text-align: right;\n",
       "    }\n",
       "</style>\n",
       "<table border=\"1\" class=\"dataframe\">\n",
       "  <thead>\n",
       "    <tr style=\"text-align: right;\">\n",
       "      <th></th>\n",
       "      <th>pclass</th>\n",
       "      <th>survived</th>\n",
       "      <th>age</th>\n",
       "      <th>sibsp</th>\n",
       "      <th>parch</th>\n",
       "      <th>fare</th>\n",
       "      <th>body</th>\n",
       "      <th>family_size</th>\n",
       "    </tr>\n",
       "  </thead>\n",
       "  <tbody>\n",
       "    <tr>\n",
       "      <th>pclass</th>\n",
       "      <td>0.701969</td>\n",
       "      <td>-0.127248</td>\n",
       "      <td>-4.949878</td>\n",
       "      <td>0.053090</td>\n",
       "      <td>0.013287</td>\n",
       "      <td>-24.227788</td>\n",
       "      <td>-2.876653</td>\n",
       "      <td>0.066378</td>\n",
       "    </tr>\n",
       "    <tr>\n",
       "      <th>survived</th>\n",
       "      <td>-0.127248</td>\n",
       "      <td>0.236250</td>\n",
       "      <td>-0.393456</td>\n",
       "      <td>-0.014088</td>\n",
       "      <td>0.034776</td>\n",
       "      <td>6.146023</td>\n",
       "      <td>0.000000</td>\n",
       "      <td>0.020688</td>\n",
       "    </tr>\n",
       "    <tr>\n",
       "      <th>age</th>\n",
       "      <td>-4.949878</td>\n",
       "      <td>-0.393456</td>\n",
       "      <td>207.748974</td>\n",
       "      <td>-3.204045</td>\n",
       "      <td>-1.826666</td>\n",
       "      <td>143.339396</td>\n",
       "      <td>81.888655</td>\n",
       "      <td>-5.030710</td>\n",
       "    </tr>\n",
       "    <tr>\n",
       "      <th>sibsp</th>\n",
       "      <td>0.053090</td>\n",
       "      <td>-0.014088</td>\n",
       "      <td>-3.204045</td>\n",
       "      <td>1.085052</td>\n",
       "      <td>0.336833</td>\n",
       "      <td>8.641768</td>\n",
       "      <td>-8.708471</td>\n",
       "      <td>1.421885</td>\n",
       "    </tr>\n",
       "    <tr>\n",
       "      <th>parch</th>\n",
       "      <td>0.013287</td>\n",
       "      <td>0.034776</td>\n",
       "      <td>-1.826666</td>\n",
       "      <td>0.336833</td>\n",
       "      <td>0.749195</td>\n",
       "      <td>9.928031</td>\n",
       "      <td>4.237190</td>\n",
       "      <td>1.086028</td>\n",
       "    </tr>\n",
       "    <tr>\n",
       "      <th>fare</th>\n",
       "      <td>-24.227788</td>\n",
       "      <td>6.146023</td>\n",
       "      <td>143.339396</td>\n",
       "      <td>8.641768</td>\n",
       "      <td>9.928031</td>\n",
       "      <td>2678.959738</td>\n",
       "      <td>-179.164684</td>\n",
       "      <td>18.569799</td>\n",
       "    </tr>\n",
       "    <tr>\n",
       "      <th>body</th>\n",
       "      <td>-2.876653</td>\n",
       "      <td>0.000000</td>\n",
       "      <td>81.888655</td>\n",
       "      <td>-8.708471</td>\n",
       "      <td>4.237190</td>\n",
       "      <td>-179.164684</td>\n",
       "      <td>9544.688567</td>\n",
       "      <td>-4.471281</td>\n",
       "    </tr>\n",
       "    <tr>\n",
       "      <th>family_size</th>\n",
       "      <td>0.066378</td>\n",
       "      <td>0.020688</td>\n",
       "      <td>-5.030710</td>\n",
       "      <td>1.421885</td>\n",
       "      <td>1.086028</td>\n",
       "      <td>18.569799</td>\n",
       "      <td>-4.471281</td>\n",
       "      <td>2.507913</td>\n",
       "    </tr>\n",
       "  </tbody>\n",
       "</table>\n",
       "</div>"
      ],
      "text/plain": [
       "                pclass  survived         age     sibsp     parch         fare   \n",
       "pclass        0.701969 -0.127248   -4.949878  0.053090  0.013287   -24.227788  \\\n",
       "survived     -0.127248  0.236250   -0.393456 -0.014088  0.034776     6.146023   \n",
       "age          -4.949878 -0.393456  207.748974 -3.204045 -1.826666   143.339396   \n",
       "sibsp         0.053090 -0.014088   -3.204045  1.085052  0.336833     8.641768   \n",
       "parch         0.013287  0.034776   -1.826666  0.336833  0.749195     9.928031   \n",
       "fare        -24.227788  6.146023  143.339396  8.641768  9.928031  2678.959738   \n",
       "body         -2.876653  0.000000   81.888655 -8.708471  4.237190  -179.164684   \n",
       "family_size   0.066378  0.020688   -5.030710  1.421885  1.086028    18.569799   \n",
       "\n",
       "                    body  family_size  \n",
       "pclass         -2.876653     0.066378  \n",
       "survived        0.000000     0.020688  \n",
       "age            81.888655    -5.030710  \n",
       "sibsp          -8.708471     1.421885  \n",
       "parch           4.237190     1.086028  \n",
       "fare         -179.164684    18.569799  \n",
       "body         9544.688567    -4.471281  \n",
       "family_size    -4.471281     2.507913  "
      ]
     },
     "execution_count": 46,
     "metadata": {},
     "output_type": "execute_result"
    }
   ],
   "source": [
    "# select the numerical columns\n",
    "numeric_attributes = df.select_dtypes(include=['int64', 'float64']).columns\n",
    "\n",
    "df[numeric_attributes].cov()"
   ]
  },
  {
   "cell_type": "markdown",
   "metadata": {},
   "source": [
    "\n",
    "#### Correlation matrix\n",
    "Correlation matrix allow to see the correlation between the numerical columns. The correlation coefficient ranges from -1 to 1. A value of 1 means that there is a perfect positive correlation between the two columns, a value of -1 means that there is a perfect negative correlation between the two columns, and a value of 0 means that there is no correlation between the two columns. The correlation matrix is a symmetric matrix, so we only need to plot the upper triangle of the matrix.\n",
    "\n",
    "The correlation between two variables is calculated using the following formula:\n",
    "$$\\text{corr}(x,y) = \\frac{\\text{cov}(x,y)}{\\sigma_x \\sigma_y}$$\n",
    "where $\\sigma_x$ is the standard deviation of the variable $x$ and $\\sigma_y$ is the standard deviation of the variable $y$. The correlation coefficient is normalized, so it is comparable between different variables."
   ]
  },
  {
   "cell_type": "code",
   "execution_count": 47,
   "metadata": {
    "ExecuteTime": {
     "end_time": "2023-04-16T18:01:10.776317Z",
     "start_time": "2023-04-16T18:01:10.765161Z"
    }
   },
   "outputs": [
    {
     "data": {
      "text/html": [
       "<div>\n",
       "<style scoped>\n",
       "    .dataframe tbody tr th:only-of-type {\n",
       "        vertical-align: middle;\n",
       "    }\n",
       "\n",
       "    .dataframe tbody tr th {\n",
       "        vertical-align: top;\n",
       "    }\n",
       "\n",
       "    .dataframe thead th {\n",
       "        text-align: right;\n",
       "    }\n",
       "</style>\n",
       "<table border=\"1\" class=\"dataframe\">\n",
       "  <thead>\n",
       "    <tr style=\"text-align: right;\">\n",
       "      <th></th>\n",
       "      <th>pclass</th>\n",
       "      <th>survived</th>\n",
       "      <th>age</th>\n",
       "      <th>sibsp</th>\n",
       "      <th>parch</th>\n",
       "      <th>fare</th>\n",
       "      <th>family_size</th>\n",
       "    </tr>\n",
       "  </thead>\n",
       "  <tbody>\n",
       "    <tr>\n",
       "      <th>pclass</th>\n",
       "      <td>1.000000</td>\n",
       "      <td>-0.312469</td>\n",
       "      <td>-0.408106</td>\n",
       "      <td>0.060832</td>\n",
       "      <td>0.018322</td>\n",
       "      <td>-0.558629</td>\n",
       "      <td>0.050027</td>\n",
       "    </tr>\n",
       "    <tr>\n",
       "      <th>survived</th>\n",
       "      <td>-0.312469</td>\n",
       "      <td>1.000000</td>\n",
       "      <td>-0.055513</td>\n",
       "      <td>-0.027825</td>\n",
       "      <td>0.082660</td>\n",
       "      <td>0.244265</td>\n",
       "      <td>0.026876</td>\n",
       "    </tr>\n",
       "    <tr>\n",
       "      <th>age</th>\n",
       "      <td>-0.408106</td>\n",
       "      <td>-0.055513</td>\n",
       "      <td>1.000000</td>\n",
       "      <td>-0.243699</td>\n",
       "      <td>-0.150917</td>\n",
       "      <td>0.178739</td>\n",
       "      <td>-0.240230</td>\n",
       "    </tr>\n",
       "    <tr>\n",
       "      <th>sibsp</th>\n",
       "      <td>0.060832</td>\n",
       "      <td>-0.027825</td>\n",
       "      <td>-0.243699</td>\n",
       "      <td>1.000000</td>\n",
       "      <td>0.373587</td>\n",
       "      <td>0.160238</td>\n",
       "      <td>0.861952</td>\n",
       "    </tr>\n",
       "    <tr>\n",
       "      <th>parch</th>\n",
       "      <td>0.018322</td>\n",
       "      <td>0.082660</td>\n",
       "      <td>-0.150917</td>\n",
       "      <td>0.373587</td>\n",
       "      <td>1.000000</td>\n",
       "      <td>0.221539</td>\n",
       "      <td>0.792296</td>\n",
       "    </tr>\n",
       "    <tr>\n",
       "      <th>fare</th>\n",
       "      <td>-0.558629</td>\n",
       "      <td>0.244265</td>\n",
       "      <td>0.178739</td>\n",
       "      <td>0.160238</td>\n",
       "      <td>0.221539</td>\n",
       "      <td>1.000000</td>\n",
       "      <td>0.226492</td>\n",
       "    </tr>\n",
       "    <tr>\n",
       "      <th>family_size</th>\n",
       "      <td>0.050027</td>\n",
       "      <td>0.026876</td>\n",
       "      <td>-0.240230</td>\n",
       "      <td>0.861952</td>\n",
       "      <td>0.792296</td>\n",
       "      <td>0.226492</td>\n",
       "      <td>1.000000</td>\n",
       "    </tr>\n",
       "  </tbody>\n",
       "</table>\n",
       "</div>"
      ],
      "text/plain": [
       "               pclass  survived       age     sibsp     parch      fare   \n",
       "pclass       1.000000 -0.312469 -0.408106  0.060832  0.018322 -0.558629  \\\n",
       "survived    -0.312469  1.000000 -0.055513 -0.027825  0.082660  0.244265   \n",
       "age         -0.408106 -0.055513  1.000000 -0.243699 -0.150917  0.178739   \n",
       "sibsp        0.060832 -0.027825 -0.243699  1.000000  0.373587  0.160238   \n",
       "parch        0.018322  0.082660 -0.150917  0.373587  1.000000  0.221539   \n",
       "fare        -0.558629  0.244265  0.178739  0.160238  0.221539  1.000000   \n",
       "family_size  0.050027  0.026876 -0.240230  0.861952  0.792296  0.226492   \n",
       "\n",
       "             family_size  \n",
       "pclass          0.050027  \n",
       "survived        0.026876  \n",
       "age            -0.240230  \n",
       "sibsp           0.861952  \n",
       "parch           0.792296  \n",
       "fare            0.226492  \n",
       "family_size     1.000000  "
      ]
     },
     "execution_count": 47,
     "metadata": {},
     "output_type": "execute_result"
    }
   ],
   "source": [
    "df[numeric_attributes].drop('body',axis=1).corr()"
   ]
  },
  {
   "cell_type": "markdown",
   "metadata": {},
   "source": [
    "Ploting the correlation matrix allow to see the correlation between the numerical columns in a more visual way. The seaborn library provides a heatmap function that allows to plot the correlation matrix."
   ]
  },
  {
   "cell_type": "code",
   "execution_count": 48,
   "metadata": {
    "ExecuteTime": {
     "end_time": "2023-04-16T18:01:11.047466Z",
     "start_time": "2023-04-16T18:01:10.774349Z"
    }
   },
   "outputs": [
    {
     "data": {
      "text/plain": [
       "<Axes: >"
      ]
     },
     "execution_count": 48,
     "metadata": {},
     "output_type": "execute_result"
    },
    {
     "data": {
      "image/png": "[encoded data removed]",
      "text/plain": [
       "<Figure size 640x480 with 2 Axes>"
      ]
     },
     "metadata": {},
     "output_type": "display_data"
    }
   ],
   "source": [
    "sns.heatmap(df[numeric_attributes].corr(), annot=True, cmap='coolwarm')"
   ]
  },
  {
   "cell_type": "markdown",
   "metadata": {},
   "source": [
    " This can also be done using the style.background_gradient() method from Pandas.\n",
    "\n",
    "<span style=\"color:red\"> - what conclusion can you draw from the correlation matrix? E.g., was age vs survided expectable or...?</span>\n",
    "\n",
    "<span style=\"color:red\"> - Would you be expecting a \"high\" correlation between age and body?</span>\n",
    "\n",
    "<span style=\"color:red\"> -Why is correlation between survived and body `nan`?</span>"
   ]
  },
  {
   "cell_type": "code",
   "execution_count": 49,
   "metadata": {
    "ExecuteTime": {
     "end_time": "2023-04-16T18:01:11.088536Z",
     "start_time": "2023-04-16T18:01:11.048387Z"
    }
   },
   "outputs": [
    {
     "data": {
      "text/html": [
       "<style type=\"text/css\">\n",
       "#T_33c22_row0_col0, #T_33c22_row1_col1, #T_33c22_row2_col2, #T_33c22_row3_col3, #T_33c22_row4_col4, #T_33c22_row5_col5, #T_33c22_row6_col6, #T_33c22_row7_col7 {\n",
       "  background-color: #b40426;\n",
       "  color: #f1f1f1;\n",
       "}\n",
       "#T_33c22_row0_col1, #T_33c22_row0_col2, #T_33c22_row0_col5, #T_33c22_row2_col3, #T_33c22_row2_col4, #T_33c22_row2_col7, #T_33c22_row3_col6, #T_33c22_row5_col0 {\n",
       "  background-color: #3b4cc0;\n",
       "  color: #f1f1f1;\n",
       "}\n",
       "#T_33c22_row0_col3 {\n",
       "  background-color: #8badfd;\n",
       "  color: #000000;\n",
       "}\n",
       "#T_33c22_row0_col4 {\n",
       "  background-color: #688aef;\n",
       "  color: #f1f1f1;\n",
       "}\n",
       "#T_33c22_row0_col6, #T_33c22_row7_col6 {\n",
       "  background-color: #4c66d6;\n",
       "  color: #f1f1f1;\n",
       "}\n",
       "#T_33c22_row0_col7 {\n",
       "  background-color: #86a9fc;\n",
       "  color: #f1f1f1;\n",
       "}\n",
       "#T_33c22_row1_col0 {\n",
       "  background-color: #6c8ff1;\n",
       "  color: #f1f1f1;\n",
       "}\n",
       "#T_33c22_row1_col2 {\n",
       "  background-color: #8db0fe;\n",
       "  color: #000000;\n",
       "}\n",
       "#T_33c22_row1_col3, #T_33c22_row6_col4 {\n",
       "  background-color: #7295f4;\n",
       "  color: #f1f1f1;\n",
       "}\n",
       "#T_33c22_row1_col4 {\n",
       "  background-color: #7b9ff9;\n",
       "  color: #f1f1f1;\n",
       "}\n",
       "#T_33c22_row1_col5 {\n",
       "  background-color: #e0dbd8;\n",
       "  color: #000000;\n",
       "}\n",
       "#T_33c22_row1_col6, #T_33c22_row6_col1 {\n",
       "  background-color: #000000;\n",
       "  color: #f1f1f1;\n",
       "}\n",
       "#T_33c22_row1_col7, #T_33c22_row3_col1 {\n",
       "  background-color: #81a4fb;\n",
       "  color: #f1f1f1;\n",
       "}\n",
       "#T_33c22_row2_col0 {\n",
       "  background-color: #5875e1;\n",
       "  color: #f1f1f1;\n",
       "}\n",
       "#T_33c22_row2_col1 {\n",
       "  background-color: #7a9df8;\n",
       "  color: #f1f1f1;\n",
       "}\n",
       "#T_33c22_row2_col5 {\n",
       "  background-color: #d6dce4;\n",
       "  color: #000000;\n",
       "}\n",
       "#T_33c22_row2_col6 {\n",
       "  background-color: #6788ee;\n",
       "  color: #f1f1f1;\n",
       "}\n",
       "#T_33c22_row3_col0 {\n",
       "  background-color: #bfd3f6;\n",
       "  color: #000000;\n",
       "}\n",
       "#T_33c22_row3_col2, #T_33c22_row6_col3 {\n",
       "  background-color: #5e7de7;\n",
       "  color: #f1f1f1;\n",
       "}\n",
       "#T_33c22_row3_col4 {\n",
       "  background-color: #d1dae9;\n",
       "  color: #000000;\n",
       "}\n",
       "#T_33c22_row3_col5 {\n",
       "  background-color: #d3dbe7;\n",
       "  color: #000000;\n",
       "}\n",
       "#T_33c22_row3_col7, #T_33c22_row7_col3 {\n",
       "  background-color: #d95847;\n",
       "  color: #f1f1f1;\n",
       "}\n",
       "#T_33c22_row4_col0 {\n",
       "  background-color: #b6cefa;\n",
       "  color: #000000;\n",
       "}\n",
       "#T_33c22_row4_col1 {\n",
       "  background-color: #9fbfff;\n",
       "  color: #000000;\n",
       "}\n",
       "#T_33c22_row4_col2 {\n",
       "  background-color: #7597f6;\n",
       "  color: #f1f1f1;\n",
       "}\n",
       "#T_33c22_row4_col3 {\n",
       "  background-color: #dcdddd;\n",
       "  color: #000000;\n",
       "}\n",
       "#T_33c22_row4_col5, #T_33c22_row7_col5 {\n",
       "  background-color: #dddcdc;\n",
       "  color: #000000;\n",
       "}\n",
       "#T_33c22_row4_col6 {\n",
       "  background-color: #6687ed;\n",
       "  color: #f1f1f1;\n",
       "}\n",
       "#T_33c22_row4_col7 {\n",
       "  background-color: #e7745b;\n",
       "  color: #f1f1f1;\n",
       "}\n",
       "#T_33c22_row5_col1 {\n",
       "  background-color: #c7d7f0;\n",
       "  color: #000000;\n",
       "}\n",
       "#T_33c22_row5_col2 {\n",
       "  background-color: #c5d6f2;\n",
       "  color: #000000;\n",
       "}\n",
       "#T_33c22_row5_col3 {\n",
       "  background-color: #a7c5fe;\n",
       "  color: #000000;\n",
       "}\n",
       "#T_33c22_row5_col4 {\n",
       "  background-color: #a6c4fe;\n",
       "  color: #000000;\n",
       "}\n",
       "#T_33c22_row5_col6 {\n",
       "  background-color: #4a63d3;\n",
       "  color: #f1f1f1;\n",
       "}\n",
       "#T_33c22_row5_col7 {\n",
       "  background-color: #b9d0f9;\n",
       "  color: #000000;\n",
       "}\n",
       "#T_33c22_row6_col0 {\n",
       "  background-color: #abc8fd;\n",
       "  color: #000000;\n",
       "}\n",
       "#T_33c22_row6_col2, #T_33c22_row6_col5 {\n",
       "  background-color: #a9c6fd;\n",
       "  color: #000000;\n",
       "}\n",
       "#T_33c22_row6_col7 {\n",
       "  background-color: #6f92f3;\n",
       "  color: #f1f1f1;\n",
       "}\n",
       "#T_33c22_row7_col0 {\n",
       "  background-color: #bcd2f7;\n",
       "  color: #000000;\n",
       "}\n",
       "#T_33c22_row7_col1 {\n",
       "  background-color: #90b2fe;\n",
       "  color: #000000;\n",
       "}\n",
       "#T_33c22_row7_col2 {\n",
       "  background-color: #5f7fe8;\n",
       "  color: #f1f1f1;\n",
       "}\n",
       "#T_33c22_row7_col4 {\n",
       "  background-color: #ea7b60;\n",
       "  color: #f1f1f1;\n",
       "}\n",
       "</style>\n",
       "<table id=\"T_33c22\">\n",
       "  <thead>\n",
       "    <tr>\n",
       "      <th class=\"blank level0\" >&nbsp;</th>\n",
       "      <th id=\"T_33c22_level0_col0\" class=\"col_heading level0 col0\" >pclass</th>\n",
       "      <th id=\"T_33c22_level0_col1\" class=\"col_heading level0 col1\" >survived</th>\n",
       "      <th id=\"T_33c22_level0_col2\" class=\"col_heading level0 col2\" >age</th>\n",
       "      <th id=\"T_33c22_level0_col3\" class=\"col_heading level0 col3\" >sibsp</th>\n",
       "      <th id=\"T_33c22_level0_col4\" class=\"col_heading level0 col4\" >parch</th>\n",
       "      <th id=\"T_33c22_level0_col5\" class=\"col_heading level0 col5\" >fare</th>\n",
       "      <th id=\"T_33c22_level0_col6\" class=\"col_heading level0 col6\" >body</th>\n",
       "      <th id=\"T_33c22_level0_col7\" class=\"col_heading level0 col7\" >family_size</th>\n",
       "    </tr>\n",
       "  </thead>\n",
       "  <tbody>\n",
       "    <tr>\n",
       "      <th id=\"T_33c22_level0_row0\" class=\"row_heading level0 row0\" >pclass</th>\n",
       "      <td id=\"T_33c22_row0_col0\" class=\"data row0 col0\" >1.000000</td>\n",
       "      <td id=\"T_33c22_row0_col1\" class=\"data row0 col1\" >-0.312469</td>\n",
       "      <td id=\"T_33c22_row0_col2\" class=\"data row0 col2\" >-0.408106</td>\n",
       "      <td id=\"T_33c22_row0_col3\" class=\"data row0 col3\" >0.060832</td>\n",
       "      <td id=\"T_33c22_row0_col4\" class=\"data row0 col4\" >0.018322</td>\n",
       "      <td id=\"T_33c22_row0_col5\" class=\"data row0 col5\" >-0.558629</td>\n",
       "      <td id=\"T_33c22_row0_col6\" class=\"data row0 col6\" >-0.034642</td>\n",
       "      <td id=\"T_33c22_row0_col7\" class=\"data row0 col7\" >0.050027</td>\n",
       "    </tr>\n",
       "    <tr>\n",
       "      <th id=\"T_33c22_level0_row1\" class=\"row_heading level0 row1\" >survived</th>\n",
       "      <td id=\"T_33c22_row1_col0\" class=\"data row1 col0\" >-0.312469</td>\n",
       "      <td id=\"T_33c22_row1_col1\" class=\"data row1 col1\" >1.000000</td>\n",
       "      <td id=\"T_33c22_row1_col2\" class=\"data row1 col2\" >-0.055513</td>\n",
       "      <td id=\"T_33c22_row1_col3\" class=\"data row1 col3\" >-0.027825</td>\n",
       "      <td id=\"T_33c22_row1_col4\" class=\"data row1 col4\" >0.082660</td>\n",
       "      <td id=\"T_33c22_row1_col5\" class=\"data row1 col5\" >0.244265</td>\n",
       "      <td id=\"T_33c22_row1_col6\" class=\"data row1 col6\" >nan</td>\n",
       "      <td id=\"T_33c22_row1_col7\" class=\"data row1 col7\" >0.026876</td>\n",
       "    </tr>\n",
       "    <tr>\n",
       "      <th id=\"T_33c22_level0_row2\" class=\"row_heading level0 row2\" >age</th>\n",
       "      <td id=\"T_33c22_row2_col0\" class=\"data row2 col0\" >-0.408106</td>\n",
       "      <td id=\"T_33c22_row2_col1\" class=\"data row2 col1\" >-0.055513</td>\n",
       "      <td id=\"T_33c22_row2_col2\" class=\"data row2 col2\" >1.000000</td>\n",
       "      <td id=\"T_33c22_row2_col3\" class=\"data row2 col3\" >-0.243699</td>\n",
       "      <td id=\"T_33c22_row2_col4\" class=\"data row2 col4\" >-0.150917</td>\n",
       "      <td id=\"T_33c22_row2_col5\" class=\"data row2 col5\" >0.178739</td>\n",
       "      <td id=\"T_33c22_row2_col6\" class=\"data row2 col6\" >0.058809</td>\n",
       "      <td id=\"T_33c22_row2_col7\" class=\"data row2 col7\" >-0.240230</td>\n",
       "    </tr>\n",
       "    <tr>\n",
       "      <th id=\"T_33c22_level0_row3\" class=\"row_heading level0 row3\" >sibsp</th>\n",
       "      <td id=\"T_33c22_row3_col0\" class=\"data row3 col0\" >0.060832</td>\n",
       "      <td id=\"T_33c22_row3_col1\" class=\"data row3 col1\" >-0.027825</td>\n",
       "      <td id=\"T_33c22_row3_col2\" class=\"data row3 col2\" >-0.243699</td>\n",
       "      <td id=\"T_33c22_row3_col3\" class=\"data row3 col3\" >1.000000</td>\n",
       "      <td id=\"T_33c22_row3_col4\" class=\"data row3 col4\" >0.373587</td>\n",
       "      <td id=\"T_33c22_row3_col5\" class=\"data row3 col5\" >0.160238</td>\n",
       "      <td id=\"T_33c22_row3_col6\" class=\"data row3 col6\" >-0.099961</td>\n",
       "      <td id=\"T_33c22_row3_col7\" class=\"data row3 col7\" >0.861952</td>\n",
       "    </tr>\n",
       "    <tr>\n",
       "      <th id=\"T_33c22_level0_row4\" class=\"row_heading level0 row4\" >parch</th>\n",
       "      <td id=\"T_33c22_row4_col0\" class=\"data row4 col0\" >0.018322</td>\n",
       "      <td id=\"T_33c22_row4_col1\" class=\"data row4 col1\" >0.082660</td>\n",
       "      <td id=\"T_33c22_row4_col2\" class=\"data row4 col2\" >-0.150917</td>\n",
       "      <td id=\"T_33c22_row4_col3\" class=\"data row4 col3\" >0.373587</td>\n",
       "      <td id=\"T_33c22_row4_col4\" class=\"data row4 col4\" >1.000000</td>\n",
       "      <td id=\"T_33c22_row4_col5\" class=\"data row4 col5\" >0.221539</td>\n",
       "      <td id=\"T_33c22_row4_col6\" class=\"data row4 col6\" >0.051099</td>\n",
       "      <td id=\"T_33c22_row4_col7\" class=\"data row4 col7\" >0.792296</td>\n",
       "    </tr>\n",
       "    <tr>\n",
       "      <th id=\"T_33c22_level0_row5\" class=\"row_heading level0 row5\" >fare</th>\n",
       "      <td id=\"T_33c22_row5_col0\" class=\"data row5 col0\" >-0.558629</td>\n",
       "      <td id=\"T_33c22_row5_col1\" class=\"data row5 col1\" >0.244265</td>\n",
       "      <td id=\"T_33c22_row5_col2\" class=\"data row5 col2\" >0.178739</td>\n",
       "      <td id=\"T_33c22_row5_col3\" class=\"data row5 col3\" >0.160238</td>\n",
       "      <td id=\"T_33c22_row5_col4\" class=\"data row5 col4\" >0.221539</td>\n",
       "      <td id=\"T_33c22_row5_col5\" class=\"data row5 col5\" >1.000000</td>\n",
       "      <td id=\"T_33c22_row5_col6\" class=\"data row5 col6\" >-0.043110</td>\n",
       "      <td id=\"T_33c22_row5_col7\" class=\"data row5 col7\" >0.226492</td>\n",
       "    </tr>\n",
       "    <tr>\n",
       "      <th id=\"T_33c22_level0_row6\" class=\"row_heading level0 row6\" >body</th>\n",
       "      <td id=\"T_33c22_row6_col0\" class=\"data row6 col0\" >-0.034642</td>\n",
       "      <td id=\"T_33c22_row6_col1\" class=\"data row6 col1\" >nan</td>\n",
       "      <td id=\"T_33c22_row6_col2\" class=\"data row6 col2\" >0.058809</td>\n",
       "      <td id=\"T_33c22_row6_col3\" class=\"data row6 col3\" >-0.099961</td>\n",
       "      <td id=\"T_33c22_row6_col4\" class=\"data row6 col4\" >0.051099</td>\n",
       "      <td id=\"T_33c22_row6_col5\" class=\"data row6 col5\" >-0.043110</td>\n",
       "      <td id=\"T_33c22_row6_col6\" class=\"data row6 col6\" >1.000000</td>\n",
       "      <td id=\"T_33c22_row6_col7\" class=\"data row6 col7\" >-0.033628</td>\n",
       "    </tr>\n",
       "    <tr>\n",
       "      <th id=\"T_33c22_level0_row7\" class=\"row_heading level0 row7\" >family_size</th>\n",
       "      <td id=\"T_33c22_row7_col0\" class=\"data row7 col0\" >0.050027</td>\n",
       "      <td id=\"T_33c22_row7_col1\" class=\"data row7 col1\" >0.026876</td>\n",
       "      <td id=\"T_33c22_row7_col2\" class=\"data row7 col2\" >-0.240230</td>\n",
       "      <td id=\"T_33c22_row7_col3\" class=\"data row7 col3\" >0.861952</td>\n",
       "      <td id=\"T_33c22_row7_col4\" class=\"data row7 col4\" >0.792296</td>\n",
       "      <td id=\"T_33c22_row7_col5\" class=\"data row7 col5\" >0.226492</td>\n",
       "      <td id=\"T_33c22_row7_col6\" class=\"data row7 col6\" >-0.033628</td>\n",
       "      <td id=\"T_33c22_row7_col7\" class=\"data row7 col7\" >1.000000</td>\n",
       "    </tr>\n",
       "  </tbody>\n",
       "</table>\n"
      ],
      "text/plain": [
       "<pandas.io.formats.style.Styler at 0x7fdac8258100>"
      ]
     },
     "execution_count": 49,
     "metadata": {},
     "output_type": "execute_result"
    }
   ],
   "source": [
    "#numeric_attributes = df.select_dtypes(include=['int64', 'float64']).columns\n",
    "df[numeric_attributes].corr().style.background_gradient(cmap='coolwarm')"
   ]
  },
  {
   "cell_type": "markdown",
   "metadata": {},
   "source": [
    "Another to have a good idea of the correlation between the numerical columns is to make a scatter plot matrix. Although in the case, due to the discrete nature of the data, the scatter plot matrix is not very useful/easy to interpret. Further, the scatter plot does not show the density of the data (e.g., you can not conclude from the scatter plot that the majority of the passengers were in the 3rd class, although the histogram of the pclass column shows that this is the case).\n",
    "\n",
    "<span style=\"color:red\"> - can you discerne the \"higher\" correlations?   </span>"
   ]
  },
  {
   "cell_type": "code",
   "execution_count": 50,
   "metadata": {
    "ExecuteTime": {
     "end_time": "2023-04-16T18:01:13.322780Z",
     "start_time": "2023-04-16T18:01:11.084107Z"
    }
   },
   "outputs": [
    {
     "data": {
      "image/png": "[encoded data removed]",
      "text/plain": [
       "<Figure size 1500x1000 with 64 Axes>"
      ]
     },
     "metadata": {},
     "output_type": "display_data"
    }
   ],
   "source": [
    "_ = pd.plotting.scatter_matrix(df, figsize=(15, 10))"
   ]
  },
  {
   "cell_type": "markdown",
   "metadata": {},
   "source": [
    "#### Spearman's rank correlation\n",
    "\n",
    "The Spearman's rank correlation is a nonparametric measure of the monotonicity of the relationship between two variables.  The Spearman's rank correlation is calculated using the following formula:\n",
    "$$\\text{corr}(x,y) = \\frac{\\text{cov}(\\text{rank}(x),\\text{rank}(y))}{\\sigma_{\\text{rank}(x)} \\sigma_{\\text{rank}(y)}}$$\n",
    "where $\\text{rank}(x)$ is the rank of the variable $x$ and $\\sigma_{\\text{rank}(x)}$ is the standard deviation of the rank of the variable $x$.\n",
    "\n",
    "For the Spearman's rank correlation, the variables do not need to be normally distributed. The Spearman's rank correlation is a monotonic measure, so it is not affected by the outliers. The Spearman's rank correlation is also not affected by the monotonic transformation of the variables.\n",
    "\n",
    "For example"
   ]
  },
  {
   "cell_type": "code",
   "execution_count": 51,
   "metadata": {
    "ExecuteTime": {
     "end_time": "2023-04-16T18:01:13.332234Z",
     "start_time": "2023-04-16T18:01:13.322593Z"
    }
   },
   "outputs": [
    {
     "data": {
      "text/html": [
       "<style type=\"text/css\">\n",
       "#T_2ae77_row0_col0, #T_2ae77_row1_col1, #T_2ae77_row2_col2, #T_2ae77_row3_col3, #T_2ae77_row4_col4, #T_2ae77_row5_col5, #T_2ae77_row6_col6, #T_2ae77_row7_col7 {\n",
       "  background-color: #b40426;\n",
       "  color: #f1f1f1;\n",
       "}\n",
       "#T_2ae77_row0_col1, #T_2ae77_row0_col2, #T_2ae77_row0_col5, #T_2ae77_row2_col3, #T_2ae77_row2_col4, #T_2ae77_row2_col7, #T_2ae77_row3_col6, #T_2ae77_row5_col0 {\n",
       "  background-color: #3b4cc0;\n",
       "  color: #f1f1f1;\n",
       "}\n",
       "#T_2ae77_row0_col3 {\n",
       "  background-color: #4b64d5;\n",
       "  color: #f1f1f1;\n",
       "}\n",
       "#T_2ae77_row0_col4 {\n",
       "  background-color: #6b8df0;\n",
       "  color: #f1f1f1;\n",
       "}\n",
       "#T_2ae77_row0_col6 {\n",
       "  background-color: #3f53c6;\n",
       "  color: #f1f1f1;\n",
       "}\n",
       "#T_2ae77_row0_col7 {\n",
       "  background-color: #506bda;\n",
       "  color: #f1f1f1;\n",
       "}\n",
       "#T_2ae77_row1_col0 {\n",
       "  background-color: #86a9fc;\n",
       "  color: #f1f1f1;\n",
       "}\n",
       "#T_2ae77_row1_col2 {\n",
       "  background-color: #8db0fe;\n",
       "  color: #000000;\n",
       "}\n",
       "#T_2ae77_row1_col3, #T_2ae77_row3_col2 {\n",
       "  background-color: #779af7;\n",
       "  color: #f1f1f1;\n",
       "}\n",
       "#T_2ae77_row1_col4 {\n",
       "  background-color: #a2c1ff;\n",
       "  color: #000000;\n",
       "}\n",
       "#T_2ae77_row1_col5 {\n",
       "  background-color: #f0cdbb;\n",
       "  color: #000000;\n",
       "}\n",
       "#T_2ae77_row1_col6, #T_2ae77_row6_col1 {\n",
       "  background-color: #000000;\n",
       "  color: #f1f1f1;\n",
       "}\n",
       "#T_2ae77_row1_col7 {\n",
       "  background-color: #9bbcff;\n",
       "  color: #000000;\n",
       "}\n",
       "#T_2ae77_row2_col0 {\n",
       "  background-color: #7597f6;\n",
       "  color: #f1f1f1;\n",
       "}\n",
       "#T_2ae77_row2_col1 {\n",
       "  background-color: #7da0f9;\n",
       "  color: #f1f1f1;\n",
       "}\n",
       "#T_2ae77_row2_col5 {\n",
       "  background-color: #e4d9d2;\n",
       "  color: #000000;\n",
       "}\n",
       "#T_2ae77_row2_col6, #T_2ae77_row6_col3 {\n",
       "  background-color: #4f69d9;\n",
       "  color: #f1f1f1;\n",
       "}\n",
       "#T_2ae77_row3_col0 {\n",
       "  background-color: #b9d0f9;\n",
       "  color: #000000;\n",
       "}\n",
       "#T_2ae77_row3_col1, #T_2ae77_row6_col2 {\n",
       "  background-color: #9ebeff;\n",
       "  color: #000000;\n",
       "}\n",
       "#T_2ae77_row3_col4 {\n",
       "  background-color: #e6d7cf;\n",
       "  color: #000000;\n",
       "}\n",
       "#T_2ae77_row3_col5 {\n",
       "  background-color: #f7b599;\n",
       "  color: #000000;\n",
       "}\n",
       "#T_2ae77_row3_col7 {\n",
       "  background-color: #df634e;\n",
       "  color: #f1f1f1;\n",
       "}\n",
       "#T_2ae77_row4_col0, #T_2ae77_row6_col0 {\n",
       "  background-color: #bfd3f6;\n",
       "  color: #000000;\n",
       "}\n",
       "#T_2ae77_row4_col1, #T_2ae77_row7_col0 {\n",
       "  background-color: #b3cdfb;\n",
       "  color: #000000;\n",
       "}\n",
       "#T_2ae77_row4_col2 {\n",
       "  background-color: #6282ea;\n",
       "  color: #f1f1f1;\n",
       "}\n",
       "#T_2ae77_row4_col3 {\n",
       "  background-color: #dddcdc;\n",
       "  color: #000000;\n",
       "}\n",
       "#T_2ae77_row4_col5 {\n",
       "  background-color: #f6bda2;\n",
       "  color: #000000;\n",
       "}\n",
       "#T_2ae77_row4_col6 {\n",
       "  background-color: #4961d2;\n",
       "  color: #f1f1f1;\n",
       "}\n",
       "#T_2ae77_row4_col7 {\n",
       "  background-color: #e9785d;\n",
       "  color: #f1f1f1;\n",
       "}\n",
       "#T_2ae77_row5_col1 {\n",
       "  background-color: #d3dbe7;\n",
       "  color: #000000;\n",
       "}\n",
       "#T_2ae77_row5_col2 {\n",
       "  background-color: #c6d6f1;\n",
       "  color: #000000;\n",
       "}\n",
       "#T_2ae77_row5_col3 {\n",
       "  background-color: #dfdbd9;\n",
       "  color: #000000;\n",
       "}\n",
       "#T_2ae77_row5_col4 {\n",
       "  background-color: #dedcdb;\n",
       "  color: #000000;\n",
       "}\n",
       "#T_2ae77_row5_col6 {\n",
       "  background-color: #5470de;\n",
       "  color: #f1f1f1;\n",
       "}\n",
       "#T_2ae77_row5_col7 {\n",
       "  background-color: #f1cdba;\n",
       "  color: #000000;\n",
       "}\n",
       "#T_2ae77_row6_col4 {\n",
       "  background-color: #7396f5;\n",
       "  color: #f1f1f1;\n",
       "}\n",
       "#T_2ae77_row6_col5 {\n",
       "  background-color: #cbd8ee;\n",
       "  color: #000000;\n",
       "}\n",
       "#T_2ae77_row6_col7 {\n",
       "  background-color: #6687ed;\n",
       "  color: #f1f1f1;\n",
       "}\n",
       "#T_2ae77_row7_col1 {\n",
       "  background-color: #b5cdfa;\n",
       "  color: #000000;\n",
       "}\n",
       "#T_2ae77_row7_col2 {\n",
       "  background-color: #6c8ff1;\n",
       "  color: #f1f1f1;\n",
       "}\n",
       "#T_2ae77_row7_col3 {\n",
       "  background-color: #e0654f;\n",
       "  color: #f1f1f1;\n",
       "}\n",
       "#T_2ae77_row7_col4 {\n",
       "  background-color: #e7745b;\n",
       "  color: #f1f1f1;\n",
       "}\n",
       "#T_2ae77_row7_col5 {\n",
       "  background-color: #f6a586;\n",
       "  color: #000000;\n",
       "}\n",
       "#T_2ae77_row7_col6 {\n",
       "  background-color: #465ecf;\n",
       "  color: #f1f1f1;\n",
       "}\n",
       "</style>\n",
       "<table id=\"T_2ae77\">\n",
       "  <thead>\n",
       "    <tr>\n",
       "      <th class=\"blank level0\" >&nbsp;</th>\n",
       "      <th id=\"T_2ae77_level0_col0\" class=\"col_heading level0 col0\" >pclass</th>\n",
       "      <th id=\"T_2ae77_level0_col1\" class=\"col_heading level0 col1\" >survived</th>\n",
       "      <th id=\"T_2ae77_level0_col2\" class=\"col_heading level0 col2\" >age</th>\n",
       "      <th id=\"T_2ae77_level0_col3\" class=\"col_heading level0 col3\" >sibsp</th>\n",
       "      <th id=\"T_2ae77_level0_col4\" class=\"col_heading level0 col4\" >parch</th>\n",
       "      <th id=\"T_2ae77_level0_col5\" class=\"col_heading level0 col5\" >fare</th>\n",
       "      <th id=\"T_2ae77_level0_col6\" class=\"col_heading level0 col6\" >body</th>\n",
       "      <th id=\"T_2ae77_level0_col7\" class=\"col_heading level0 col7\" >family_size</th>\n",
       "    </tr>\n",
       "  </thead>\n",
       "  <tbody>\n",
       "    <tr>\n",
       "      <th id=\"T_2ae77_level0_row0\" class=\"row_heading level0 row0\" >pclass</th>\n",
       "      <td id=\"T_2ae77_row0_col0\" class=\"data row0 col0\" >1.000000</td>\n",
       "      <td id=\"T_2ae77_row0_col1\" class=\"data row0 col1\" >-0.309734</td>\n",
       "      <td id=\"T_2ae77_row0_col2\" class=\"data row0 col2\" >-0.395892</td>\n",
       "      <td id=\"T_2ae77_row0_col3\" class=\"data row0 col3\" >-0.066679</td>\n",
       "      <td id=\"T_2ae77_row0_col4\" class=\"data row0 col4\" >-0.028752</td>\n",
       "      <td id=\"T_2ae77_row0_col5\" class=\"data row0 col5\" >-0.709019</td>\n",
       "      <td id=\"T_2ae77_row0_col6\" class=\"data row0 col6\" >-0.032555</td>\n",
       "      <td id=\"T_2ae77_row0_col7\" class=\"data row0 col7\" >-0.089363</td>\n",
       "    </tr>\n",
       "    <tr>\n",
       "      <th id=\"T_2ae77_level0_row1\" class=\"row_heading level0 row1\" >survived</th>\n",
       "      <td id=\"T_2ae77_row1_col0\" class=\"data row1 col0\" >-0.309734</td>\n",
       "      <td id=\"T_2ae77_row1_col1\" class=\"data row1 col1\" >1.000000</td>\n",
       "      <td id=\"T_2ae77_row1_col2\" class=\"data row1 col2\" >-0.041672</td>\n",
       "      <td id=\"T_2ae77_row1_col3\" class=\"data row1 col3\" >0.083620</td>\n",
       "      <td id=\"T_2ae77_row1_col4\" class=\"data row1 col4\" >0.162086</td>\n",
       "      <td id=\"T_2ae77_row1_col5\" class=\"data row1 col5\" >0.294016</td>\n",
       "      <td id=\"T_2ae77_row1_col6\" class=\"data row1 col6\" >nan</td>\n",
       "      <td id=\"T_2ae77_row1_col7\" class=\"data row1 col7\" >0.170109</td>\n",
       "    </tr>\n",
       "    <tr>\n",
       "      <th id=\"T_2ae77_level0_row2\" class=\"row_heading level0 row2\" >age</th>\n",
       "      <td id=\"T_2ae77_row2_col0\" class=\"data row2 col0\" >-0.395892</td>\n",
       "      <td id=\"T_2ae77_row2_col1\" class=\"data row2 col1\" >-0.041672</td>\n",
       "      <td id=\"T_2ae77_row2_col2\" class=\"data row2 col2\" >1.000000</td>\n",
       "      <td id=\"T_2ae77_row2_col3\" class=\"data row2 col3\" >-0.129929</td>\n",
       "      <td id=\"T_2ae77_row2_col4\" class=\"data row2 col4\" >-0.216097</td>\n",
       "      <td id=\"T_2ae77_row2_col5\" class=\"data row2 col5\" >0.192676</td>\n",
       "      <td id=\"T_2ae77_row2_col6\" class=\"data row2 col6\" >0.021058</td>\n",
       "      <td id=\"T_2ae77_row2_col7\" class=\"data row2 col7\" >-0.172706</td>\n",
       "    </tr>\n",
       "    <tr>\n",
       "      <th id=\"T_2ae77_level0_row3\" class=\"row_heading level0 row3\" >sibsp</th>\n",
       "      <td id=\"T_2ae77_row3_col0\" class=\"data row3 col0\" >-0.066679</td>\n",
       "      <td id=\"T_2ae77_row3_col1\" class=\"data row3 col1\" >0.083620</td>\n",
       "      <td id=\"T_2ae77_row3_col2\" class=\"data row3 col2\" >-0.129929</td>\n",
       "      <td id=\"T_2ae77_row3_col3\" class=\"data row3 col3\" >1.000000</td>\n",
       "      <td id=\"T_2ae77_row3_col4\" class=\"data row3 col4\" >0.438373</td>\n",
       "      <td id=\"T_2ae77_row3_col5\" class=\"data row3 col5\" >0.445566</td>\n",
       "      <td id=\"T_2ae77_row3_col6\" class=\"data row3 col6\" >-0.051062</td>\n",
       "      <td id=\"T_2ae77_row3_col7\" class=\"data row3 col7\" >0.848278</td>\n",
       "    </tr>\n",
       "    <tr>\n",
       "      <th id=\"T_2ae77_level0_row4\" class=\"row_heading level0 row4\" >parch</th>\n",
       "      <td id=\"T_2ae77_row4_col0\" class=\"data row4 col0\" >-0.028752</td>\n",
       "      <td id=\"T_2ae77_row4_col1\" class=\"data row4 col1\" >0.162086</td>\n",
       "      <td id=\"T_2ae77_row4_col2\" class=\"data row4 col2\" >-0.216097</td>\n",
       "      <td id=\"T_2ae77_row4_col3\" class=\"data row4 col3\" >0.438373</td>\n",
       "      <td id=\"T_2ae77_row4_col4\" class=\"data row4 col4\" >1.000000</td>\n",
       "      <td id=\"T_2ae77_row4_col5\" class=\"data row4 col5\" >0.400301</td>\n",
       "      <td id=\"T_2ae77_row4_col6\" class=\"data row4 col6\" >0.001960</td>\n",
       "      <td id=\"T_2ae77_row4_col7\" class=\"data row4 col7\" >0.795863</td>\n",
       "    </tr>\n",
       "    <tr>\n",
       "      <th id=\"T_2ae77_level0_row5\" class=\"row_heading level0 row5\" >fare</th>\n",
       "      <td id=\"T_2ae77_row5_col0\" class=\"data row5 col0\" >-0.709019</td>\n",
       "      <td id=\"T_2ae77_row5_col1\" class=\"data row5 col1\" >0.294016</td>\n",
       "      <td id=\"T_2ae77_row5_col2\" class=\"data row5 col2\" >0.192676</td>\n",
       "      <td id=\"T_2ae77_row5_col3\" class=\"data row5 col3\" >0.445566</td>\n",
       "      <td id=\"T_2ae77_row5_col4\" class=\"data row5 col4\" >0.400301</td>\n",
       "      <td id=\"T_2ae77_row5_col5\" class=\"data row5 col5\" >1.000000</td>\n",
       "      <td id=\"T_2ae77_row5_col6\" class=\"data row5 col6\" >0.035504</td>\n",
       "      <td id=\"T_2ae77_row5_col7\" class=\"data row5 col7\" >0.521212</td>\n",
       "    </tr>\n",
       "    <tr>\n",
       "      <th id=\"T_2ae77_level0_row6\" class=\"row_heading level0 row6\" >body</th>\n",
       "      <td id=\"T_2ae77_row6_col0\" class=\"data row6 col0\" >-0.032555</td>\n",
       "      <td id=\"T_2ae77_row6_col1\" class=\"data row6 col1\" >nan</td>\n",
       "      <td id=\"T_2ae77_row6_col2\" class=\"data row6 col2\" >0.021058</td>\n",
       "      <td id=\"T_2ae77_row6_col3\" class=\"data row6 col3\" >-0.051062</td>\n",
       "      <td id=\"T_2ae77_row6_col4\" class=\"data row6 col4\" >0.001960</td>\n",
       "      <td id=\"T_2ae77_row6_col5\" class=\"data row6 col5\" >0.035504</td>\n",
       "      <td id=\"T_2ae77_row6_col6\" class=\"data row6 col6\" >1.000000</td>\n",
       "      <td id=\"T_2ae77_row6_col7\" class=\"data row6 col7\" >-0.007864</td>\n",
       "    </tr>\n",
       "    <tr>\n",
       "      <th id=\"T_2ae77_level0_row7\" class=\"row_heading level0 row7\" >family_size</th>\n",
       "      <td id=\"T_2ae77_row7_col0\" class=\"data row7 col0\" >-0.089363</td>\n",
       "      <td id=\"T_2ae77_row7_col1\" class=\"data row7 col1\" >0.170109</td>\n",
       "      <td id=\"T_2ae77_row7_col2\" class=\"data row7 col2\" >-0.172706</td>\n",
       "      <td id=\"T_2ae77_row7_col3\" class=\"data row7 col3\" >0.848278</td>\n",
       "      <td id=\"T_2ae77_row7_col4\" class=\"data row7 col4\" >0.795863</td>\n",
       "      <td id=\"T_2ae77_row7_col5\" class=\"data row7 col5\" >0.521212</td>\n",
       "      <td id=\"T_2ae77_row7_col6\" class=\"data row7 col6\" >-0.007864</td>\n",
       "      <td id=\"T_2ae77_row7_col7\" class=\"data row7 col7\" >1.000000</td>\n",
       "    </tr>\n",
       "  </tbody>\n",
       "</table>\n"
      ],
      "text/plain": [
       "<pandas.io.formats.style.Styler at 0x7fdb0a5f2370>"
      ]
     },
     "execution_count": 51,
     "metadata": {},
     "output_type": "execute_result"
    }
   ],
   "source": [
    "df[numeric_attributes].corr(method='spearman').style.background_gradient(cmap='coolwarm')"
   ]
  },
  {
   "cell_type": "code",
   "execution_count": 52,
   "metadata": {
    "ExecuteTime": {
     "end_time": "2023-04-16T18:01:13.374213Z",
     "start_time": "2023-04-16T18:01:13.334531Z"
    }
   },
   "outputs": [
    {
     "data": {
      "text/html": [
       "<div>\n",
       "<style scoped>\n",
       "    .dataframe tbody tr th:only-of-type {\n",
       "        vertical-align: middle;\n",
       "    }\n",
       "\n",
       "    .dataframe tbody tr th {\n",
       "        vertical-align: top;\n",
       "    }\n",
       "\n",
       "    .dataframe thead th {\n",
       "        text-align: right;\n",
       "    }\n",
       "</style>\n",
       "<table border=\"1\" class=\"dataframe\">\n",
       "  <thead>\n",
       "    <tr style=\"text-align: right;\">\n",
       "      <th></th>\n",
       "      <th>pclass</th>\n",
       "      <th>survived</th>\n",
       "      <th>age</th>\n",
       "      <th>sibsp</th>\n",
       "      <th>parch</th>\n",
       "      <th>fare</th>\n",
       "      <th>body</th>\n",
       "      <th>family_size</th>\n",
       "    </tr>\n",
       "  </thead>\n",
       "  <tbody>\n",
       "    <tr>\n",
       "      <th>30</th>\n",
       "      <td>955.0</td>\n",
       "      <td>1059.5</td>\n",
       "      <td>1.0</td>\n",
       "      <td>1051.0</td>\n",
       "      <td>1229.0</td>\n",
       "      <td>763.5</td>\n",
       "      <td>NaN</td>\n",
       "      <td>1206.0</td>\n",
       "    </tr>\n",
       "    <tr>\n",
       "      <th>882</th>\n",
       "      <td>955.0</td>\n",
       "      <td>405.0</td>\n",
       "      <td>2.0</td>\n",
       "      <td>446.0</td>\n",
       "      <td>1229.0</td>\n",
       "      <td>646.0</td>\n",
       "      <td>NaN</td>\n",
       "      <td>1105.0</td>\n",
       "    </tr>\n",
       "    <tr>\n",
       "      <th>214</th>\n",
       "      <td>955.0</td>\n",
       "      <td>1059.5</td>\n",
       "      <td>3.0</td>\n",
       "      <td>446.0</td>\n",
       "      <td>1087.5</td>\n",
       "      <td>431.5</td>\n",
       "      <td>NaN</td>\n",
       "      <td>908.0</td>\n",
       "    </tr>\n",
       "    <tr>\n",
       "      <th>277</th>\n",
       "      <td>462.0</td>\n",
       "      <td>1059.5</td>\n",
       "      <td>4.0</td>\n",
       "      <td>1051.0</td>\n",
       "      <td>1087.5</td>\n",
       "      <td>667.0</td>\n",
       "      <td>NaN</td>\n",
       "      <td>1105.0</td>\n",
       "    </tr>\n",
       "    <tr>\n",
       "      <th>1145</th>\n",
       "      <td>955.0</td>\n",
       "      <td>405.0</td>\n",
       "      <td>6.0</td>\n",
       "      <td>1051.0</td>\n",
       "      <td>1087.5</td>\n",
       "      <td>632.0</td>\n",
       "      <td>NaN</td>\n",
       "      <td>1105.0</td>\n",
       "    </tr>\n",
       "    <tr>\n",
       "      <th>...</th>\n",
       "      <td>...</td>\n",
       "      <td>...</td>\n",
       "      <td>...</td>\n",
       "      <td>...</td>\n",
       "      <td>...</td>\n",
       "      <td>...</td>\n",
       "      <td>...</td>\n",
       "      <td>...</td>\n",
       "    </tr>\n",
       "    <tr>\n",
       "      <th>1294</th>\n",
       "      <td>955.0</td>\n",
       "      <td>405.0</td>\n",
       "      <td>NaN</td>\n",
       "      <td>446.0</td>\n",
       "      <td>501.5</td>\n",
       "      <td>391.5</td>\n",
       "      <td>NaN</td>\n",
       "      <td>395.5</td>\n",
       "    </tr>\n",
       "    <tr>\n",
       "      <th>1298</th>\n",
       "      <td>955.0</td>\n",
       "      <td>405.0</td>\n",
       "      <td>NaN</td>\n",
       "      <td>446.0</td>\n",
       "      <td>501.5</td>\n",
       "      <td>108.5</td>\n",
       "      <td>NaN</td>\n",
       "      <td>395.5</td>\n",
       "    </tr>\n",
       "    <tr>\n",
       "      <th>1302</th>\n",
       "      <td>955.0</td>\n",
       "      <td>405.0</td>\n",
       "      <td>NaN</td>\n",
       "      <td>446.0</td>\n",
       "      <td>501.5</td>\n",
       "      <td>65.0</td>\n",
       "      <td>NaN</td>\n",
       "      <td>395.5</td>\n",
       "    </tr>\n",
       "    <tr>\n",
       "      <th>1303</th>\n",
       "      <td>955.0</td>\n",
       "      <td>405.0</td>\n",
       "      <td>NaN</td>\n",
       "      <td>446.0</td>\n",
       "      <td>501.5</td>\n",
       "      <td>659.5</td>\n",
       "      <td>NaN</td>\n",
       "      <td>395.5</td>\n",
       "    </tr>\n",
       "    <tr>\n",
       "      <th>1305</th>\n",
       "      <td>955.0</td>\n",
       "      <td>405.0</td>\n",
       "      <td>NaN</td>\n",
       "      <td>1051.0</td>\n",
       "      <td>501.5</td>\n",
       "      <td>652.5</td>\n",
       "      <td>NaN</td>\n",
       "      <td>908.0</td>\n",
       "    </tr>\n",
       "  </tbody>\n",
       "</table>\n",
       "<p>1309 rows × 8 columns</p>\n",
       "</div>"
      ],
      "text/plain": [
       "      pclass  survived  age   sibsp   parch   fare  body  family_size\n",
       "30     955.0    1059.5  1.0  1051.0  1229.0  763.5   NaN       1206.0\n",
       "882    955.0     405.0  2.0   446.0  1229.0  646.0   NaN       1105.0\n",
       "214    955.0    1059.5  3.0   446.0  1087.5  431.5   NaN        908.0\n",
       "277    462.0    1059.5  4.0  1051.0  1087.5  667.0   NaN       1105.0\n",
       "1145   955.0     405.0  6.0  1051.0  1087.5  632.0   NaN       1105.0\n",
       "...      ...       ...  ...     ...     ...    ...   ...          ...\n",
       "1294   955.0     405.0  NaN   446.0   501.5  391.5   NaN        395.5\n",
       "1298   955.0     405.0  NaN   446.0   501.5  108.5   NaN        395.5\n",
       "1302   955.0     405.0  NaN   446.0   501.5   65.0   NaN        395.5\n",
       "1303   955.0     405.0  NaN   446.0   501.5  659.5   NaN        395.5\n",
       "1305   955.0     405.0  NaN  1051.0   501.5  652.5   NaN        908.0\n",
       "\n",
       "[1309 rows x 8 columns]"
      ]
     },
     "execution_count": 52,
     "metadata": {},
     "output_type": "execute_result"
    }
   ],
   "source": [
    "df[numeric_attributes].rank().sort_values(by='age') # 1-323"
   ]
  },
  {
   "cell_type": "markdown",
   "metadata": {},
   "source": [
    "# Exercises\n",
    "\n",
    "[05_exercise_adult_part_1.ipynb](05_exercise_adult_part_1.ipynb)"
   ]
  },
  {
   "cell_type": "markdown",
   "metadata": {},
   "source": [
    "# References\n",
    "\n",
    "- https://www.kaggle.com/learn/pandas\n",
    "- Navlani, A.,  Fandango, A.,  Idris, I. (2021). Python Data Analysis: Perform data collection, data processing, wrangling, visualization, and model building using Python. Packt. 3rd Edition\n",
    "- Brandt. S. (2014). Data Analysis: Statistical and Computational Methods for Scientists and Engineers. Springer. 4th Edition\n",
    "- https://eugenelohh.medium.com/data-analysis-on-the-titanic-dataset-using-python-7593633135f2\n"
   ]
  }
 ],
 "metadata": {
  "kernelspec": {
   "display_name": "Python 3 (ipykernel)",
   "language": "python",
   "name": "python3"
  },
  "language_info": {
   "codemirror_mode": {
    "name": "ipython",
    "version": 3
   },
   "file_extension": ".py",
   "mimetype": "text/x-python",
   "name": "python",
   "nbconvert_exporter": "python",
   "pygments_lexer": "ipython3",
   "version": "3.9.13"
  }
 },
 "nbformat": 4,
 "nbformat_minor": 1
}
