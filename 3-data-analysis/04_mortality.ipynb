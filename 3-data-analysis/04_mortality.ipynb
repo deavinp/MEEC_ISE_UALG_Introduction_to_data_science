{
 "cells": [
  {
   "cell_type": "markdown",
   "metadata": {},
   "source": [
    "# Portugal's mortality stats\n",
    "\n",
    "Data acquired from http://evm.min-saude.pt/\n",
    "\n",
    "_Assignement: try to edit the markdown to explain the commands..._\n"
   ]
  },
  {
   "cell_type": "code",
   "execution_count": null,
   "metadata": {
    "ExecuteTime": {
     "start_time": "2023-04-03T18:54:03.195286Z",
     "end_time": "2023-04-03T18:54:03.203831Z"
    }
   },
   "outputs": [],
   "source": [
    "#!pip3 install dateparser\n",
    "import dateparser\n",
    "\n",
    "import pandas as pd\n",
    "import numpy as np"
   ]
  },
  {
   "cell_type": "markdown",
   "metadata": {},
   "source": [
    "## Read the data\n",
    "\n",
    "Files data/portugal_mortality/causeXXXX.csv contain data associated the death causes for each day"
   ]
  },
  {
   "cell_type": "code",
   "execution_count": null,
   "metadata": {
    "ExecuteTime": {
     "start_time": "2023-04-03T18:49:12.308537Z",
     "end_time": "2023-04-03T18:49:17.715968Z"
    }
   },
   "outputs": [],
   "source": [
    "def read_data(prefix):\n",
    "    def my_date_parser(days):\n",
    "        days = [dateparser.parse(str(year) + '-' + d, languages=['pt']) for d in days]\n",
    "        return days\n",
    "    \n",
    "    df = pd.DataFrame()\n",
    "    for year in range(2014, 2023):\n",
    "        filename = f'./data/portugal_mortality/{prefix}{year}.csv'\n",
    "        temp_df = pd.read_csv(filename,\n",
    "                              parse_dates=['Data (mm-dd)'], \n",
    "                              date_parser=my_date_parser\n",
    "                             )\n",
    "        # append to the final dataframe\n",
    "        df = pd.concat([df, temp_df], ignore_index=True)\n",
    "\n",
    "    # convert the date (string) to datetime\n",
    "    df['date'] = pd.to_datetime(df['Data (mm-dd)'])\n",
    "    df = df.drop('Data (mm-dd)', axis=1)\n",
    "    return df\n",
    "        \n",
    "cause_df = read_data('cause')\n",
    "age_df = read_data('grupo_etario')"
   ]
  },
  {
   "cell_type": "code",
   "execution_count": null,
   "metadata": {
    "ExecuteTime": {
     "start_time": "2023-04-03T18:49:18.616990Z",
     "end_time": "2023-04-03T18:49:18.619819Z"
    }
   },
   "outputs": [],
   "source": [
    "cause_df.info()"
   ]
  },
  {
   "cell_type": "code",
   "execution_count": null,
   "metadata": {
    "ExecuteTime": {
     "start_time": "2023-04-03T18:49:20.146861Z",
     "end_time": "2023-04-03T18:49:20.153986Z"
    }
   },
   "outputs": [],
   "source": [
    "cause_df.head()"
   ]
  },
  {
   "cell_type": "code",
   "execution_count": null,
   "metadata": {
    "ExecuteTime": {
     "start_time": "2023-04-03T18:49:26.272504Z",
     "end_time": "2023-04-03T18:49:26.281382Z"
    }
   },
   "outputs": [],
   "source": [
    "age_df.info()"
   ]
  },
  {
   "cell_type": "code",
   "execution_count": null,
   "metadata": {
    "ExecuteTime": {
     "start_time": "2023-04-03T18:49:38.234442Z",
     "end_time": "2023-04-03T18:49:38.238820Z"
    }
   },
   "outputs": [],
   "source": [
    "age_df.head()"
   ]
  },
  {
   "cell_type": "code",
   "execution_count": null,
   "metadata": {
    "ExecuteTime": {
     "start_time": "2023-04-03T18:49:53.044375Z",
     "end_time": "2023-04-03T18:49:53.048788Z"
    }
   },
   "outputs": [],
   "source": [
    "age_df.tail()"
   ]
  },
  {
   "cell_type": "code",
   "execution_count": null,
   "metadata": {
    "ExecuteTime": {
     "start_time": "2023-04-03T18:50:46.900962Z",
     "end_time": "2023-04-03T18:50:47.222724Z"
    }
   },
   "outputs": [],
   "source": [
    "cause_df[['Morte natural', 'Causa externa', 'Sujeito a investigação', 'date']].set_index('date').plot(figsize=(30, 5))"
   ]
  },
  {
   "cell_type": "code",
   "execution_count": null,
   "metadata": {
    "ExecuteTime": {
     "start_time": "2023-04-03T18:51:12.934653Z",
     "end_time": "2023-04-03T18:51:12.942617Z"
    }
   },
   "outputs": [],
   "source": [
    "age_df.columns"
   ]
  },
  {
   "cell_type": "code",
   "execution_count": null,
   "metadata": {
    "ExecuteTime": {
     "start_time": "2023-04-03T18:57:07.714395Z",
     "end_time": "2023-04-03T18:57:08.348114Z"
    }
   },
   "outputs": [],
   "source": [
    "# recomputing the > 75 anos column to include the 75-84 anos and the >= 85 anos\n",
    "mask = np.isnan(age_df['> 75 anos'])\n",
    "age_df[mask].tail()\n",
    "age_df.loc[mask, '> 75 anos'] = age_df.loc[mask, '75-84 anos'] + age_df.loc[mask, '≥ 85 anos']\n",
    "\n",
    "age_df[['< 1 ano', '1-4 anos', '5-14 anos', '15-24 anos', '25-34 anos', '35-44 anos', '45-54 anos',\n",
    "        '55-64 anos', '65-74 anos', '> 75 anos', '75-84 anos', '≥ 85 anos', 'date']].set_index('date').plot(figsize=(30, 5))"
   ]
  },
  {
   "cell_type": "markdown",
   "metadata": {},
   "source": [
    "Lets:\n",
    " * add the total number of deaths\n",
    " * join the data from the cause dataframe with the age dataframe"
   ]
  },
  {
   "cell_type": "code",
   "execution_count": null,
   "metadata": {
    "ExecuteTime": {
     "start_time": "2023-04-03T18:57:16.290713Z",
     "end_time": "2023-04-03T18:57:16.315095Z"
    }
   },
   "outputs": [],
   "source": [
    "df = cause_df.merge(age_df, left_on='date', right_on='date')\n",
    "\n",
    "df['total'] = df['Morte natural'] + df['Causa externa'] + df['Sujeito a investigação']\n",
    "df.tail()"
   ]
  },
  {
   "cell_type": "markdown",
   "metadata": {},
   "source": [
    "Plot ..."
   ]
  },
  {
   "cell_type": "code",
   "execution_count": null,
   "metadata": {
    "ExecuteTime": {
     "start_time": "2023-04-03T18:57:48.174053Z",
     "end_time": "2023-04-03T18:57:48.581099Z"
    }
   },
   "outputs": [],
   "source": [
    "df[['> 75 anos', 'total', 'date']].set_index('date').plot(logy=True, figsize=(30, 10))"
   ]
  },
  {
   "cell_type": "markdown",
   "metadata": {},
   "source": [
    "## joining the temperature (from lisbon)\n",
    "\n",
    "Now, we are going to join the temperature from Lisbon to the mortality and chech for correlations"
   ]
  },
  {
   "cell_type": "code",
   "execution_count": null,
   "metadata": {
    "ExecuteTime": {
     "start_time": "2023-04-03T18:58:43.657491Z",
     "end_time": "2023-04-03T18:58:43.918179Z"
    }
   },
   "outputs": [],
   "source": [
    "temp_df = pd.read_csv('data/portugal_meteo/meteo_lx.csv', \n",
    "                      parse_dates=['YEARMODA'], \n",
    "                      date_parser=lambda t:pd.to_datetime(str(t),format='%Y%m%d')\n",
    "                     )\n",
    "temp_df.tail()"
   ]
  },
  {
   "cell_type": "code",
   "execution_count": null,
   "metadata": {
    "ExecuteTime": {
     "start_time": "2023-04-03T18:58:45.555780Z",
     "end_time": "2023-04-03T18:58:45.559138Z"
    }
   },
   "outputs": [],
   "source": [
    "temp_df.info()"
   ]
  },
  {
   "cell_type": "code",
   "execution_count": null,
   "metadata": {
    "ExecuteTime": {
     "start_time": "2023-04-03T18:58:46.970240Z",
     "end_time": "2023-04-03T18:58:46.987813Z"
    }
   },
   "outputs": [],
   "source": [
    "def F2C(d):\n",
    "    return (d - 32.) * (5. / 9.)\n",
    "\n",
    "meteo_df = pd.DataFrame()\n",
    "meteo_df['date'] = temp_df['YEARMODA'] \n",
    "meteo_df['max'] = F2C(temp_df['MAX']) \n",
    "meteo_df['min'] = F2C(temp_df['MIN']) \n",
    "meteo_df['rained'] = temp_df['PRCP'] > 0"
   ]
  },
  {
   "cell_type": "code",
   "execution_count": null,
   "metadata": {
    "ExecuteTime": {
     "start_time": "2023-04-03T18:58:48.192236Z",
     "end_time": "2023-04-03T18:58:48.201567Z"
    }
   },
   "outputs": [],
   "source": [
    "meteo_df.describe()"
   ]
  },
  {
   "cell_type": "markdown",
   "metadata": {},
   "source": [
    "are there strange values? maybe in the MAX temperature!?"
   ]
  },
  {
   "cell_type": "code",
   "execution_count": null,
   "metadata": {
    "ExecuteTime": {
     "start_time": "2023-04-03T18:58:52.328063Z",
     "end_time": "2023-04-03T18:58:52.353816Z"
    }
   },
   "outputs": [],
   "source": [
    "meteo_df.sort_values(by='max', ascending=False)"
   ]
  },
  {
   "cell_type": "markdown",
   "metadata": {},
   "source": [
    "which lines are problematic?"
   ]
  },
  {
   "cell_type": "code",
   "execution_count": null,
   "metadata": {
    "ExecuteTime": {
     "start_time": "2023-04-03T18:59:02.563237Z",
     "end_time": "2023-04-03T18:59:02.567417Z"
    }
   },
   "outputs": [],
   "source": [
    "problematic_idx = meteo_df[meteo_df['max']>50].index\n",
    "problematic_idx"
   ]
  },
  {
   "cell_type": "code",
   "execution_count": null,
   "metadata": {
    "ExecuteTime": {
     "start_time": "2023-04-03T18:59:05.757925Z",
     "end_time": "2023-04-03T18:59:05.764485Z"
    }
   },
   "outputs": [],
   "source": [
    "meteo_df = meteo_df.drop(problematic_idx, axis=0)"
   ]
  },
  {
   "cell_type": "code",
   "execution_count": null,
   "metadata": {
    "ExecuteTime": {
     "start_time": "2023-04-03T18:59:07.683957Z",
     "end_time": "2023-04-03T18:59:07.717664Z"
    }
   },
   "outputs": [],
   "source": [
    "df = df.merge(meteo_df, left_on='date', right_on='date')\n",
    "df.tail()"
   ]
  },
  {
   "cell_type": "code",
   "execution_count": null,
   "metadata": {
    "ExecuteTime": {
     "start_time": "2023-04-03T18:59:08.819310Z",
     "end_time": "2023-04-03T18:59:08.956488Z"
    }
   },
   "outputs": [],
   "source": [
    "\n",
    "df[['total', 'max', 'min']].plot()"
   ]
  },
  {
   "cell_type": "markdown",
   "metadata": {},
   "source": [
    "maybe it is better if data is normalized. Furthermore its seam that high temperatures are worst, so lets plot them only"
   ]
  },
  {
   "cell_type": "code",
   "execution_count": null,
   "metadata": {
    "ExecuteTime": {
     "start_time": "2023-04-03T18:59:28.546856Z",
     "end_time": "2023-04-03T18:59:28.773619Z"
    }
   },
   "outputs": [],
   "source": [
    "for col in ['total', 'max']:\n",
    "    df[col + '_n'] = df[col] / df[col].max()\n",
    "\n",
    "df[['total_n', 'max_n']].plot(figsize=(25,10))"
   ]
  },
  {
   "cell_type": "code",
   "execution_count": null,
   "metadata": {
    "ExecuteTime": {
     "start_time": "2023-04-03T18:59:36.569422Z",
     "end_time": "2023-04-03T18:59:36.722890Z"
    }
   },
   "outputs": [],
   "source": [
    "df.plot(x='max', y='total', kind='scatter', figsize=(15,10))"
   ]
  },
  {
   "cell_type": "markdown",
   "metadata": {},
   "source": [
    "## Group data\n",
    "To group data by month we can start by adding a new columns with year and month"
   ]
  },
  {
   "cell_type": "code",
   "execution_count": null,
   "metadata": {
    "ExecuteTime": {
     "start_time": "2023-04-03T18:59:42.508626Z",
     "end_time": "2023-04-03T18:59:42.511816Z"
    }
   },
   "outputs": [],
   "source": [
    "df['year'] = df.date.dt.year\n",
    "df['month'] = df.date.dt.month\n",
    "df['day'] = df.date.dt.day\n",
    "df['day_week'] = df.date.dt.dayofweek"
   ]
  },
  {
   "cell_type": "code",
   "execution_count": null,
   "metadata": {
    "ExecuteTime": {
     "start_time": "2023-04-03T18:59:44.624699Z",
     "end_time": "2023-04-03T18:59:44.644776Z"
    }
   },
   "outputs": [],
   "source": [
    "df.groupby(by='day_week').mean()"
   ]
  },
  {
   "cell_type": "markdown",
   "metadata": {},
   "source": [
    "We can see that aparently there is almost no influence on the days of week (look at the scale!)"
   ]
  },
  {
   "cell_type": "code",
   "execution_count": null,
   "metadata": {
    "ExecuteTime": {
     "start_time": "2023-04-03T18:59:50.428978Z",
     "end_time": "2023-04-03T18:59:50.558533Z"
    }
   },
   "outputs": [],
   "source": [
    "df[['total', 'day_week']].groupby(by='day_week').mean().plot(figsize=(20,5))"
   ]
  },
  {
   "cell_type": "code",
   "execution_count": null,
   "metadata": {
    "ExecuteTime": {
     "start_time": "2023-04-03T19:00:02.604137Z",
     "end_time": "2023-04-03T19:00:02.806668Z"
    }
   },
   "outputs": [],
   "source": [
    "df[['< 1 ano', '1-4 anos', \n",
    "   '5-14 anos', '15-24 anos', '25-34 anos', '35-44 anos', '45-54 anos', '55-64 anos', \n",
    "   '65-74 anos', '> 75 anos', 'Desconhecido', 'day_week']].groupby(by='day_week').mean().plot(figsize=(20,5)) "
   ]
  },
  {
   "cell_type": "markdown",
   "metadata": {},
   "source": [
    "What happens if think the number of deaths by month?"
   ]
  },
  {
   "cell_type": "code",
   "execution_count": null,
   "metadata": {
    "ExecuteTime": {
     "start_time": "2023-04-03T19:00:13.581328Z",
     "end_time": "2023-04-03T19:00:13.586242Z"
    }
   },
   "outputs": [],
   "source": [
    "df[['total', 'month']].groupby(by='month').mean()"
   ]
  },
  {
   "cell_type": "markdown",
   "metadata": {},
   "source": [
    "maybe there is something...?"
   ]
  },
  {
   "cell_type": "code",
   "execution_count": null,
   "metadata": {
    "ExecuteTime": {
     "start_time": "2023-04-03T19:00:16.523502Z",
     "end_time": "2023-04-03T19:00:16.655433Z"
    }
   },
   "outputs": [],
   "source": [
    "df[['total', 'month']].groupby(by='month').mean().plot(kind='bar')"
   ]
  },
  {
   "cell_type": "markdown",
   "metadata": {},
   "source": [
    "Has the rain anything to do with it?"
   ]
  },
  {
   "cell_type": "code",
   "execution_count": null,
   "metadata": {
    "ExecuteTime": {
     "start_time": "2023-04-03T19:00:21.865692Z",
     "end_time": "2023-04-03T19:00:21.877180Z"
    }
   },
   "outputs": [],
   "source": [
    "df.groupby(by='rained').mean()"
   ]
  },
  {
   "cell_type": "code",
   "execution_count": null,
   "metadata": {
    "ExecuteTime": {
     "start_time": "2023-04-03T19:00:23.059545Z",
     "end_time": "2023-04-03T19:00:23.143568Z"
    }
   },
   "outputs": [],
   "source": [
    "df.groupby(by='rained').mean().total.plot(kind='bar')"
   ]
  }
 ],
 "metadata": {
  "kernelspec": {
   "display_name": "Python 3",
   "language": "python",
   "name": "python3"
  },
  "language_info": {
   "codemirror_mode": {
    "name": "ipython",
    "version": 3
   },
   "file_extension": ".py",
   "mimetype": "text/x-python",
   "name": "python",
   "nbconvert_exporter": "python",
   "pygments_lexer": "ipython3",
   "version": "3.8.5"
  },
  "nbTranslate": {
   "displayLangs": [
    "*"
   ],
   "hotkey": "alt-t",
   "langInMainMenu": true,
   "sourceLang": "en",
   "targetLang": "fr",
   "useGoogleTranslate": true
  },
  "toc": {
   "base_numbering": 1,
   "nav_menu": {},
   "number_sections": true,
   "sideBar": true,
   "skip_h1_title": false,
   "title_cell": "Table of Contents",
   "title_sidebar": "Contents",
   "toc_cell": false,
   "toc_position": {},
   "toc_section_display": "block",
   "toc_window_display": false
  },
  "varInspector": {
   "cols": {
    "lenName": 16,
    "lenType": 16,
    "lenVar": 40
   },
   "kernels_config": {
    "python": {
     "delete_cmd_postfix": "",
     "delete_cmd_prefix": "del ",
     "library": "var_list.py",
     "varRefreshCmd": "print(var_dic_list())"
    },
    "r": {
     "delete_cmd_postfix": ") ",
     "delete_cmd_prefix": "rm(",
     "library": "var_list.r",
     "varRefreshCmd": "cat(var_dic_list()) "
    }
   },
   "types_to_exclude": [
    "module",
    "function",
    "builtin_function_or_method",
    "instance",
    "_Feature"
   ],
   "window_display": false
  }
 },
 "nbformat": 4,
 "nbformat_minor": 2
}
