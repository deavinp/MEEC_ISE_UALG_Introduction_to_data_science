{
 "cells": [
  {
   "cell_type": "code",
   "execution_count": 23,
   "metadata": {
    "collapsed": true,
    "ExecuteTime": {
     "start_time": "2023-05-21T21:23:18.523002Z",
     "end_time": "2023-05-21T21:23:18.532513Z"
    }
   },
   "outputs": [],
   "source": [
    "# transform the data in folders neg and pos into a csv file\n",
    "\n",
    "import os\n",
    "import pandas as pd\n",
    "\n",
    "def create_data_csv(set_name):\n",
    "    data = []\n",
    "    for folder in ['neg', 'pos']:\n",
    "        path = os.path.join('aclImdb', set_name, folder)\n",
    "        print(f'Processing {path} folder')\n",
    "        for file in os.listdir(path):\n",
    "            with open(os.path.join(path, file), 'r', encoding='utf-8') as f:\n",
    "                review = f.read()\n",
    "                classification = file.split('_')[1].split('.')[0]\n",
    "                data.append([file, review, classification, 1 if folder == 'pos' else 0])\n",
    "    df = pd.DataFrame(data, columns=['filename', 'review', \"classification\", 'sentiment'])\n",
    "    df.to_csv(f'imdb_data_{set_name}.zip', index=False)\n",
    "    return df\n"
   ]
  },
  {
   "cell_type": "code",
   "execution_count": 24,
   "outputs": [
    {
     "name": "stdout",
     "output_type": "stream",
     "text": [
      "Processing aclImdb/train/neg folder\n",
      "Processing aclImdb/train/pos folder\n"
     ]
    },
    {
     "data": {
      "text/plain": "          filename                                             review  \\\n0       1821_4.txt  Working with one of the best Shakespeare sourc...   \n1      10402_1.txt  Well...tremors I, the original started off in ...   \n2       1062_4.txt  Ouch! This one was a bit painful to sit throug...   \n3       9056_1.txt  I've seen some crappy movies in my life, but t...   \n4       5392_3.txt  \"Carriers\" follows the exploits of two guys an...   \n...            ...                                                ...   \n24995  9707_10.txt  About a year ago I finally gave up on American...   \n24996     35_8.txt  When I saw the elaborate DVD box for this and ...   \n24997  6034_10.txt  Last November, I had a chance to see this film...   \n24998   2780_9.txt  Great movie -I loved it. Great editing and use...   \n24999    437_9.txt  Enchanted April is a tone poem, an impressioni...   \n\n      classification  sentiment  \n0                  4          0  \n1                  1          0  \n2                  4          0  \n3                  1          0  \n4                  3          0  \n...              ...        ...  \n24995             10          1  \n24996              8          1  \n24997             10          1  \n24998              9          1  \n24999              9          1  \n\n[25000 rows x 4 columns]",
      "text/html": "<div>\n<style scoped>\n    .dataframe tbody tr th:only-of-type {\n        vertical-align: middle;\n    }\n\n    .dataframe tbody tr th {\n        vertical-align: top;\n    }\n\n    .dataframe thead th {\n        text-align: right;\n    }\n</style>\n<table border=\"1\" class=\"dataframe\">\n  <thead>\n    <tr style=\"text-align: right;\">\n      <th></th>\n      <th>filename</th>\n      <th>review</th>\n      <th>classification</th>\n      <th>sentiment</th>\n    </tr>\n  </thead>\n  <tbody>\n    <tr>\n      <th>0</th>\n      <td>1821_4.txt</td>\n      <td>Working with one of the best Shakespeare sourc...</td>\n      <td>4</td>\n      <td>0</td>\n    </tr>\n    <tr>\n      <th>1</th>\n      <td>10402_1.txt</td>\n      <td>Well...tremors I, the original started off in ...</td>\n      <td>1</td>\n      <td>0</td>\n    </tr>\n    <tr>\n      <th>2</th>\n      <td>1062_4.txt</td>\n      <td>Ouch! This one was a bit painful to sit throug...</td>\n      <td>4</td>\n      <td>0</td>\n    </tr>\n    <tr>\n      <th>3</th>\n      <td>9056_1.txt</td>\n      <td>I've seen some crappy movies in my life, but t...</td>\n      <td>1</td>\n      <td>0</td>\n    </tr>\n    <tr>\n      <th>4</th>\n      <td>5392_3.txt</td>\n      <td>\"Carriers\" follows the exploits of two guys an...</td>\n      <td>3</td>\n      <td>0</td>\n    </tr>\n    <tr>\n      <th>...</th>\n      <td>...</td>\n      <td>...</td>\n      <td>...</td>\n      <td>...</td>\n    </tr>\n    <tr>\n      <th>24995</th>\n      <td>9707_10.txt</td>\n      <td>About a year ago I finally gave up on American...</td>\n      <td>10</td>\n      <td>1</td>\n    </tr>\n    <tr>\n      <th>24996</th>\n      <td>35_8.txt</td>\n      <td>When I saw the elaborate DVD box for this and ...</td>\n      <td>8</td>\n      <td>1</td>\n    </tr>\n    <tr>\n      <th>24997</th>\n      <td>6034_10.txt</td>\n      <td>Last November, I had a chance to see this film...</td>\n      <td>10</td>\n      <td>1</td>\n    </tr>\n    <tr>\n      <th>24998</th>\n      <td>2780_9.txt</td>\n      <td>Great movie -I loved it. Great editing and use...</td>\n      <td>9</td>\n      <td>1</td>\n    </tr>\n    <tr>\n      <th>24999</th>\n      <td>437_9.txt</td>\n      <td>Enchanted April is a tone poem, an impressioni...</td>\n      <td>9</td>\n      <td>1</td>\n    </tr>\n  </tbody>\n</table>\n<p>25000 rows × 4 columns</p>\n</div>"
     },
     "execution_count": 24,
     "metadata": {},
     "output_type": "execute_result"
    }
   ],
   "source": [
    "create_data_csv('train')"
   ],
   "metadata": {
    "collapsed": false,
    "ExecuteTime": {
     "start_time": "2023-05-21T21:23:19.115641Z",
     "end_time": "2023-05-21T21:23:22.952800Z"
    }
   }
  },
  {
   "cell_type": "code",
   "execution_count": 25,
   "outputs": [
    {
     "name": "stdout",
     "output_type": "stream",
     "text": [
      "Processing aclImdb/test/neg folder\n",
      "Processing aclImdb/test/pos folder\n"
     ]
    },
    {
     "data": {
      "text/plain": "          filename                                             review  \\\n0       1821_4.txt  Alan Rickman & Emma Thompson give good perform...   \n1       9487_1.txt  I have seen this movie and I did not care for ...   \n2       4604_4.txt  In Los Angeles, the alcoholic and lazy Hank Ch...   \n3       2828_2.txt  This film is bundled along with \"Gli fumavano ...   \n4      10890_1.txt  I only comment on really very good films and o...   \n...            ...                                                ...   \n24995     70_8.txt  This movie is certainly well-constructed, begi...   \n24996   8974_8.txt  Nice to see a comedy for grown ups. Masterfull...   \n24997    437_9.txt  Jean Renoir's homage to the Paris of the late ...   \n24998   8137_8.txt  What are the movies? I mean.. what are movies ...   \n24999  1917_10.txt  I saw this movie on TV and loved it! I am a re...   \n\n      classification  sentiment  \n0                  4          0  \n1                  1          0  \n2                  4          0  \n3                  2          0  \n4                  1          0  \n...              ...        ...  \n24995              8          1  \n24996              8          1  \n24997              9          1  \n24998              8          1  \n24999             10          1  \n\n[25000 rows x 4 columns]",
      "text/html": "<div>\n<style scoped>\n    .dataframe tbody tr th:only-of-type {\n        vertical-align: middle;\n    }\n\n    .dataframe tbody tr th {\n        vertical-align: top;\n    }\n\n    .dataframe thead th {\n        text-align: right;\n    }\n</style>\n<table border=\"1\" class=\"dataframe\">\n  <thead>\n    <tr style=\"text-align: right;\">\n      <th></th>\n      <th>filename</th>\n      <th>review</th>\n      <th>classification</th>\n      <th>sentiment</th>\n    </tr>\n  </thead>\n  <tbody>\n    <tr>\n      <th>0</th>\n      <td>1821_4.txt</td>\n      <td>Alan Rickman &amp; Emma Thompson give good perform...</td>\n      <td>4</td>\n      <td>0</td>\n    </tr>\n    <tr>\n      <th>1</th>\n      <td>9487_1.txt</td>\n      <td>I have seen this movie and I did not care for ...</td>\n      <td>1</td>\n      <td>0</td>\n    </tr>\n    <tr>\n      <th>2</th>\n      <td>4604_4.txt</td>\n      <td>In Los Angeles, the alcoholic and lazy Hank Ch...</td>\n      <td>4</td>\n      <td>0</td>\n    </tr>\n    <tr>\n      <th>3</th>\n      <td>2828_2.txt</td>\n      <td>This film is bundled along with \"Gli fumavano ...</td>\n      <td>2</td>\n      <td>0</td>\n    </tr>\n    <tr>\n      <th>4</th>\n      <td>10890_1.txt</td>\n      <td>I only comment on really very good films and o...</td>\n      <td>1</td>\n      <td>0</td>\n    </tr>\n    <tr>\n      <th>...</th>\n      <td>...</td>\n      <td>...</td>\n      <td>...</td>\n      <td>...</td>\n    </tr>\n    <tr>\n      <th>24995</th>\n      <td>70_8.txt</td>\n      <td>This movie is certainly well-constructed, begi...</td>\n      <td>8</td>\n      <td>1</td>\n    </tr>\n    <tr>\n      <th>24996</th>\n      <td>8974_8.txt</td>\n      <td>Nice to see a comedy for grown ups. Masterfull...</td>\n      <td>8</td>\n      <td>1</td>\n    </tr>\n    <tr>\n      <th>24997</th>\n      <td>437_9.txt</td>\n      <td>Jean Renoir's homage to the Paris of the late ...</td>\n      <td>9</td>\n      <td>1</td>\n    </tr>\n    <tr>\n      <th>24998</th>\n      <td>8137_8.txt</td>\n      <td>What are the movies? I mean.. what are movies ...</td>\n      <td>8</td>\n      <td>1</td>\n    </tr>\n    <tr>\n      <th>24999</th>\n      <td>1917_10.txt</td>\n      <td>I saw this movie on TV and loved it! I am a re...</td>\n      <td>10</td>\n      <td>1</td>\n    </tr>\n  </tbody>\n</table>\n<p>25000 rows × 4 columns</p>\n</div>"
     },
     "execution_count": 25,
     "metadata": {},
     "output_type": "execute_result"
    }
   ],
   "source": [
    "create_data_csv('test')"
   ],
   "metadata": {
    "collapsed": false,
    "ExecuteTime": {
     "start_time": "2023-05-21T21:23:22.954202Z",
     "end_time": "2023-05-21T21:23:26.548929Z"
    }
   }
  },
  {
   "cell_type": "code",
   "execution_count": null,
   "outputs": [],
   "source": [
    "!pwd"
   ],
   "metadata": {
    "collapsed": false,
    "ExecuteTime": {
     "start_time": "2023-05-21T21:02:00.860000Z",
     "end_time": "2023-05-21T21:02:01.016731Z"
    }
   }
  },
  {
   "cell_type": "code",
   "execution_count": null,
   "outputs": [],
   "source": [],
   "metadata": {
    "collapsed": false
   }
  }
 ],
 "metadata": {
  "kernelspec": {
   "display_name": "Python 3",
   "language": "python",
   "name": "python3"
  },
  "language_info": {
   "codemirror_mode": {
    "name": "ipython",
    "version": 2
   },
   "file_extension": ".py",
   "mimetype": "text/x-python",
   "name": "python",
   "nbconvert_exporter": "python",
   "pygments_lexer": "ipython2",
   "version": "2.7.6"
  }
 },
 "nbformat": 4,
 "nbformat_minor": 0
}
