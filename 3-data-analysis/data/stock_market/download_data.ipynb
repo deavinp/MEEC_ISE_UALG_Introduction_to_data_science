{
 "cells": [
  {
   "cell_type": "markdown",
   "source": [
    "Download stocks data from Yahoo Finance.\n",
    "Note that by updating the list of stocks, some of the results from the notebook will change and conclusions will be different."
   ],
   "metadata": {
    "collapsed": false
   }
  },
  {
   "cell_type": "code",
   "execution_count": null,
   "outputs": [],
   "source": [
    "import pandas as pd\n",
    "import yfinance\n",
    "import time\n",
    "\n",
    "# choose which stocks to download\n",
    "stocks = ['META', 'GOOGL', 'TSLA', 'MSFT', 'AAPL', 'AMZN']\n",
    "\n",
    "# the dataframe data will hold the all data\n",
    "df = pd.DataFrame()\n",
    "for stock in stocks:\n",
    "    # download stocks individuly\n",
    "    df_temp = yfinance.download(stock, start='1990-01-01')\n",
    "\n",
    "    # choose which columns/features to maintain and append the name of the stock to it\n",
    "    df_temp = df_temp[['Open', 'High', 'Low', 'Close', 'Volume']]\n",
    "    df_temp.columns = [col + '_' + stock for col in df_temp.columns]\n",
    "\n",
    "    # merge to  the complete dataframe\n",
    "    df = df.merge(df_temp, left_index=True, right_index=True, how='outer')\n",
    "\n",
    "# show some info (different stocks have different number of recrods)\n",
    "df.info()\n",
    "\n",
    "# save the dataframe in the 'data' folder\n",
    "filename = './data/stocks.csv'\n",
    "print()\n",
    "print('saving file to', filename, end='... ')\n",
    "df.to_csv(\"filename\")\n",
    "print('done')\n",
    "\n",
    "now = time.strftime(\"%a, %d %b %Y %H:%M:%S %Z\", time.localtime(time.time()))\n",
    "print('updated:', now)"
   ],
   "metadata": {
    "collapsed": false,
    "ExecuteTime": {
     "start_time": "2023-05-08T12:33:39.465478Z",
     "end_time": "2023-05-08T12:33:39.917978Z"
    }
   }
  },
  {
   "cell_type": "code",
   "execution_count": null,
   "outputs": [],
   "source": [],
   "metadata": {
    "collapsed": false
   }
  }
 ],
 "metadata": {
  "kernelspec": {
   "display_name": "Python 3",
   "language": "python",
   "name": "python3"
  },
  "language_info": {
   "codemirror_mode": {
    "name": "ipython",
    "version": 2
   },
   "file_extension": ".py",
   "mimetype": "text/x-python",
   "name": "python",
   "nbconvert_exporter": "python",
   "pygments_lexer": "ipython2",
   "version": "2.7.6"
  }
 },
 "nbformat": 4,
 "nbformat_minor": 0
}
