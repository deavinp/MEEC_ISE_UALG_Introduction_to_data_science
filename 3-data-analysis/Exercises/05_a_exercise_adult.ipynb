{
 "cells": [
  {
   "cell_type": "markdown",
   "metadata": {},
   "source": [
    "# Adult dataset\n",
    "\n",
    "## Load and first look at the dataset\n",
    "Consider the adult dataset available at https://archive.ics.uci.edu/ml/datasets/Adult, also on the `data` folder. The dataset was extracted by Barry Becker from the 1994 Census database. A set of reasonably clean records was extracted using the following conditions: ((AAGE>16) && (AGI>100) && (AFNLWGT>1) && (HRSWK>0)) [AGI - Adjusted Gross Income]\n",
    "\n",
    "### Load the dataset and show the first 10 samples."
   ]
  },
  {
   "cell_type": "code",
   "execution_count": null,
   "metadata": {
    "ExecuteTime": {
     "end_time": "2023-04-09T23:10:24.436839Z",
     "start_time": "2023-04-09T23:10:24.426318Z"
    }
   },
   "outputs": [],
   "source": []
  },
  {
   "cell_type": "markdown",
   "metadata": {},
   "source": [
    "### How many samples has the dataset?"
   ]
  },
  {
   "cell_type": "code",
   "execution_count": null,
   "metadata": {
    "ExecuteTime": {
     "end_time": "2023-04-09T23:10:26.304860Z",
     "start_time": "2023-04-09T23:10:26.299692Z"
    }
   },
   "outputs": [],
   "source": []
  },
  {
   "cell_type": "markdown",
   "metadata": {},
   "source": [
    "### Check the dataset's columns\n",
    "Check that the dataset has 15 columns:\n",
    "- age: continuous.\n",
    "- workclass: Private, Self-emp-not-inc, Self-emp-inc, Federal-gov, Local-gov, State-gov, Without-pay, Never-worked.\n",
    "- fnlwgt: continuous. Represents the sampling weight assigned to each observation in the dataset. It is used to adjust for the fact that some observations in the dataset may represent a larger portion of the population than others.\n",
    "- education: Bachelors, Some-college, 11th, HS-grad, Prof-school, Assoc-acdm, Assoc-voc, 9th, 7th-8th, 12th, Masters, 1st-4th, 10th, Doctorate, 5th-6th, Preschool.\n",
    "- education-num: continuous. Represents the number of years of education that a person has completed.\n",
    "- marital-status: Married-civ-spouse, Divorced, Never-married, Separated, Widowed, Married-spouse-absent, Married-AF-spouse.\n",
    "- occupation: Tech-support, Craft-repair, Other-service, Sales, Exec-managerial, Prof-specialty, Handlers-cleaners, Machine-op-inspct, Adm-clerical, Farming-fishing, Transport-moving, Priv-house-serv, Protective-serv, Armed-Forces.\n",
    "- relationship: Wife, Own-child, Husband, Not-in-family, Other-relative, Unmarried.\n",
    "- race: White, Asian-Pac-Islander, Amer-Indian-Eskimo, Other, Black.\n",
    "- sex: Female, Male.\n",
    "- capital-gain: continuous. Represents the capital gains for a person, from investment sources other than wage/salary.\n",
    "- capital-loss: continuous. Represents the capital losses for a person,  from investment sources other than wage/salary.\n",
    "- hours-per-week: continuous. Represents the hours per week that a person works.\n",
    "- native-country: United-States, Cambodia, England, Puerto-Rico, Canada, Germany, Outlying-US(Guam-USVI-etc), India, Japan, Greece, South, China, Cuba, Iran, Honduras, Philippines, Italy, Poland, Jamaica, Vietnam, Mexico, Portugal, Ireland, France, Dominican-Republic, Laos, Ecuador, Taiwan, Haiti, Columbia, Hungary, Guatemala, Nicaragua, Scotland, Thailand, Yugoslavia, El-Salvador, Trinadad&Tobago, Peru, Hong, Holand-Netherlands.\n",
    "- income: >50K, <=50K. Represents whether a person makes more or less than 50K a year.\n"
   ]
  },
  {
   "cell_type": "code",
   "execution_count": null,
   "metadata": {
    "ExecuteTime": {
     "end_time": "2023-04-09T22:44:51.712340Z",
     "start_time": "2023-04-09T22:44:51.306066Z"
    }
   },
   "outputs": [],
   "source": []
  },
  {
   "cell_type": "markdown",
   "metadata": {},
   "source": [
    "### Add a column with the weight of each sample. Show the samples with the highest weight.\n",
    "The weight is the fnlwgt divided by the sum of all fnlwgt.\n",
    "Unless asked otherwise, all the following exercises should be done __without__ using the weighted data."
   ]
  },
  {
   "cell_type": "code",
   "execution_count": null,
   "metadata": {
    "ExecuteTime": {
     "end_time": "2023-04-09T22:44:51.728564Z",
     "start_time": "2023-04-09T22:44:51.311215Z"
    }
   },
   "outputs": [],
   "source": []
  },
  {
   "cell_type": "markdown",
   "metadata": {},
   "source": [
    "### Separate the dataset into two datasets, one for men and one for women. How many samples are in each dataset? Which gender has more samples? Can you guess why?"
   ]
  },
  {
   "cell_type": "code",
   "execution_count": null,
   "metadata": {
    "ExecuteTime": {
     "end_time": "2023-04-09T22:44:51.730003Z",
     "start_time": "2023-04-09T22:44:51.346989Z"
    }
   },
   "outputs": [],
   "source": []
  },
  {
   "cell_type": "markdown",
   "metadata": {},
   "source": [
    "### Get a dataframe with the men that have an income high income (>50K)."
   ]
  },
  {
   "cell_type": "code",
   "execution_count": null,
   "metadata": {
    "ExecuteTime": {
     "end_time": "2023-04-09T22:44:51.736170Z",
     "start_time": "2023-04-09T22:44:51.361921Z"
    }
   },
   "outputs": [],
   "source": []
  },
  {
   "cell_type": "markdown",
   "metadata": {},
   "source": [
    "### What is the rate of people with high income (>50K)? And the weighted rate of people with high income?"
   ]
  },
  {
   "cell_type": "code",
   "execution_count": null,
   "metadata": {
    "ExecuteTime": {
     "end_time": "2023-04-09T22:44:51.736378Z",
     "start_time": "2023-04-09T22:44:51.375129Z"
    }
   },
   "outputs": [],
   "source": []
  },
  {
   "cell_type": "code",
   "execution_count": null,
   "metadata": {
    "ExecuteTime": {
     "end_time": "2023-04-09T22:44:51.736503Z",
     "start_time": "2023-04-09T22:44:51.381133Z"
    }
   },
   "outputs": [],
   "source": []
  },
  {
   "cell_type": "markdown",
   "metadata": {},
   "source": [
    "### What is the rate of men with high income (>50K)? and of women with high income?"
   ]
  },
  {
   "cell_type": "code",
   "execution_count": null,
   "metadata": {
    "ExecuteTime": {
     "end_time": "2023-04-09T22:44:51.737866Z",
     "start_time": "2023-04-09T22:44:51.385891Z"
    }
   },
   "outputs": [],
   "source": []
  },
  {
   "cell_type": "markdown",
   "metadata": {},
   "source": [
    "### Plot the distribution of the ages for males and females in the same histogram."
   ]
  },
  {
   "cell_type": "code",
   "execution_count": null,
   "metadata": {
    "ExecuteTime": {
     "end_time": "2023-04-09T22:44:51.997488Z",
     "start_time": "2023-04-09T22:44:51.395022Z"
    }
   },
   "outputs": [],
   "source": []
  },
  {
   "cell_type": "markdown",
   "metadata": {},
   "source": [
    "### Plot the distributions when combining the age and income"
   ]
  },
  {
   "cell_type": "code",
   "execution_count": null,
   "metadata": {
    "ExecuteTime": {
     "end_time": "2023-04-09T22:44:52.596622Z",
     "start_time": "2023-04-09T22:44:51.946354Z"
    }
   },
   "outputs": [],
   "source": []
  },
  {
   "cell_type": "markdown",
   "metadata": {},
   "source": [
    "## Group and pivot tables\n",
    "\n",
    "### How many samples can you find per native-country?"
   ]
  },
  {
   "cell_type": "code",
   "execution_count": null,
   "metadata": {
    "ExecuteTime": {
     "end_time": "2023-04-09T22:44:52.610216Z",
     "start_time": "2023-04-09T22:44:52.601566Z"
    }
   },
   "outputs": [],
   "source": []
  },
  {
   "cell_type": "markdown",
   "metadata": {},
   "source": [
    "### Build a pivot table with the age as index and the income as values and count aggfunc. Plot the result. What can you conclude?"
   ]
  },
  {
   "cell_type": "code",
   "execution_count": null,
   "metadata": {
    "ExecuteTime": {
     "end_time": "2023-04-09T22:44:52.654187Z",
     "start_time": "2023-04-09T22:44:52.634856Z"
    }
   },
   "outputs": [],
   "source": []
  },
  {
   "cell_type": "markdown",
   "metadata": {},
   "source": [
    "### What the average working hours per week for the low and high income groups?"
   ]
  },
  {
   "cell_type": "code",
   "execution_count": null,
   "metadata": {
    "ExecuteTime": {
     "end_time": "2023-04-09T22:44:52.748914Z",
     "start_time": "2023-04-09T22:44:52.704322Z"
    }
   },
   "outputs": [],
   "source": []
  },
  {
   "cell_type": "markdown",
   "metadata": {},
   "source": [
    "### What is the average working hours per week depending on the native-country?"
   ]
  },
  {
   "cell_type": "code",
   "execution_count": null,
   "metadata": {
    "ExecuteTime": {
     "end_time": "2023-04-09T22:44:52.764799Z",
     "start_time": "2023-04-09T22:44:52.720131Z"
    }
   },
   "outputs": [],
   "source": []
  },
  {
   "cell_type": "markdown",
   "metadata": {},
   "source": [
    "### What is the average working hours per week depending on the marital-status?"
   ]
  },
  {
   "cell_type": "code",
   "execution_count": null,
   "metadata": {
    "ExecuteTime": {
     "end_time": "2023-04-09T22:44:52.788656Z",
     "start_time": "2023-04-09T22:44:52.731998Z"
    }
   },
   "outputs": [],
   "source": []
  },
  {
   "cell_type": "markdown",
   "metadata": {},
   "source": [
    "### What is the marital-status based in the number of educational years? and the reverse?\n",
    "\n",
    "Answer question such as:\n",
    "- What is the percentage of people with 10 years of education that are married?\n",
    "- What is most common marital status for people with 7 years of education? and 16?\n",
    "- what is the percentage of people with 10 years of education that are married?\n",
    "- etc."
   ]
  },
  {
   "cell_type": "code",
   "execution_count": null,
   "metadata": {
    "ExecuteTime": {
     "end_time": "2023-04-09T22:44:52.820697Z",
     "start_time": "2023-04-09T22:44:52.748447Z"
    }
   },
   "outputs": [],
   "source": []
  },
  {
   "cell_type": "code",
   "execution_count": null,
   "metadata": {
    "ExecuteTime": {
     "end_time": "2023-04-09T22:44:53.220020Z",
     "start_time": "2023-04-09T22:44:52.780219Z"
    }
   },
   "outputs": [],
   "source": []
  },
  {
   "cell_type": "code",
   "execution_count": null,
   "metadata": {
    "ExecuteTime": {
     "end_time": "2023-04-09T22:44:53.698308Z",
     "start_time": "2023-04-09T22:44:53.232786Z"
    }
   },
   "outputs": [],
   "source": []
  },
  {
   "cell_type": "code",
   "execution_count": null,
   "metadata": {
    "ExecuteTime": {
     "end_time": "2023-04-09T22:44:54.179105Z",
     "start_time": "2023-04-09T22:44:53.703774Z"
    }
   },
   "outputs": [],
   "source": []
  },
  {
   "cell_type": "markdown",
   "metadata": {},
   "source": [
    "### What is the more common type of income based on the marital status?"
   ]
  },
  {
   "cell_type": "code",
   "execution_count": null,
   "metadata": {
    "ExecuteTime": {
     "end_time": "2023-04-09T22:44:54.196811Z",
     "start_time": "2023-04-09T22:44:54.183115Z"
    }
   },
   "outputs": [],
   "source": []
  },
  {
   "cell_type": "code",
   "execution_count": null,
   "metadata": {
    "ExecuteTime": {
     "end_time": "2023-04-09T22:44:54.218352Z",
     "start_time": "2023-04-09T22:44:54.197455Z"
    }
   },
   "outputs": [],
   "source": []
  },
  {
   "cell_type": "markdown",
   "metadata": {},
   "source": [
    "### What is the type of income based in the number of educational years?"
   ]
  },
  {
   "cell_type": "code",
   "execution_count": null,
   "metadata": {
    "ExecuteTime": {
     "end_time": "2023-04-09T22:44:54.307125Z",
     "start_time": "2023-04-09T22:44:54.204502Z"
    }
   },
   "outputs": [],
   "source": []
  },
  {
   "cell_type": "markdown",
   "metadata": {},
   "source": [
    "### Based on the number of years of education and income what is the best education level to have high income?"
   ]
  },
  {
   "cell_type": "code",
   "execution_count": null,
   "metadata": {
    "ExecuteTime": {
     "end_time": "2023-04-09T22:44:54.307350Z",
     "start_time": "2023-04-09T22:44:54.267247Z"
    }
   },
   "outputs": [],
   "source": []
  },
  {
   "cell_type": "markdown",
   "metadata": {},
   "source": [
    "## Central tendency measures\n",
    "### What is the mean age of the population? and the weighted mean age?"
   ]
  },
  {
   "cell_type": "code",
   "execution_count": null,
   "metadata": {
    "ExecuteTime": {
     "end_time": "2023-04-09T22:44:54.308072Z",
     "start_time": "2023-04-09T22:44:54.286104Z"
    }
   },
   "outputs": [],
   "source": []
  },
  {
   "cell_type": "markdown",
   "metadata": {},
   "source": [
    "### What is the average age of the women? of the men? and of the whole dataset?"
   ]
  },
  {
   "cell_type": "code",
   "execution_count": null,
   "metadata": {
    "ExecuteTime": {
     "end_time": "2023-04-09T22:44:54.308582Z",
     "start_time": "2023-04-09T22:44:54.290876Z"
    }
   },
   "outputs": [],
   "source": []
  },
  {
   "cell_type": "markdown",
   "metadata": {},
   "source": [
    "### What is the average age of men with high income? of the women? and of the whole dataset?"
   ]
  },
  {
   "cell_type": "code",
   "execution_count": null,
   "metadata": {
    "ExecuteTime": {
     "end_time": "2023-04-09T22:44:54.308712Z",
     "start_time": "2023-04-09T22:44:54.296573Z"
    }
   },
   "outputs": [],
   "source": []
  },
  {
   "cell_type": "markdown",
   "metadata": {},
   "source": [
    "### What is the median age of men with high income? and of men with low income? and of men's population?"
   ]
  },
  {
   "cell_type": "code",
   "execution_count": null,
   "metadata": {
    "ExecuteTime": {
     "end_time": "2023-04-09T22:44:54.313414Z",
     "start_time": "2023-04-09T22:44:54.303050Z"
    }
   },
   "outputs": [],
   "source": []
  },
  {
   "cell_type": "markdown",
   "metadata": {},
   "source": [
    "### What is the mode of marital status? Plot the bar plot of the marital status to confirm the result."
   ]
  },
  {
   "cell_type": "code",
   "execution_count": null,
   "metadata": {
    "ExecuteTime": {
     "end_time": "2023-04-09T22:44:54.318990Z",
     "start_time": "2023-04-09T22:44:54.314512Z"
    }
   },
   "outputs": [],
   "source": []
  },
  {
   "cell_type": "code",
   "execution_count": null,
   "metadata": {
    "ExecuteTime": {
     "end_time": "2023-04-09T22:44:54.458039Z",
     "start_time": "2023-04-09T22:44:54.335683Z"
    }
   },
   "outputs": [],
   "source": []
  },
  {
   "cell_type": "markdown",
   "metadata": {},
   "source": [
    "## Dispersion measures\n",
    "### Find the first and third quartile of the age of the population. What is the interquartile range?"
   ]
  },
  {
   "cell_type": "code",
   "execution_count": null,
   "metadata": {
    "ExecuteTime": {
     "end_time": "2023-04-09T22:44:54.458534Z",
     "start_time": "2023-04-09T22:44:54.375767Z"
    }
   },
   "outputs": [],
   "source": []
  },
  {
   "cell_type": "markdown",
   "metadata": {},
   "source": [
    "### Being $\\mu$ the mean age and $\\sigma$ the standard deviation of age of the population, how many samples are in the interval $[\\mu-\\sigma, \\mu+\\sigma$]? What is the correponding percentage of the population?"
   ]
  },
  {
   "cell_type": "code",
   "execution_count": null,
   "metadata": {
    "ExecuteTime": {
     "end_time": "2023-04-09T22:44:54.458780Z",
     "start_time": "2023-04-09T22:44:54.381573Z"
    }
   },
   "outputs": [],
   "source": []
  },
  {
   "cell_type": "markdown",
   "metadata": {},
   "source": [
    "### What is the features with higher standard deviation?"
   ]
  },
  {
   "cell_type": "code",
   "execution_count": null,
   "metadata": {
    "ExecuteTime": {
     "end_time": "2023-04-09T22:44:54.458944Z",
     "start_time": "2023-04-09T22:44:54.390117Z"
    }
   },
   "outputs": [],
   "source": []
  },
  {
   "cell_type": "markdown",
   "metadata": {},
   "source": [
    "### What is the work class with higher age standard deviation?"
   ]
  },
  {
   "cell_type": "code",
   "execution_count": null,
   "metadata": {
    "ExecuteTime": {
     "end_time": "2023-04-09T22:44:54.459404Z",
     "start_time": "2023-04-09T22:44:54.399441Z"
    }
   },
   "outputs": [],
   "source": []
  },
  {
   "cell_type": "markdown",
   "metadata": {},
   "source": [
    "### What is the ocupation with higher working hours standard deviation? What is the minimum and maximum working hours for each occupation? Plot the hours-per-week box plot for each occupation."
   ]
  },
  {
   "cell_type": "code",
   "execution_count": null,
   "metadata": {
    "ExecuteTime": {
     "end_time": "2023-04-09T22:44:54.459641Z",
     "start_time": "2023-04-09T22:44:54.409570Z"
    }
   },
   "outputs": [],
   "source": []
  },
  {
   "cell_type": "code",
   "execution_count": null,
   "metadata": {
    "ExecuteTime": {
     "end_time": "2023-04-09T22:44:54.504320Z",
     "start_time": "2023-04-09T22:44:54.417510Z"
    }
   },
   "outputs": [],
   "source": []
  },
  {
   "cell_type": "code",
   "execution_count": null,
   "metadata": {
    "ExecuteTime": {
     "end_time": "2023-04-09T22:44:54.880478Z",
     "start_time": "2023-04-09T22:44:54.444286Z"
    }
   },
   "outputs": [],
   "source": []
  },
  {
   "cell_type": "markdown",
   "metadata": {},
   "source": [
    "### What is the hours-per-week standard deviation for each workclass? Plot the hours-per-week box plot for each workclass."
   ]
  },
  {
   "cell_type": "code",
   "execution_count": null,
   "metadata": {
    "ExecuteTime": {
     "end_time": "2023-04-09T22:44:54.888136Z",
     "start_time": "2023-04-09T22:44:54.881892Z"
    }
   },
   "outputs": [],
   "source": []
  },
  {
   "cell_type": "code",
   "execution_count": null,
   "metadata": {
    "ExecuteTime": {
     "end_time": "2023-04-09T22:44:55.229684Z",
     "start_time": "2023-04-09T22:44:54.900037Z"
    }
   },
   "outputs": [],
   "source": []
  },
  {
   "cell_type": "markdown",
   "metadata": {},
   "source": [
    "## Skewness and kurtosis\n",
    "\n",
    "### Without plotting the histograms, is the population's age skewed to the left or to the right? What if it is restricted to low or high income? Present yout conclusions."
   ]
  },
  {
   "cell_type": "code",
   "execution_count": null,
   "metadata": {
    "ExecuteTime": {
     "end_time": "2023-04-09T22:44:55.240241Z",
     "start_time": "2023-04-09T22:44:55.231828Z"
    }
   },
   "outputs": [],
   "source": []
  },
  {
   "cell_type": "markdown",
   "metadata": {},
   "source": [
    "### Plot the histogram of the age of the population, of the high income population and of the low income population to confirm the previous conclusions."
   ]
  },
  {
   "cell_type": "code",
   "execution_count": null,
   "metadata": {
    "ExecuteTime": {
     "end_time": "2023-04-09T22:44:55.834226Z",
     "start_time": "2023-04-09T22:44:55.272355Z"
    }
   },
   "outputs": [],
   "source": []
  }
 ],
 "metadata": {
  "kernelspec": {
   "display_name": "Python 3 (ipykernel)",
   "language": "python",
   "name": "python3"
  },
  "language_info": {
   "codemirror_mode": {
    "name": "ipython",
    "version": 3
   },
   "file_extension": ".py",
   "mimetype": "text/x-python",
   "name": "python",
   "nbconvert_exporter": "python",
   "pygments_lexer": "ipython3",
   "version": "3.9.13"
  }
 },
 "nbformat": 4,
 "nbformat_minor": 1
}
