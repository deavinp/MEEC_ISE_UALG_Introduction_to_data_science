{
 "cells": [
  {
   "cell_type": "markdown",
   "source": [
    "# Dataframe exercises"
   ],
   "metadata": {
    "collapsed": false
   },
   "id": "f96cea2ae3cfe799"
  },
  {
   "cell_type": "markdown",
   "source": [
    "## Exercise - US Baby Names\n",
    "\n",
    "The folder '3-data-analysis/data/names' contains files with the names registered in the US from  1880 to 2021. Use Pandas to do the following tasks."
   ],
   "metadata": {
    "collapsed": false
   },
   "id": "24f69c2469f4894e"
  },
  {
   "cell_type": "markdown",
   "source": [
    "### Join the data in the files in a single dataframe (e.g., a name by row)"
   ],
   "metadata": {
    "collapsed": false
   },
   "id": "47883689069b0972"
  },
  {
   "cell_type": "code",
   "outputs": [],
   "source": [
    "import pandas as pd\n",
    "\n",
    "[pd.read]"
   ],
   "metadata": {
    "collapsed": false
   },
   "id": "4d127224294b1384",
   "execution_count": 0
  },
  {
   "cell_type": "markdown",
   "source": [
    "### Find the name most registered since 1880"
   ],
   "metadata": {
    "collapsed": false
   },
   "id": "446860fa971b19cd"
  },
  {
   "cell_type": "code",
   "outputs": [],
   "source": [],
   "metadata": {
    "collapsed": false
   },
   "id": "ce2ee38f927d1a24",
   "execution_count": 0
  },
  {
   "cell_type": "markdown",
   "source": [
    "### The name less registered since 1880"
   ],
   "metadata": {
    "collapsed": false
   },
   "id": "e50add83966831ea"
  },
  {
   "cell_type": "code",
   "outputs": [],
   "source": [],
   "metadata": {
    "collapsed": false
   },
   "id": "af077c0a6abbfaf9",
   "execution_count": 0
  },
  {
   "cell_type": "markdown",
   "source": [
    "### Find the name most registered by year"
   ],
   "metadata": {
    "collapsed": false
   },
   "id": "f7d7d2b10b24184e"
  },
  {
   "cell_type": "code",
   "outputs": [],
   "source": [],
   "metadata": {
    "collapsed": false
   },
   "id": "ad3a098acd31966c",
   "execution_count": 0
  },
  {
   "cell_type": "markdown",
   "source": [
    "### Find the name most registered in the year 2000"
   ],
   "metadata": {
    "collapsed": false
   },
   "id": "e6d4bb040c7c5ae4"
  },
  {
   "cell_type": "code",
   "outputs": [],
   "source": [],
   "metadata": {
    "collapsed": false
   },
   "id": "6e32c62ae90c5096",
   "execution_count": 0
  },
  {
   "cell_type": "markdown",
   "source": [
    "### Find the name less registered in the year 2000"
   ],
   "metadata": {
    "collapsed": false
   },
   "id": "9a954398a0815944"
  },
  {
   "cell_type": "code",
   "outputs": [],
   "source": [],
   "metadata": {
    "collapsed": false
   },
   "id": "74ce3bef6c17dad1",
   "execution_count": 0
  },
  {
   "cell_type": "markdown",
   "source": [
    "### Find the name most registered since 1880 by gender"
   ],
   "metadata": {
    "collapsed": false
   },
   "id": "52e787778c0b245"
  },
  {
   "cell_type": "code",
   "outputs": [],
   "source": [],
   "metadata": {
    "collapsed": false
   },
   "id": "81d19b02014d1440",
   "execution_count": 0
  },
  {
   "cell_type": "markdown",
   "source": [
    "### Plot the evolution of the registration of the name `Mary'"
   ],
   "metadata": {
    "collapsed": false
   },
   "id": "ee021623ad37cd4a"
  },
  {
   "cell_type": "code",
   "outputs": [],
   "source": [],
   "metadata": {
    "collapsed": false
   },
   "id": "ff6fb22989274c43",
   "execution_count": 0
  },
  {
   "cell_type": "markdown",
   "source": [
    "### Plot the evolution of the registration of the 10 most registered names"
   ],
   "metadata": {
    "collapsed": false
   },
   "id": "22f9f367a40dc059"
  },
  {
   "cell_type": "code",
   "outputs": [],
   "source": [],
   "metadata": {
    "collapsed": false
   },
   "id": "373feecda0a87955",
   "execution_count": 0
  },
  {
   "cell_type": "markdown",
   "source": [
    "## Exercise - US Baby Names by State\n",
    "\n",
    "The folder '4-data-analysis/data/namesbystate' contains files with \"State-specific data on the relative frequency of given names in the population of U.S. births where the individual has a Social Security Number\""
   ],
   "metadata": {
    "collapsed": false
   },
   "id": "e7ed1ec0cda5a83f"
  },
  {
   "cell_type": "markdown",
   "source": [
    "### Load the data into a single dataframe: what is the best structure?"
   ],
   "metadata": {
    "collapsed": false
   },
   "id": "16d129ea145190f2"
  },
  {
   "cell_type": "code",
   "outputs": [],
   "source": [],
   "metadata": {
    "collapsed": false
   },
   "id": "3edc5ed76d043b9a",
   "execution_count": 0
  },
  {
   "cell_type": "markdown",
   "source": [
    "### Get the registration of females for NY"
   ],
   "metadata": {
    "collapsed": false
   },
   "id": "1f4d99e7f810b0c2"
  },
  {
   "cell_type": "code",
   "outputs": [],
   "source": [],
   "metadata": {
    "collapsed": false
   },
   "id": "cb0828d6544b1b5a",
   "execution_count": 0
  },
  {
   "cell_type": "markdown",
   "source": [
    "### How many females where registered in NY since the begining of the records?"
   ],
   "metadata": {
    "collapsed": false
   },
   "id": "a9a3e49a87a29f7b"
  },
  {
   "cell_type": "code",
   "outputs": [],
   "source": [],
   "metadata": {
    "collapsed": false
   },
   "id": "bfb98a89d1a11833",
   "execution_count": 0
  },
  {
   "cell_type": "markdown",
   "source": [
    "### Get the registration of females named Olivia for NY"
   ],
   "metadata": {
    "collapsed": false
   },
   "id": "47efbc73b89ac267"
  },
  {
   "cell_type": "code",
   "outputs": [],
   "source": [],
   "metadata": {
    "collapsed": false
   },
   "id": "b4e8309c534e2e6f",
   "execution_count": 0
  },
  {
   "cell_type": "markdown",
   "source": [
    "### What was the minimum, maximum, average and 10th percentile of registrations of the name Olivia in NY?"
   ],
   "metadata": {
    "collapsed": false
   },
   "id": "2265a640ba9d5e43"
  },
  {
   "cell_type": "code",
   "outputs": [],
   "source": [],
   "metadata": {
    "collapsed": false
   },
   "id": "4d83adb6f9c1c6c",
   "execution_count": 0
  },
  {
   "cell_type": "markdown",
   "source": [
    "### Find how many times \"Olivia\" was registered in NY in 2000"
   ],
   "metadata": {
    "collapsed": false
   },
   "id": "7f170fe05ad21dd"
  },
  {
   "cell_type": "code",
   "outputs": [],
   "source": [],
   "metadata": {
    "collapsed": false
   },
   "id": "55bec7aa5289e6c6",
   "execution_count": 0
  },
  {
   "cell_type": "markdown",
   "source": [
    "### Find the year and state where Olivia was most times registered in a single year."
   ],
   "metadata": {
    "collapsed": false
   },
   "id": "5c0e748444ab4efc"
  },
  {
   "cell_type": "code",
   "outputs": [],
   "source": [],
   "metadata": {
    "collapsed": false
   },
   "id": "7a38556eadd1ae21",
   "execution_count": 0
  },
  {
   "cell_type": "markdown",
   "source": [
    "### Find the year where Olivia was most times registred (all states)"
   ],
   "metadata": {
    "collapsed": false
   },
   "id": "c93fcd8dc499f81a"
  },
  {
   "cell_type": "code",
   "outputs": [],
   "source": [],
   "metadata": {
    "collapsed": false
   },
   "id": "9cbf1e0ae0ccaac",
   "execution_count": 0
  },
  {
   "cell_type": "markdown",
   "source": [
    "### Find the states where the name Mary and John were most times registered"
   ],
   "metadata": {
    "collapsed": false
   },
   "id": "414a02301790816f"
  },
  {
   "cell_type": "code",
   "outputs": [],
   "source": [],
   "metadata": {
    "collapsed": false
   },
   "id": "71227e02cb84a49a",
   "execution_count": 0
  },
  {
   "cell_type": "markdown",
   "source": [
    "### Plot the evolution of the names Mary and John through the years"
   ],
   "metadata": {
    "collapsed": false
   },
   "id": "7da3b2aeb24c6a8f"
  },
  {
   "cell_type": "code",
   "outputs": [],
   "source": [],
   "metadata": {
    "collapsed": false
   },
   "id": "25cb8676b1c03257",
   "execution_count": 0
  },
  {
   "cell_type": "markdown",
   "source": [
    "### Find the name most registered in a state for a single year"
   ],
   "metadata": {
    "collapsed": false
   },
   "id": "5424e466c992adc6"
  },
  {
   "cell_type": "code",
   "outputs": [],
   "source": [],
   "metadata": {
    "collapsed": false
   },
   "id": "fa1333e5ea8a58a1",
   "execution_count": 0
  },
  {
   "cell_type": "markdown",
   "source": [
    "### Plot the evolution of the top 5 (comulattive, i.e., all times) female names"
   ],
   "metadata": {
    "collapsed": false
   },
   "id": "e04656ee5170d9a6"
  },
  {
   "cell_type": "code",
   "outputs": [],
   "source": [],
   "metadata": {
    "collapsed": false
   },
   "id": "688d15d3ad79f7cd",
   "execution_count": 0
  },
  {
   "cell_type": "markdown",
   "source": [
    "### Plot the comulative registration of the name Olivia in the states NY, NV, NM, Nj, and NH. "
   ],
   "metadata": {
    "collapsed": false
   },
   "id": "7f3c069078c3a76f"
  },
  {
   "cell_type": "code",
   "outputs": [],
   "source": [],
   "metadata": {
    "collapsed": false
   },
   "id": "df3e64c6368ee697"
  }
 ],
 "metadata": {
  "kernelspec": {
   "display_name": "Python 3",
   "language": "python",
   "name": "python3"
  },
  "language_info": {
   "codemirror_mode": {
    "name": "ipython",
    "version": 2
   },
   "file_extension": ".py",
   "mimetype": "text/x-python",
   "name": "python",
   "nbconvert_exporter": "python",
   "pygments_lexer": "ipython2",
   "version": "2.7.6"
  }
 },
 "nbformat": 4,
 "nbformat_minor": 5
}
