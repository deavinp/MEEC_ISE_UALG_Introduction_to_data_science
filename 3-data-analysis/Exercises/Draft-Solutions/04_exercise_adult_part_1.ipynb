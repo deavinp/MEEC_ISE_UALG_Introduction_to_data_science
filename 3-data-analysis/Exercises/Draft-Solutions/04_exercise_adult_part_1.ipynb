{
 "cells": [
  {
   "cell_type": "markdown",
   "metadata": {},
   "source": [
    "# Adult dataset\n",
    "\n",
    "## Load and first look at the dataset\n",
    "Consider the adult dataset available at https://archive.ics.uci.edu/ml/datasets/Adult, also on the `data` folder. The dataset was extracted by Barry Becker from the 1994 Census database. \n",
    "\n",
    "A set of reasonably clean records was extracted using the following conditions: ((AAGE>16) && (AGI>100) && (AFNLWGT>1) && (HRSWK>0)) [AGI - Adjusted Gross Income]\n",
    "\n",
    "### Load the dataset and show the first 10 samples."
   ]
  },
  {
   "cell_type": "code",
   "execution_count": null,
   "metadata": {},
   "outputs": [],
   "source": [
    "import pandas as pd\n",
    "import numpy as np\n",
    "import matplotlib.pyplot as plt\n",
    "import seaborn as sns\n",
    "import pandas_bokeh\n",
    "pandas_bokeh.output_notebook()\n",
    "\n",
    "\n",
    "df = pd.read_csv('./../../data/adult/adult.csv')\n",
    "df.head(10)"
   ]
  },
  {
   "cell_type": "markdown",
   "metadata": {},
   "source": [
    "### How many samples has the dataset?"
   ]
  },
  {
   "cell_type": "code",
   "execution_count": null,
   "metadata": {},
   "outputs": [],
   "source": [
    "print(f'The dataset has {df.shape[0]} samples')"
   ]
  },
  {
   "cell_type": "markdown",
   "metadata": {},
   "source": [
    "### Check the dataset's columns\n",
    "Check that the dataset has 15 columns:\n",
    "- age: continuous.\n",
    "- workclass: Private, Self-emp-not-inc, Self-emp-inc, Federal-gov, Local-gov, State-gov, Without-pay, Never-worked.\n",
    "- fnlwgt: continuous. Represents the sampling weight assigned to each observation in the dataset. It is used to adjust for the fact that some observations in the dataset may represent a larger portion of the population than others.\n",
    "- education: Bachelors, Some-college, 11th, HS-grad, Prof-school, Assoc-acdm, Assoc-voc, 9th, 7th-8th, 12th, Masters, 1st-4th, 10th, Doctorate, 5th-6th, Preschool.\n",
    "- education-num: continuous. Represents the number of years of education that a person has completed.\n",
    "- marital-status: Married-civ-spouse, Divorced, Never-married, Separated, Widowed, Married-spouse-absent, Married-AF-spouse.\n",
    "- occupation: Tech-support, Craft-repair, Other-service, Sales, Exec-managerial, Prof-specialty, Handlers-cleaners, Machine-op-inspct, Adm-clerical, Farming-fishing, Transport-moving, Priv-house-serv, Protective-serv, Armed-Forces.\n",
    "- relationship: Wife, Own-child, Husband, Not-in-family, Other-relative, Unmarried.\n",
    "- race: White, Asian-Pac-Islander, Amer-Indian-Eskimo, Other, Black.\n",
    "- sex: Female, Male.\n",
    "- capital-gain: continuous. Represents the capital gains for a person, from investment sources other than wage/salary.\n",
    "- capital-loss: continuous. Represents the capital losses for a person,  from investment sources other than wage/salary.\n",
    "- hours-per-week: continuous. Represents the hours per week that a person works.\n",
    "- native-country: United-States, Cambodia, England, Puerto-Rico, Canada, Germany, Outlying-US(Guam-USVI-etc), India, Japan, Greece, South, China, Cuba, Iran, Honduras, Philippines, Italy, Poland, Jamaica, Vietnam, Mexico, Portugal, Ireland, France, Dominican-Republic, Laos, Ecuador, Taiwan, Haiti, Columbia, Hungary, Guatemala, Nicaragua, Scotland, Thailand, Yugoslavia, El-Salvador, Trinadad&Tobago, Peru, Hong, Holand-Netherlands.\n",
    "- income: >50K, <=50K. Represents whether a person makes more or less than 50K a year.\n"
   ]
  },
  {
   "cell_type": "code",
   "execution_count": null,
   "metadata": {},
   "outputs": [],
   "source": [
    "df.info()"
   ]
  },
  {
   "cell_type": "markdown",
   "metadata": {},
   "source": [
    "### Add a column with the weight of each sample. Show the samples with the highest weight.\n",
    "The weight is the fnlwgt divided by the sum of all fnlwgt.\n",
    "Unless asked otherwise, all the following exercises should be done __without__ using the weighted data."
   ]
  },
  {
   "cell_type": "code",
   "execution_count": null,
   "metadata": {},
   "outputs": [],
   "source": [
    "df['weight'] = df['fnlwgt']/df['fnlwgt'].sum()\n",
    "df.sort_values('weight', ascending=False).head(100)"
   ]
  },
  {
   "cell_type": "markdown",
   "metadata": {},
   "source": [
    "### Separate the dataset into two datasets, one for men and one for women. How many samples are in each dataset? Which gender has more samples? Can you guess why?"
   ]
  },
  {
   "cell_type": "code",
   "execution_count": null,
   "metadata": {},
   "outputs": [],
   "source": [
    "mask_men = df['gender']=='Male'\n",
    "df_men = df[mask_men]\n",
    "\n",
    "mask_women = df['gender']=='Female'\n",
    "df_women = df[mask_women]\n",
    "\n",
    "print(f'Men population size is {df_men.shape[0]} and women population size is {df_women.shape[0]}')"
   ]
  },
  {
   "cell_type": "markdown",
   "metadata": {},
   "source": [
    "### Get dataframes with the men and women that have a high income (>50K) "
   ]
  },
  {
   "cell_type": "code",
   "execution_count": null,
   "metadata": {},
   "outputs": [],
   "source": [
    "mask_high_income = df['income']=='>50K'\n",
    "\n",
    "df_men_high_income = df[mask_men & mask_high_income]\n",
    "df_women_high_income = df[mask_women & mask_high_income]\n",
    "\n",
    "print('Example of men with high income')\n",
    "df_men_high_income.head(5)"
   ]
  },
  {
   "cell_type": "markdown",
   "metadata": {},
   "source": [
    "### What is the rate of people with high income (>50K)? And the weighted rate of people with high income?"
   ]
  },
  {
   "cell_type": "code",
   "execution_count": null,
   "metadata": {},
   "outputs": [],
   "source": [
    "rate_high_income = df[mask_high_income].shape[0]/df.shape[0]\n",
    "print(\"The rate of people with high income is:\", rate_high_income)"
   ]
  },
  {
   "cell_type": "markdown",
   "source": [
    "Or simply:"
   ],
   "metadata": {
    "collapsed": false
   }
  },
  {
   "cell_type": "code",
   "outputs": [],
   "source": [
    "sum(mask_high_income)/df.shape[0]"
   ],
   "metadata": {
    "collapsed": false
   },
   "execution_count": null
  },
  {
   "cell_type": "markdown",
   "source": [
    "And the weighted rate:"
   ],
   "metadata": {
    "collapsed": false
   }
  },
  {
   "cell_type": "code",
   "execution_count": null,
   "metadata": {},
   "outputs": [],
   "source": [
    "rate_high_income_weighted = df.loc[mask_high_income].weight.sum() / df.weight.sum()\n",
    "print(\"The weighted rate of people with high income is:\", rate_high_income_weighted)"
   ]
  },
  {
   "cell_type": "markdown",
   "metadata": {},
   "source": [
    "### What is the rate of men with high income (>50K)? and of women with high income?"
   ]
  },
  {
   "cell_type": "code",
   "execution_count": null,
   "metadata": {},
   "outputs": [],
   "source": [
    "print('The rate of people with high income is:',  df[mask_high_income].shape[0]/df.shape[0])\n",
    "print('The rate of men with high income is:',  df_men_high_income.shape[0]/df_men.shape[0])\n",
    "print('The rate of women with high income is:', df_women_high_income.shape[0]/df_women.shape[0])"
   ]
  },
  {
   "cell_type": "markdown",
   "metadata": {},
   "source": [
    "### Plot the distribution of the ages for males and females in the same histogram."
   ]
  },
  {
   "cell_type": "code",
   "execution_count": null,
   "metadata": {},
   "outputs": [],
   "source": [
    "number_of_bins = df['age'].max() - df['age'].min() + 1\n",
    "\n",
    "ax = df.loc[mask_men, 'age'].plot.hist(alpha=0.5, bins=number_of_bins)\n",
    "df.loc[mask_women, 'age'].plot.hist(alpha=0.5, ax=ax, bins=number_of_bins)\n",
    "ax.legend(['Male', 'Female'])"
   ]
  },
  {
   "cell_type": "markdown",
   "metadata": {},
   "source": [
    "### Plot the distributions when combining the age and income, i.e., plot the age distribution of the men with high income and the men with low income, the women with high income and the women with low income."
   ]
  },
  {
   "cell_type": "code",
   "execution_count": null,
   "metadata": {},
   "outputs": [],
   "source": [
    "ax = df.loc[mask_men & mask_high_income, 'age'].plot.hist(alpha=0.9, bins=number_of_bins)\n",
    "df.loc[mask_men & ~mask_high_income, 'age'].plot.hist(ax=ax, alpha=0.3, bins=number_of_bins)\n",
    "df.loc[~mask_men & mask_high_income, 'age'].plot.hist(ax=ax, alpha=0.9, bins=number_of_bins)\n",
    "df.loc[~mask_men & ~mask_high_income, 'age'].plot.hist(ax=ax, alpha=0.3, bins=number_of_bins)\n",
    "ax.legend(['Male with high income','Male with low income','Female with high income','Female with low income', ])"
   ]
  },
  {
   "cell_type": "markdown",
   "metadata": {},
   "source": [
    "## Group and pivot tables\n",
    "### How many samples can you find per native-country?"
   ]
  },
  {
   "cell_type": "code",
   "execution_count": null,
   "metadata": {},
   "outputs": [],
   "source": [
    "df['native-country'].groupby(df['native-country']).count().sort_values(ascending=False)"
   ]
  },
  {
   "cell_type": "code",
   "execution_count": null,
   "metadata": {},
   "outputs": [],
   "source": [
    "df.pivot_table(index='native-country', values='income', aggfunc='count').sort_values(by='income', ascending=False)"
   ]
  },
  {
   "cell_type": "markdown",
   "metadata": {},
   "source": [
    "### Build a pivot table with the age as index and the income as values and count aggfunc. Plot the result. What can you conclude?"
   ]
  },
  {
   "cell_type": "code",
   "execution_count": null,
   "metadata": {},
   "outputs": [],
   "source": [
    "df.pivot_table(index=['age'], values='income', aggfunc='count')"
   ]
  },
  {
   "cell_type": "code",
   "execution_count": null,
   "metadata": {},
   "outputs": [],
   "source": [
    "df.pivot_table(index=['age'], values='income', aggfunc='count').plot_bokeh()\n"
   ]
  },
  {
   "cell_type": "markdown",
   "metadata": {},
   "source": [
    "### What the average working hours per week for the low and high income groups?"
   ]
  },
  {
   "cell_type": "code",
   "execution_count": null,
   "metadata": {},
   "outputs": [],
   "source": [
    "df.pivot_table(index=['income'], values='hours-per-week', aggfunc='mean')"
   ]
  },
  {
   "cell_type": "markdown",
   "metadata": {},
   "source": [
    "### What is the average working hours per week depending on the native-country?"
   ]
  },
  {
   "cell_type": "code",
   "execution_count": null,
   "metadata": {},
   "outputs": [],
   "source": [
    "df.pivot_table(index=['native-country'], values='hours-per-week', aggfunc='mean').sort_values('hours-per-week', ascending=False)"
   ]
  },
  {
   "cell_type": "markdown",
   "metadata": {},
   "source": [
    "### What is the average working hours per week depending on the marital-status?"
   ]
  },
  {
   "cell_type": "code",
   "execution_count": null,
   "metadata": {},
   "outputs": [],
   "source": [
    "df.pivot_table(index=['marital-status'], values='hours-per-week', aggfunc='mean').sort_values('hours-per-week', ascending=False)"
   ]
  },
  {
   "cell_type": "markdown",
   "metadata": {},
   "source": [
    "### What is the marital-status based in the number of educational years? and the reverse?\n",
    "\n",
    "Answer question such as:\n",
    "- What is the percentage of people with 10 years of education that are married?\n",
    "- What is most common marital status for people with 7 years of education? and 16?\n",
    "- what is the percentage of people with 10 years of education that are married?\n",
    "- etc."
   ]
  },
  {
   "cell_type": "code",
   "execution_count": null,
   "metadata": {},
   "outputs": [],
   "source": [
    "pt = df.pivot_table(index='educational-num',  aggfunc='count', columns='marital-status', values='age')#, margins=True)\n",
    "pt"
   ]
  },
  {
   "cell_type": "code",
   "execution_count": null,
   "metadata": {},
   "outputs": [],
   "source": [
    "sns.heatmap((pt.div(pt.sum(axis=1), axis=0) * 100), annot=True, cmap='coolwarm')"
   ]
  },
  {
   "cell_type": "code",
   "execution_count": null,
   "metadata": {},
   "outputs": [],
   "source": [
    "sns.heatmap((pt.T.div(pt.T.sum(axis=1), axis=0) * 100), annot=True, cmap='coolwarm')"
   ]
  },
  {
   "cell_type": "code",
   "execution_count": null,
   "metadata": {},
   "outputs": [],
   "source": [
    "sns.heatmap((pt.div(pt.sum(axis=0), axis=1) * 100), annot=True, cmap='coolwarm')"
   ]
  },
  {
   "cell_type": "markdown",
   "metadata": {},
   "source": [
    "### What is the more common type of income based on the marital status?"
   ]
  },
  {
   "cell_type": "code",
   "execution_count": null,
   "metadata": {},
   "outputs": [],
   "source": [
    "pt = df.pivot_table(index='marital-status',  aggfunc='count', columns='income', values='age')\n",
    "pt"
   ]
  },
  {
   "cell_type": "code",
   "execution_count": null,
   "metadata": {},
   "outputs": [],
   "source": [
    "pt.idxmax(axis=1)"
   ]
  },
  {
   "cell_type": "markdown",
   "metadata": {},
   "source": [
    "### What is the type of income based in the number of educational years?"
   ]
  },
  {
   "cell_type": "code",
   "execution_count": null,
   "metadata": {},
   "outputs": [],
   "source": [
    "pt = df.pivot_table(index=['educational-num'], values='education', columns='income', aggfunc='count', margins=True)\n",
    "pt"
   ]
  },
  {
   "cell_type": "markdown",
   "metadata": {},
   "source": [
    "### Based on the number of years of education and income what is the best education level to have high income?"
   ]
  },
  {
   "cell_type": "code",
   "execution_count": null,
   "metadata": {},
   "outputs": [],
   "source": [
    "pt['>50K']/pt['All']"
   ]
  },
  {
   "cell_type": "code",
   "execution_count": null,
   "metadata": {},
   "outputs": [],
   "source": [
    "print('The best education level to have high income is', (pt['>50K']/pt['All']).idxmax(), 'years with a rate of', (pt['>50K']/pt['All']).max())"
   ]
  },
  {
   "cell_type": "markdown",
   "metadata": {},
   "source": [
    "## Central tendency measures\n",
    "### What is the mean age of the population? and the weighted mean age?"
   ]
  },
  {
   "cell_type": "code",
   "execution_count": null,
   "metadata": {},
   "outputs": [],
   "source": [
    "mean_age = df['age'].mean()\n",
    "weighted_mean_age = (df['age']*df['weight']).sum()\n",
    "\n",
    "print(f'The mean age is {mean_age} and the weighted mean age is {weighted_mean_age}')"
   ]
  },
  {
   "cell_type": "markdown",
   "metadata": {},
   "source": [
    "### What is the average age of the women? of the men? and of the whole dataset?"
   ]
  },
  {
   "cell_type": "code",
   "execution_count": null,
   "metadata": {},
   "outputs": [],
   "source": [
    "print('The average age of women is', df_women['age'].mean())\n",
    "print('The average age of men is', df_men['age'].mean())\n",
    "print('The average age of population', df['age'].mean())"
   ]
  },
  {
   "cell_type": "markdown",
   "metadata": {},
   "source": [
    "### What is the average age of men with high income? of the women? and of the whole dataset?"
   ]
  },
  {
   "cell_type": "code",
   "execution_count": null,
   "metadata": {},
   "outputs": [],
   "source": [
    "print('The average age of women with high income is', df.loc[mask_women & mask_high_income, 'age'].mean())\n",
    "print('The average age of men with high income is', df.loc[mask_men & mask_high_income, 'age'].mean())\n",
    "print('The average age of population with high income is', df.loc[mask_high_income, 'age'].mean())"
   ]
  },
  {
   "cell_type": "markdown",
   "metadata": {},
   "source": [
    "### What is the median age of men with high income? and of men with low income? and of men's population?"
   ]
  },
  {
   "cell_type": "code",
   "execution_count": null,
   "metadata": {},
   "outputs": [],
   "source": [
    "print('The median age of men is', df['age'].median())\n",
    "print('The median age of men with low income is', df.loc[~(mask_men & mask_high_income), 'age'].median())\n",
    "print('The median age of men with high income is', df.loc[mask_men & mask_high_income, 'age'].median())\n"
   ]
  },
  {
   "cell_type": "markdown",
   "metadata": {},
   "source": [
    "### What is the mode of marital status? Plot the bar plot of the marital status to confirm the result."
   ]
  },
  {
   "cell_type": "code",
   "execution_count": null,
   "metadata": {},
   "outputs": [],
   "source": [
    "df['marital-status'].mode()"
   ]
  },
  {
   "cell_type": "code",
   "execution_count": null,
   "metadata": {},
   "outputs": [],
   "source": [
    "df['marital-status'].value_counts().plot_bokeh(kind='bar',\n",
    "                                               title='Marital status',\n",
    "                                               xlabel='Marital status',\n",
    "                                               ylabel='Count',\n",
    "                                               figsize=(1000, 400)\n",
    "                                               )"
   ]
  },
  {
   "cell_type": "markdown",
   "metadata": {},
   "source": [
    "## Dispersion measures\n",
    "### Find the first and third quartile of the age of the population. What is the interquartile range?"
   ]
  },
  {
   "cell_type": "code",
   "execution_count": null,
   "metadata": {},
   "outputs": [],
   "source": [
    "q1, q3 = df['age'].quantile([0.25, 0.75])\n",
    "iqr = q3-q1\n",
    "\n",
    "print(f'Q1: {q1}, Q3: {q3}, IQR: {iqr}')"
   ]
  },
  {
   "cell_type": "markdown",
   "metadata": {},
   "source": [
    "### Being $\\mu$ the mean age and $\\sigma$ the standard deviation of age of the population, how many samples are in the interval $[\\mu-\\sigma, \\mu+\\sigma$]? What is the correponding percentage of the population?"
   ]
  },
  {
   "cell_type": "code",
   "execution_count": null,
   "metadata": {},
   "outputs": [],
   "source": [
    "mu, sigma= df['age'].mean(), df['age'].std()\n",
    "\n",
    "low, high = mu-sigma, mu+sigma\n",
    "\n",
    "count = df[(df['age']>=low) & (df['age']<=high)].shape[0]\n",
    "print(f'The number of samples in the interval [{low}, {high}] is {count}, corresponding to {count/df.shape[0]*100:.1f} % of the population')"
   ]
  },
  {
   "cell_type": "markdown",
   "metadata": {},
   "source": [
    "### What is the features with higher standard deviation?"
   ]
  },
  {
   "cell_type": "code",
   "execution_count": null,
   "metadata": {},
   "outputs": [],
   "source": [
    "df.select_dtypes(include=np.number).std().sort_values(ascending=False)"
   ]
  },
  {
   "cell_type": "markdown",
   "metadata": {},
   "source": [
    "### What is the work class with higher age standard deviation?"
   ]
  },
  {
   "cell_type": "code",
   "execution_count": null,
   "metadata": {},
   "outputs": [],
   "source": [
    "df.groupby('workclass')['age'].std().sort_values(ascending=False)"
   ]
  },
  {
   "cell_type": "markdown",
   "metadata": {},
   "source": [
    "### What is the ocupation with higher working hours standard deviation? What is the minimum and maximum working hours for each occupation? Plot the hours-per-week box plot for each occupation."
   ]
  },
  {
   "cell_type": "code",
   "execution_count": null,
   "metadata": {},
   "outputs": [],
   "source": [
    "df.groupby('occupation')['hours-per-week'].std().sort_values(ascending=False)"
   ]
  },
  {
   "cell_type": "code",
   "execution_count": null,
   "metadata": {},
   "outputs": [],
   "source": [
    "df.pivot_table(index='occupation', values='hours-per-week', aggfunc=['min', 'max', 'std']).sort_values(by=('std', 'hours-per-week'), ascending=False)"
   ]
  },
  {
   "cell_type": "code",
   "execution_count": null,
   "metadata": {},
   "outputs": [],
   "source": [
    "df[['occupation', 'hours-per-week']].boxplot(by='occupation', figsize=(25, 8))"
   ]
  },
  {
   "cell_type": "markdown",
   "metadata": {},
   "source": [
    "### What is the hours-per-week standard deviation for each workclass? Plot the hours-per-week box plot for each workclass."
   ]
  },
  {
   "cell_type": "code",
   "execution_count": null,
   "metadata": {},
   "outputs": [],
   "source": [
    "df.groupby('workclass')['hours-per-week'].std().sort_values(ascending=False)"
   ]
  },
  {
   "cell_type": "code",
   "execution_count": null,
   "metadata": {},
   "outputs": [],
   "source": [
    "df[['workclass', 'hours-per-week']].boxplot(by='workclass', figsize=(25, 8))"
   ]
  },
  {
   "cell_type": "markdown",
   "metadata": {},
   "source": [
    "## Skewness and kurtosis\n",
    "\n",
    "### Without plotting the histograms, is the population's age skewed to the left or to the right? What if it is restricted to low or high income? Present yout conclusions."
   ]
  },
  {
   "cell_type": "code",
   "execution_count": null,
   "metadata": {},
   "outputs": [],
   "source": [
    "pop_skew = df['age'].skew()\n",
    "high_income_skew = df.loc[mask_high_income, 'age'].skew()\n",
    "low_income_skew = df.loc[~mask_high_income, 'age'].skew()\n",
    "\n",
    "print(f'The median age of the population is {df[\"age\"].median()}, the mean age is {df[\"age\"].mean()} and the skew is {pop_skew}')\n",
    "print(f'The median age of the high income population is {df.loc[mask_high_income, \"age\"].median()}, the mean is {df.loc[mask_high_income, \"age\"].mean()} and the skew is {high_income_skew}')\n",
    "print(f'The median age of the low income population is {df.loc[~mask_high_income, \"age\"].median()}, the mean age is {df.loc[~mask_high_income, \"age\"].mean()} and the skew is {low_income_skew}')"
   ]
  },
  {
   "cell_type": "markdown",
   "metadata": {},
   "source": [
    "### Plot the histogram of the age of the population, of the high income population and of the low income population to confirm the previous conclusions."
   ]
  },
  {
   "cell_type": "code",
   "execution_count": null,
   "metadata": {},
   "outputs": [],
   "source": [
    "fig, axes = plt.subplots(1,3, figsize=(15,5))\n",
    "df['age'].plot.hist(ax=axes[0], title=f'Population (skew = {pop_skew:.2f})')\n",
    "df.loc[~mask_high_income, \"age\"].plot.hist(ax=axes[1], title=f'Low income population (skew = {low_income_skew:.2f})')\n",
    "df.loc[mask_high_income, \"age\"].plot.hist(ax=axes[2], title=f'High income population (skew = {high_income_skew:.2f})')"
   ]
  },
  {
   "cell_type": "markdown",
   "metadata": {},
   "source": [
    "All have positive skew, so the population is skewed to the right in all cases. Also, being the median smaller than the mean, gives the clue that the distribution is right skewed."
   ]
  }
 ],
 "metadata": {
  "kernelspec": {
   "display_name": "Python 3 (ipykernel)",
   "language": "python",
   "name": "python3"
  },
  "language_info": {
   "codemirror_mode": {
    "name": "ipython",
    "version": 3
   },
   "file_extension": ".py",
   "mimetype": "text/x-python",
   "name": "python",
   "nbconvert_exporter": "python",
   "pygments_lexer": "ipython3",
   "version": "3.9.13"
  }
 },
 "nbformat": 4,
 "nbformat_minor": 1
}
