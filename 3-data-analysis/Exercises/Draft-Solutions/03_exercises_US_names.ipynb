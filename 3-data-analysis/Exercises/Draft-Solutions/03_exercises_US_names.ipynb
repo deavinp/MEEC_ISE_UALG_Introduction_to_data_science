{
 "cells": [
  {
   "cell_type": "markdown",
   "source": [
    "# Dataframe exercises"
   ],
   "metadata": {
    "collapsed": false
   },
   "id": "f96cea2ae3cfe799"
  },
  {
   "cell_type": "markdown",
   "source": [
    "## Exercise - US Baby Names\n",
    "\n",
    "The folder '3-data-analysis/data/names' contains files with the names registered in the US from  1880 to 2021. Use Pandas to do the following tasks."
   ],
   "metadata": {
    "collapsed": false
   },
   "id": "24f69c2469f4894e"
  },
  {
   "cell_type": "markdown",
   "source": [
    "### Join the data in the files in a single dataframe (e.g., a name by row)"
   ],
   "metadata": {
    "collapsed": false
   },
   "id": "47883689069b0972"
  },
  {
   "cell_type": "code",
   "outputs": [],
   "source": [
    "import pandas as pd\n",
    "\n",
    "df_names = pd.DataFrame(columns=['name', 'gender']).set_index(['name', 'gender'])\n",
    "\n",
    "for year in range(1880, 2022):\n",
    "    df_temp = pd.read_csv(f'./../../data/names/yob{year}.txt', header=None, names=['name', 'gender', year]).set_index(['name', 'gender'])\n",
    "    df_names = pd.merge(df_names, df_temp, left_index=True, right_index=True, how='outer')\n",
    "\n",
    "df_names.fillna(0, inplace=True)\n",
    "df_names"
   ],
   "metadata": {
    "collapsed": false
   },
   "id": "4d127224294b1384",
   "execution_count": null
  },
  {
   "cell_type": "markdown",
   "source": [
    "### Find the name most registered since 1880"
   ],
   "metadata": {
    "collapsed": false
   },
   "id": "446860fa971b19cd"
  },
  {
   "cell_type": "code",
   "outputs": [],
   "source": [
    "name = df_names.sum(axis=1).idxmax()\n",
    "number_of_registrations = df_names.sum(axis=1).max()\n",
    "\n",
    "print(f'The name {name} was registered {number_of_registrations} times since 1880')"
   ],
   "metadata": {
    "collapsed": false
   },
   "id": "ce2ee38f927d1a24",
   "execution_count": null
  },
  {
   "cell_type": "markdown",
   "source": [
    "### The name less registered since 1880"
   ],
   "metadata": {
    "collapsed": false
   },
   "id": "e50add83966831ea"
  },
  {
   "cell_type": "code",
   "outputs": [],
   "source": [
    "name = df_names.sum(axis=1).idxmin()\n",
    "number_of_registrations = df_names.sum(axis=1).min()\n",
    "\n",
    "print(f'The name {name} was registered {number_of_registrations} times since 1880')"
   ],
   "metadata": {
    "collapsed": false
   },
   "id": "af077c0a6abbfaf9",
   "execution_count": null
  },
  {
   "cell_type": "markdown",
   "source": [
    "### Find the name most registered by year"
   ],
   "metadata": {
    "collapsed": false
   },
   "id": "f7d7d2b10b24184e"
  },
  {
   "cell_type": "code",
   "outputs": [],
   "source": [
    "df_names.idxmax(axis=0)"
   ],
   "metadata": {
    "collapsed": false
   },
   "id": "ad3a098acd31966c",
   "execution_count": null
  },
  {
   "cell_type": "markdown",
   "source": [
    "### Find the name most registered in the year 2000"
   ],
   "metadata": {
    "collapsed": false
   },
   "id": "e6d4bb040c7c5ae4"
  },
  {
   "cell_type": "code",
   "outputs": [],
   "source": [
    "name_most_registerd = df_names[2000].idxmax(axis=0)\n",
    "number_of_registrations = df_names.loc[name_most_registerd, 2000]\n",
    "\n",
    "print(f'The name {name_most_registerd} was registered {number_of_registrations} times in the year 2000')"
   ],
   "metadata": {
    "collapsed": false
   },
   "id": "6e32c62ae90c5096",
   "execution_count": null
  },
  {
   "cell_type": "markdown",
   "source": [
    "### Find the name less registered in the year 2000"
   ],
   "metadata": {
    "collapsed": false
   },
   "id": "9a954398a0815944"
  },
  {
   "cell_type": "code",
   "outputs": [],
   "source": [
    "# idxmin Return index of first occurrence of minimum over requested axis.\n",
    "df_names.idxmin(axis=0)[2000]"
   ],
   "metadata": {
    "collapsed": false
   },
   "id": "74ce3bef6c17dad1",
   "execution_count": null
  },
  {
   "cell_type": "markdown",
   "source": [
    "### Find the name most registered since 1880 by gender"
   ],
   "metadata": {
    "collapsed": false
   },
   "id": "52e787778c0b245"
  },
  {
   "cell_type": "code",
   "outputs": [],
   "source": [
    "df_names.sum(axis=1).groupby('gender').idxmax()"
   ],
   "metadata": {
    "collapsed": false
   },
   "id": "81d19b02014d1440",
   "execution_count": null
  },
  {
   "cell_type": "markdown",
   "source": [
    "### Plot the evolution of the registration of the name `Mary'"
   ],
   "metadata": {
    "collapsed": false
   },
   "id": "ee021623ad37cd4a"
  },
  {
   "cell_type": "code",
   "outputs": [],
   "source": [
    "df_names.loc[('Mary', 'F')].plot()"
   ],
   "metadata": {
    "collapsed": false
   },
   "id": "ff6fb22989274c43",
   "execution_count": null
  },
  {
   "cell_type": "markdown",
   "source": [
    "### Plot the evolution of the registration of the 10 most registered names"
   ],
   "metadata": {
    "collapsed": false
   },
   "id": "22f9f367a40dc059"
  },
  {
   "cell_type": "code",
   "outputs": [],
   "source": [
    "idx_top_10 = df_names.sum(axis=1).sort_values(ascending=False).head(10).index\n",
    "\n",
    "df_names.loc[idx_top_10].T.plot(figsize=(15, 5))"
   ],
   "metadata": {
    "collapsed": false
   },
   "id": "373feecda0a87955",
   "execution_count": null
  },
  {
   "cell_type": "code",
   "outputs": [],
   "source": [
    "#if you want to plot the cumulative sum of the top 10 names\n",
    "df_names.loc[idx_top_10].cumsum(axis=1).T.plot(figsize=(15, 5))"
   ],
   "metadata": {
    "collapsed": false
   },
   "id": "ee7cdf368c295d56",
   "execution_count": null
  },
  {
   "cell_type": "markdown",
   "source": [
    "## Exercise - US Baby Names by State\n",
    "\n",
    "The folder '4-data-analysis/data/namesbystate' contains files with \"State-specific data on the relative frequency of given names in the population of U.S. births where the individual has a Social Security Number\""
   ],
   "metadata": {
    "collapsed": false
   },
   "id": "e7ed1ec0cda5a83f"
  },
  {
   "cell_type": "markdown",
   "source": [
    "### Load the data into a single dataframe: what is the best structure?"
   ],
   "metadata": {
    "collapsed": false
   },
   "id": "16d129ea145190f2"
  },
  {
   "cell_type": "code",
   "outputs": [],
   "source": [
    "import glob\n",
    "\n",
    "def process_state_file(filename):\n",
    "    df_temp = pd.read_csv(filename, header=None, names=['state', 'gender', 'year', 'name', 'count']) \\\n",
    "        .set_index(['state', 'name', 'gender'])\n",
    "\n",
    "    df_state = pd.DataFrame(columns=['state', 'name','gender']) \\\n",
    "        .set_index(['state', 'name','gender'])\n",
    "\n",
    "    for year in df_temp.year.unique():\n",
    "        mask = df_temp.year == year\n",
    "        df_state = pd.merge(\n",
    "            df_state,\n",
    "            df_temp.loc[mask, 'count'].rename(year),\n",
    "            left_index=True, right_index=True,\n",
    "            how='outer')\n",
    "    return df_state\n",
    "\n",
    "\n",
    "df_names = pd.DataFrame(columns=['name', 'gender', 'state']).set_index(['state', 'name', 'gender'])\n",
    "\n",
    "for file in glob.glob('./../../data/namesbystate/*.TXT'):\n",
    "    print(file)\n",
    "    df_state = process_state_file(file)\n",
    "    df_names = pd.concat([df_names, df_state])\n",
    "\n",
    "df_names.fillna(0, inplace=True)\n",
    "\n",
    "# df_n To get a de-fragmented frame use df_names.copy()\n",
    "df_names = df_names.copy()\n",
    "df_names"
   ],
   "metadata": {
    "collapsed": false
   },
   "id": "91f6290019758954",
   "execution_count": null
  },
  {
   "cell_type": "code",
   "outputs": [],
   "source": [],
   "metadata": {
    "collapsed": false
   },
   "id": "3edc5ed76d043b9a",
   "execution_count": null
  },
  {
   "cell_type": "markdown",
   "source": [
    "### Get the registration of females for NY"
   ],
   "metadata": {
    "collapsed": false
   },
   "id": "1f4d99e7f810b0c2"
  },
  {
   "cell_type": "code",
   "outputs": [],
   "source": [
    "df_names.reset_index(inplace=True)"
   ],
   "metadata": {
    "collapsed": false
   },
   "id": "cb0828d6544b1b5a",
   "execution_count": null
  },
  {
   "cell_type": "code",
   "outputs": [],
   "source": [
    "mask = (df_names.state == 'NY') & (df_names.gender == 'F')\n",
    "df_names[mask]"
   ],
   "metadata": {
    "collapsed": false
   },
   "id": "83aa3f4ae1efed9",
   "execution_count": null
  },
  {
   "cell_type": "markdown",
   "source": [
    "### How many females where registered in NY since the begining of the records?"
   ],
   "metadata": {
    "collapsed": false
   },
   "id": "a9a3e49a87a29f7b"
  },
  {
   "cell_type": "code",
   "outputs": [],
   "source": [
    "df_names[mask].select_dtypes('number').sum(axis=1).sum()"
   ],
   "metadata": {
    "collapsed": false
   },
   "id": "bfb98a89d1a11833",
   "execution_count": null
  },
  {
   "cell_type": "markdown",
   "source": [
    "### Get the registration of females named Olivia for NY"
   ],
   "metadata": {
    "collapsed": false
   },
   "id": "47efbc73b89ac267"
  },
  {
   "cell_type": "code",
   "outputs": [],
   "source": [
    "mask = (df_names.state == 'NY') & (df_names.gender == 'F') & (df_names.name == 'Olivia')\n",
    "df_names[mask]"
   ],
   "metadata": {
    "collapsed": false
   },
   "id": "b4e8309c534e2e6f",
   "execution_count": null
  },
  {
   "cell_type": "markdown",
   "source": [
    "### What was the minimum, maximum, average and 10th percentile of registrations of the name Olivia in NY?"
   ],
   "metadata": {
    "collapsed": false
   },
   "id": "2265a640ba9d5e43"
  },
  {
   "cell_type": "code",
   "outputs": [],
   "source": [
    "df_olivia = df_names[mask]\n",
    "min_registration = df_olivia.select_dtypes('number').min(axis=1).values[0]\n",
    "max_registration = df_olivia.select_dtypes('number').max(axis=1).values[0]\n",
    "avg_registration = df_olivia.select_dtypes('number').mean(axis=1).values[0]\n",
    "p10_registration = df_olivia.select_dtypes('number').quantile(0.1, axis=1).values[0]\n",
    "\n",
    "print(f'Min: {min_registration}, Max: {max_registration}, Avg: {avg_registration}, P10: {p10_registration}')"
   ],
   "metadata": {
    "collapsed": false
   },
   "id": "4d83adb6f9c1c6c",
   "execution_count": null
  },
  {
   "cell_type": "markdown",
   "source": [
    "### Find how many times \"Olivia\" was registered in NY in 2000"
   ],
   "metadata": {
    "collapsed": false
   },
   "id": "7f170fe05ad21dd"
  },
  {
   "cell_type": "code",
   "outputs": [],
   "source": [
    "mask = (df_names.state == 'NY') & (df_names.gender == 'F') & (df_names.name == 'Olivia')\n",
    "df_names[mask][2000]"
   ],
   "metadata": {
    "collapsed": false
   },
   "id": "55bec7aa5289e6c6",
   "execution_count": null
  },
  {
   "cell_type": "markdown",
   "source": [
    "### Find the year and state where Olivia was most times registered in a single year."
   ],
   "metadata": {
    "collapsed": false
   },
   "id": "5c0e748444ab4efc"
  },
  {
   "cell_type": "code",
   "outputs": [],
   "source": [
    "mask = (df_names.gender == 'F') & (df_names.name == 'Olivia')\n",
    "\n",
    "df_olivia = df_names[mask].set_index(['state', 'name', 'gender'])\n",
    "\n",
    "df_olivia"
   ],
   "metadata": {
    "collapsed": false
   },
   "id": "7a38556eadd1ae21",
   "execution_count": null
  },
  {
   "cell_type": "code",
   "outputs": [],
   "source": [
    "max_registration = df_olivia.max().max()\n",
    "max_registration"
   ],
   "metadata": {
    "collapsed": false
   },
   "id": "9c38e07bbd17d9d4",
   "execution_count": null
  },
  {
   "cell_type": "code",
   "outputs": [],
   "source": [
    "df_olivia[df_olivia == max_registration].stack()"
   ],
   "metadata": {
    "collapsed": false
   },
   "id": "5c6670741af079ab",
   "execution_count": null
  },
  {
   "cell_type": "markdown",
   "source": [
    "### Find the year where Olivia was most times registred (all states)"
   ],
   "metadata": {
    "collapsed": false
   },
   "id": "c93fcd8dc499f81a"
  },
  {
   "cell_type": "code",
   "outputs": [],
   "source": [],
   "metadata": {
    "collapsed": false
   },
   "id": "9cbf1e0ae0ccaac",
   "execution_count": null
  },
  {
   "cell_type": "markdown",
   "source": [
    "### Find the states where the name Mary and John were most times registered"
   ],
   "metadata": {
    "collapsed": false
   },
   "id": "414a02301790816f"
  },
  {
   "cell_type": "code",
   "outputs": [],
   "source": [
    "mask = df_names.name.isin(['Mary', 'John'])\n",
    "df_john_mary = df_names[mask].copy()\n",
    "df_john_mary"
   ],
   "metadata": {
    "collapsed": false
   },
   "id": "71227e02cb84a49a",
   "execution_count": null
  },
  {
   "cell_type": "code",
   "outputs": [],
   "source": [
    "df_john_mary['total'] = df_john_mary.select_dtypes('number').sum(axis=1)"
   ],
   "metadata": {
    "collapsed": false
   },
   "id": "2a39218867ae0394",
   "execution_count": null
  },
  {
   "cell_type": "code",
   "outputs": [],
   "source": [
    "df_john_mary[['state', 'name', 'gender', 'total']].groupby(['name', 'gender']).max()"
   ],
   "metadata": {
    "collapsed": false
   },
   "id": "fbdcc7730a48e4a8",
   "execution_count": null
  },
  {
   "cell_type": "markdown",
   "source": [
    "### Plot the evolution of the names Mary and John through the years"
   ],
   "metadata": {
    "collapsed": false
   },
   "id": "7da3b2aeb24c6a8f"
  },
  {
   "cell_type": "code",
   "outputs": [],
   "source": [
    "df_john_mary.drop('total', inplace=True, axis=1)"
   ],
   "metadata": {
    "collapsed": false
   },
   "id": "25cb8676b1c03257",
   "execution_count": null
  },
  {
   "cell_type": "code",
   "outputs": [],
   "source": [
    "df_john_mary.drop('state', axis=1).groupby(['name', 'gender']).sum().T.plot(figsize=(15, 5))"
   ],
   "metadata": {
    "collapsed": false
   },
   "id": "81660e70d0411863",
   "execution_count": null
  },
  {
   "cell_type": "markdown",
   "source": [
    "### Find the name most registered in a state for a single year"
   ],
   "metadata": {
    "collapsed": false
   },
   "id": "5424e466c992adc6"
  },
  {
   "cell_type": "code",
   "outputs": [],
   "source": [
    "max_registration = df_names.select_dtypes('number').max().max()\n",
    "max_registration"
   ],
   "metadata": {
    "collapsed": false
   },
   "id": "fa1333e5ea8a58a1",
   "execution_count": null
  },
  {
   "cell_type": "code",
   "outputs": [],
   "source": [
    "res = df_names[df_names == max_registration].stack().reset_index().values\n",
    "res"
   ],
   "metadata": {
    "collapsed": false
   },
   "id": "aa6ac35d43637695",
   "execution_count": null
  },
  {
   "cell_type": "code",
   "outputs": [],
   "source": [
    "idx, year, value = res[0] "
   ],
   "metadata": {
    "collapsed": false
   },
   "id": "4d853fd143748aba",
   "execution_count": null
  },
  {
   "cell_type": "code",
   "outputs": [],
   "source": [
    "df_names.loc[idx, ['state', 'name', year]]\n"
   ],
   "metadata": {
    "collapsed": false
   },
   "id": "2507ff2dbae70277",
   "execution_count": null
  },
  {
   "cell_type": "markdown",
   "source": [
    "### Plot the evolution of the top 5 (comulattive, i.e., all times) female names"
   ],
   "metadata": {
    "collapsed": false
   },
   "id": "e04656ee5170d9a6"
  },
  {
   "cell_type": "code",
   "outputs": [],
   "source": [
    "mask = df_names.gender == 'F'\n",
    "\n",
    "top5_names = df_names[mask].drop(['gender', 'state'], axis=1).groupby('name').sum().sum(axis=1).sort_values(ascending=False).head(5)\n",
    "\n",
    "top5_names"
   ],
   "metadata": {
    "collapsed": false
   },
   "id": "688d15d3ad79f7cd",
   "execution_count": null
  },
  {
   "cell_type": "code",
   "outputs": [],
   "source": [
    "female_mask = (df_names.name.isin(top5_names.index)) & (df_names.gender == 'F')\n",
    "\n",
    "df_names[female_mask].drop(['gender', 'state'], axis=1).groupby('name').sum().cumsum(axis=1).T.plot(figsize=(15, 5))"
   ],
   "metadata": {
    "collapsed": false
   },
   "id": "4637a80ce5f9425f",
   "execution_count": null
  },
  {
   "cell_type": "markdown",
   "source": [
    "### Plot the comulative registration of the name Olivia in the states NY, NV, NM, Nj, and NH. "
   ],
   "metadata": {
    "collapsed": false
   },
   "id": "7f3c069078c3a76f"
  },
  {
   "cell_type": "code",
   "outputs": [],
   "source": [],
   "metadata": {
    "collapsed": false
   },
   "id": "df3e64c6368ee697"
  }
 ],
 "metadata": {
  "kernelspec": {
   "display_name": "Python 3",
   "language": "python",
   "name": "python3"
  },
  "language_info": {
   "codemirror_mode": {
    "name": "ipython",
    "version": 2
   },
   "file_extension": ".py",
   "mimetype": "text/x-python",
   "name": "python",
   "nbconvert_exporter": "python",
   "pygments_lexer": "ipython2",
   "version": "2.7.6"
  }
 },
 "nbformat": 4,
 "nbformat_minor": 5
}
