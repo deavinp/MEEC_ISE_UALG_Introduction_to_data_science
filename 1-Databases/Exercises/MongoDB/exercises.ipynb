{
 "cells": [
  {
   "cell_type": "markdown",
   "source": [
    "# Users Database"
   ],
   "metadata": {
    "collapsed": false
   },
   "id": "a1afb7b5ec3458bc"
  },
  {
   "cell_type": "markdown",
   "source": [
    "## Create a MongoDB database called usersdb and a collection called users."
   ],
   "metadata": {
    "collapsed": false
   },
   "id": "20e153ed7a6905bb"
  },
  {
   "cell_type": "code",
   "outputs": [],
   "source": [],
   "metadata": {
    "collapsed": false,
    "ExecuteTime": {
     "end_time": "2024-03-04T12:05:37.890559Z",
     "start_time": "2024-03-04T12:05:37.888215Z"
    }
   },
   "id": "32f7a60e1d22ddea",
   "execution_count": null
  },
  {
   "cell_type": "markdown",
   "source": [
    "## Insert Documents\n",
    "Insert the documents in example.json into the users collection."
   ],
   "metadata": {
    "collapsed": false
   },
   "id": "acf8bb957aac9cc7"
  },
  {
   "cell_type": "code",
   "outputs": [],
   "source": [],
   "metadata": {
    "collapsed": false,
    "ExecuteTime": {
     "end_time": "2024-03-04T12:05:37.951669Z",
     "start_time": "2024-03-04T12:05:37.950106Z"
    }
   },
   "id": "811c1fa540a0ba4f",
   "execution_count": null
  },
  {
   "cell_type": "markdown",
   "source": [
    "## Read Documents: Retrieve all documents from the users collection."
   ],
   "metadata": {
    "collapsed": false
   },
   "id": "5006016ef43ac25a"
  },
  {
   "cell_type": "code",
   "outputs": [],
   "source": [],
   "metadata": {
    "collapsed": false,
    "ExecuteTime": {
     "end_time": "2024-03-04T12:05:37.960837Z",
     "start_time": "2024-03-04T12:05:37.959189Z"
    }
   },
   "id": "2a6eb296e354b083",
   "execution_count": null
  },
  {
   "cell_type": "markdown",
   "source": [
    "## Read Documents: Retrieve a specific user by their email address (e.g., 'sophia.rodriguez@example.com').\n"
   ],
   "metadata": {
    "collapsed": false
   },
   "id": "148546392f21c41c"
  },
  {
   "cell_type": "code",
   "outputs": [],
   "source": [],
   "metadata": {
    "collapsed": false,
    "ExecuteTime": {
     "end_time": "2024-03-04T12:05:37.963328Z",
     "start_time": "2024-03-04T12:05:37.961944Z"
    }
   },
   "id": "a073451a42819880",
   "execution_count": null
  },
  {
   "cell_type": "markdown",
   "source": [
    "## Update the birth date field of the user with the email address 'sophia.rodriguez@example.com'.\n",
    "\n",
    "check that the update was successful"
   ],
   "metadata": {
    "collapsed": false
   },
   "id": "53df196cb16e6141"
  },
  {
   "cell_type": "code",
   "outputs": [],
   "source": [],
   "metadata": {
    "collapsed": false,
    "ExecuteTime": {
     "end_time": "2024-03-04T12:05:37.965792Z",
     "start_time": "2024-03-04T12:05:37.964341Z"
    }
   },
   "id": "ef81ad3e809dcd30",
   "execution_count": null
  },
  {
   "cell_type": "markdown",
   "source": [
    "## Update the email field of another user document.\n",
    "E.g., \"james.hernandez@example.com\" to \"james.hernandez@gmail.com\""
   ],
   "metadata": {
    "collapsed": false
   },
   "id": "984a48fd8073c93b"
  },
  {
   "cell_type": "code",
   "outputs": [],
   "source": [],
   "metadata": {
    "collapsed": false,
    "ExecuteTime": {
     "end_time": "2024-03-04T12:05:37.968130Z",
     "start_time": "2024-03-04T12:05:37.966748Z"
    }
   },
   "id": "bb836a104a4cc61",
   "execution_count": null
  },
  {
   "cell_type": "markdown",
   "source": [
    "\n",
    "## Query users who are over 30 years old."
   ],
   "metadata": {
    "collapsed": false
   },
   "id": "f34d1c69f379ca03"
  },
  {
   "cell_type": "code",
   "outputs": [],
   "source": [],
   "metadata": {
    "collapsed": false,
    "ExecuteTime": {
     "end_time": "2024-03-04T12:05:37.975263Z",
     "start_time": "2024-03-04T12:05:37.973657Z"
    }
   },
   "id": "83813585e66aeb01",
   "execution_count": null
  },
  {
   "cell_type": "markdown",
   "source": [
    "\n",
    "## Query users whose name starts with a specific letter, e.g., 'J'."
   ],
   "metadata": {
    "collapsed": false
   },
   "id": "3e1e93c8eba4700f"
  },
  {
   "cell_type": "code",
   "outputs": [],
   "source": [],
   "metadata": {
    "collapsed": false,
    "ExecuteTime": {
     "end_time": "2024-03-04T12:05:37.997797Z",
     "start_time": "2024-03-04T12:05:37.996292Z"
    }
   },
   "id": "7f18b4a36b8171b8",
   "execution_count": null
  },
  {
   "cell_type": "markdown",
   "source": [
    "\n",
    "## Query users whose email contains a specific domain (e.g., 'gmail.com').\n"
   ],
   "metadata": {
    "collapsed": false
   },
   "id": "6840691fbbd645b3"
  },
  {
   "cell_type": "code",
   "outputs": [],
   "source": [],
   "metadata": {
    "collapsed": false,
    "ExecuteTime": {
     "end_time": "2024-03-04T12:05:38.024279Z",
     "start_time": "2024-03-04T12:05:38.022643Z"
    }
   },
   "id": "f51834e3cfaba405",
   "execution_count": null
  },
  {
   "cell_type": "markdown",
   "source": [
    "## Delete a user document based on their email address, like 'sophia.rodriguez@example.com'.\n"
   ],
   "metadata": {
    "collapsed": false
   },
   "id": "b948bcd3004165d1"
  },
  {
   "cell_type": "code",
   "outputs": [],
   "source": [],
   "metadata": {
    "collapsed": false,
    "ExecuteTime": {
     "end_time": "2024-03-04T12:05:38.068445Z",
     "start_time": "2024-03-04T12:05:38.066658Z"
    }
   },
   "id": "5b4f5d9187db56c7",
   "execution_count": null
  },
  {
   "cell_type": "markdown",
   "source": [
    "## Delete all users over a certain age."
   ],
   "metadata": {
    "collapsed": false
   },
   "id": "b1a6f55e51a5a3f7"
  },
  {
   "cell_type": "markdown",
   "source": [
    "# Weather Data Exercise\n",
    "Consider the data inserted into the weatherdb database by the following code."
   ],
   "metadata": {
    "collapsed": false
   },
   "id": "a9f12af8adc389b3"
  },
  {
   "cell_type": "code",
   "outputs": [
    {
     "data": {
      "text/plain": "<pymongo.results.InsertManyResult at 0x10490ec40>"
     },
     "execution_count": 1,
     "metadata": {},
     "output_type": "execute_result"
    }
   ],
   "source": [
    "import pymongo\n",
    "\n",
    "# Connect to MongoDB\n",
    "client = pymongo.MongoClient(\"mongodb://localhost:27017/\")\n",
    "db = client.weatherdb\n",
    "weather = db.weather\n",
    "\n",
    "# Sample data - list of 10 documents with weather information\n",
    "weather_data = [\n",
    "    {\"date\": \"2024-02-26\", \"temperature\": 20, \"humidity\": 60, \"wind_speed\": 5, \"location\": \"New York\"},\n",
    "    {\"date\": \"2024-02-26\", \"temperature\": 25, \"humidity\": 55, \"wind_speed\": 7, \"location\": \"Los Angeles\"},\n",
    "    {\"date\": \"2024-02-26\", \"temperature\": 18, \"humidity\": 70, \"wind_speed\": 4, \"location\": \"Chicago\"},\n",
    "    {\"date\": \"2024-02-26\", \"temperature\": 22, \"humidity\": 50, \"wind_speed\": 6, \"location\": \"Houston\"},\n",
    "    {\"date\": \"2024-02-26\", \"temperature\": 23, \"humidity\": 45, \"wind_speed\": 8, \"location\": \"Miami\"},\n",
    "    {\"date\": \"2024-02-26\", \"temperature\": 19, \"humidity\": 65, \"wind_speed\": 3, \"location\": \"San Francisco\"},\n",
    "    {\"date\": \"2024-02-26\", \"temperature\": 21, \"humidity\": 58, \"wind_speed\": 6, \"location\": \"Seattle\"},\n",
    "    {\"date\": \"2024-02-26\", \"temperature\": 24, \"humidity\": 52, \"wind_speed\": 7, \"location\": \"Dallas\"},\n",
    "    {\"date\": \"2024-02-26\", \"temperature\": 17, \"humidity\": 68, \"wind_speed\": 4, \"location\": \"Boston\"},\n",
    "    {\"date\": \"2024-02-26\", \"temperature\": 20, \"humidity\": 62, \"wind_speed\": 5, \"location\": \"Phoenix\"}\n",
    "]\n",
    "\n",
    "# Insert the weather data into the collection\n",
    "weather.insert_many(weather_data)"
   ],
   "metadata": {
    "collapsed": false,
    "ExecuteTime": {
     "end_time": "2024-03-04T12:05:38.149735Z",
     "start_time": "2024-03-04T12:05:38.070888Z"
    }
   },
   "id": "5ea5857e18ed4672",
   "execution_count": 1
  },
  {
   "cell_type": "markdown",
   "source": [
    "## Display all documents in the collection"
   ],
   "metadata": {
    "collapsed": false
   },
   "id": "8cb91360ecc6b00e"
  },
  {
   "cell_type": "code",
   "outputs": [],
   "source": [],
   "metadata": {
    "collapsed": false,
    "ExecuteTime": {
     "end_time": "2024-03-04T12:05:38.152729Z",
     "start_time": "2024-03-04T12:05:38.151063Z"
    }
   },
   "id": "92b89691346c93b2",
   "execution_count": 1
  },
  {
   "cell_type": "markdown",
   "source": [
    "\n",
    "## Query documents for a specific location (e.g., \"New York\")"
   ],
   "metadata": {
    "collapsed": false
   },
   "id": "c9f8c5e7a89db248"
  },
  {
   "cell_type": "code",
   "outputs": [],
   "source": [],
   "metadata": {
    "collapsed": false,
    "ExecuteTime": {
     "end_time": "2024-03-04T12:05:38.156068Z",
     "start_time": "2024-03-04T12:05:38.154048Z"
    }
   },
   "id": "b4cbac02bbdc3566",
   "execution_count": 1
  },
  {
   "cell_type": "markdown",
   "source": [
    "\n",
    "## Update the  document relative to \"Phoenix\" so humidity is 65"
   ],
   "metadata": {
    "collapsed": false
   },
   "id": "2fbd82f30dc2fbbe"
  },
  {
   "cell_type": "code",
   "outputs": [],
   "source": [],
   "metadata": {
    "collapsed": false,
    "ExecuteTime": {
     "end_time": "2024-03-04T12:05:38.159487Z",
     "start_time": "2024-03-04T12:05:38.157827Z"
    }
   },
   "id": "f1bfd8566d8c2518",
   "execution_count": 1
  },
  {
   "cell_type": "markdown",
   "source": [
    "## Find the maximum temperature"
   ],
   "metadata": {
    "collapsed": false
   },
   "id": "af28d39d8d0d5241"
  },
  {
   "cell_type": "code",
   "outputs": [],
   "source": [],
   "metadata": {
    "collapsed": false,
    "ExecuteTime": {
     "end_time": "2024-03-04T12:05:38.189856Z",
     "start_time": "2024-03-04T12:05:38.188264Z"
    }
   },
   "id": "7bbd3401c309d701",
   "execution_count": 1
  },
  {
   "cell_type": "markdown",
   "source": [
    "## Find the minimum humidity"
   ],
   "metadata": {
    "collapsed": false
   },
   "id": "1d916cdccc4a433a"
  },
  {
   "cell_type": "code",
   "outputs": [],
   "source": [],
   "metadata": {
    "collapsed": false,
    "ExecuteTime": {
     "end_time": "2024-03-04T12:05:38.230035Z",
     "start_time": "2024-03-04T12:05:38.228189Z"
    }
   },
   "id": "bf87f0cb19e95781",
   "execution_count": 1
  },
  {
   "cell_type": "markdown",
   "source": [
    "# find the average temperature\n",
    "See the aggregate function in the [https://www.mongodb.com/docs/manual/reference/operator/aggregation/](https://www.mongodb.com/docs/manual/reference/operator/aggregation/)"
   ],
   "metadata": {
    "collapsed": false
   },
   "id": "19e6b3f8ffe7ef50"
  },
  {
   "cell_type": "code",
   "outputs": [],
   "source": [],
   "metadata": {
    "collapsed": false,
    "ExecuteTime": {
     "end_time": "2024-03-04T12:05:38.260020Z",
     "start_time": "2024-03-04T12:05:38.258448Z"
    }
   },
   "id": "a92e34ada7c5b6aa",
   "execution_count": 1
  },
  {
   "cell_type": "markdown",
   "source": [
    "## Delete the document relative to \"Boston\"\n",
    "\n",
    "Check that the document was deleted using, e.g., the delete_count attribute of the result object."
   ],
   "metadata": {
    "collapsed": false
   },
   "id": "b1ab434db0fa065a"
  },
  {
   "cell_type": "code",
   "outputs": [],
   "source": [],
   "metadata": {
    "collapsed": false,
    "ExecuteTime": {
     "end_time": "2024-03-04T12:05:38.293526Z",
     "start_time": "2024-03-04T12:05:38.291629Z"
    }
   },
   "id": "38092c656d4199eb",
   "execution_count": 1
  },
  {
   "cell_type": "markdown",
   "source": [
    "# An embeded document case\n",
    "\n",
    "Consider the following data"
   ],
   "metadata": {
    "collapsed": false
   },
   "id": "33d0d850ad076572"
  },
  {
   "cell_type": "code",
   "outputs": [
    {
     "data": {
      "text/plain": "<pymongo.results.InsertManyResult at 0x10494d580>"
     },
     "execution_count": 2,
     "metadata": {},
     "output_type": "execute_result"
    }
   ],
   "source": [
    "import pymongo\n",
    "\n",
    "# Connect to MongoDB\n",
    "client = pymongo.MongoClient(\"mongodb://localhost:27017/\")\n",
    "db = client.weatherdb\n",
    "weather2 = db.weather2\n",
    "\n",
    "# Sample data - list of documents with weather information for multiple dates and locations\n",
    "weather_data = [\n",
    "    {\"location\": \"New York\", \"dates\": [\n",
    "        {\"date\": \"2024-02-26\", \"temperature\": 20, \"humidity\": 60, \"wind_speed\": 5},\n",
    "        {\"date\": \"2024-02-27\", \"temperature\": 22, \"humidity\": 65, \"wind_speed\": 6},\n",
    "        {\"date\": \"2024-02-28\", \"temperature\": 18, \"humidity\": 55, \"wind_speed\": 4}\n",
    "    ]},\n",
    "    {\"location\": \"Los Angeles\", \"dates\": [\n",
    "        {\"date\": \"2024-02-26\", \"temperature\": 25, \"humidity\": 55, \"wind_speed\": 7},\n",
    "        {\"date\": \"2024-02-27\", \"temperature\": 27, \"humidity\": 50, \"wind_speed\": 6},\n",
    "        {\"date\": \"2024-02-28\", \"temperature\": 24, \"humidity\": 58, \"wind_speed\": 5}\n",
    "    ]},\n",
    "    {\"location\": \"Chicago\", \"dates\": [\n",
    "        {\"date\": \"2024-02-26\", \"temperature\": 18, \"humidity\": 70, \"wind_speed\": 4},\n",
    "        {\"date\": \"2024-02-27\", \"temperature\": 20, \"humidity\": 68, \"wind_speed\": 3},\n",
    "        {\"date\": \"2024-02-28\", \"temperature\": 16, \"humidity\": 72, \"wind_speed\": 5}\n",
    "    ]},\n",
    "    {\"location\": \"Houston\", \"dates\": [\n",
    "        {\"date\": \"2024-02-26\", \"temperature\": 22, \"humidity\": 50, \"wind_speed\": 6},\n",
    "        {\"date\": \"2024-02-27\", \"temperature\": 24, \"humidity\": 48, \"wind_speed\": 7},\n",
    "        {\"date\": \"2024-02-28\", \"temperature\": 21, \"humidity\": 52, \"wind_speed\": 5}\n",
    "    ]},\n",
    "    # Add more locations with multiple dates and weather data\n",
    "]\n",
    "\n",
    "weather2.insert_many(weather_data)"
   ],
   "metadata": {
    "collapsed": false,
    "ExecuteTime": {
     "end_time": "2024-03-04T12:05:38.303435Z",
     "start_time": "2024-03-04T12:05:38.294648Z"
    }
   },
   "id": "873d131672054177",
   "execution_count": 2
  },
  {
   "cell_type": "markdown",
   "source": [
    "## Find the average humidity for each location\n",
    "\n",
    "See the aggregate function  and the project operator. This operator allows you to specify which fields you want to return."
   ],
   "metadata": {
    "collapsed": false
   },
   "id": "9d443eb959b51ced"
  },
  {
   "cell_type": "code",
   "outputs": [],
   "source": [],
   "metadata": {
    "collapsed": false,
    "ExecuteTime": {
     "end_time": "2024-03-04T12:05:38.309361Z",
     "start_time": "2024-03-04T12:05:38.307741Z"
    }
   },
   "id": "8b44b1b5bef99aaf",
   "execution_count": 2
  },
  {
   "cell_type": "markdown",
   "source": [
    "## Find the mean humidity for each date\n",
    "\n",
    "Suggestion:  see the `unwind` operator which is used to deconstruct an array field from the input documents to output a document for each element of the array. Each output document is a version of the input document with the value of the array field replaced by the element. This stage is particularly useful for working with documents that contain an array of subdocuments or values, allowing you to perform operations on each element of the array as if it were part of a separate document. "
   ],
   "metadata": {
    "collapsed": false
   },
   "id": "7ba80085b452cdb"
  },
  {
   "cell_type": "code",
   "outputs": [],
   "source": [],
   "metadata": {
    "collapsed": false,
    "ExecuteTime": {
     "end_time": "2024-03-04T12:05:38.312124Z",
     "start_time": "2024-03-04T12:05:38.310566Z"
    }
   },
   "id": "3373f6d75b8b7c4e",
   "execution_count": 2
  },
  {
   "cell_type": "markdown",
   "source": [
    "## Find the maximum temperature for each location"
   ],
   "metadata": {
    "collapsed": false
   },
   "id": "bab6b4836fecf414"
  },
  {
   "cell_type": "code",
   "outputs": [],
   "source": [],
   "metadata": {
    "collapsed": false,
    "ExecuteTime": {
     "end_time": "2024-03-04T12:05:38.360254Z",
     "start_time": "2024-03-04T12:05:38.358555Z"
    }
   },
   "id": "1f2590d32ee62779",
   "execution_count": 2
  }
 ],
 "metadata": {
  "kernelspec": {
   "display_name": "Python 3",
   "language": "python",
   "name": "python3"
  },
  "language_info": {
   "codemirror_mode": {
    "name": "ipython",
    "version": 2
   },
   "file_extension": ".py",
   "mimetype": "text/x-python",
   "name": "python",
   "nbconvert_exporter": "python",
   "pygments_lexer": "ipython2",
   "version": "2.7.6"
  }
 },
 "nbformat": 4,
 "nbformat_minor": 5
}
