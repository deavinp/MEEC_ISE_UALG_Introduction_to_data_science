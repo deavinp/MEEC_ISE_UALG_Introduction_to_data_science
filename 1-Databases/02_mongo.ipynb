{
 "cells": [
  {
   "cell_type": "markdown",
   "metadata": {},
   "source": [
    "# PyMongo\n",
    "The first step when working with PyMongo is to create a MongoClient to the running mongod instance.\n",
    "\n",
    "Make sure you have a MongoDB instance running - see [https://www.mongodb.com/docs/manual/administration/install-community/](https://www.mongodb.com/docs/manual/administration/install-community/)"
   ]
  },
  {
   "cell_type": "code",
   "execution_count": null,
   "metadata": {},
   "outputs": [],
   "source": [
    "try:\n",
    "    from pymongo import MongoClient\n",
    "except:\n",
    "    !pip install pymongo\n",
    "    from pymongo import MongoClient\n",
    "\n",
    "try:\n",
    "    import psutil\n",
    "except:\n",
    "    !pip install psutil\n",
    "    import psutil"
   ]
  },
  {
   "cell_type": "markdown",
   "source": [
    "Being a local server, you can create a client in several ways."
   ],
   "metadata": {
    "collapsed": false
   }
  },
  {
   "cell_type": "code",
   "execution_count": null,
   "metadata": {
    "ExecuteTime": {
     "end_time": "2018-03-15T20:44:34.314081Z",
     "start_time": "2018-03-15T20:44:33.938699Z"
    }
   },
   "outputs": [],
   "source": [
    "client = MongoClient()\n",
    "# same as \n",
    "#  client = MongoClient('localhost', 27017)\n",
    "# or \n",
    "#  client = MongoClient('mongodb://localhost:27017/')\n",
    "\n",
    "client"
   ]
  },
  {
   "cell_type": "markdown",
   "metadata": {},
   "source": [
    "## Databases \n",
    "A single client instance of MongoDB can support multiple independent databases. When working with PyMongo you access databases using **attribute style access** on MongoClient instances.\n",
    "\n",
    "So, the next line will \"connect\" to (or create if it does not exist) `sensorsDB` database.\n",
    "\n",
    "This also means that you have to be very careful with the naming."
   ]
  },
  {
   "cell_type": "code",
   "execution_count": null,
   "metadata": {
    "ExecuteTime": {
     "end_time": "2018-03-15T20:45:53.289516Z",
     "start_time": "2018-03-15T20:45:53.280519Z"
    }
   },
   "outputs": [],
   "source": [
    "db = client.sensorsDB"
   ]
  },
  {
   "cell_type": "markdown",
   "metadata": {},
   "source": [
    "## Collections \n",
    "A collection is a group of documents stored in MongoDB, and can be thought of as roughly the equivalent of a table in a relational database. Getting a collection in PyMongo works the same as getting a database."
   ]
  },
  {
   "cell_type": "code",
   "execution_count": null,
   "metadata": {
    "ExecuteTime": {
     "end_time": "2018-03-15T20:46:30.479835Z",
     "start_time": "2018-03-15T20:46:30.469833Z"
    }
   },
   "outputs": [],
   "source": [
    "sensors_location = db.sensors_locations"
   ]
  },
  {
   "cell_type": "markdown",
   "metadata": {},
   "source": [
    "An important note about collections (and databases) in MongoDB is that they are created lazily - none of the above commands have actually performed any operations on the MongoDB server. Collections and databases are created when the first document is inserted into them."
   ]
  },
  {
   "cell_type": "markdown",
   "metadata": {},
   "source": [
    "# Insert documents\n",
    "\n",
    "To **insert a document** into a collection we can use the `insert_one()` method"
   ]
  },
  {
   "cell_type": "code",
   "execution_count": null,
   "metadata": {
    "ExecuteTime": {
     "end_time": "2018-03-15T20:48:12.309694Z",
     "start_time": "2018-03-15T20:48:12.290695Z"
    }
   },
   "outputs": [],
   "source": [
    "data = {\n",
    "        'location_name': 'Prometheus Server', \n",
    "        'description' : 'Prometheus Server @ lab. 163 / ISE /UAlg',\n",
    "        'sensor': [ \n",
    "                    {\n",
    "                        'sensor_name' : 'cpu_sensor', \n",
    "                        'unit' : 'percent'\n",
    "                    },\n",
    "                    {\n",
    "                        'sensor_name' : 'mem_sensor', \n",
    "                        'unit' : 'percent'\n",
    "                    }\n",
    "             ]\n",
    "       }"
   ]
  },
  {
   "cell_type": "code",
   "execution_count": null,
   "metadata": {},
   "outputs": [],
   "source": [
    "x = sensors_location.insert_one(data)\n",
    "x"
   ]
  },
  {
   "cell_type": "code",
   "execution_count": null,
   "metadata": {},
   "outputs": [],
   "source": [
    "location_id = x.inserted_id\n",
    "location_id"
   ]
  },
  {
   "cell_type": "markdown",
   "metadata": {},
   "source": [
    "Let us see what is on the `sensors_location` collection"
   ]
  },
  {
   "cell_type": "code",
   "execution_count": null,
   "metadata": {
    "ExecuteTime": {
     "end_time": "2018-03-15T20:50:50.686638Z",
     "start_time": "2018-03-15T20:50:50.659637Z"
    }
   },
   "outputs": [],
   "source": [
    "from pprint import *\n",
    "\n",
    "for doc in sensors_location.find():\n",
    "    pprint(doc)"
   ]
  },
  {
   "cell_type": "markdown",
   "metadata": {},
   "source": [
    "And now, we can insert on document for each reading of the sensor. Now, on the `sensors_readings`collection"
   ]
  },
  {
   "cell_type": "code",
   "execution_count": null,
   "metadata": {
    "ExecuteTime": {
     "end_time": "2018-03-15T20:57:53.632016Z",
     "start_time": "2018-03-15T20:56:53.476986Z"
    }
   },
   "outputs": [],
   "source": [
    "import datetime\n",
    "import psutil\n",
    "\n",
    "for _ in range(200):\n",
    "    # creat the document\n",
    "    data = {\n",
    "           'sensor' : {'location_id': location_id, \n",
    "                       'sensor_name' : 'cpu_sensor' \n",
    "                      },\n",
    "            'value' : psutil.cpu_percent(interval=0.01),\n",
    "            'units' : 'percent',\n",
    "            'timestamp' : datetime.datetime.utcnow()\n",
    "           }\n",
    "    # send the document to the database\n",
    "    res = db.sensors_readings.insert_one(data)\n",
    "    print('.', end='')   "
   ]
  },
  {
   "cell_type": "markdown",
   "metadata": {},
   "source": [
    "let us store the last `_id` for latter"
   ]
  },
  {
   "cell_type": "code",
   "execution_count": null,
   "metadata": {},
   "outputs": [],
   "source": [
    "_id = res.inserted_id\n",
    "_id"
   ]
  },
  {
   "cell_type": "markdown",
   "metadata": {},
   "source": [
    "To list all inserted readings"
   ]
  },
  {
   "cell_type": "code",
   "execution_count": null,
   "metadata": {
    "scrolled": true
   },
   "outputs": [],
   "source": [
    "list(db.sensors_readings.find())"
   ]
  },
  {
   "cell_type": "markdown",
   "metadata": {},
   "source": [
    "We can also list the inserted readings, sorted by value and timestamp"
   ]
  },
  {
   "cell_type": "code",
   "execution_count": null,
   "metadata": {
    "scrolled": true
   },
   "outputs": [],
   "source": [
    "list(\n",
    "    db.sensors_readings.find().sort([\n",
    "        ('value',-1),\n",
    "        ('timestamp', -1)]\n",
    "    )\n",
    ")"
   ]
  },
  {
   "cell_type": "markdown",
   "metadata": {},
   "source": [
    "Given the `ObjectId` (we stored ir earlier), it is possible to get one specific document"
   ]
  },
  {
   "cell_type": "code",
   "execution_count": null,
   "metadata": {
    "ExecuteTime": {
     "end_time": "2018-03-15T21:01:01.647245Z",
     "start_time": "2018-03-15T21:01:01.641256Z"
    }
   },
   "outputs": [],
   "source": [
    "list(db.sensors_readings.find({'_id': _id}))"
   ]
  },
  {
   "cell_type": "markdown",
   "metadata": {},
   "source": [
    "## Embending of information I\n",
    "In this approach, a single document contains **multiple sensors with a single read**. Also, embedded location info."
   ]
  },
  {
   "cell_type": "code",
   "execution_count": null,
   "metadata": {
    "ExecuteTime": {
     "end_time": "2018-03-15T21:09:10.883610Z",
     "start_time": "2018-03-15T21:08:40.689473Z"
    }
   },
   "outputs": [],
   "source": [
    "import datetime\n",
    "import psutil\n",
    "\n",
    "for _ in range(200):\n",
    "    data = {\n",
    "        'location_name': 'Prometheus Server', \n",
    "        'description' : 'Prometheus Server @ lab. 163 / ISE /UAlg',\n",
    "        'sensors' : [ \n",
    "               {\n",
    "                   'sensor_name' : 'mem_sensor', \n",
    "                   'value' : psutil.virtual_memory().percent,\n",
    "                   'units' : 'percent'\n",
    "               },\n",
    "               {\n",
    "                   'sensor_name' : 'cpu_sensor', \n",
    "                   'value' : psutil.cpu_percent(interval=0.01),\n",
    "                   'units' : 'percent'\n",
    "               }\n",
    "           ],\n",
    "        'timestamp' : datetime.datetime.utcnow()\n",
    "    }\n",
    "    db.sensors_readings.insert_one(data)\n",
    "    print('.', end='')"
   ]
  },
  {
   "cell_type": "markdown",
   "metadata": {},
   "source": [
    "Get the last insert"
   ]
  },
  {
   "cell_type": "code",
   "execution_count": null,
   "metadata": {},
   "outputs": [],
   "source": [
    "pprint(list(db.sensors_readings.find().sort(\n",
    "    [('timestamp', -1)]).limit(2)))"
   ]
  },
  {
   "cell_type": "markdown",
   "metadata": {},
   "source": [
    "## Embending of information II\n",
    "A single document contains multiple sensors - and multiple reads."
   ]
  },
  {
   "cell_type": "code",
   "execution_count": null,
   "metadata": {
    "ExecuteTime": {
     "end_time": "2018-03-15T21:17:34.937937Z",
     "start_time": "2018-03-15T21:17:29.851390Z"
    }
   },
   "outputs": [],
   "source": [
    "data = {\n",
    "    'location_name': 'Prometheus Server', \n",
    "    'description' : 'Prometheus Server @ lab. 163 / ISE /UAlg',\n",
    "    'sensors' : [ \n",
    "           {\n",
    "               'sensor_name' : 'mem_sensor', \n",
    "               'values' :[] ,\n",
    "               'units' : 'percent'\n",
    "           },\n",
    "           {\n",
    "               'sensor_name' : 'cpu_sensor', \n",
    "               'values' : [],\n",
    "               'units' : 'percent'\n",
    "           }\n",
    "       ],\n",
    "}\n",
    "\n",
    "# get the readingd id to latter add values to the readings\n",
    "readings_id = db.sensors_readings.insert_one(data).inserted_id"
   ]
  },
  {
   "cell_type": "markdown",
   "metadata": {},
   "source": [
    "However, in this implementation the **full document is upload each time a new read is made**."
   ]
  },
  {
   "cell_type": "code",
   "execution_count": null,
   "metadata": {},
   "outputs": [],
   "source": [
    "for _ in range(100):\n",
    "    mem = psutil.virtual_memory().percent\n",
    "    cpu = psutil.cpu_percent(interval=0.01)\n",
    "\n",
    "    # update the data\n",
    "    data['sensors'][0]['values'].append({'value': mem, 'timestamp' : datetime.datetime.utcnow()})\n",
    "    data['sensors'][1]['values'].append({'value': cpu, 'timestamp' : datetime.datetime.utcnow()})\n",
    "    # update the database, sending the full document again!!\n",
    "    db.sensors_readings.update_one(\n",
    "        {'_id': readings_id}, \n",
    "        {'$set': data}\n",
    "    )\n",
    "    \n",
    "    print('.', end='')"
   ]
  },
  {
   "cell_type": "markdown",
   "metadata": {},
   "source": [
    "The last reading is "
   ]
  },
  {
   "cell_type": "code",
   "execution_count": null,
   "metadata": {
    "scrolled": true
   },
   "outputs": [],
   "source": [
    "x = list(db.sensors_readings.find().sort([('_id', -1)]).limit(1))\n",
    "x"
   ]
  },
  {
   "cell_type": "markdown",
   "metadata": {},
   "source": [
    "to get a value..."
   ]
  },
  {
   "cell_type": "code",
   "execution_count": null,
   "metadata": {},
   "outputs": [],
   "source": [
    "x[0]['sensors'][0]['values'][0]['value']"
   ]
  },
  {
   "cell_type": "markdown",
   "metadata": {},
   "source": [
    "## Embending of information III\n",
    "As previously, a single document contains multiple sensors - and multiple reads. But now, the document is **update in the database each time a new read is made**."
   ]
  },
  {
   "cell_type": "code",
   "execution_count": null,
   "metadata": {
    "ExecuteTime": {
     "end_time": "2018-03-15T21:23:03.720538Z",
     "start_time": "2018-03-15T21:22:57.622467Z"
    }
   },
   "outputs": [],
   "source": [
    "import datetime\n",
    "import psutil\n",
    "\n",
    "data = {\n",
    "    'location_name': 'Prometheus Server', \n",
    "    'description' : 'Prometheus Server @ lab. 163 / ISE /UAlg', \n",
    "    'sensors' : [ \n",
    "           {\n",
    "               'sensor_name' : 'mem_sensor', \n",
    "               'values' : [],\n",
    "               'units' : 'percent'\n",
    "           },\n",
    "           {\n",
    "               'sensor_name' : 'cpu_sensor', \n",
    "               'values' : [],\n",
    "               'units' : 'percent'\n",
    "           }\n",
    "       ]\n",
    "}\n",
    "\n",
    "readings_id = db.sensors_readings.insert_one(data).inserted_id"
   ]
  },
  {
   "cell_type": "markdown",
   "metadata": {},
   "source": [
    "Now, a first document was inserted with no sensors values. The document `_id` was stored and in the following data will be appended/pushed to the corresponding document"
   ]
  },
  {
   "cell_type": "code",
   "execution_count": null,
   "metadata": {},
   "outputs": [],
   "source": [
    "for _ in range(200):\n",
    "    mem = psutil.virtual_memory().percent\n",
    "    cpu = psutil.cpu_percent(interval=0.1)\n",
    "    \n",
    "    # update the database, sending only the update!!\n",
    "    db.sensors_readings.update_one(\n",
    "        {'_id': readings_id}, \n",
    "        {\n",
    "            '$push': {\n",
    "                'sensors.0.values': {'value': mem, 'timestamp' : datetime.datetime.utcnow()},\n",
    "                'sensors.1.values': {'value': cpu, 'timestamp' : datetime.datetime.utcnow()}        \n",
    "            }\n",
    "        }\n",
    "    )    \n",
    "    \n",
    "    print('.', end='')"
   ]
  },
  {
   "cell_type": "markdown",
   "metadata": {},
   "source": [
    "The last reading is "
   ]
  },
  {
   "cell_type": "code",
   "execution_count": null,
   "metadata": {
    "run_control": {
     "marked": true
    },
    "scrolled": true
   },
   "outputs": [],
   "source": [
    "pprint(list(db.sensors_readings.find().sort([('_id', -1)]).limit(1)))"
   ]
  },
  {
   "cell_type": "markdown",
   "metadata": {},
   "source": [
    "# Getting Documents\n",
    "Getting a single document with find_one()"
   ]
  },
  {
   "cell_type": "code",
   "execution_count": null,
   "metadata": {
    "ExecuteTime": {
     "end_time": "2018-03-15T21:24:11.016003Z",
     "start_time": "2018-03-15T21:24:10.999992Z"
    }
   },
   "outputs": [],
   "source": [
    "db.sensors_readings.find_one()"
   ]
  },
  {
   "cell_type": "markdown",
   "metadata": {},
   "source": [
    "Find one readings from \"Prometheus Server\""
   ]
  },
  {
   "cell_type": "code",
   "execution_count": null,
   "metadata": {
    "ExecuteTime": {
     "end_time": "2018-03-15T21:25:09.548028Z",
     "start_time": "2018-03-15T21:25:09.539025Z"
    }
   },
   "outputs": [],
   "source": [
    "db.sensors_readings.find_one({'location_name':'Prometheus Server'})"
   ]
  },
  {
   "cell_type": "markdown",
   "metadata": {},
   "source": [
    "Get the Object id for one reading on the sensor's reading collection"
   ]
  },
  {
   "cell_type": "code",
   "execution_count": null,
   "metadata": {},
   "outputs": [],
   "source": [
    "obj_id = db.sensors_readings.find_one({'location_name':'Prometheus Server'})[\"_id\"]\n",
    "obj_id"
   ]
  },
  {
   "cell_type": "markdown",
   "metadata": {},
   "source": [
    "Querying By ObjectId"
   ]
  },
  {
   "cell_type": "code",
   "execution_count": null,
   "metadata": {
    "ExecuteTime": {
     "end_time": "2018-03-15T21:27:49.790144Z",
     "start_time": "2018-03-15T21:27:49.783144Z"
    }
   },
   "outputs": [],
   "source": [
    "from bson.objectid import ObjectId\n",
    "\n",
    "db.sensors_readings.find_one({'_id': obj_id})  # update the _id"
   ]
  },
  {
   "cell_type": "markdown",
   "metadata": {},
   "source": [
    "Do projections, i.e., select which fields to present"
   ]
  },
  {
   "cell_type": "code",
   "execution_count": null,
   "metadata": {
    "scrolled": true
   },
   "outputs": [],
   "source": [
    "db.sensors_readings.find_one(\n",
    "    {'_id': obj_id},\n",
    "    {'sensors':1}\n",
    ")"
   ]
  },
  {
   "cell_type": "markdown",
   "metadata": {},
   "source": [
    "# Bulk Insert\n",
    "In addition to inserting a single document, we can also perform bulk insert operations, by passing a list as the first argument to insert_many(). This will insert each document in the list, sending only a single command to the server.\n",
    "\n",
    "The result from insert_many() now returns multiple ObjectId instances, one for each inserted document."
   ]
  },
  {
   "cell_type": "code",
   "execution_count": null,
   "metadata": {
    "ExecuteTime": {
     "end_time": "2018-03-15T21:28:16.864191Z",
     "start_time": "2018-03-15T21:28:16.842185Z"
    }
   },
   "outputs": [],
   "source": [
    "new_posts = [{\n",
    "                'sensor': {'location_id': ObjectId('5a95821bdc936e0cfc7c7d96'),\n",
    "                'sensor_name': 'cpu_sensor'},\n",
    "                'timestamp': datetime.datetime(2018, 2, 27, 16, 7, 18, 289000),\n",
    "                'units': 'percent',\n",
    "                'value': 4.5\n",
    "            },\n",
    "             {\n",
    "                'sensor': {'location_id': ObjectId('5a95821bdc936e0cfc7c7d96'),\n",
    "                'sensor_name': 'cpu_sensor'},\n",
    "                'timestamp': datetime.datetime(2018, 2, 27, 16, 7, 18, 289000),\n",
    "                'units': 'percent',\n",
    "                'value': 4.5\n",
    "             }\n",
    "            ]\n",
    "result = db.sensors_readings.insert_many(new_posts)"
   ]
  },
  {
   "cell_type": "markdown",
   "metadata": {},
   "source": [
    "and get the id's of the inserted objects"
   ]
  },
  {
   "cell_type": "code",
   "execution_count": null,
   "metadata": {},
   "outputs": [],
   "source": [
    "result.inserted_ids"
   ]
  },
  {
   "cell_type": "markdown",
   "metadata": {},
   "source": [
    "# Querying for More Than One Document\n",
    "\n",
    "To get more than a single document as the result of a query we use the find() method. find() returns a Cursor instance, which allows us to iterate over all matching documents. For example, we can iterate over every document in the posts collection:"
   ]
  },
  {
   "cell_type": "code",
   "execution_count": null,
   "metadata": {
    "ExecuteTime": {
     "end_time": "2018-03-15T21:28:28.551014Z",
     "start_time": "2018-03-15T21:28:28.530001Z"
    },
    "scrolled": true
   },
   "outputs": [],
   "source": [
    "for doc in db.sensors_readings.find():\n",
    "    pprint(doc)"
   ]
  },
  {
   "cell_type": "markdown",
   "metadata": {},
   "source": [
    "you can also limit the output and order it..."
   ]
  },
  {
   "cell_type": "code",
   "execution_count": null,
   "metadata": {
    "ExecuteTime": {
     "end_time": "2018-03-15T21:28:53.947053Z",
     "start_time": "2018-03-15T21:28:53.915017Z"
    }
   },
   "outputs": [],
   "source": [
    "for doc in db.sensors_readings.find().sort([('_id',1)]).limit(2):\n",
    "    pprint(doc)"
   ]
  },
  {
   "cell_type": "markdown",
   "metadata": {},
   "source": [
    "## Counting\n",
    "If we just want to know how many documents match a query we can perform a count() operation instead of a full query. We can get a count of all of the documents in a collection:"
   ]
  },
  {
   "cell_type": "code",
   "execution_count": null,
   "metadata": {
    "ExecuteTime": {
     "end_time": "2018-03-15T21:28:58.135324Z",
     "start_time": "2018-03-15T21:28:58.126320Z"
    }
   },
   "outputs": [],
   "source": [
    "db.sensors_readings.count_documents({})"
   ]
  },
  {
   "cell_type": "code",
   "execution_count": null,
   "metadata": {
    "ExecuteTime": {
     "end_time": "2018-03-15T21:29:01.542699Z",
     "start_time": "2018-03-15T21:29:01.536695Z"
    }
   },
   "outputs": [],
   "source": [
    "db.sensors_readings.count_documents({'location_name':'Prometheus Server'})"
   ]
  },
  {
   "cell_type": "markdown",
   "metadata": {},
   "source": [
    "## Range Queries\n",
    "MongoDB supports many different types of advanced queries.\n",
    "\n",
    "As an example, lets perform a query where we limit results to readings with a certain date (update the datetime to one of the previously inserted documents):"
   ]
  },
  {
   "cell_type": "code",
   "execution_count": null,
   "metadata": {},
   "outputs": [],
   "source": [
    "date = datetime.datetime(2021, 4, 12, 18, 58, 13, 611000)\n",
    "\n",
    "for doc in db.sensors_readings.find({'sensors.values.timestamp': date}):\n",
    "    print(doc)"
   ]
  },
  {
   "cell_type": "markdown",
   "source": [
    "And now, limit results to readings older than a certain date:\n"
   ],
   "metadata": {
    "collapsed": false
   }
  },
  {
   "cell_type": "code",
   "execution_count": null,
   "metadata": {
    "ExecuteTime": {
     "end_time": "2018-03-15T21:29:41.063225Z",
     "start_time": "2018-03-15T21:29:41.047234Z"
    },
    "scrolled": true
   },
   "outputs": [],
   "source": [
    "for doc in db.sensors_readings.find({'sensors.values.timestamp': {'$gt': date}}):\n",
    "    print(doc)"
   ]
  },
  {
   "cell_type": "markdown",
   "source": [
    "All readings witha `value` lower than 10"
   ],
   "metadata": {
    "collapsed": false
   }
  },
  {
   "cell_type": "code",
   "execution_count": null,
   "metadata": {},
   "outputs": [],
   "source": [
    "for doc in db.sensors_readings.find({'value': {'$lt': 10}}):\n",
    "    print(doc)"
   ]
  },
  {
   "cell_type": "markdown",
   "source": [
    "All CPU readings with `value` lower than 10 in the next type of documents\n",
    "\n",
    "![./images/doc_example.png](./images/doc_example.png)"
   ],
   "metadata": {
    "collapsed": false
   }
  },
  {
   "cell_type": "code",
   "execution_count": null,
   "metadata": {},
   "outputs": [],
   "source": [
    "for doc in db.sensors_readings.find({'sensors.1.values.value': {'$gt': 10}}):\n",
    "    print(doc)"
   ]
  },
  {
   "cell_type": "code",
   "execution_count": null,
   "metadata": {},
   "outputs": [],
   "source": []
  }
 ],
 "metadata": {
  "kernelspec": {
   "display_name": "Python 3 (ipykernel)",
   "language": "python",
   "name": "python3"
  },
  "language_info": {
   "codemirror_mode": {
    "name": "ipython",
    "version": 3
   },
   "file_extension": ".py",
   "mimetype": "text/x-python",
   "name": "python",
   "nbconvert_exporter": "python",
   "pygments_lexer": "ipython3",
   "version": "3.9.13"
  },
  "nbTranslate": {
   "displayLangs": [
    "*"
   ],
   "hotkey": "alt-t",
   "langInMainMenu": true,
   "sourceLang": "en",
   "targetLang": "fr",
   "useGoogleTranslate": true
  },
  "toc": {
   "base_numbering": 1,
   "nav_menu": {},
   "number_sections": true,
   "sideBar": true,
   "skip_h1_title": false,
   "title_cell": "Table of Contents",
   "title_sidebar": "Contents",
   "toc_cell": false,
   "toc_position": {},
   "toc_section_display": true,
   "toc_window_display": false
  },
  "varInspector": {
   "cols": {
    "lenName": 16,
    "lenType": 16,
    "lenVar": 40
   },
   "kernels_config": {
    "python": {
     "delete_cmd_postfix": "",
     "delete_cmd_prefix": "del ",
     "library": "var_list.py",
     "varRefreshCmd": "print(var_dic_list())"
    },
    "r": {
     "delete_cmd_postfix": ") ",
     "delete_cmd_prefix": "rm(",
     "library": "var_list.r",
     "varRefreshCmd": "cat(var_dic_list()) "
    }
   },
   "types_to_exclude": [
    "module",
    "function",
    "builtin_function_or_method",
    "instance",
    "_Feature"
   ],
   "window_display": false
  }
 },
 "nbformat": 4,
 "nbformat_minor": 4
}
