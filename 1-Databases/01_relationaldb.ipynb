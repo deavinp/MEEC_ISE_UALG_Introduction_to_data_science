{
 "cells": [
  {
   "cell_type": "markdown",
   "metadata": {},
   "source": [
    "# Connecting to MySQL Using Connector/Python\n",
    "\n",
    "\n",
    "First of all you need an account in a MySQL server running in your computer or remotely. To run it in your computer, as a suggestion:\n",
    "- In Windows or MAc, install the XAMPP bundle (https://www.apachefriends.org/index.html). \n",
    "- In Linux install the LAMP stack (https://help.ubuntu.com/community/ApacheMySQLPHP) \n",
    "- Use phpmyadmin to\n",
    "    - create a database called `sensors`\n",
    "    - create a `user='meec'` with `password='00meec'` and \"data\" and \"Structure\" permission in a `database='sensors'`\n",
    "\n",
    "\n",
    "Make sure you have  `mysql-connector-python` package installed and import it"
   ]
  },
  {
   "cell_type": "code",
   "execution_count": null,
   "metadata": {
    "ExecuteTime": {
     "end_time": "2022-11-22T19:50:09.512790Z",
     "start_time": "2022-11-22T19:50:06.719592Z"
    }
   },
   "outputs": [],
   "source": [
    "import traceback\n",
    "\n",
    "try:\n",
    "    import mysql.connector\n",
    "except:\n",
    "    !pip install mysql-connector-python\n",
    "    import mysql.connector\n",
    "\n",
    "\"mysql.connector.__version__: \" + mysql.connector.__version__"
   ]
  },
  {
   "cell_type": "markdown",
   "metadata": {},
   "source": [
    "The `connect()` constructor creates a connection to the MySQL server and returns a `MySQLConnection` object.\n",
    "(see https://dev.mysql.com/doc/connector-python/en/connector-python-connectargs.html for other argument options)"
   ]
  },
  {
   "cell_type": "code",
   "execution_count": null,
   "metadata": {
    "ExecuteTime": {
     "end_time": "2022-11-22T19:53:49.980605Z",
     "start_time": "2022-11-22T19:53:49.952407Z"
    }
   },
   "outputs": [],
   "source": [
    "try:\n",
    "    cnx = mysql.connector.connect(\n",
    "        user='meec',\n",
    "        password='00meec',\n",
    "        host='127.0.0.1', # in your case replace by 'localhost'\n",
    "        database=''\n",
    "    )\n",
    "except mysql.connector.Error as e:\n",
    "    print(f\"problems opening the connection to mysql: {e}\")\n",
    "else:\n",
    "    print(\"ok!\")\n",
    "    cnx.close()"
   ]
  },
  {
   "cell_type": "markdown",
   "metadata": {
    "ExecuteTime": {
     "end_time": "2018-02-28T17:08:57.922200Z",
     "start_time": "2018-02-28T17:08:57.917199Z"
    }
   },
   "source": [
    "Usually, it is best to \n",
    "* do exception treatment; and  \n",
    "* have a configuration file (config.py) \n",
    "```\n",
    "config = {\n",
    "    'host' : 'localhost',\n",
    "    'user' : 'meec',\n",
    "    'password' : '00meec',\n",
    "    'db' : 'sensors'\n",
    "}\n",
    "```\n",
    "and then..."
   ]
  },
  {
   "cell_type": "code",
   "execution_count": null,
   "metadata": {
    "ExecuteTime": {
     "end_time": "2022-11-22T19:54:12.703947Z",
     "start_time": "2022-11-22T19:54:12.699215Z"
    }
   },
   "outputs": [],
   "source": [
    "from config import config as conf\n",
    "\n",
    "try:\n",
    "    cnx = mysql.connector.connect(**conf)\n",
    "except mysql.connector.Error as e:\n",
    "    print(f\"problems opening the connection to mysql: {e.msg}\")\n",
    "else :\n",
    "    print(\"ok!\")\n",
    "    cnx.close()"
   ]
  },
  {
   "cell_type": "markdown",
   "metadata": {},
   "source": [
    "# Create a schema\n",
    "Lets us create the database schema (do not forget to catch exceptions, I'm simplifying!). Further, when your app is running you don't need to keep connecting and closing your connection."
   ]
  },
  {
   "cell_type": "code",
   "execution_count": null,
   "metadata": {
    "ExecuteTime": {
     "end_time": "2022-11-22T19:54:20.648322Z",
     "start_time": "2022-11-22T19:54:20.633740Z"
    }
   },
   "outputs": [],
   "source": [
    "sql = '''\n",
    "    CREATE SCHEMA IF NOT EXISTS `sensors` DEFAULT CHARACTER SET utf8 ;\n",
    "    USE `sensors` ;\n",
    "\n",
    "    -- -----------------------------------------------------\n",
    "    -- Table `sensors`.`Location`\n",
    "    -- -----------------------------------------------------\n",
    "    CREATE TABLE IF NOT EXISTS `sensors`.`Location` (\n",
    "      `idLocation` INT NOT NULL AUTO_INCREMENT,\n",
    "      `name` VARCHAR(45) NOT NULL,\n",
    "      `description` VARCHAR(45) NOT NULL,\n",
    "      PRIMARY KEY (`idLocation`),\n",
    "      UNIQUE INDEX `name_UNIQUE` (`name` ASC))\n",
    "    ENGINE = InnoDB;\n",
    "\n",
    "\n",
    "    -- -----------------------------------------------------\n",
    "    -- Table `sensors`.`Unit`\n",
    "    -- -----------------------------------------------------\n",
    "    CREATE TABLE IF NOT EXISTS `sensors`.`Unit` (\n",
    "      `unit` VARCHAR(45) NOT NULL,\n",
    "      `description` VARCHAR(45) NOT NULL,\n",
    "      PRIMARY KEY (`unit`))\n",
    "    ENGINE = InnoDB;\n",
    "\n",
    "\n",
    "    -- -----------------------------------------------------\n",
    "    -- Table `sensors`.`Sensor`\n",
    "    -- -----------------------------------------------------\n",
    "    CREATE TABLE IF NOT EXISTS `sensors`.`Sensor` (\n",
    "      `idSensor` INT NOT NULL AUTO_INCREMENT,\n",
    "      `idLocation` INT NOT NULL,\n",
    "      `name` VARCHAR(45) NOT NULL,\n",
    "      `unit` VARCHAR(45) NOT NULL,\n",
    "      PRIMARY KEY (`idSensor`),\n",
    "      INDEX `fk_Sensor_Location_idx` (`idLocation` ASC),\n",
    "      INDEX `fk_Sensor_Units1_idx` (`unit` ASC),\n",
    "      UNIQUE INDEX `uniq_loc_vs_sensor` (`idLocation` ASC, `name` ASC),\n",
    "      CONSTRAINT `fk_Sensor_Location`\n",
    "        FOREIGN KEY (`idLocation`)\n",
    "        REFERENCES `sensors`.`Location` (`idLocation`)\n",
    "        ON DELETE CASCADE\n",
    "        ON UPDATE CASCADE,\n",
    "      CONSTRAINT `fk_Sensor_Units1`\n",
    "        FOREIGN KEY (`unit`)\n",
    "        REFERENCES `sensors`.`Unit` (`unit`)\n",
    "        ON DELETE CASCADE\n",
    "        ON UPDATE CASCADE)\n",
    "    ENGINE = InnoDB;\n",
    "\n",
    "\n",
    "    -- -----------------------------------------------------\n",
    "    -- Table `sensors`.`Reading`\n",
    "    -- -----------------------------------------------------\n",
    "    CREATE TABLE IF NOT EXISTS `sensors`.`Reading` (\n",
    "      `idReading` INT NOT NULL AUTO_INCREMENT,\n",
    "      `idSensor` INT NOT NULL,\n",
    "      `timestamp` TIMESTAMP NOT NULL,\n",
    "      `value` FLOAT NOT NULL,\n",
    "      PRIMARY KEY (`idReading`),\n",
    "      INDEX `fk_Reading_Sensor1_idx` (`idSensor` ASC),\n",
    "      CONSTRAINT `fk_Reading_Sensor1`\n",
    "        FOREIGN KEY (`idSensor`)\n",
    "        REFERENCES `sensors`.`Sensor` (`idSensor`)\n",
    "        ON DELETE CASCADE\n",
    "        ON UPDATE CASCADE)\n",
    "    ENGINE = InnoDB;\n",
    "\n",
    "\n",
    "    -- -----------------------------------------------------\n",
    "    -- Table `sensors`.`Alert`\n",
    "    -- -----------------------------------------------------\n",
    "    CREATE TABLE IF NOT EXISTS `sensors`.`Alert` (\n",
    "      `idAlert` INT NOT NULL AUTO_INCREMENT,\n",
    "      `idSensor` INT NOT NULL,\n",
    "      `timestamp` TIMESTAMP NOT NULL,\n",
    "      `description` VARCHAR(45) NOT NULL,\n",
    "      `cleared` BIT NULL,\n",
    "      PRIMARY KEY (`idAlert`),\n",
    "      INDEX `fk_Alert_Sensor1_idx` (`idSensor` ASC),\n",
    "      CONSTRAINT `fk_Alert_Sensor1`\n",
    "        FOREIGN KEY (`idSensor`)\n",
    "        REFERENCES `sensors`.`Sensor` (`idSensor`)\n",
    "        ON DELETE CASCADE\n",
    "        ON UPDATE CASCADE)\n",
    "    ENGINE = InnoDB;\n",
    "'''\n",
    "\n",
    "try:\n",
    "    cnx = mysql.connector.connect(**conf)\n",
    "    cursor = cnx.cursor()\n",
    "    cursor.execute(sql)\n",
    "except mysql.connector.Error as err:\n",
    "    print(err)\n",
    "else:\n",
    "    cnx.close()"
   ]
  },
  {
   "cell_type": "markdown",
   "metadata": {},
   "source": [
    "# Create (INSERT) data\n"
   ]
  },
  {
   "cell_type": "code",
   "execution_count": null,
   "metadata": {
    "ExecuteTime": {
     "end_time": "2022-11-22T19:54:23.512303Z",
     "start_time": "2022-11-22T19:54:23.508866Z"
    }
   },
   "outputs": [],
   "source": [
    "cnx = mysql.connector.connect(**conf)\n",
    "cursor = cnx.cursor()    "
   ]
  },
  {
   "cell_type": "markdown",
   "metadata": {},
   "source": [
    "insert a new location and get its id (see https://dev.mysql.com/doc/refman/8.0/en/insert.html)"
   ]
  },
  {
   "cell_type": "code",
   "execution_count": null,
   "metadata": {
    "ExecuteTime": {
     "end_time": "2022-11-22T19:54:25.940950Z",
     "start_time": "2022-11-22T19:54:25.715778Z"
    }
   },
   "outputs": [],
   "source": [
    "# prepare the sql query for the new location\n",
    "sql = '''INSERT INTO `Location` \n",
    "            (`idLocation`, `name`, `description`) \n",
    "         VALUES \n",
    "            (DEFAULT, %s, %s);\n",
    "        '''\n",
    "\n",
    "data = ('Prometheus Server 2022', 'Prometheus Server @ lab. 163 / ISE /UAlg')\n",
    "\n",
    "#execute the sql query and get the new location id\n",
    "cursor.execute(sql, data)\n",
    "location_id = cursor.lastrowid\n",
    "location_id"
   ]
  },
  {
   "cell_type": "markdown",
   "metadata": {},
   "source": [
    "When you use a transactional storage engine such as InnoDB, you must commit the data after a sequence of INSERT, DELETE, and UPDATE statements."
   ]
  },
  {
   "cell_type": "code",
   "execution_count": null,
   "metadata": {
    "ExecuteTime": {
     "end_time": "2022-03-21T15:06:51.137240Z",
     "start_time": "2022-03-21T15:06:51.131917Z"
    }
   },
   "outputs": [],
   "source": [
    "cnx.commit()"
   ]
  },
  {
   "cell_type": "markdown",
   "metadata": {},
   "source": [
    "insert a new unit\n",
    "\n",
    "_(REPLACE works exactly like INSERT, except that if an old row in the table has the same value as a new row for a PRIMARY KEY or a UNIQUE index, the old row is deleted before the new row is inserted. See https://dev.mysql.com/doc/refman/8.0/en/replace.html)_"
   ]
  },
  {
   "cell_type": "code",
   "execution_count": null,
   "metadata": {
    "ExecuteTime": {
     "end_time": "2022-03-21T15:06:52.229358Z",
     "start_time": "2022-03-21T15:06:52.221412Z"
    }
   },
   "outputs": [],
   "source": [
    "# Insert a new unit (if it does not exist)\n",
    "sql = '''REPLACE INTO Unit \n",
    "            (unit, description) \n",
    "        VALUES \n",
    "            (\"percent\", \"percentage of usage\"); \n",
    "        '''\n",
    "cursor.execute(sql)\n",
    "cnx.commit()"
   ]
  },
  {
   "cell_type": "markdown",
   "metadata": {},
   "source": [
    "Insert a new sensor and get its id"
   ]
  },
  {
   "cell_type": "code",
   "execution_count": null,
   "metadata": {
    "ExecuteTime": {
     "end_time": "2022-03-21T15:06:53.758816Z",
     "start_time": "2022-03-21T15:06:53.750052Z"
    }
   },
   "outputs": [],
   "source": [
    "# prepare the sql query for the new sensor\n",
    "sql = '''INSERT INTO `Sensor` \n",
    "            (`idSensor`, `idLocation`, `name`, `unit`)\n",
    "        VALUES \n",
    "            (DEFAULT, %(idLocation)s, %(name)s, %(unit)s);\n",
    "        '''\n",
    "data = {\n",
    "        'idLocation': location_id, \n",
    "        'name' : 'cpu_sensor_01', \n",
    "        'unit' : 'percent'\n",
    "       }\n",
    "\n",
    "#execute the sql query\n",
    "cursor.execute(sql, data)\n",
    "sensor_id = cursor.lastrowid\n",
    "cnx.commit()"
   ]
  },
  {
   "cell_type": "markdown",
   "metadata": {},
   "source": [
    "And now, get some data and store it"
   ]
  },
  {
   "cell_type": "code",
   "execution_count": null,
   "metadata": {
    "ExecuteTime": {
     "end_time": "2022-03-21T15:07:22.992455Z",
     "start_time": "2022-03-21T15:07:02.871070Z"
    }
   },
   "outputs": [],
   "source": [
    "try:\n",
    "    import psutil\n",
    "except:\n",
    "    !pip install psutil\n",
    "    import psutil\n",
    "\n",
    "sql = '''INSERT INTO `Reading` \n",
    "            (`idReading`, `idSensor`, `timestamp`, `value`)     \n",
    "        VALUES \n",
    "            (DEFAULT, %(idSensor)s, DEFAULT, %(value)s);\n",
    "        '''\n",
    "\n",
    "for _ in range(100):\n",
    "    data = {\n",
    "           'idSensor' : sensor_id, \n",
    "            'value' : psutil.cpu_percent(interval=0.1)\n",
    "           }\n",
    "    cursor.execute(sql, data) \n",
    "    cnx.commit()\n",
    "    print('.', end='')\n"
   ]
  },
  {
   "cell_type": "code",
   "execution_count": null,
   "metadata": {
    "ExecuteTime": {
     "end_time": "2022-03-21T15:07:23.006857Z",
     "start_time": "2022-03-21T15:07:23.004513Z"
    }
   },
   "outputs": [],
   "source": [
    "cursor.close()\n",
    "cnx.close()"
   ]
  },
  {
   "cell_type": "markdown",
   "metadata": {},
   "source": [
    "# Querying (SELECT) data\n",
    "\n",
    "The SELECT is used to retrieve rows selected from one or more tables, and can include UNION statements and subqueries (see https://dev.mysql.com/doc/refman/8.0/en/select.html)"
   ]
  },
  {
   "cell_type": "code",
   "execution_count": null,
   "metadata": {
    "ExecuteTime": {
     "end_time": "2022-03-21T15:08:23.567526Z",
     "start_time": "2022-03-21T15:08:23.564651Z"
    }
   },
   "outputs": [],
   "source": [
    "cnx = mysql.connector.connect(**conf)\n",
    "cursor = cnx.cursor()  "
   ]
  },
  {
   "cell_type": "code",
   "execution_count": null,
   "metadata": {
    "ExecuteTime": {
     "end_time": "2022-03-21T15:08:25.215545Z",
     "start_time": "2022-03-21T15:08:25.211337Z"
    }
   },
   "outputs": [],
   "source": [
    "sql = '''SELECT idLocation, name, description \n",
    "            FROM Location \n",
    "            WHERE description LIKE \"%163%\"'''\n",
    "cursor.execute(sql)\n",
    "\n",
    "for (idLocation, name, description) in cursor:\n",
    "  print(\"id: {}\\n\\t name: {} \\n\\t description: {}\".format(idLocation, name, description))\n"
   ]
  },
  {
   "cell_type": "code",
   "execution_count": null,
   "metadata": {
    "ExecuteTime": {
     "end_time": "2022-03-21T15:08:30.657540Z",
     "start_time": "2022-03-21T15:08:30.646201Z"
    },
    "scrolled": true
   },
   "outputs": [],
   "source": [
    "sql = '''SELECT idReading, idSensor, timestamp, value \n",
    "            FROM Reading \n",
    "            WHERE value BETWEEN %s and %s'''\n",
    "data = (5, 50)\n",
    "\n",
    "cursor.execute(sql, data)\n",
    "\n",
    "for idReading, idSensor, timestamp, value in cursor:\n",
    "  print(\"idReading: {}\\n\\t idSensor: {} \\n\\t time: {} \\n\\t value: {}\".format(idReading, idSensor, timestamp, value))"
   ]
  },
  {
   "cell_type": "code",
   "execution_count": null,
   "metadata": {
    "ExecuteTime": {
     "end_time": "2022-03-21T15:09:12.185494Z",
     "start_time": "2022-03-21T15:09:12.138268Z"
    }
   },
   "outputs": [],
   "source": [
    "sql = '''SELECT idReading, r.idSensor, timestamp, value, s.name, unit, l.name, l.description\n",
    "            FROM Reading AS r\n",
    "            INNER JOIN Sensor AS s \n",
    "                ON r.idSensor = s.idSensor\n",
    "            INNER JOIN Location as l \n",
    "                ON s.idLocation = l.idLocation\n",
    "            WHERE value BETWEEN %s and %s'''\n",
    "data = (5, 50)\n",
    "\n",
    "cursor.execute(sql, data)\n",
    "\n",
    "for (idReading, idSensor, timestamp, value, name_sensor, unit, name_location, description) in cursor:\n",
    "  print(f'''idReading: {idReading}\n",
    "      idSensor: {idSensor}\n",
    "      time: {timestamp}\n",
    "      value: {value}\n",
    "      sensor name: {name_sensor}\n",
    "      unit: {unit}\n",
    "      location name: {name_location}\n",
    "      description: {description}''')"
   ]
  },
  {
   "cell_type": "code",
   "execution_count": null,
   "metadata": {
    "ExecuteTime": {
     "end_time": "2022-03-21T15:08:36.604456Z",
     "start_time": "2022-03-21T15:08:36.602194Z"
    }
   },
   "outputs": [],
   "source": [
    "cursor.close()\n",
    "cnx.close()"
   ]
  },
  {
   "cell_type": "markdown",
   "metadata": {},
   "source": [
    "# exercise\n",
    "\n",
    "Find records where CPU values were greater then 50 % and create an alert in that case. "
   ]
  },
  {
   "cell_type": "code",
   "execution_count": null,
   "metadata": {},
   "outputs": [],
   "source": []
  }
 ],
 "metadata": {
  "kernelspec": {
   "display_name": "Python 3 (ipykernel)",
   "language": "python",
   "name": "python3"
  },
  "language_info": {
   "codemirror_mode": {
    "name": "ipython",
    "version": 3
   },
   "file_extension": ".py",
   "mimetype": "text/x-python",
   "name": "python",
   "nbconvert_exporter": "python",
   "pygments_lexer": "ipython3",
   "version": "3.9.13"
  },
  "nbTranslate": {
   "displayLangs": [
    "*"
   ],
   "hotkey": "alt-t",
   "langInMainMenu": true,
   "sourceLang": "en",
   "targetLang": "fr",
   "useGoogleTranslate": true
  },
  "toc": {
   "base_numbering": 1,
   "nav_menu": {},
   "number_sections": true,
   "sideBar": true,
   "skip_h1_title": false,
   "title_cell": "Table of Contents",
   "title_sidebar": "Contents",
   "toc_cell": false,
   "toc_position": {},
   "toc_section_display": true,
   "toc_window_display": false
  },
  "varInspector": {
   "cols": {
    "lenName": 16,
    "lenType": 16,
    "lenVar": 40
   },
   "kernels_config": {
    "python": {
     "delete_cmd_postfix": "",
     "delete_cmd_prefix": "del ",
     "library": "var_list.py",
     "varRefreshCmd": "print(var_dic_list())"
    },
    "r": {
     "delete_cmd_postfix": ") ",
     "delete_cmd_prefix": "rm(",
     "library": "var_list.r",
     "varRefreshCmd": "cat(var_dic_list()) "
    }
   },
   "types_to_exclude": [
    "module",
    "function",
    "builtin_function_or_method",
    "instance",
    "_Feature"
   ],
   "window_display": false
  }
 },
 "nbformat": 4,
 "nbformat_minor": 4
}
